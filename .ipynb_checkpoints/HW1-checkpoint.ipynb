{
 "cells": [
  {
   "cell_type": "markdown",
   "metadata": {},
   "source": [
    "# 퀀트 입문 과제 1"
   ]
  },
  {
   "cell_type": "markdown",
   "metadata": {},
   "source": [
    "1. CEOSAL2.xls 데이터셋은 미국 기업의 CEO 정보를 담고 있다. _salary_ 변수는 연 보상이고, 단위는 1000달러이다. _ceoten_ 변수는 CEO로 일한 시간(연)이다. \n",
    "\n",
    "- 1) 평균 샐러리와 평균 tenure를 찾으시오\n",
    "- 2) ceoten=0인(CEO 첫 해인) CEO는 몇 명인가? CEO로 일한 기간이 가장 큰 경우는 몇 년인가\n",
    "- 3) log(salary) = b_0 + b_1*ceoten + u 회귀 모형을 추정하시오. coefficient estimates, standarderrors and R2를 구하시오. CEO로 1년을 더 일하면 샐러리가 몇 퍼센트 오르는가?"
   ]
  },
  {
   "cell_type": "code",
   "execution_count": 18,
   "metadata": {},
   "outputs": [],
   "source": [
    "datadir = getwd()"
   ]
  },
  {
   "cell_type": "code",
   "execution_count": 19,
   "metadata": {},
   "outputs": [],
   "source": [
    "library(readxl)"
   ]
  },
  {
   "cell_type": "code",
   "execution_count": 83,
   "metadata": {
    "scrolled": true
   },
   "outputs": [
    {
     "name": "stderr",
     "output_type": "stream",
     "text": [
      "New names:\n",
      "* `` -> ...1\n",
      "* `` -> ...2\n",
      "* `` -> ...3\n",
      "* `` -> ...4\n",
      "* `` -> ...5\n",
      "* ...\n",
      "\n"
     ]
    }
   ],
   "source": [
    "ceosal2 = read_excel(file.path(datadir, \"DataForHW1/ceosal2.xls\"), col_names=FALSE)"
   ]
  },
  {
   "cell_type": "code",
   "execution_count": 84,
   "metadata": {},
   "outputs": [
    {
     "data": {
      "text/html": [
       "177"
      ],
      "text/latex": [
       "177"
      ],
      "text/markdown": [
       "177"
      ],
      "text/plain": [
       "[1] 177"
      ]
     },
     "metadata": {},
     "output_type": "display_data"
    }
   ],
   "source": [
    "nrow(ceosal2)"
   ]
  },
  {
   "cell_type": "code",
   "execution_count": 85,
   "metadata": {},
   "outputs": [
    {
     "data": {
      "text/html": [
       "<table>\n",
       "<caption>A tibble: 6 × 15</caption>\n",
       "<thead>\n",
       "\t<tr><th scope=col>...1</th><th scope=col>...2</th><th scope=col>...3</th><th scope=col>...4</th><th scope=col>...5</th><th scope=col>...6</th><th scope=col>...7</th><th scope=col>...8</th><th scope=col>...9</th><th scope=col>...10</th><th scope=col>...11</th><th scope=col>...12</th><th scope=col>...13</th><th scope=col>...14</th><th scope=col>...15</th></tr>\n",
       "\t<tr><th scope=col>&lt;dbl&gt;</th><th scope=col>&lt;dbl&gt;</th><th scope=col>&lt;dbl&gt;</th><th scope=col>&lt;dbl&gt;</th><th scope=col>&lt;dbl&gt;</th><th scope=col>&lt;dbl&gt;</th><th scope=col>&lt;dbl&gt;</th><th scope=col>&lt;dbl&gt;</th><th scope=col>&lt;dbl&gt;</th><th scope=col>&lt;dbl&gt;</th><th scope=col>&lt;dbl&gt;</th><th scope=col>&lt;dbl&gt;</th><th scope=col>&lt;dbl&gt;</th><th scope=col>&lt;dbl&gt;</th><th scope=col>&lt;dbl&gt;</th></tr>\n",
       "</thead>\n",
       "<tbody>\n",
       "\t<tr><td> 218</td><td>57</td><td>1</td><td>1</td><td>33</td><td> 5</td><td>504</td><td> 41</td><td>421</td><td>5.384495</td><td>6.222576</td><td>6.042633</td><td>1089</td><td> 25</td><td>  8.134921</td></tr>\n",
       "\t<tr><td> 264</td><td>63</td><td>1</td><td>0</td><td>42</td><td> 3</td><td>334</td><td> 43</td><td>480</td><td>5.575949</td><td>5.811141</td><td>6.173786</td><td>1764</td><td>  9</td><td> 12.874250</td></tr>\n",
       "\t<tr><td> 185</td><td>58</td><td>1</td><td>0</td><td>39</td><td> 1</td><td>766</td><td> 49</td><td>560</td><td>5.220356</td><td>6.641182</td><td>6.327937</td><td>1521</td><td>  1</td><td>  6.396867</td></tr>\n",
       "\t<tr><td> 387</td><td>71</td><td>1</td><td>1</td><td>32</td><td>13</td><td>432</td><td> 28</td><td>477</td><td>5.958425</td><td>6.068426</td><td>6.167517</td><td>1024</td><td>169</td><td>  6.481482</td></tr>\n",
       "\t<tr><td>2220</td><td>63</td><td>1</td><td>1</td><td>18</td><td>18</td><td>277</td><td>-80</td><td>540</td><td>7.705263</td><td>5.624018</td><td>6.291569</td><td> 324</td><td>324</td><td>-28.880870</td></tr>\n",
       "\t<tr><td> 445</td><td>69</td><td>1</td><td>0</td><td>23</td><td> 0</td><td>249</td><td> 31</td><td>828</td><td>6.098074</td><td>5.517453</td><td>6.719013</td><td> 529</td><td>  0</td><td> 12.449800</td></tr>\n",
       "</tbody>\n",
       "</table>\n"
      ],
      "text/latex": [
       "A tibble: 6 × 15\n",
       "\\begin{tabular}{lllllllllllllll}\n",
       " ...1 & ...2 & ...3 & ...4 & ...5 & ...6 & ...7 & ...8 & ...9 & ...10 & ...11 & ...12 & ...13 & ...14 & ...15\\\\\n",
       " <dbl> & <dbl> & <dbl> & <dbl> & <dbl> & <dbl> & <dbl> & <dbl> & <dbl> & <dbl> & <dbl> & <dbl> & <dbl> & <dbl> & <dbl>\\\\\n",
       "\\hline\n",
       "\t  218 & 57 & 1 & 1 & 33 &  5 & 504 &  41 & 421 & 5.384495 & 6.222576 & 6.042633 & 1089 &  25 &   8.134921\\\\\n",
       "\t  264 & 63 & 1 & 0 & 42 &  3 & 334 &  43 & 480 & 5.575949 & 5.811141 & 6.173786 & 1764 &   9 &  12.874250\\\\\n",
       "\t  185 & 58 & 1 & 0 & 39 &  1 & 766 &  49 & 560 & 5.220356 & 6.641182 & 6.327937 & 1521 &   1 &   6.396867\\\\\n",
       "\t  387 & 71 & 1 & 1 & 32 & 13 & 432 &  28 & 477 & 5.958425 & 6.068426 & 6.167517 & 1024 & 169 &   6.481482\\\\\n",
       "\t 2220 & 63 & 1 & 1 & 18 & 18 & 277 & -80 & 540 & 7.705263 & 5.624018 & 6.291569 &  324 & 324 & -28.880870\\\\\n",
       "\t  445 & 69 & 1 & 0 & 23 &  0 & 249 &  31 & 828 & 6.098074 & 5.517453 & 6.719013 &  529 &   0 &  12.449800\\\\\n",
       "\\end{tabular}\n"
      ],
      "text/markdown": [
       "\n",
       "A tibble: 6 × 15\n",
       "\n",
       "| ...1 &lt;dbl&gt; | ...2 &lt;dbl&gt; | ...3 &lt;dbl&gt; | ...4 &lt;dbl&gt; | ...5 &lt;dbl&gt; | ...6 &lt;dbl&gt; | ...7 &lt;dbl&gt; | ...8 &lt;dbl&gt; | ...9 &lt;dbl&gt; | ...10 &lt;dbl&gt; | ...11 &lt;dbl&gt; | ...12 &lt;dbl&gt; | ...13 &lt;dbl&gt; | ...14 &lt;dbl&gt; | ...15 &lt;dbl&gt; |\n",
       "|---|---|---|---|---|---|---|---|---|---|---|---|---|---|---|\n",
       "|  218 | 57 | 1 | 1 | 33 |  5 | 504 |  41 | 421 | 5.384495 | 6.222576 | 6.042633 | 1089 |  25 |   8.134921 |\n",
       "|  264 | 63 | 1 | 0 | 42 |  3 | 334 |  43 | 480 | 5.575949 | 5.811141 | 6.173786 | 1764 |   9 |  12.874250 |\n",
       "|  185 | 58 | 1 | 0 | 39 |  1 | 766 |  49 | 560 | 5.220356 | 6.641182 | 6.327937 | 1521 |   1 |   6.396867 |\n",
       "|  387 | 71 | 1 | 1 | 32 | 13 | 432 |  28 | 477 | 5.958425 | 6.068426 | 6.167517 | 1024 | 169 |   6.481482 |\n",
       "| 2220 | 63 | 1 | 1 | 18 | 18 | 277 | -80 | 540 | 7.705263 | 5.624018 | 6.291569 |  324 | 324 | -28.880870 |\n",
       "|  445 | 69 | 1 | 0 | 23 |  0 | 249 |  31 | 828 | 6.098074 | 5.517453 | 6.719013 |  529 |   0 |  12.449800 |\n",
       "\n"
      ],
      "text/plain": [
       "  ...1 ...2 ...3 ...4 ...5 ...6 ...7 ...8 ...9 ...10    ...11    ...12    ...13\n",
       "1  218 57   1    1    33    5   504   41  421  5.384495 6.222576 6.042633 1089 \n",
       "2  264 63   1    0    42    3   334   43  480  5.575949 5.811141 6.173786 1764 \n",
       "3  185 58   1    0    39    1   766   49  560  5.220356 6.641182 6.327937 1521 \n",
       "4  387 71   1    1    32   13   432   28  477  5.958425 6.068426 6.167517 1024 \n",
       "5 2220 63   1    1    18   18   277  -80  540  7.705263 5.624018 6.291569  324 \n",
       "6  445 69   1    0    23    0   249   31  828  6.098074 5.517453 6.719013  529 \n",
       "  ...14 ...15     \n",
       "1  25     8.134921\n",
       "2   9    12.874250\n",
       "3   1     6.396867\n",
       "4 169     6.481482\n",
       "5 324   -28.880870\n",
       "6   0    12.449800"
      ]
     },
     "metadata": {},
     "output_type": "display_data"
    }
   ],
   "source": [
    "tail(ceosal2)"
   ]
  },
  {
   "cell_type": "code",
   "execution_count": 86,
   "metadata": {},
   "outputs": [
    {
     "data": {
      "text/html": [
       "177"
      ],
      "text/latex": [
       "177"
      ],
      "text/markdown": [
       "177"
      ],
      "text/plain": [
       "[1] 177"
      ]
     },
     "metadata": {},
     "output_type": "display_data"
    }
   ],
   "source": [
    "ceosal2 = na.omit(ceosal2)\n",
    "nrow(ceosal2)"
   ]
  },
  {
   "cell_type": "code",
   "execution_count": 87,
   "metadata": {},
   "outputs": [
    {
     "data": {
      "text/html": [
       "<style>\n",
       ".list-inline {list-style: none; margin:0; padding: 0}\n",
       ".list-inline>li {display: inline-block}\n",
       ".list-inline>li:not(:last-child)::after {content: \"\\00b7\"; padding: 0 .5ex}\n",
       "</style>\n",
       "<ol class=list-inline><li>'...1'</li><li>'...2'</li><li>'...3'</li><li>'...4'</li><li>'...5'</li><li>'...6'</li><li>'...7'</li><li>'...8'</li><li>'...9'</li><li>'...10'</li><li>'...11'</li><li>'...12'</li><li>'...13'</li><li>'...14'</li><li>'...15'</li></ol>\n"
      ],
      "text/latex": [
       "\\begin{enumerate*}\n",
       "\\item '...1'\n",
       "\\item '...2'\n",
       "\\item '...3'\n",
       "\\item '...4'\n",
       "\\item '...5'\n",
       "\\item '...6'\n",
       "\\item '...7'\n",
       "\\item '...8'\n",
       "\\item '...9'\n",
       "\\item '...10'\n",
       "\\item '...11'\n",
       "\\item '...12'\n",
       "\\item '...13'\n",
       "\\item '...14'\n",
       "\\item '...15'\n",
       "\\end{enumerate*}\n"
      ],
      "text/markdown": [
       "1. '...1'\n",
       "2. '...2'\n",
       "3. '...3'\n",
       "4. '...4'\n",
       "5. '...5'\n",
       "6. '...6'\n",
       "7. '...7'\n",
       "8. '...8'\n",
       "9. '...9'\n",
       "10. '...10'\n",
       "11. '...11'\n",
       "12. '...12'\n",
       "13. '...13'\n",
       "14. '...14'\n",
       "15. '...15'\n",
       "\n",
       "\n"
      ],
      "text/plain": [
       " [1] \"...1\"  \"...2\"  \"...3\"  \"...4\"  \"...5\"  \"...6\"  \"...7\"  \"...8\"  \"...9\" \n",
       "[10] \"...10\" \"...11\" \"...12\" \"...13\" \"...14\" \"...15\""
      ]
     },
     "metadata": {},
     "output_type": "display_data"
    }
   ],
   "source": [
    "names(ceosal2)"
   ]
  },
  {
   "cell_type": "code",
   "execution_count": 88,
   "metadata": {},
   "outputs": [],
   "source": [
    "colnames(ceosal2) <- c(\"salary\", \"age\", \"college\", \"grad\", \"comten\", \"ceoten\", \"sales\", \"profits\", \"mktval\", \"lsalary\", \"lsales\", \"lmktval\", \"comtensq\", \"ceotensq\", \"profmarg\")"
   ]
  },
  {
   "cell_type": "code",
   "execution_count": 89,
   "metadata": {},
   "outputs": [
    {
     "data": {
      "text/html": [
       "<table>\n",
       "<caption>A tibble: 6 × 15</caption>\n",
       "<thead>\n",
       "\t<tr><th scope=col>salary</th><th scope=col>age</th><th scope=col>college</th><th scope=col>grad</th><th scope=col>comten</th><th scope=col>ceoten</th><th scope=col>sales</th><th scope=col>profits</th><th scope=col>mktval</th><th scope=col>lsalary</th><th scope=col>lsales</th><th scope=col>lmktval</th><th scope=col>comtensq</th><th scope=col>ceotensq</th><th scope=col>profmarg</th></tr>\n",
       "\t<tr><th scope=col>&lt;dbl&gt;</th><th scope=col>&lt;dbl&gt;</th><th scope=col>&lt;dbl&gt;</th><th scope=col>&lt;dbl&gt;</th><th scope=col>&lt;dbl&gt;</th><th scope=col>&lt;dbl&gt;</th><th scope=col>&lt;dbl&gt;</th><th scope=col>&lt;dbl&gt;</th><th scope=col>&lt;dbl&gt;</th><th scope=col>&lt;dbl&gt;</th><th scope=col>&lt;dbl&gt;</th><th scope=col>&lt;dbl&gt;</th><th scope=col>&lt;dbl&gt;</th><th scope=col>&lt;dbl&gt;</th><th scope=col>&lt;dbl&gt;</th></tr>\n",
       "</thead>\n",
       "<tbody>\n",
       "\t<tr><td> 218</td><td>57</td><td>1</td><td>1</td><td>33</td><td> 5</td><td>504</td><td> 41</td><td>421</td><td>5.384495</td><td>6.222576</td><td>6.042633</td><td>1089</td><td> 25</td><td>  8.134921</td></tr>\n",
       "\t<tr><td> 264</td><td>63</td><td>1</td><td>0</td><td>42</td><td> 3</td><td>334</td><td> 43</td><td>480</td><td>5.575949</td><td>5.811141</td><td>6.173786</td><td>1764</td><td>  9</td><td> 12.874250</td></tr>\n",
       "\t<tr><td> 185</td><td>58</td><td>1</td><td>0</td><td>39</td><td> 1</td><td>766</td><td> 49</td><td>560</td><td>5.220356</td><td>6.641182</td><td>6.327937</td><td>1521</td><td>  1</td><td>  6.396867</td></tr>\n",
       "\t<tr><td> 387</td><td>71</td><td>1</td><td>1</td><td>32</td><td>13</td><td>432</td><td> 28</td><td>477</td><td>5.958425</td><td>6.068426</td><td>6.167517</td><td>1024</td><td>169</td><td>  6.481482</td></tr>\n",
       "\t<tr><td>2220</td><td>63</td><td>1</td><td>1</td><td>18</td><td>18</td><td>277</td><td>-80</td><td>540</td><td>7.705263</td><td>5.624018</td><td>6.291569</td><td> 324</td><td>324</td><td>-28.880870</td></tr>\n",
       "\t<tr><td> 445</td><td>69</td><td>1</td><td>0</td><td>23</td><td> 0</td><td>249</td><td> 31</td><td>828</td><td>6.098074</td><td>5.517453</td><td>6.719013</td><td> 529</td><td>  0</td><td> 12.449800</td></tr>\n",
       "</tbody>\n",
       "</table>\n"
      ],
      "text/latex": [
       "A tibble: 6 × 15\n",
       "\\begin{tabular}{lllllllllllllll}\n",
       " salary & age & college & grad & comten & ceoten & sales & profits & mktval & lsalary & lsales & lmktval & comtensq & ceotensq & profmarg\\\\\n",
       " <dbl> & <dbl> & <dbl> & <dbl> & <dbl> & <dbl> & <dbl> & <dbl> & <dbl> & <dbl> & <dbl> & <dbl> & <dbl> & <dbl> & <dbl>\\\\\n",
       "\\hline\n",
       "\t  218 & 57 & 1 & 1 & 33 &  5 & 504 &  41 & 421 & 5.384495 & 6.222576 & 6.042633 & 1089 &  25 &   8.134921\\\\\n",
       "\t  264 & 63 & 1 & 0 & 42 &  3 & 334 &  43 & 480 & 5.575949 & 5.811141 & 6.173786 & 1764 &   9 &  12.874250\\\\\n",
       "\t  185 & 58 & 1 & 0 & 39 &  1 & 766 &  49 & 560 & 5.220356 & 6.641182 & 6.327937 & 1521 &   1 &   6.396867\\\\\n",
       "\t  387 & 71 & 1 & 1 & 32 & 13 & 432 &  28 & 477 & 5.958425 & 6.068426 & 6.167517 & 1024 & 169 &   6.481482\\\\\n",
       "\t 2220 & 63 & 1 & 1 & 18 & 18 & 277 & -80 & 540 & 7.705263 & 5.624018 & 6.291569 &  324 & 324 & -28.880870\\\\\n",
       "\t  445 & 69 & 1 & 0 & 23 &  0 & 249 &  31 & 828 & 6.098074 & 5.517453 & 6.719013 &  529 &   0 &  12.449800\\\\\n",
       "\\end{tabular}\n"
      ],
      "text/markdown": [
       "\n",
       "A tibble: 6 × 15\n",
       "\n",
       "| salary &lt;dbl&gt; | age &lt;dbl&gt; | college &lt;dbl&gt; | grad &lt;dbl&gt; | comten &lt;dbl&gt; | ceoten &lt;dbl&gt; | sales &lt;dbl&gt; | profits &lt;dbl&gt; | mktval &lt;dbl&gt; | lsalary &lt;dbl&gt; | lsales &lt;dbl&gt; | lmktval &lt;dbl&gt; | comtensq &lt;dbl&gt; | ceotensq &lt;dbl&gt; | profmarg &lt;dbl&gt; |\n",
       "|---|---|---|---|---|---|---|---|---|---|---|---|---|---|---|\n",
       "|  218 | 57 | 1 | 1 | 33 |  5 | 504 |  41 | 421 | 5.384495 | 6.222576 | 6.042633 | 1089 |  25 |   8.134921 |\n",
       "|  264 | 63 | 1 | 0 | 42 |  3 | 334 |  43 | 480 | 5.575949 | 5.811141 | 6.173786 | 1764 |   9 |  12.874250 |\n",
       "|  185 | 58 | 1 | 0 | 39 |  1 | 766 |  49 | 560 | 5.220356 | 6.641182 | 6.327937 | 1521 |   1 |   6.396867 |\n",
       "|  387 | 71 | 1 | 1 | 32 | 13 | 432 |  28 | 477 | 5.958425 | 6.068426 | 6.167517 | 1024 | 169 |   6.481482 |\n",
       "| 2220 | 63 | 1 | 1 | 18 | 18 | 277 | -80 | 540 | 7.705263 | 5.624018 | 6.291569 |  324 | 324 | -28.880870 |\n",
       "|  445 | 69 | 1 | 0 | 23 |  0 | 249 |  31 | 828 | 6.098074 | 5.517453 | 6.719013 |  529 |   0 |  12.449800 |\n",
       "\n"
      ],
      "text/plain": [
       "  salary age college grad comten ceoten sales profits mktval lsalary  lsales  \n",
       "1  218   57  1       1    33      5     504    41     421    5.384495 6.222576\n",
       "2  264   63  1       0    42      3     334    43     480    5.575949 5.811141\n",
       "3  185   58  1       0    39      1     766    49     560    5.220356 6.641182\n",
       "4  387   71  1       1    32     13     432    28     477    5.958425 6.068426\n",
       "5 2220   63  1       1    18     18     277   -80     540    7.705263 5.624018\n",
       "6  445   69  1       0    23      0     249    31     828    6.098074 5.517453\n",
       "  lmktval  comtensq ceotensq profmarg  \n",
       "1 6.042633 1089      25        8.134921\n",
       "2 6.173786 1764       9       12.874250\n",
       "3 6.327937 1521       1        6.396867\n",
       "4 6.167517 1024     169        6.481482\n",
       "5 6.291569  324     324      -28.880870\n",
       "6 6.719013  529       0       12.449800"
      ]
     },
     "metadata": {},
     "output_type": "display_data"
    }
   ],
   "source": [
    "tail(ceosal2)"
   ]
  },
  {
   "cell_type": "markdown",
   "metadata": {},
   "source": [
    "## 1.1 평균 salary와 평균 tenure"
   ]
  },
  {
   "cell_type": "code",
   "execution_count": 90,
   "metadata": {},
   "outputs": [
    {
     "data": {
      "text/plain": [
       "     salary            age           college            grad       \n",
       " Min.   : 100.0   Min.   :33.00   Min.   :0.0000   Min.   :0.0000  \n",
       " 1st Qu.: 471.0   1st Qu.:52.00   1st Qu.:1.0000   1st Qu.:0.0000  \n",
       " Median : 707.0   Median :57.00   Median :1.0000   Median :1.0000  \n",
       " Mean   : 865.9   Mean   :56.43   Mean   :0.9718   Mean   :0.5311  \n",
       " 3rd Qu.:1119.0   3rd Qu.:62.00   3rd Qu.:1.0000   3rd Qu.:1.0000  \n",
       " Max.   :5299.0   Max.   :86.00   Max.   :1.0000   Max.   :1.0000  \n",
       "     comten         ceoten           sales          profits      \n",
       " Min.   : 2.0   Min.   : 0.000   Min.   :   29   Min.   :-463.0  \n",
       " 1st Qu.:12.0   1st Qu.: 3.000   1st Qu.:  561   1st Qu.:  34.0  \n",
       " Median :23.0   Median : 6.000   Median : 1400   Median :  63.0  \n",
       " Mean   :22.5   Mean   : 7.955   Mean   : 3529   Mean   : 207.8  \n",
       " 3rd Qu.:33.0   3rd Qu.:11.000   3rd Qu.: 3500   3rd Qu.: 208.0  \n",
       " Max.   :58.0   Max.   :37.000   Max.   :51300   Max.   :2700.0  \n",
       "     mktval         lsalary          lsales          lmktval      \n",
       " Min.   :  387   Min.   :4.605   Min.   : 3.367   Min.   : 5.958  \n",
       " 1st Qu.:  644   1st Qu.:6.155   1st Qu.: 6.330   1st Qu.: 6.468  \n",
       " Median : 1200   Median :6.561   Median : 7.244   Median : 7.090  \n",
       " Mean   : 3600   Mean   :6.583   Mean   : 7.231   Mean   : 7.399  \n",
       " 3rd Qu.: 3500   3rd Qu.:7.020   3rd Qu.: 8.161   3rd Qu.: 8.161  \n",
       " Max.   :45400   Max.   :8.575   Max.   :10.845   Max.   :10.723  \n",
       "    comtensq         ceotensq         profmarg       \n",
       " Min.   :   4.0   Min.   :   0.0   Min.   :-203.077  \n",
       " 1st Qu.: 144.0   1st Qu.:   9.0   1st Qu.:   4.231  \n",
       " Median : 529.0   Median :  36.0   Median :   6.834  \n",
       " Mean   : 656.7   Mean   : 114.1   Mean   :   6.420  \n",
       " 3rd Qu.:1089.0   3rd Qu.: 121.0   3rd Qu.:  10.947  \n",
       " Max.   :3364.0   Max.   :1369.0   Max.   :  47.458  "
      ]
     },
     "metadata": {},
     "output_type": "display_data"
    }
   ],
   "source": [
    "summary(ceosal2)"
   ]
  },
  {
   "cell_type": "markdown",
   "metadata": {},
   "source": [
    "평균 salary : 865.9 (86만5900달러)\n",
    "\n",
    "평균 tenure : 7.955 (7.96년)"
   ]
  },
  {
   "cell_type": "markdown",
   "metadata": {},
   "source": [
    "## 1.2 ceoten=0인 CEO는 몇 명인가? CEO로 일한 기간이 가장 긴 경우는 몇 년인가?"
   ]
  },
  {
   "cell_type": "code",
   "execution_count": 91,
   "metadata": {},
   "outputs": [
    {
     "data": {
      "text/html": [
       "5"
      ],
      "text/latex": [
       "5"
      ],
      "text/markdown": [
       "5"
      ],
      "text/plain": [
       "[1] 5"
      ]
     },
     "metadata": {},
     "output_type": "display_data"
    }
   ],
   "source": [
    "nrow(subset(ceosal2, ceoten==0))"
   ]
  },
  {
   "cell_type": "markdown",
   "metadata": {},
   "source": [
    "ceoten=0인 CEO는 5명\n",
    "\n",
    "CEO로 일한 기간이 가장 긴 경우는 37년"
   ]
  },
  {
   "cell_type": "markdown",
   "metadata": {},
   "source": [
    "## 1.3 log(salary) = b_0 + b_1*ceoten + u 회귀 모형을 추정하시오. coefficient estimates, standarderrors and R2를 구하시오. CEO로 1년을 더 일하면 샐러리가 몇 퍼센트 오르는가?"
   ]
  },
  {
   "cell_type": "code",
   "execution_count": 97,
   "metadata": {},
   "outputs": [
    {
     "data": {
      "text/plain": [
       "\n",
       "Call:\n",
       "lm(formula = log(salary) ~ ceoten, data = ceosal2)\n",
       "\n",
       "Coefficients:\n",
       "(Intercept)       ceoten  \n",
       "   6.505498     0.009724  \n"
      ]
     },
     "metadata": {},
     "output_type": "display_data"
    }
   ],
   "source": [
    "reg1 = lm(log(salary)~ceoten, data=ceosal2)\n",
    "reg1"
   ]
  },
  {
   "cell_type": "code",
   "execution_count": 98,
   "metadata": {},
   "outputs": [
    {
     "data": {
      "text/plain": [
       "\n",
       "Call:\n",
       "lm(formula = log(salary) ~ ceoten, data = ceosal2)\n",
       "\n",
       "Residuals:\n",
       "     Min       1Q   Median       3Q      Max \n",
       "-2.15314 -0.38319 -0.02251  0.44439  1.94337 \n",
       "\n",
       "Coefficients:\n",
       "            Estimate Std. Error t value Pr(>|t|)    \n",
       "(Intercept) 6.505498   0.067991  95.682   <2e-16 ***\n",
       "ceoten      0.009724   0.006364   1.528    0.128    \n",
       "---\n",
       "Signif. codes:  0 '***' 0.001 '**' 0.01 '*' 0.05 '.' 0.1 ' ' 1\n",
       "\n",
       "Residual standard error: 0.6038 on 175 degrees of freedom\n",
       "Multiple R-squared:  0.01316,\tAdjusted R-squared:  0.007523 \n",
       "F-statistic: 2.334 on 1 and 175 DF,  p-value: 0.1284\n"
      ]
     },
     "metadata": {},
     "output_type": "display_data"
    }
   ],
   "source": [
    "summary(reg1)"
   ]
  },
  {
   "cell_type": "code",
   "execution_count": 99,
   "metadata": {
    "scrolled": false
   },
   "outputs": [
    {
     "data": {
      "image/png": "[encoded data removed]",
      "text/plain": [
       "plot without title"
      ]
     },
     "metadata": {
      "image/png": {
       "height": 420,
       "width": 420
      }
     },
     "output_type": "display_data"
    }
   ],
   "source": [
    "plot(log(salary)~ceoten, data=ceosal2)\n",
    "abline(reg1)"
   ]
  },
  {
   "cell_type": "code",
   "execution_count": null,
   "metadata": {},
   "outputs": [],
   "source": [
    "0.9"
   ]
  },
  {
   "cell_type": "code",
   "execution_count": null,
   "metadata": {},
   "outputs": [],
   "source": []
  },
  {
   "cell_type": "code",
   "execution_count": null,
   "metadata": {},
   "outputs": [],
   "source": [
    "https://rpubs.com/karhtikchemengineer/461747\n"
   ]
  },
  {
   "cell_type": "markdown",
   "metadata": {},
   "source": [
    "# 2. 401k.xls"
   ]
  },
  {
   "cell_type": "code",
   "execution_count": null,
   "metadata": {},
   "outputs": [],
   "source": []
  },
  {
   "cell_type": "code",
   "execution_count": null,
   "metadata": {},
   "outputs": [],
   "source": []
  },
  {
   "cell_type": "code",
   "execution_count": 37,
   "metadata": {},
   "outputs": [
    {
     "data": {
      "text/html": [
       "<table>\n",
       "<tbody>\n",
       "\t<tr><th scope=row>[1529,]</th><td> 60.6</td></tr>\n",
       "\t<tr><th scope=row>[1530,]</th><td> 85.1</td></tr>\n",
       "\t<tr><th scope=row>[1531,]</th><td>100.0</td></tr>\n",
       "\t<tr><th scope=row>[1532,]</th><td>100.0</td></tr>\n",
       "\t<tr><th scope=row>[1533,]</th><td>100.0</td></tr>\n",
       "\t<tr><th scope=row>[1534,]</th><td>100.0</td></tr>\n",
       "</tbody>\n",
       "</table>\n"
      ],
      "text/latex": [
       "\\begin{tabular}{r|l}\n",
       "\t{[}1529,{]} &  60.6\\\\\n",
       "\t{[}1530,{]} &  85.1\\\\\n",
       "\t{[}1531,{]} & 100.0\\\\\n",
       "\t{[}1532,{]} & 100.0\\\\\n",
       "\t{[}1533,{]} & 100.0\\\\\n",
       "\t{[}1534,{]} & 100.0\\\\\n",
       "\\end{tabular}\n"
      ],
      "text/markdown": [
       "\n",
       "| [1529,] |  60.6 |\n",
       "| [1530,] |  85.1 |\n",
       "| [1531,] | 100.0 |\n",
       "| [1532,] | 100.0 |\n",
       "| [1533,] | 100.0 |\n",
       "| [1534,] | 100.0 |\n",
       "\n"
      ],
      "text/plain": [
       "        [,1] \n",
       "[1529,]  60.6\n",
       "[1530,]  85.1\n",
       "[1531,] 100.0\n",
       "[1532,] 100.0\n",
       "[1533,] 100.0\n",
       "[1534,] 100.0"
      ]
     },
     "metadata": {},
     "output_type": "display_data"
    }
   ],
   "source": [
    "prate = matrix(data[,1])\n",
    "tail(prate)"
   ]
  },
  {
   "cell_type": "code",
   "execution_count": 36,
   "metadata": {},
   "outputs": [
    {
     "data": {
      "text/html": [
       "<table>\n",
       "<tbody>\n",
       "\t<tr><th scope=row>[1529,]</th><td>0.06</td></tr>\n",
       "\t<tr><th scope=row>[1530,]</th><td>0.33</td></tr>\n",
       "\t<tr><th scope=row>[1531,]</th><td>2.52</td></tr>\n",
       "\t<tr><th scope=row>[1532,]</th><td>2.27</td></tr>\n",
       "\t<tr><th scope=row>[1533,]</th><td>0.58</td></tr>\n",
       "\t<tr><th scope=row>[1534,]</th><td>0.45</td></tr>\n",
       "</tbody>\n",
       "</table>\n"
      ],
      "text/latex": [
       "\\begin{tabular}{r|l}\n",
       "\t{[}1529,{]} & 0.06\\\\\n",
       "\t{[}1530,{]} & 0.33\\\\\n",
       "\t{[}1531,{]} & 2.52\\\\\n",
       "\t{[}1532,{]} & 2.27\\\\\n",
       "\t{[}1533,{]} & 0.58\\\\\n",
       "\t{[}1534,{]} & 0.45\\\\\n",
       "\\end{tabular}\n"
      ],
      "text/markdown": [
       "\n",
       "| [1529,] | 0.06 |\n",
       "| [1530,] | 0.33 |\n",
       "| [1531,] | 2.52 |\n",
       "| [1532,] | 2.27 |\n",
       "| [1533,] | 0.58 |\n",
       "| [1534,] | 0.45 |\n",
       "\n"
      ],
      "text/plain": [
       "        [,1]\n",
       "[1529,] 0.06\n",
       "[1530,] 0.33\n",
       "[1531,] 2.52\n",
       "[1532,] 2.27\n",
       "[1533,] 0.58\n",
       "[1534,] 0.45"
      ]
     },
     "metadata": {},
     "output_type": "display_data"
    }
   ],
   "source": [
    "mrate = matrix(data[,2])\n",
    "tail(mrate)"
   ]
  },
  {
   "cell_type": "code",
   "execution_count": null,
   "metadata": {},
   "outputs": [],
   "source": [
    "complete.cases(dataxls)\n",
    "#na.omit returns the object with incomplete cases removced.\n",
    "data = na.omit(dataxls)\n",
    "n = nrow(data)\n",
    "\n",
    "prate = matrix(data[,1])\n",
    "mrate = matrix(data[,2])\n",
    "age"
   ]
  },
  {
   "cell_type": "code",
   "execution_count": null,
   "metadata": {},
   "outputs": [],
   "source": []
  },
  {
   "cell_type": "code",
   "execution_count": null,
   "metadata": {},
   "outputs": [],
   "source": []
  },
  {
   "cell_type": "code",
   "execution_count": null,
   "metadata": {},
   "outputs": [],
   "source": []
  },
  {
   "cell_type": "code",
   "execution_count": null,
   "metadata": {},
   "outputs": [],
   "source": []
  },
  {
   "cell_type": "code",
   "execution_count": null,
   "metadata": {},
   "outputs": [],
   "source": []
  },
  {
   "cell_type": "code",
   "execution_count": null,
   "metadata": {},
   "outputs": [],
   "source": []
  },
  {
   "cell_type": "code",
   "execution_count": null,
   "metadata": {},
   "outputs": [],
   "source": []
  },
  {
   "cell_type": "code",
   "execution_count": null,
   "metadata": {},
   "outputs": [],
   "source": []
  },
  {
   "cell_type": "code",
   "execution_count": null,
   "metadata": {},
   "outputs": [],
   "source": []
  },
  {
   "cell_type": "code",
   "execution_count": null,
   "metadata": {},
   "outputs": [],
   "source": []
  },
  {
   "cell_type": "code",
   "execution_count": null,
   "metadata": {},
   "outputs": [],
   "source": []
  },
  {
   "cell_type": "code",
   "execution_count": null,
   "metadata": {},
   "outputs": [],
   "source": []
  },
  {
   "cell_type": "code",
   "execution_count": null,
   "metadata": {},
   "outputs": [],
   "source": []
  },
  {
   "cell_type": "code",
   "execution_count": null,
   "metadata": {},
   "outputs": [],
   "source": []
  },
  {
   "cell_type": "code",
   "execution_count": null,
   "metadata": {},
   "outputs": [],
   "source": []
  },
  {
   "cell_type": "code",
   "execution_count": null,
   "metadata": {},
   "outputs": [],
   "source": []
  },
  {
   "cell_type": "code",
   "execution_count": null,
   "metadata": {},
   "outputs": [],
   "source": []
  }
 ],
 "metadata": {
  "kernelspec": {
   "display_name": "R",
   "language": "R",
   "name": "ir"
  },
  "language_info": {
   "codemirror_mode": "r",
   "file_extension": ".r",
   "mimetype": "text/x-r-source",
   "name": "R",
   "pygments_lexer": "r",
   "version": "3.6.3"
  }
 },
 "nbformat": 4,
 "nbformat_minor": 2
}
