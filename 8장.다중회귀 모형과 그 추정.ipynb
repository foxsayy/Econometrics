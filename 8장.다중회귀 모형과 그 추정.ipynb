{
 "cells": [
  {
   "cell_type": "markdown",
   "metadata": {},
   "source": [
    "## 8.1 다중회귀 모형\n",
    "우리 관심사가 경력을 통제한 후 학력의 영향이지만 단순회귀모형에선 이를 고려하지 않음\n",
    "\n",
    "### 8.1.1 오차평균 0의 가정\n",
    "\n",
    "**연습 8.1 학력이 동일한 남녀의 평균임금 차이를 구한다. 임금을 여성더미에 대해 단순회귀하면 어떻게 오차평균0의 가정에 위배될 수 있는지 설명하시오 **\n",
    "\n",
    "- 학력의 영향은 u에 포함되어 있다.\n",
    "- 남녀간의 평균 학력 차이가 있으므로 남녀간에 u의 평균에 차이가 있게 된다\n",
    "\n",
    "**연습 8.2 만일 E(u|학력)이 0이 아니지만 학력 값의 크기와 무관하다면 식 (8.1) 우변 둘째 항의 값은?\n",
    "\n",
    "- 0\n",
    "\n",
    "**연습 8.3 단순회귀식에서 E(u|X) = c !=0이고 c가 상수이면 베타1의 최소제곱추정량은 여전히 비편향이며 아무런 문제도 존재하지 않음을 한두 줄의 수학으로 논하라. 이때 베타 제로는 무엇으로 재정의할 수 있는가?\n",
    "\n",
    "- 기울기 모수는 여전히 베타1이고 ㅊ는 베타0 + ㅊ가 된다. "
   ]
  },
  {
   "cell_type": "code",
   "execution_count": 2,
   "metadata": {},
   "outputs": [
    {
     "data": {
      "text/html": [
       "<table>\n",
       "<caption>A data.frame: 6 × 9</caption>\n",
       "<thead>\n",
       "\t<tr><th></th><th scope=col>region</th><th scope=col>year</th><th scope=col>regpop</th><th scope=col>death</th><th scope=col>drink</th><th scope=col>smoke</th><th scope=col>aged</th><th scope=col>vehipc</th><th scope=col>deathrate</th></tr>\n",
       "\t<tr><th></th><th scope=col>&lt;int&gt;</th><th scope=col>&lt;int&gt;</th><th scope=col>&lt;int&gt;</th><th scope=col>&lt;int&gt;</th><th scope=col>&lt;dbl&gt;</th><th scope=col>&lt;dbl&gt;</th><th scope=col>&lt;dbl&gt;</th><th scope=col>&lt;dbl&gt;</th><th scope=col>&lt;dbl&gt;</th></tr>\n",
       "</thead>\n",
       "<tbody>\n",
       "\t<tr><th scope=row>1</th><td>40</td><td>2008</td><td> 81159</td><td>594</td><td>52.8</td><td>27.0</td><td>13.24</td><td>0.36</td><td>7.318966</td></tr>\n",
       "\t<tr><th scope=row>2</th><td>40</td><td>2009</td><td> 89384</td><td>596</td><td>55.8</td><td>29.8</td><td>13.09</td><td>0.37</td><td>6.667860</td></tr>\n",
       "\t<tr><th scope=row>3</th><td>40</td><td>2010</td><td>102557</td><td>624</td><td>53.0</td><td>22.5</td><td>12.69</td><td>0.37</td><td>6.084421</td></tr>\n",
       "\t<tr><th scope=row>4</th><td>39</td><td>2008</td><td>171001</td><td>945</td><td>58.2</td><td>28.4</td><td> 9.60</td><td>0.39</td><td>5.526283</td></tr>\n",
       "\t<tr><th scope=row>5</th><td>39</td><td>2009</td><td>176135</td><td>961</td><td>59.4</td><td>27.4</td><td> 9.70</td><td>0.40</td><td>5.456042</td></tr>\n",
       "\t<tr><th scope=row>6</th><td>39</td><td>2010</td><td>178899</td><td>966</td><td>55.6</td><td>25.6</td><td> 9.90</td><td>0.41</td><td>5.399695</td></tr>\n",
       "</tbody>\n",
       "</table>\n"
      ],
      "text/latex": [
       "A data.frame: 6 × 9\n",
       "\\begin{tabular}{r|lllllllll}\n",
       "  & region & year & regpop & death & drink & smoke & aged & vehipc & deathrate\\\\\n",
       "  & <int> & <int> & <int> & <int> & <dbl> & <dbl> & <dbl> & <dbl> & <dbl>\\\\\n",
       "\\hline\n",
       "\t1 & 40 & 2008 &  81159 & 594 & 52.8 & 27.0 & 13.24 & 0.36 & 7.318966\\\\\n",
       "\t2 & 40 & 2009 &  89384 & 596 & 55.8 & 29.8 & 13.09 & 0.37 & 6.667860\\\\\n",
       "\t3 & 40 & 2010 & 102557 & 624 & 53.0 & 22.5 & 12.69 & 0.37 & 6.084421\\\\\n",
       "\t4 & 39 & 2008 & 171001 & 945 & 58.2 & 28.4 &  9.60 & 0.39 & 5.526283\\\\\n",
       "\t5 & 39 & 2009 & 176135 & 961 & 59.4 & 27.4 &  9.70 & 0.40 & 5.456042\\\\\n",
       "\t6 & 39 & 2010 & 178899 & 966 & 55.6 & 25.6 &  9.90 & 0.41 & 5.399695\\\\\n",
       "\\end{tabular}\n"
      ],
      "text/markdown": [
       "\n",
       "A data.frame: 6 × 9\n",
       "\n",
       "| <!--/--> | region &lt;int&gt; | year &lt;int&gt; | regpop &lt;int&gt; | death &lt;int&gt; | drink &lt;dbl&gt; | smoke &lt;dbl&gt; | aged &lt;dbl&gt; | vehipc &lt;dbl&gt; | deathrate &lt;dbl&gt; |\n",
       "|---|---|---|---|---|---|---|---|---|---|\n",
       "| 1 | 40 | 2008 |  81159 | 594 | 52.8 | 27.0 | 13.24 | 0.36 | 7.318966 |\n",
       "| 2 | 40 | 2009 |  89384 | 596 | 55.8 | 29.8 | 13.09 | 0.37 | 6.667860 |\n",
       "| 3 | 40 | 2010 | 102557 | 624 | 53.0 | 22.5 | 12.69 | 0.37 | 6.084421 |\n",
       "| 4 | 39 | 2008 | 171001 | 945 | 58.2 | 28.4 |  9.60 | 0.39 | 5.526283 |\n",
       "| 5 | 39 | 2009 | 176135 | 961 | 59.4 | 27.4 |  9.70 | 0.40 | 5.456042 |\n",
       "| 6 | 39 | 2010 | 178899 | 966 | 55.6 | 25.6 |  9.90 | 0.41 | 5.399695 |\n",
       "\n"
      ],
      "text/plain": [
       "  region year regpop death drink smoke aged  vehipc deathrate\n",
       "1 40     2008  81159 594   52.8  27.0  13.24 0.36   7.318966 \n",
       "2 40     2009  89384 596   55.8  29.8  13.09 0.37   6.667860 \n",
       "3 40     2010 102557 624   53.0  22.5  12.69 0.37   6.084421 \n",
       "4 39     2008 171001 945   58.2  28.4   9.60 0.39   5.526283 \n",
       "5 39     2009 176135 961   59.4  27.4   9.70 0.40   5.456042 \n",
       "6 39     2010 178899 966   55.6  25.6   9.90 0.41   5.399695 "
      ]
     },
     "metadata": {},
     "output_type": "display_data"
    }
   ],
   "source": [
    "datadir = \"http://econ.korea.ac.kr/~chirokhan/book/data\"\n",
    "Death = read.csv(file.path(datadir, \"deathrate.csv\"))\n",
    "head(Death)"
   ]
  },
  {
   "cell_type": "code",
   "execution_count": 4,
   "metadata": {},
   "outputs": [
    {
     "data": {
      "text/plain": [
       "\n",
       "Call:\n",
       "lm(formula = deathrate ~ drink, data = Death, subset = year == \n",
       "    2010)\n",
       "\n",
       "Residuals:\n",
       "    Min      1Q  Median      3Q     Max \n",
       "-5.3766 -1.2509  0.1862  1.2684  3.9328 \n",
       "\n",
       "Coefficients:\n",
       "            Estimate Std. Error t value Pr(>|t|)    \n",
       "(Intercept) 21.10056    1.72216  12.252  < 2e-16 ***\n",
       "drink       -0.22682    0.03626  -6.256 1.59e-08 ***\n",
       "---\n",
       "Signif. codes:  0 '***' 0.001 '**' 0.01 '*' 0.05 '.' 0.1 ' ' 1\n",
       "\n",
       "Residual standard error: 1.843 on 84 degrees of freedom\n",
       "Multiple R-squared:  0.3178,\tAdjusted R-squared:  0.3097 \n",
       "F-statistic: 39.14 on 1 and 84 DF,  p-value: 1.586e-08\n"
      ]
     },
     "metadata": {},
     "output_type": "display_data"
    }
   ],
   "source": [
    "summary(lm(deathrate~drink, data=Death, subset=year==2010))"
   ]
  },
  {
   "cell_type": "markdown",
   "metadata": {},
   "source": [
    "### 8.1.2 다른 변수를 제어하여 오차평균 0을 회복\n",
    "- 임금 = 베타0 + 베타1*학력 + 오차 보다는\n",
    "- 임금 = 베타0 + 베타1*학력 + 베타2*경력 + 오차항 처럼 모형을 세우는 것이다\n",
    "\n",
    "### 8.1.3 다중회귀 모형\n",
    "- 다변수 회귀모형이라고도 함\n",
    "\n",
    "## 8.2 모수의 해석\n",
    "\n",
    "**연습 8.4 자연로그를 취한 시간당 임금을 종속변수로 하고, 설명변수로서 학력과 경력과 나이가 있는 다음의 선형모형을 생각해보자\n",
    "\n",
    "로그(임금) = 베타0 + 베타1학력 + 베타2경력 +베타3나이 + 오차항\n",
    "\n",
    "각각의 기울기 계수를 해석해보라. 또 베타0을 해석해보라\n",
    "\n",
    "- 경력과 나이가 고정된 채 학력이 년 증가하면 임금은 평균 약 100베타1% 증가한다. 베타2와 베타3도 이와 유사하게 해ㅓㄱ됨\n",
    "- 베타0은 학력과 경력과 나이가 0인 사람들의 평균 로그(임금)이다. \n",
    "\n",
    "**연습 8.5 위의 문제에서 경력과 나이가 고정된 채 학력이 1년 증가한다는 것은 무엇을 말하는가? 동일 시점에서 관측된 갑과 을의 나이와 경력이 같다고 하자. 어떻게 하면 갑의 학력이 을의 학력보다 길 수 있겠는가? 연습 8.4에서 학력의 효과 베타1은 어떤 사람들을 비교함으로써 식별되는가\n",
    "\n",
    "- 갑이 1년동안 학교를 다닐 때 을은 학교를 다니지 않고 일을 하지도 않았음을 의미한다. 베타1은 이런 사람들을 비교함으로써 식별된다.\n",
    "\n",
    "**연습 8.6 연습 8.4에서 만일 모든 사람들이 똑같은 나이에 학교에 입학하고 졸업 후 1년도 쉬지 않는다면(6+학력+경력=나이) 경력과 나이를 고정시키고 학력을 변화시키는것이 가능한가? 이 경우 최소제곱 추정량에는 무슨 일이 생기는가?\n",
    "\n",
    "- 가능하지 않다. 설명변수들 간에 완전한 선형 상관관계가 존재하여(특이성) 최소제곱 추정량이 유일하지 않게 된다.\n",
    "\n",
    "\n",
    "## 8.3 최소제곱법\n",
    "\n",
    "- 보통최소제곱법 오엘에스- 일반화된 최소제곱법(쥐엘에스)의 특수한 형태다"
   ]
  },
  {
   "cell_type": "code",
   "execution_count": 5,
   "metadata": {},
   "outputs": [
    {
     "data": {
      "text/plain": [
       "\n",
       "Call:\n",
       "lm(formula = deathrate ~ drink + aged, data = Death, subset = year == \n",
       "    2010)\n",
       "\n",
       "Residuals:\n",
       "     Min       1Q   Median       3Q      Max \n",
       "-1.72883 -0.37260 -0.00907  0.43054  1.59751 \n",
       "\n",
       "Coefficients:\n",
       "            Estimate Std. Error t value Pr(>|t|)    \n",
       "(Intercept) -0.61389    1.06011  -0.579   0.5641    \n",
       "drink        0.03443    0.01641   2.099   0.0389 *  \n",
       "aged         0.40576    0.01636  24.797   <2e-16 ***\n",
       "---\n",
       "Signif. codes:  0 '***' 0.001 '**' 0.01 '*' 0.05 '.' 0.1 ' ' 1\n",
       "\n",
       "Residual standard error: 0.6394 on 83 degrees of freedom\n",
       "Multiple R-squared:  0.9189,\tAdjusted R-squared:  0.9169 \n",
       "F-statistic:   470 on 2 and 83 DF,  p-value: < 2.2e-16\n"
      ]
     },
     "metadata": {},
     "output_type": "display_data"
    }
   ],
   "source": [
    "summary(lm(deathrate~drink+aged, data=Death, subset=year==2010))"
   ]
  },
  {
   "cell_type": "markdown",
   "metadata": {},
   "source": [
    "- 앞의 예제 결과와 달리 드링크 계수 추정값은 양수이다\n",
    "- 고령인구 비율이 동일한 지역들을 비교할 때 음주인구 비율이 10퍼센트포인트 높은 지여게서의 인구 1000명당 사망자 수는 약 0.34명 더 많았다. \n",
    "\n",
    "\n",
    "### 8.3.1 절편을 수학적으로 어떻게 이해할까\n",
    "- 오엘에스 춪정량은 표본평균을 일반화한 것이라 할 수있음\n",
    "\n",
    "### 8.3.2 분해 정리\n",
    "\n",
    "## 8.4 오엘에스 추정량이 유일할 조건\n",
    "\n",
    "각각의 방정식들이 충분히 독립적인 정보를 가지고 있을 때만"
   ]
  },
  {
   "cell_type": "code",
   "execution_count": 7,
   "metadata": {},
   "outputs": [],
   "source": [
    "data (Wages1, package=\"Ecdat\")"
   ]
  },
  {
   "cell_type": "code",
   "execution_count": 9,
   "metadata": {},
   "outputs": [],
   "source": [
    "Wages1$male = as.numeric(Wages1$sex==\"male\")\n",
    "Wages1$female=as.numeric(Wages1$sex==\"female\")"
   ]
  },
  {
   "cell_type": "code",
   "execution_count": 10,
   "metadata": {},
   "outputs": [
    {
     "data": {
      "text/html": [
       "<table>\n",
       "<caption>A data.frame: 6 × 6</caption>\n",
       "<thead>\n",
       "\t<tr><th></th><th scope=col>exper</th><th scope=col>sex</th><th scope=col>school</th><th scope=col>wage</th><th scope=col>male</th><th scope=col>female</th></tr>\n",
       "\t<tr><th></th><th scope=col>&lt;int&gt;</th><th scope=col>&lt;fct&gt;</th><th scope=col>&lt;int&gt;</th><th scope=col>&lt;dbl&gt;</th><th scope=col>&lt;dbl&gt;</th><th scope=col>&lt;dbl&gt;</th></tr>\n",
       "</thead>\n",
       "<tbody>\n",
       "\t<tr><th scope=row>1</th><td> 9</td><td>female</td><td>13</td><td>6.315296</td><td>0</td><td>1</td></tr>\n",
       "\t<tr><th scope=row>2</th><td>12</td><td>female</td><td>12</td><td>5.479770</td><td>0</td><td>1</td></tr>\n",
       "\t<tr><th scope=row>3</th><td>11</td><td>female</td><td>11</td><td>3.642170</td><td>0</td><td>1</td></tr>\n",
       "\t<tr><th scope=row>4</th><td> 9</td><td>female</td><td>14</td><td>4.593337</td><td>0</td><td>1</td></tr>\n",
       "\t<tr><th scope=row>5</th><td> 8</td><td>female</td><td>14</td><td>2.418157</td><td>0</td><td>1</td></tr>\n",
       "\t<tr><th scope=row>6</th><td> 9</td><td>female</td><td>14</td><td>2.094058</td><td>0</td><td>1</td></tr>\n",
       "</tbody>\n",
       "</table>\n"
      ],
      "text/latex": [
       "A data.frame: 6 × 6\n",
       "\\begin{tabular}{r|llllll}\n",
       "  & exper & sex & school & wage & male & female\\\\\n",
       "  & <int> & <fct> & <int> & <dbl> & <dbl> & <dbl>\\\\\n",
       "\\hline\n",
       "\t1 &  9 & female & 13 & 6.315296 & 0 & 1\\\\\n",
       "\t2 & 12 & female & 12 & 5.479770 & 0 & 1\\\\\n",
       "\t3 & 11 & female & 11 & 3.642170 & 0 & 1\\\\\n",
       "\t4 &  9 & female & 14 & 4.593337 & 0 & 1\\\\\n",
       "\t5 &  8 & female & 14 & 2.418157 & 0 & 1\\\\\n",
       "\t6 &  9 & female & 14 & 2.094058 & 0 & 1\\\\\n",
       "\\end{tabular}\n"
      ],
      "text/markdown": [
       "\n",
       "A data.frame: 6 × 6\n",
       "\n",
       "| <!--/--> | exper &lt;int&gt; | sex &lt;fct&gt; | school &lt;int&gt; | wage &lt;dbl&gt; | male &lt;dbl&gt; | female &lt;dbl&gt; |\n",
       "|---|---|---|---|---|---|---|\n",
       "| 1 |  9 | female | 13 | 6.315296 | 0 | 1 |\n",
       "| 2 | 12 | female | 12 | 5.479770 | 0 | 1 |\n",
       "| 3 | 11 | female | 11 | 3.642170 | 0 | 1 |\n",
       "| 4 |  9 | female | 14 | 4.593337 | 0 | 1 |\n",
       "| 5 |  8 | female | 14 | 2.418157 | 0 | 1 |\n",
       "| 6 |  9 | female | 14 | 2.094058 | 0 | 1 |\n",
       "\n"
      ],
      "text/plain": [
       "  exper sex    school wage     male female\n",
       "1  9    female 13     6.315296 0    1     \n",
       "2 12    female 12     5.479770 0    1     \n",
       "3 11    female 11     3.642170 0    1     \n",
       "4  9    female 14     4.593337 0    1     \n",
       "5  8    female 14     2.418157 0    1     \n",
       "6  9    female 14     2.094058 0    1     "
      ]
     },
     "metadata": {},
     "output_type": "display_data"
    }
   ],
   "source": [
    "head(Wages1)"
   ]
  },
  {
   "cell_type": "code",
   "execution_count": 12,
   "metadata": {},
   "outputs": [],
   "source": [
    "Wages1$trans = as.numeric(Wages1$sex==\"trans\")"
   ]
  },
  {
   "cell_type": "code",
   "execution_count": 13,
   "metadata": {},
   "outputs": [
    {
     "data": {
      "text/html": [
       "<table>\n",
       "<caption>A data.frame: 6 × 7</caption>\n",
       "<thead>\n",
       "\t<tr><th></th><th scope=col>exper</th><th scope=col>sex</th><th scope=col>school</th><th scope=col>wage</th><th scope=col>male</th><th scope=col>female</th><th scope=col>trans</th></tr>\n",
       "\t<tr><th></th><th scope=col>&lt;int&gt;</th><th scope=col>&lt;fct&gt;</th><th scope=col>&lt;int&gt;</th><th scope=col>&lt;dbl&gt;</th><th scope=col>&lt;dbl&gt;</th><th scope=col>&lt;dbl&gt;</th><th scope=col>&lt;dbl&gt;</th></tr>\n",
       "</thead>\n",
       "<tbody>\n",
       "\t<tr><th scope=row>1</th><td> 9</td><td>female</td><td>13</td><td>6.315296</td><td>0</td><td>1</td><td>0</td></tr>\n",
       "\t<tr><th scope=row>2</th><td>12</td><td>female</td><td>12</td><td>5.479770</td><td>0</td><td>1</td><td>0</td></tr>\n",
       "\t<tr><th scope=row>3</th><td>11</td><td>female</td><td>11</td><td>3.642170</td><td>0</td><td>1</td><td>0</td></tr>\n",
       "\t<tr><th scope=row>4</th><td> 9</td><td>female</td><td>14</td><td>4.593337</td><td>0</td><td>1</td><td>0</td></tr>\n",
       "\t<tr><th scope=row>5</th><td> 8</td><td>female</td><td>14</td><td>2.418157</td><td>0</td><td>1</td><td>0</td></tr>\n",
       "\t<tr><th scope=row>6</th><td> 9</td><td>female</td><td>14</td><td>2.094058</td><td>0</td><td>1</td><td>0</td></tr>\n",
       "</tbody>\n",
       "</table>\n"
      ],
      "text/latex": [
       "A data.frame: 6 × 7\n",
       "\\begin{tabular}{r|lllllll}\n",
       "  & exper & sex & school & wage & male & female & trans\\\\\n",
       "  & <int> & <fct> & <int> & <dbl> & <dbl> & <dbl> & <dbl>\\\\\n",
       "\\hline\n",
       "\t1 &  9 & female & 13 & 6.315296 & 0 & 1 & 0\\\\\n",
       "\t2 & 12 & female & 12 & 5.479770 & 0 & 1 & 0\\\\\n",
       "\t3 & 11 & female & 11 & 3.642170 & 0 & 1 & 0\\\\\n",
       "\t4 &  9 & female & 14 & 4.593337 & 0 & 1 & 0\\\\\n",
       "\t5 &  8 & female & 14 & 2.418157 & 0 & 1 & 0\\\\\n",
       "\t6 &  9 & female & 14 & 2.094058 & 0 & 1 & 0\\\\\n",
       "\\end{tabular}\n"
      ],
      "text/markdown": [
       "\n",
       "A data.frame: 6 × 7\n",
       "\n",
       "| <!--/--> | exper &lt;int&gt; | sex &lt;fct&gt; | school &lt;int&gt; | wage &lt;dbl&gt; | male &lt;dbl&gt; | female &lt;dbl&gt; | trans &lt;dbl&gt; |\n",
       "|---|---|---|---|---|---|---|---|\n",
       "| 1 |  9 | female | 13 | 6.315296 | 0 | 1 | 0 |\n",
       "| 2 | 12 | female | 12 | 5.479770 | 0 | 1 | 0 |\n",
       "| 3 | 11 | female | 11 | 3.642170 | 0 | 1 | 0 |\n",
       "| 4 |  9 | female | 14 | 4.593337 | 0 | 1 | 0 |\n",
       "| 5 |  8 | female | 14 | 2.418157 | 0 | 1 | 0 |\n",
       "| 6 |  9 | female | 14 | 2.094058 | 0 | 1 | 0 |\n",
       "\n"
      ],
      "text/plain": [
       "  exper sex    school wage     male female trans\n",
       "1  9    female 13     6.315296 0    1      0    \n",
       "2 12    female 12     5.479770 0    1      0    \n",
       "3 11    female 11     3.642170 0    1      0    \n",
       "4  9    female 14     4.593337 0    1      0    \n",
       "5  8    female 14     2.418157 0    1      0    \n",
       "6  9    female 14     2.094058 0    1      0    "
      ]
     },
     "metadata": {},
     "output_type": "display_data"
    }
   ],
   "source": [
    "head(Wages1)"
   ]
  },
  {
   "cell_type": "code",
   "execution_count": 14,
   "metadata": {},
   "outputs": [
    {
     "data": {
      "text/html": [
       "1569"
      ],
      "text/latex": [
       "1569"
      ],
      "text/markdown": [
       "1569"
      ],
      "text/plain": [
       "[1] 1569"
      ]
     },
     "metadata": {},
     "output_type": "display_data"
    },
    {
     "data": {
      "text/html": [
       "1725"
      ],
      "text/latex": [
       "1725"
      ],
      "text/markdown": [
       "1725"
      ],
      "text/plain": [
       "[1] 1725"
      ]
     },
     "metadata": {},
     "output_type": "display_data"
    }
   ],
   "source": [
    "sum(Wages1$female)\n",
    "sum(Wages1$male)"
   ]
  },
  {
   "cell_type": "code",
   "execution_count": 15,
   "metadata": {},
   "outputs": [
    {
     "data": {
      "text/plain": [
       "\n",
       "Call:\n",
       "lm(formula = wage ~ female, data = Wages1, subset = female == \n",
       "    1)\n",
       "\n",
       "Coefficients:\n",
       "(Intercept)       female  \n",
       "      5.147           NA  \n"
      ]
     },
     "metadata": {},
     "output_type": "display_data"
    }
   ],
   "source": [
    "lm(wage~female, data=Wages1, subset=female==1) # singular"
   ]
  },
  {
   "cell_type": "code",
   "execution_count": 16,
   "metadata": {},
   "outputs": [
    {
     "data": {
      "text/plain": [
       "\n",
       "Call:\n",
       "lm(formula = wage ~ female, data = Wages1)\n",
       "\n",
       "Coefficients:\n",
       "(Intercept)       female  \n",
       "      6.313       -1.166  \n"
      ]
     },
     "metadata": {},
     "output_type": "display_data"
    }
   ],
   "source": [
    "lm(wage~female, data=Wages1)"
   ]
  },
  {
   "cell_type": "code",
   "execution_count": 17,
   "metadata": {},
   "outputs": [
    {
     "data": {
      "text/plain": [
       "\n",
       "Call:\n",
       "lm(formula = wage ~ female + male, data = Wages1)\n",
       "\n",
       "Coefficients:\n",
       "(Intercept)       female         male  \n",
       "      6.313       -1.166           NA  \n"
      ]
     },
     "metadata": {},
     "output_type": "display_data"
    }
   ],
   "source": [
    "lm(wage~female+male, data=Wages1)"
   ]
  },
  {
   "cell_type": "code",
   "execution_count": 18,
   "metadata": {},
   "outputs": [
    {
     "data": {
      "text/plain": [
       "\n",
       "Call:\n",
       "lm(formula = wage ~ male + female - 1, data = Wages1)\n",
       "\n",
       "Coefficients:\n",
       "  male  female  \n",
       " 6.313   5.147  \n"
      ]
     },
     "metadata": {},
     "output_type": "display_data"
    }
   ],
   "source": [
    "lm(wage~male+female-1, data=Wages1)"
   ]
  },
  {
   "cell_type": "markdown",
   "metadata": {},
   "source": [
    "## 8.5 맞춘값, 잔차, 제곱합, R제곱\n"
   ]
  },
  {
   "cell_type": "code",
   "execution_count": 19,
   "metadata": {},
   "outputs": [
    {
     "data": {
      "text/plain": [
       "\n",
       "Call:\n",
       "lm(formula = log(wage) ~ sex + school + exper, data = Wages1)\n",
       "\n",
       "Residuals:\n",
       "    Min      1Q  Median      3Q     Max \n",
       "-3.9861 -0.2817  0.0477  0.3663  2.1668 \n",
       "\n",
       "Coefficients:\n",
       "             Estimate Std. Error t value Pr(>|t|)    \n",
       "(Intercept) -0.259347   0.088322  -2.936  0.00334 ** \n",
       "sexmale      0.242569   0.020453  11.860  < 2e-16 ***\n",
       "school       0.123361   0.006230  19.802  < 2e-16 ***\n",
       "exper        0.035412   0.004514   7.845 5.79e-15 ***\n",
       "---\n",
       "Signif. codes:  0 '***' 0.001 '**' 0.01 '*' 0.05 '.' 0.1 ' ' 1\n",
       "\n",
       "Residual standard error: 0.5786 on 3290 degrees of freedom\n",
       "Multiple R-squared:  0.1374,\tAdjusted R-squared:  0.1367 \n",
       "F-statistic: 174.7 on 3 and 3290 DF,  p-value: < 2.2e-16\n"
      ]
     },
     "metadata": {},
     "output_type": "display_data"
    }
   ],
   "source": [
    "data(Wages1, package=\"Ecdat\")\n",
    "summary(lm(log(wage)~sex+school+exper, data=Wages1))"
   ]
  },
  {
   "cell_type": "code",
   "execution_count": 22,
   "metadata": {},
   "outputs": [
    {
     "data": {
      "text/html": [
       "0.137437652662344"
      ],
      "text/latex": [
       "0.137437652662344"
      ],
      "text/markdown": [
       "0.137437652662344"
      ],
      "text/plain": [
       "[1] 0.1374377"
      ]
     },
     "metadata": {},
     "output_type": "display_data"
    },
    {
     "data": {
      "text/html": [
       "0.137800473482351"
      ],
      "text/latex": [
       "0.137800473482351"
      ],
      "text/markdown": [
       "0.137800473482351"
      ],
      "text/plain": [
       "[1] 0.1378005"
      ]
     },
     "metadata": {},
     "output_type": "display_data"
    }
   ],
   "source": [
    "data(Wages1, package=\"Ecdat\")\n",
    "Wages1$rnd = rnorm(nrow(Wages1))\n",
    "summary(lm(log(wage)~sex+school+exper, data=Wages1))$r.sq\n",
    "summary(lm(log(wage)~sex+school+exper+rnd, data=Wages1))$r.sq"
   ]
  },
  {
   "cell_type": "code",
   "execution_count": null,
   "metadata": {},
   "outputs": [],
   "source": []
  },
  {
   "cell_type": "code",
   "execution_count": null,
   "metadata": {},
   "outputs": [],
   "source": []
  },
  {
   "cell_type": "code",
   "execution_count": null,
   "metadata": {},
   "outputs": [],
   "source": []
  },
  {
   "cell_type": "code",
   "execution_count": null,
   "metadata": {},
   "outputs": [],
   "source": []
  },
  {
   "cell_type": "code",
   "execution_count": null,
   "metadata": {},
   "outputs": [],
   "source": []
  },
  {
   "cell_type": "code",
   "execution_count": null,
   "metadata": {},
   "outputs": [],
   "source": []
  },
  {
   "cell_type": "code",
   "execution_count": null,
   "metadata": {},
   "outputs": [],
   "source": []
  },
  {
   "cell_type": "code",
   "execution_count": null,
   "metadata": {},
   "outputs": [],
   "source": []
  },
  {
   "cell_type": "code",
   "execution_count": null,
   "metadata": {},
   "outputs": [],
   "source": []
  },
  {
   "cell_type": "code",
   "execution_count": null,
   "metadata": {},
   "outputs": [],
   "source": []
  },
  {
   "cell_type": "code",
   "execution_count": null,
   "metadata": {},
   "outputs": [],
   "source": []
  },
  {
   "cell_type": "code",
   "execution_count": null,
   "metadata": {},
   "outputs": [],
   "source": []
  },
  {
   "cell_type": "code",
   "execution_count": null,
   "metadata": {},
   "outputs": [],
   "source": []
  }
 ],
 "metadata": {
  "kernelspec": {
   "display_name": "R",
   "language": "R",
   "name": "ir"
  },
  "language_info": {
   "codemirror_mode": "r",
   "file_extension": ".r",
   "mimetype": "text/x-r-source",
   "name": "R",
   "pygments_lexer": "r",
   "version": "3.6.3"
  }
 },
 "nbformat": 4,
 "nbformat_minor": 4
}
