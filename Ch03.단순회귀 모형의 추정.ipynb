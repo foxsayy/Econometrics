{
 "cells": [
  {
   "cell_type": "markdown",
   "metadata": {},
   "source": [
    "# 제3장 단순회귀 모형의 추정"
   ]
  },
  {
   "cell_type": "markdown",
   "metadata": {},
   "source": [
    "추정(estimation)\n",
    "    - 모수에 대응하는 숫자를 표본으로부터 구하는 것\n",
    "추정량(estimator)\n",
    "    - \"자료가 주어지면 이러저러한 방식으로 숫자를 구하겠다\"고 하는 공식\n",
    "추정값(estimate)\n",
    "    - 추정량을 실제 자료에 적용하여 구한 값"
   ]
  },
  {
   "cell_type": "markdown",
   "metadata": {},
   "source": [
    "## 3.1 자료\n",
    "\n",
    "### 3.1.1 소득과 환경오염"
   ]
  },
  {
   "cell_type": "code",
   "execution_count": 2,
   "metadata": {},
   "outputs": [],
   "source": [
    "url = \"http://econ.korea.ac.kr/~chirokhan/book/data/co2gdp2005.csv\"\n",
    "ekc = read.csv(url)"
   ]
  },
  {
   "cell_type": "code",
   "execution_count": 3,
   "metadata": {},
   "outputs": [],
   "source": [
    "datadir = \"http://econ.korea.ac.kr/~chirokhan/book/data/\"\n",
    "ekc = read.csv(file.path(datadir, \"co2gdp2005.csv\"))"
   ]
  },
  {
   "cell_type": "code",
   "execution_count": 4,
   "metadata": {},
   "outputs": [
    {
     "data": {
      "text/html": [
       "<style>\n",
       ".list-inline {list-style: none; margin:0; padding: 0}\n",
       ".list-inline>li {display: inline-block}\n",
       ".list-inline>li:not(:last-child)::after {content: \"\\00b7\"; padding: 0 .5ex}\n",
       "</style>\n",
       "<ol class=list-inline><li>'ccode'</li><li>'cname'</li><li>'gdppcppp'</li><li>'co2pc'</li></ol>\n"
      ],
      "text/latex": [
       "\\begin{enumerate*}\n",
       "\\item 'ccode'\n",
       "\\item 'cname'\n",
       "\\item 'gdppcppp'\n",
       "\\item 'co2pc'\n",
       "\\end{enumerate*}\n"
      ],
      "text/markdown": [
       "1. 'ccode'\n",
       "2. 'cname'\n",
       "3. 'gdppcppp'\n",
       "4. 'co2pc'\n",
       "\n",
       "\n"
      ],
      "text/plain": [
       "[1] \"ccode\"    \"cname\"    \"gdppcppp\" \"co2pc\"   "
      ]
     },
     "metadata": {},
     "output_type": "display_data"
    }
   ],
   "source": [
    "names(ekc)"
   ]
  },
  {
   "cell_type": "code",
   "execution_count": 5,
   "metadata": {},
   "outputs": [
    {
     "data": {
      "text/html": [
       "183"
      ],
      "text/latex": [
       "183"
      ],
      "text/markdown": [
       "183"
      ],
      "text/plain": [
       "[1] 183"
      ]
     },
     "metadata": {},
     "output_type": "display_data"
    }
   ],
   "source": [
    "nrow(ekc)"
   ]
  },
  {
   "cell_type": "code",
   "execution_count": 6,
   "metadata": {},
   "outputs": [
    {
     "data": {
      "text/html": [
       "<table>\n",
       "<caption>A data.frame: 6 × 4</caption>\n",
       "<thead>\n",
       "\t<tr><th></th><th scope=col>ccode</th><th scope=col>cname</th><th scope=col>gdppcppp</th><th scope=col>co2pc</th></tr>\n",
       "\t<tr><th></th><th scope=col>&lt;fct&gt;</th><th scope=col>&lt;fct&gt;</th><th scope=col>&lt;dbl&gt;</th><th scope=col>&lt;dbl&gt;</th></tr>\n",
       "</thead>\n",
       "<tbody>\n",
       "\t<tr><th scope=row>1</th><td>AFG</td><td>Afghanistan         </td><td> 1039.408</td><td> 0.05485483</td></tr>\n",
       "\t<tr><th scope=row>2</th><td>ALB</td><td>Albania             </td><td> 6199.928</td><td> 1.41249821</td></tr>\n",
       "\t<tr><th scope=row>3</th><td>ARE</td><td>United Arab Emirates</td><td>84338.359</td><td>25.91458723</td></tr>\n",
       "\t<tr><th scope=row>4</th><td>ARM</td><td>Armenia             </td><td> 4716.243</td><td> 1.44373096</td></tr>\n",
       "\t<tr><th scope=row>5</th><td>ATG</td><td>Antigua and Barbuda </td><td>19067.068</td><td> 4.97431115</td></tr>\n",
       "\t<tr><th scope=row>6</th><td>AUS</td><td>Australia           </td><td>32559.459</td><td>17.17438627</td></tr>\n",
       "</tbody>\n",
       "</table>\n"
      ],
      "text/latex": [
       "A data.frame: 6 × 4\n",
       "\\begin{tabular}{r|llll}\n",
       "  & ccode & cname & gdppcppp & co2pc\\\\\n",
       "  & <fct> & <fct> & <dbl> & <dbl>\\\\\n",
       "\\hline\n",
       "\t1 & AFG & Afghanistan          &  1039.408 &  0.05485483\\\\\n",
       "\t2 & ALB & Albania              &  6199.928 &  1.41249821\\\\\n",
       "\t3 & ARE & United Arab Emirates & 84338.359 & 25.91458723\\\\\n",
       "\t4 & ARM & Armenia              &  4716.243 &  1.44373096\\\\\n",
       "\t5 & ATG & Antigua and Barbuda  & 19067.068 &  4.97431115\\\\\n",
       "\t6 & AUS & Australia            & 32559.459 & 17.17438627\\\\\n",
       "\\end{tabular}\n"
      ],
      "text/markdown": [
       "\n",
       "A data.frame: 6 × 4\n",
       "\n",
       "| <!--/--> | ccode &lt;fct&gt; | cname &lt;fct&gt; | gdppcppp &lt;dbl&gt; | co2pc &lt;dbl&gt; |\n",
       "|---|---|---|---|---|\n",
       "| 1 | AFG | Afghanistan          |  1039.408 |  0.05485483 |\n",
       "| 2 | ALB | Albania              |  6199.928 |  1.41249821 |\n",
       "| 3 | ARE | United Arab Emirates | 84338.359 | 25.91458723 |\n",
       "| 4 | ARM | Armenia              |  4716.243 |  1.44373096 |\n",
       "| 5 | ATG | Antigua and Barbuda  | 19067.068 |  4.97431115 |\n",
       "| 6 | AUS | Australia            | 32559.459 | 17.17438627 |\n",
       "\n"
      ],
      "text/plain": [
       "  ccode cname                gdppcppp  co2pc      \n",
       "1 AFG   Afghanistan           1039.408  0.05485483\n",
       "2 ALB   Albania               6199.928  1.41249821\n",
       "3 ARE   United Arab Emirates 84338.359 25.91458723\n",
       "4 ARM   Armenia               4716.243  1.44373096\n",
       "5 ATG   Antigua and Barbuda  19067.068  4.97431115\n",
       "6 AUS   Australia            32559.459 17.17438627"
      ]
     },
     "metadata": {},
     "output_type": "display_data"
    }
   ],
   "source": [
    "head(ekc)"
   ]
  },
  {
   "cell_type": "code",
   "execution_count": 7,
   "metadata": {},
   "outputs": [
    {
     "data": {
      "text/plain": [
       "     ccode                     cname        gdppcppp            co2pc         \n",
       " AFG    :  1   Afghanistan        :  1   Min.   :   476.7   Min.   : 0.01941  \n",
       " ALB    :  1   Albania            :  1   1st Qu.:  2519.9   1st Qu.: 0.61732  \n",
       " ARE    :  1   Algeria            :  1   Median :  7771.4   Median : 2.17747  \n",
       " ARM    :  1   Antigua and Barbuda:  1   Mean   : 13962.3   Mean   : 4.69970  \n",
       " ATG    :  1   Armenia            :  1   3rd Qu.: 18034.8   3rd Qu.: 6.89611  \n",
       " AUS    :  1   Australia          :  1   Max.   :102253.1   Max.   :61.98976  \n",
       " (Other):177   (Other)            :177                                        "
      ]
     },
     "metadata": {},
     "output_type": "display_data"
    }
   ],
   "source": [
    "summary(ekc)"
   ]
  },
  {
   "cell_type": "code",
   "execution_count": 8,
   "metadata": {},
   "outputs": [
    {
     "data": {
      "image/png": "[encoded data removed]",
      "text/plain": [
       "plot without title"
      ]
     },
     "metadata": {
      "image/png": {
       "height": 420,
       "width": 420
      }
     },
     "output_type": "display_data"
    }
   ],
   "source": [
    "plot(co2pc~gdppcppp, data=ekc)"
   ]
  },
  {
   "cell_type": "markdown",
   "metadata": {},
   "source": [
    "### 3.1.2 우리나라 군별 공무원수와 재정자립도"
   ]
  },
  {
   "cell_type": "code",
   "execution_count": 9,
   "metadata": {},
   "outputs": [],
   "source": [
    "datadir = \"http://econ.korea.ac.kr/~chirokhan/book/data\"\n",
    "serv = read.csv(file.path(datadir, \"serv.csv\"))"
   ]
  },
  {
   "cell_type": "code",
   "execution_count": 10,
   "metadata": {},
   "outputs": [
    {
     "data": {
      "text/html": [
       "86"
      ],
      "text/latex": [
       "86"
      ],
      "text/markdown": [
       "86"
      ],
      "text/plain": [
       "[1] 86"
      ]
     },
     "metadata": {},
     "output_type": "display_data"
    }
   ],
   "source": [
    "nrow(serv)"
   ]
  },
  {
   "cell_type": "code",
   "execution_count": 11,
   "metadata": {},
   "outputs": [
    {
     "data": {
      "text/plain": [
       "                    gun         servpc           finind     \n",
       " BuSan GiJangGun      : 1   Min.   : 3.750   Min.   : 8.60  \n",
       " ChungBuk BoEunGun    : 1   1st Qu.: 9.818   1st Qu.:11.72  \n",
       " ChungBuk CheongWonGun: 1   Median :12.070   Median :14.10  \n",
       " ChungBuk DanYangGun  : 1   Mean   :12.835   Mean   :17.29  \n",
       " ChungBuk EumSeongGun : 1   3rd Qu.:15.710   3rd Qu.:19.98  \n",
       " ChungBuk GoiSanGun   : 1   Max.   :33.450   Max.   :48.60  \n",
       " (Other)              :80                                   "
      ]
     },
     "metadata": {},
     "output_type": "display_data"
    }
   ],
   "source": [
    "summary(serv)"
   ]
  },
  {
   "cell_type": "code",
   "execution_count": 12,
   "metadata": {},
   "outputs": [
    {
     "data": {
      "text/html": [
       "<style>\n",
       ".list-inline {list-style: none; margin:0; padding: 0}\n",
       ".list-inline>li {display: inline-block}\n",
       ".list-inline>li:not(:last-child)::after {content: \"\\00b7\"; padding: 0 .5ex}\n",
       "</style>\n",
       "<ol class=list-inline><li>'gun'</li><li>'servpc'</li><li>'finind'</li></ol>\n"
      ],
      "text/latex": [
       "\\begin{enumerate*}\n",
       "\\item 'gun'\n",
       "\\item 'servpc'\n",
       "\\item 'finind'\n",
       "\\end{enumerate*}\n"
      ],
      "text/markdown": [
       "1. 'gun'\n",
       "2. 'servpc'\n",
       "3. 'finind'\n",
       "\n",
       "\n"
      ],
      "text/plain": [
       "[1] \"gun\"    \"servpc\" \"finind\""
      ]
     },
     "metadata": {},
     "output_type": "display_data"
    }
   ],
   "source": [
    "names(serv)"
   ]
  },
  {
   "cell_type": "code",
   "execution_count": 13,
   "metadata": {},
   "outputs": [
    {
     "data": {
      "image/png": "[encoded data removed]",
      "text/plain": [
       "plot without title"
      ]
     },
     "metadata": {
      "image/png": {
       "height": 420,
       "width": 420
      }
     },
     "output_type": "display_data"
    }
   ],
   "source": [
    "plot(finind~servpc, data=serv, subset=servpc<28)"
   ]
  },
  {
   "cell_type": "markdown",
   "metadata": {},
   "source": [
    "### 3.1.3 교육수준과 임금"
   ]
  },
  {
   "cell_type": "code",
   "execution_count": 21,
   "metadata": {},
   "outputs": [],
   "source": [
    "datadir = \"http://econ.korea.ac.kr/~chirokhan/book/data\"\n",
    "klips = read.csv(file.path(datadir, 'klips11subset.csv'))"
   ]
  },
  {
   "cell_type": "code",
   "execution_count": 22,
   "metadata": {},
   "outputs": [
    {
     "data": {
      "text/html": [
       "501"
      ],
      "text/latex": [
       "501"
      ],
      "text/markdown": [
       "501"
      ],
      "text/plain": [
       "[1] 501"
      ]
     },
     "metadata": {},
     "output_type": "display_data"
    }
   ],
   "source": [
    "klips = subset(klips, regular==1 & married==1)\n",
    "nrow(klips)"
   ]
  },
  {
   "cell_type": "code",
   "execution_count": 23,
   "metadata": {},
   "outputs": [
    {
     "data": {
      "text/plain": [
       "      age             educ           tenure        regular      hours       \n",
       " Min.   :30.00   Min.   : 9.00   Min.   : 0.0   Min.   :1   Min.   :  9.00  \n",
       " 1st Qu.:33.00   1st Qu.:12.00   1st Qu.: 2.0   1st Qu.:1   1st Qu.: 44.00  \n",
       " Median :35.00   Median :14.00   Median : 5.0   Median :1   Median : 50.00  \n",
       " Mean   :34.92   Mean   :14.43   Mean   : 5.8   Mean   :1   Mean   : 52.24  \n",
       " 3rd Qu.:37.00   3rd Qu.:16.00   3rd Qu.: 8.0   3rd Qu.:1   3rd Qu.: 58.00  \n",
       " Max.   :39.00   Max.   :19.00   Max.   :19.0   Max.   :1   Max.   :200.00  \n",
       "      earn           labinc         married \n",
       " Min.   : 60.0   Min.   : 3.60   Min.   :1  \n",
       " 1st Qu.:200.0   1st Qu.:24.00   1st Qu.:1  \n",
       " Median :250.0   Median :30.00   Median :1  \n",
       " Mean   :269.4   Mean   :31.84   Mean   :1  \n",
       " 3rd Qu.:320.0   3rd Qu.:38.40   3rd Qu.:1  \n",
       " Max.   :770.0   Max.   :92.40   Max.   :1  "
      ]
     },
     "metadata": {},
     "output_type": "display_data"
    }
   ],
   "source": [
    "summary(klips)"
   ]
  },
  {
   "cell_type": "code",
   "execution_count": 25,
   "metadata": {},
   "outputs": [
    {
     "data": {
      "image/png": "[encoded data removed]",
      "text/plain": [
       "plot without title"
      ]
     },
     "metadata": {
      "image/png": {
       "height": 420,
       "width": 420
      }
     },
     "output_type": "display_data"
    }
   ],
   "source": [
    "plot(labinc~educ, data=klips, log='y')"
   ]
  },
  {
   "cell_type": "code",
   "execution_count": 33,
   "metadata": {},
   "outputs": [
    {
     "data": {
      "text/html": [
       "<style>\n",
       ".list-inline {list-style: none; margin:0; padding: 0}\n",
       ".list-inline>li {display: inline-block}\n",
       ".list-inline>li:not(:last-child)::after {content: \"\\00b7\"; padding: 0 .5ex}\n",
       "</style>\n",
       "<ol class=list-inline><li>'age'</li><li>'educ'</li><li>'tenure'</li><li>'regular'</li><li>'hours'</li><li>'earn'</li><li>'labinc'</li><li>'married'</li><li>'mloginc'</li></ol>\n"
      ],
      "text/latex": [
       "\\begin{enumerate*}\n",
       "\\item 'age'\n",
       "\\item 'educ'\n",
       "\\item 'tenure'\n",
       "\\item 'regular'\n",
       "\\item 'hours'\n",
       "\\item 'earn'\n",
       "\\item 'labinc'\n",
       "\\item 'married'\n",
       "\\item 'mloginc'\n",
       "\\end{enumerate*}\n"
      ],
      "text/markdown": [
       "1. 'age'\n",
       "2. 'educ'\n",
       "3. 'tenure'\n",
       "4. 'regular'\n",
       "5. 'hours'\n",
       "6. 'earn'\n",
       "7. 'labinc'\n",
       "8. 'married'\n",
       "9. 'mloginc'\n",
       "\n",
       "\n"
      ],
      "text/plain": [
       "[1] \"age\"     \"educ\"    \"tenure\"  \"regular\" \"hours\"   \"earn\"    \"labinc\" \n",
       "[8] \"married\" \"mloginc\""
      ]
     },
     "metadata": {},
     "output_type": "display_data"
    }
   ],
   "source": [
    "names(klips)"
   ]
  },
  {
   "cell_type": "code",
   "execution_count": 34,
   "metadata": {},
   "outputs": [
    {
     "data": {
      "image/png": "[encoded data removed]",
      "text/plain": [
       "plot without title"
      ]
     },
     "metadata": {
      "image/png": {
       "height": 420,
       "width": 420
      }
     },
     "output_type": "display_data"
    }
   ],
   "source": [
    "plot(log(labinc)~educ, data=klips)\n",
    "klips$mloginc = with(klips, ave(log(labinc), educ, FUN=mean))\n",
    "points(mloginc~educ, data=klips, pch=19, cex=2)"
   ]
  },
  {
   "cell_type": "markdown",
   "metadata": {},
   "source": [
    "## 3.2 직선 그리기\n",
    "이 점들에 가능한 가깝게 직선이 관통하도록 그릴 필요가 있음"
   ]
  },
  {
   "cell_type": "code",
   "execution_count": 38,
   "metadata": {},
   "outputs": [
    {
     "data": {
      "image/png": "[encoded data removed]",
      "text/plain": [
       "plot without title"
      ]
     },
     "metadata": {
      "image/png": {
       "height": 420,
       "width": 420
      }
     },
     "output_type": "display_data"
    }
   ],
   "source": [
    "plot(finind~servpc, data=serv, subset=servpc<28)"
   ]
  },
  {
   "cell_type": "markdown",
   "metadata": {},
   "source": [
    "## 3.3 최소제곱법\n",
    "\n",
    "각 점들로부터 직선에 이르는 수직방향거리를 제곱하여 합한 값을 가장 작게 만들도록 절편과 기울기를 결정\n",
    "\n",
    "보통최소제곱법(ordinary least squares, **OLS**)"
   ]
  },
  {
   "cell_type": "code",
   "execution_count": 39,
   "metadata": {},
   "outputs": [
    {
     "name": "stdout",
     "output_type": "stream",
     "text": [
      "package 'quantreg' successfully unpacked and MD5 sums checked\n",
      "\n",
      "The downloaded binary packages are in\n",
      "\tC:\\Users\\roh_kondae\\AppData\\Local\\Temp\\RtmpaQanrI\\downloaded_packages\n"
     ]
    },
    {
     "name": "stderr",
     "output_type": "stream",
     "text": [
      "Loading required package: SparseM\n",
      "\n",
      "\n",
      "Attaching package: 'SparseM'\n",
      "\n",
      "\n",
      "The following object is masked from 'package:base':\n",
      "\n",
      "    backsolve\n",
      "\n",
      "\n"
     ]
    }
   ],
   "source": [
    "# 최소제곱법과 최소절대편차법으로 직선 덧그리기\n",
    "install.packages(\"quantreg\")\n",
    "library(quantreg)\n",
    "datadir = \"http://econ.korea.ac.kr/~chirokhan/book/data\"\n",
    "serv = read.csv(file.path(datadir, \"serv.csv\"))\n",
    "serv1 = serv[serv$servpc<28,]"
   ]
  },
  {
   "cell_type": "code",
   "execution_count": 40,
   "metadata": {},
   "outputs": [
    {
     "data": {
      "image/png": "[encoded data removed]",
      "text/plain": [
       "plot without title"
      ]
     },
     "metadata": {
      "image/png": {
       "height": 420,
       "width": 420
      }
     },
     "output_type": "display_data"
    }
   ],
   "source": [
    "plot(finind~servpc, data=serv1,pch=19)\n",
    "abline(lm(finind~servpc,data=serv1),lty=1)\n",
    "abline(rq(finind~servpc,data=serv1),lty=2)"
   ]
  },
  {
   "cell_type": "markdown",
   "metadata": {},
   "source": [
    "## 3.4 짧은 예제들\n",
    "### 3.4.1 공무원 비율과 재정자립도"
   ]
  },
  {
   "cell_type": "code",
   "execution_count": 42,
   "metadata": {},
   "outputs": [
    {
     "data": {
      "text/html": [
       "84"
      ],
      "text/latex": [
       "84"
      ],
      "text/markdown": [
       "84"
      ],
      "text/plain": [
       "[1] 84"
      ]
     },
     "metadata": {},
     "output_type": "display_data"
    }
   ],
   "source": [
    "datadir = \"http://econ.korea.ac.kr/~chirokhan/book/data\"\n",
    "serv = read.csv(file.path(datadir, \"serv.csv\"))\n",
    "serv1 = serv[serv$servpc<28,]\n",
    "nrow(serv1)"
   ]
  },
  {
   "cell_type": "code",
   "execution_count": 43,
   "metadata": {},
   "outputs": [
    {
     "data": {
      "text/plain": [
       "\n",
       "Call:\n",
       "lm(formula = log(finind) ~ log(servpc), data = serv1)\n",
       "\n",
       "Coefficients:\n",
       "(Intercept)  log(servpc)  \n",
       "     4.7675      -0.8212  \n"
      ]
     },
     "metadata": {},
     "output_type": "display_data"
    }
   ],
   "source": [
    "lm(log(finind)~log(servpc),data=serv1)"
   ]
  },
  {
   "cell_type": "markdown",
   "metadata": {},
   "source": [
    "여타 요소가 동일할 때, 공무원 비율이 10% 높은 지역의 재정자립도가 약 8.2% 낮은 것으로 추정됨"
   ]
  },
  {
   "cell_type": "code",
   "execution_count": 44,
   "metadata": {},
   "outputs": [
    {
     "data": {
      "text/html": [
       "<style>\n",
       ".list-inline {list-style: none; margin:0; padding: 0}\n",
       ".list-inline>li {display: inline-block}\n",
       ".list-inline>li:not(:last-child)::after {content: \"\\00b7\"; padding: 0 .5ex}\n",
       "</style>\n",
       "<ol class=list-inline><li>4.76745358297226</li><li>-0.821200515074073</li></ol>\n"
      ],
      "text/latex": [
       "\\begin{enumerate*}\n",
       "\\item 4.76745358297226\n",
       "\\item -0.821200515074073\n",
       "\\end{enumerate*}\n"
      ],
      "text/markdown": [
       "1. 4.76745358297226\n",
       "2. -0.821200515074073\n",
       "\n",
       "\n"
      ],
      "text/plain": [
       "[1]  4.7674536 -0.8212005"
      ]
     },
     "metadata": {},
     "output_type": "display_data"
    }
   ],
   "source": [
    "x = log(serv1$servpc)\n",
    "y = log(serv1$finind)\n",
    "xd = x-mean(x)\n",
    "b1 = sum(xd*y)/sum(xd^2)\n",
    "b0 = mean(y) - b1*mean(x)\n",
    "c(b0, b1)"
   ]
  },
  {
   "cell_type": "code",
   "execution_count": 45,
   "metadata": {},
   "outputs": [
    {
     "data": {
      "image/png": "[encoded data removed]",
      "text/plain": [
       "plot without title"
      ]
     },
     "metadata": {
      "image/png": {
       "height": 420,
       "width": 420
      }
     },
     "output_type": "display_data"
    }
   ],
   "source": [
    "plot(log(finind)~log(servpc),data=serv1)\n",
    "abline(lm(log(finind)~log(servpc),data=serv1))"
   ]
  },
  {
   "cell_type": "markdown",
   "metadata": {},
   "source": [
    "### 3.4.2 교육수준과 연간 근로소득"
   ]
  },
  {
   "cell_type": "code",
   "execution_count": 48,
   "metadata": {},
   "outputs": [
    {
     "data": {
      "text/plain": [
       "\n",
       "Call:\n",
       "lm(formula = log(labinc) ~ educ, data = klips)\n",
       "\n",
       "Coefficients:\n",
       "(Intercept)         educ  \n",
       "    2.33714      0.06769  \n"
      ]
     },
     "metadata": {},
     "output_type": "display_data"
    }
   ],
   "source": [
    "datadir = \"http://econ.korea.ac.kr/~chirokhan/book/data\"\n",
    "klips = read.csv(file.path(datadir, 'klips11subset.csv'))\n",
    "ols = lm(log(labinc)~educ, data=klips)\n",
    "ols"
   ]
  },
  {
   "cell_type": "code",
   "execution_count": 49,
   "metadata": {},
   "outputs": [
    {
     "data": {
      "image/png": "[encoded data removed]",
      "text/plain": [
       "plot without title"
      ]
     },
     "metadata": {
      "image/png": {
       "height": 420,
       "width": 420
      }
     },
     "output_type": "display_data"
    }
   ],
   "source": [
    "plot(log(labinc)~educ, data=klips)\n",
    "abline(ols)"
   ]
  },
  {
   "cell_type": "markdown",
   "metadata": {},
   "source": [
    "### 3.4.3 고령인구비율과 흡연율"
   ]
  },
  {
   "cell_type": "code",
   "execution_count": 50,
   "metadata": {},
   "outputs": [
    {
     "data": {
      "text/plain": [
       "\n",
       "Call:\n",
       "lm(formula = smoke ~ aged, data = Death, subset = year == 2010)\n",
       "\n",
       "Coefficients:\n",
       "(Intercept)         aged  \n",
       "    29.0774      -0.2286  \n"
      ]
     },
     "metadata": {},
     "output_type": "display_data"
    }
   ],
   "source": [
    "datadir = \"http://econ.korea.ac.kr/~chirokhan/book/data\"\n",
    "Death = read.csv(file.path(datadir, \"deathrate.csv\"))\n",
    "reg = lm(smoke~aged, data=Death, subset=year==2010)\n",
    "reg"
   ]
  },
  {
   "cell_type": "code",
   "execution_count": 51,
   "metadata": {},
   "outputs": [
    {
     "data": {
      "image/png": "[encoded data removed]",
      "text/plain": [
       "plot without title"
      ]
     },
     "metadata": {
      "image/png": {
       "height": 420,
       "width": 420
      }
     },
     "output_type": "display_data"
    }
   ],
   "source": [
    "plot(smoke~aged, data=Death, subset=year==2010)\n",
    "abline(reg)"
   ]
  },
  {
   "cell_type": "markdown",
   "metadata": {},
   "source": [
    "**연습 3.6 deathrate.csv 파일의 2008년 자료를 이용해 smoke를 aged에 대해 최소제곱 회귀하고, 시각화하는 그림을 그려라**"
   ]
  },
  {
   "cell_type": "code",
   "execution_count": 52,
   "metadata": {},
   "outputs": [
    {
     "data": {
      "image/png": "[encoded data removed]",
      "text/plain": [
       "plot without title"
      ]
     },
     "metadata": {
      "image/png": {
       "height": 420,
       "width": 420
      }
     },
     "output_type": "display_data"
    }
   ],
   "source": [
    "datadir = \"http://econ.korea.ac.kr/~chirokhan/book/data\"\n",
    "Death = read.csv(file.path(datadir, \"deathrate.csv\"))\n",
    "reg = lm(smoke~aged, data=Death, subset=year==2008)\n",
    "plot(smoke~aged, data=Death, subset=year==2008)\n",
    "abline(reg)"
   ]
  },
  {
   "cell_type": "code",
   "execution_count": 53,
   "metadata": {},
   "outputs": [
    {
     "data": {
      "text/plain": [
       "\n",
       "Call:\n",
       "lm(formula = smoke ~ aged, data = Death, subset = year == 2008)\n",
       "\n",
       "Coefficients:\n",
       "(Intercept)         aged  \n",
       "    32.6118      -0.3972  \n"
      ]
     },
     "metadata": {},
     "output_type": "display_data"
    }
   ],
   "source": [
    "reg"
   ]
  },
  {
   "cell_type": "markdown",
   "metadata": {},
   "source": [
    "### 3.4.4 소비함수"
   ]
  },
  {
   "cell_type": "code",
   "execution_count": 56,
   "metadata": {},
   "outputs": [
    {
     "data": {
      "text/html": [
       "<style>\n",
       ".list-inline {list-style: none; margin:0; padding: 0}\n",
       ".list-inline>li {display: inline-block}\n",
       ".list-inline>li:not(:last-child)::after {content: \"\\00b7\"; padding: 0 .5ex}\n",
       "</style>\n",
       "<ol class=list-inline><li>'yd'</li><li>'ce'</li></ol>\n"
      ],
      "text/latex": [
       "\\begin{enumerate*}\n",
       "\\item 'yd'\n",
       "\\item 'ce'\n",
       "\\end{enumerate*}\n"
      ],
      "text/markdown": [
       "1. 'yd'\n",
       "2. 'ce'\n",
       "\n",
       "\n"
      ],
      "text/plain": [
       "[1] \"yd\" \"ce\""
      ]
     },
     "metadata": {},
     "output_type": "display_data"
    }
   ],
   "source": [
    "data(Consumption, package=\"Ecdat\")\n",
    "colnames(Consumption)"
   ]
  },
  {
   "cell_type": "code",
   "execution_count": 57,
   "metadata": {},
   "outputs": [
    {
     "data": {
      "text/plain": [
       "\n",
       "Call:\n",
       "lm(formula = ce ~ yd, data = Consumption)\n",
       "\n",
       "Coefficients:\n",
       "(Intercept)           yd  \n",
       "  6000.2561       0.8618  \n"
      ]
     },
     "metadata": {},
     "output_type": "display_data"
    }
   ],
   "source": [
    "lm(ce~yd, data=Consumption)"
   ]
  },
  {
   "cell_type": "code",
   "execution_count": 59,
   "metadata": {},
   "outputs": [
    {
     "data": {
      "image/png": "[encoded data removed]",
      "text/plain": [
       "plot without title"
      ]
     },
     "metadata": {
      "image/png": {
       "height": 420,
       "width": 420
      }
     },
     "output_type": "display_data"
    }
   ],
   "source": [
    "plot(ce~yd, data=Consumption,pch=19)\n",
    "abline(lm(ce~yd, data=Consumption))"
   ]
  },
  {
   "cell_type": "markdown",
   "metadata": {},
   "source": [
    "### 3.4.5 유전학과 골턴의 \"회귀\""
   ]
  },
  {
   "cell_type": "code",
   "execution_count": 61,
   "metadata": {},
   "outputs": [
    {
     "name": "stdout",
     "output_type": "stream",
     "text": [
      "package 'HistData' successfully unpacked and MD5 sums checked\n",
      "\n",
      "The downloaded binary packages are in\n",
      "\tC:\\Users\\roh_kondae\\AppData\\Local\\Temp\\RtmpaQanrI\\downloaded_packages\n"
     ]
    }
   ],
   "source": [
    "install.packages(\"HistData\")"
   ]
  },
  {
   "cell_type": "code",
   "execution_count": 62,
   "metadata": {},
   "outputs": [],
   "source": [
    "datadir = \"http://econ.korea.ac.kr/~chirokhan/book/data\"\n",
    "GaltonPar = read.csv(file.path(datadir, \"galtonpar.csv\"))"
   ]
  },
  {
   "cell_type": "code",
   "execution_count": 63,
   "metadata": {},
   "outputs": [
    {
     "data": {
      "text/html": [
       "<style>\n",
       ".list-inline {list-style: none; margin:0; padding: 0}\n",
       ".list-inline>li {display: inline-block}\n",
       ".list-inline>li:not(:last-child)::after {content: \"\\00b7\"; padding: 0 .5ex}\n",
       "</style>\n",
       "<ol class=list-inline><li>'id'</li><li>'father'</li><li>'mother'</li><li>'midparht'</li><li>'numchild'</li><li>'numson'</li><li>'numdtr'</li><li>'avgchildht'</li><li>'avgsonht'</li><li>'avgdtrht'</li></ol>\n"
      ],
      "text/latex": [
       "\\begin{enumerate*}\n",
       "\\item 'id'\n",
       "\\item 'father'\n",
       "\\item 'mother'\n",
       "\\item 'midparht'\n",
       "\\item 'numchild'\n",
       "\\item 'numson'\n",
       "\\item 'numdtr'\n",
       "\\item 'avgchildht'\n",
       "\\item 'avgsonht'\n",
       "\\item 'avgdtrht'\n",
       "\\end{enumerate*}\n"
      ],
      "text/markdown": [
       "1. 'id'\n",
       "2. 'father'\n",
       "3. 'mother'\n",
       "4. 'midparht'\n",
       "5. 'numchild'\n",
       "6. 'numson'\n",
       "7. 'numdtr'\n",
       "8. 'avgchildht'\n",
       "9. 'avgsonht'\n",
       "10. 'avgdtrht'\n",
       "\n",
       "\n"
      ],
      "text/plain": [
       " [1] \"id\"         \"father\"     \"mother\"     \"midparht\"   \"numchild\"  \n",
       " [6] \"numson\"     \"numdtr\"     \"avgchildht\" \"avgsonht\"   \"avgdtrht\"  "
      ]
     },
     "metadata": {},
     "output_type": "display_data"
    }
   ],
   "source": [
    "names(GaltonPar)"
   ]
  },
  {
   "cell_type": "code",
   "execution_count": 65,
   "metadata": {},
   "outputs": [
    {
     "data": {
      "image/png": "[encoded data removed]",
      "text/plain": [
       "plot without title"
      ]
     },
     "metadata": {
      "image/png": {
       "height": 420,
       "width": 420
      }
     },
     "output_type": "display_data"
    }
   ],
   "source": [
    "plot(avgsonht~midparht, data=GaltonPar)\n",
    "abline(0,1,lty=2)"
   ]
  },
  {
   "cell_type": "code",
   "execution_count": 64,
   "metadata": {},
   "outputs": [
    {
     "data": {
      "text/plain": [
       "\n",
       "Call:\n",
       "lm(formula = avgsonht ~ midparht, data = GaltonPar)\n",
       "\n",
       "Coefficients:\n",
       "(Intercept)     midparht  \n",
       "    21.7528       0.6871  \n"
      ]
     },
     "metadata": {},
     "output_type": "display_data"
    }
   ],
   "source": [
    "reg = lm(avgsonht~midparht, data=GaltonPar)\n",
    "reg"
   ]
  },
  {
   "cell_type": "code",
   "execution_count": 66,
   "metadata": {},
   "outputs": [
    {
     "data": {
      "text/html": [
       "179"
      ],
      "text/latex": [
       "179"
      ],
      "text/markdown": [
       "179"
      ],
      "text/plain": [
       "[1] 179"
      ]
     },
     "metadata": {},
     "output_type": "display_data"
    }
   ],
   "source": [
    "nobs(reg)"
   ]
  },
  {
   "cell_type": "code",
   "execution_count": 67,
   "metadata": {},
   "outputs": [
    {
     "data": {
      "text/plain": [
       "\n",
       "Call:\n",
       "lm(formula = avgdtrht ~ midparht, data = GaltonPar)\n",
       "\n",
       "Coefficients:\n",
       "(Intercept)     midparht  \n",
       "    19.6085       0.6424  \n"
      ]
     },
     "metadata": {},
     "output_type": "display_data"
    },
    {
     "data": {
      "image/png": "[encoded data removed]",
      "text/plain": [
       "plot without title"
      ]
     },
     "metadata": {
      "image/png": {
       "height": 420,
       "width": 420
      }
     },
     "output_type": "display_data"
    }
   ],
   "source": [
    "plot(avgsonht~midparht, data=GaltonPar)\n",
    "abline(0,1,lty=2)\n",
    "abline(reg)\n",
    "lm(avgdtrht~midparht, data=GaltonPar)"
   ]
  },
  {
   "cell_type": "markdown",
   "metadata": {},
   "source": [
    "### 3.4.6 우주의 나이"
   ]
  },
  {
   "cell_type": "code",
   "execution_count": 70,
   "metadata": {},
   "outputs": [
    {
     "name": "stdout",
     "output_type": "stream",
     "text": [
      "package 'gamair' successfully unpacked and MD5 sums checked\n",
      "\n",
      "The downloaded binary packages are in\n",
      "\tC:\\Users\\roh_kondae\\AppData\\Local\\Temp\\RtmpaQanrI\\downloaded_packages\n"
     ]
    }
   ],
   "source": [
    "install.packages(\"gamair\")\n",
    "data(hubble,package=\"gamair\")"
   ]
  },
  {
   "cell_type": "code",
   "execution_count": 71,
   "metadata": {},
   "outputs": [
    {
     "data": {
      "text/html": [
       "<table>\n",
       "<caption>A data.frame: 5 × 3</caption>\n",
       "<thead>\n",
       "\t<tr><th></th><th scope=col>Galaxy</th><th scope=col>y</th><th scope=col>x</th></tr>\n",
       "\t<tr><th></th><th scope=col>&lt;fct&gt;</th><th scope=col>&lt;int&gt;</th><th scope=col>&lt;dbl&gt;</th></tr>\n",
       "</thead>\n",
       "<tbody>\n",
       "\t<tr><th scope=row>1</th><td>NGC0300 </td><td> 133</td><td> 2.00</td></tr>\n",
       "\t<tr><th scope=row>2</th><td>NGC0925 </td><td> 664</td><td> 9.16</td></tr>\n",
       "\t<tr><th scope=row>3</th><td>NGC1326A</td><td>1794</td><td>16.14</td></tr>\n",
       "\t<tr><th scope=row>4</th><td>NGC1365 </td><td>1594</td><td>17.95</td></tr>\n",
       "\t<tr><th scope=row>5</th><td>NGC1425 </td><td>1473</td><td>21.88</td></tr>\n",
       "</tbody>\n",
       "</table>\n"
      ],
      "text/latex": [
       "A data.frame: 5 × 3\n",
       "\\begin{tabular}{r|lll}\n",
       "  & Galaxy & y & x\\\\\n",
       "  & <fct> & <int> & <dbl>\\\\\n",
       "\\hline\n",
       "\t1 & NGC0300  &  133 &  2.00\\\\\n",
       "\t2 & NGC0925  &  664 &  9.16\\\\\n",
       "\t3 & NGC1326A & 1794 & 16.14\\\\\n",
       "\t4 & NGC1365  & 1594 & 17.95\\\\\n",
       "\t5 & NGC1425  & 1473 & 21.88\\\\\n",
       "\\end{tabular}\n"
      ],
      "text/markdown": [
       "\n",
       "A data.frame: 5 × 3\n",
       "\n",
       "| <!--/--> | Galaxy &lt;fct&gt; | y &lt;int&gt; | x &lt;dbl&gt; |\n",
       "|---|---|---|---|\n",
       "| 1 | NGC0300  |  133 |  2.00 |\n",
       "| 2 | NGC0925  |  664 |  9.16 |\n",
       "| 3 | NGC1326A | 1794 | 16.14 |\n",
       "| 4 | NGC1365  | 1594 | 17.95 |\n",
       "| 5 | NGC1425  | 1473 | 21.88 |\n",
       "\n"
      ],
      "text/plain": [
       "  Galaxy   y    x    \n",
       "1 NGC0300   133  2.00\n",
       "2 NGC0925   664  9.16\n",
       "3 NGC1326A 1794 16.14\n",
       "4 NGC1365  1594 17.95\n",
       "5 NGC1425  1473 21.88"
      ]
     },
     "metadata": {},
     "output_type": "display_data"
    }
   ],
   "source": [
    "hubble[1:5,]"
   ]
  },
  {
   "cell_type": "markdown",
   "metadata": {},
   "source": [
    "**연습 3.7 NGC1365(4번 천체)는 우리로부터 얼마나 떨어져 있으며 1초에 얼마만큼 우리로부터 멀어져 가는가?**\n",
    "\n",
    "1795만 메가 파아섹 떨어져 있으며, 초당 1594km씩 멀어지고 있음"
   ]
  },
  {
   "cell_type": "code",
   "execution_count": 72,
   "metadata": {},
   "outputs": [
    {
     "data": {
      "image/png": "[encoded data removed]",
      "text/plain": [
       "plot without title"
      ]
     },
     "metadata": {
      "image/png": {
       "height": 420,
       "width": 420
      }
     },
     "output_type": "display_data"
    }
   ],
   "source": [
    "plot(y~x, data=hubble, xlab=\"Distance\", ylab=\"Velocity\")"
   ]
  },
  {
   "cell_type": "code",
   "execution_count": 73,
   "metadata": {},
   "outputs": [
    {
     "name": "stderr",
     "output_type": "stream",
     "text": [
      "also installing the dependencies 'colorspace', 'farver', 'labeling', 'munsell', 'RColorBrewer', 'viridisLite', 'gtable', 'isoband', 'scales'\n",
      "\n",
      "\n"
     ]
    },
    {
     "name": "stdout",
     "output_type": "stream",
     "text": [
      "\n",
      "  There is a binary version available but the source version is later:\n",
      "        binary source needs_compilation\n",
      "isoband  0.2.0  0.2.1              TRUE\n",
      "\n",
      "package 'colorspace' successfully unpacked and MD5 sums checked\n",
      "package 'farver' successfully unpacked and MD5 sums checked\n",
      "package 'labeling' successfully unpacked and MD5 sums checked\n",
      "package 'munsell' successfully unpacked and MD5 sums checked\n",
      "package 'RColorBrewer' successfully unpacked and MD5 sums checked\n",
      "package 'viridisLite' successfully unpacked and MD5 sums checked\n",
      "package 'gtable' successfully unpacked and MD5 sums checked\n",
      "package 'scales' successfully unpacked and MD5 sums checked\n",
      "package 'ggplot2' successfully unpacked and MD5 sums checked\n",
      "\n",
      "The downloaded binary packages are in\n",
      "\tC:\\Users\\roh_kondae\\AppData\\Local\\Temp\\RtmpaQanrI\\downloaded_packages\n"
     ]
    },
    {
     "name": "stderr",
     "output_type": "stream",
     "text": [
      "installing the source package 'isoband'\n",
      "\n",
      "\n",
      "Warning message in install.packages(\"ggplot2\"):\n",
      "\"installation of package 'isoband' had non-zero exit status\"\n"
     ]
    }
   ],
   "source": [
    "install.packages(\"ggplot2\")"
   ]
  },
  {
   "cell_type": "code",
   "execution_count": 74,
   "metadata": {},
   "outputs": [
    {
     "data": {
      "image/png": "[encoded data removed]",
      "text/plain": [
       "plot without title"
      ]
     },
     "metadata": {
      "image/png": {
       "height": 420,
       "width": 420
      }
     },
     "output_type": "display_data"
    }
   ],
   "source": [
    "library(ggplot2)\n",
    "qplot(x, y, data=hubble, xlab=\"Distance\", ylab=\"Velocity\")"
   ]
  },
  {
   "cell_type": "code",
   "execution_count": 76,
   "metadata": {},
   "outputs": [
    {
     "data": {
      "text/plain": [
       "\n",
       "Call:\n",
       "lm(formula = y ~ x - 1, data = hubble)\n",
       "\n",
       "Coefficients:\n",
       "    x  \n",
       "76.58  \n"
      ]
     },
     "metadata": {},
     "output_type": "display_data"
    }
   ],
   "source": [
    "ols = lm(y~x-1, data=hubble)\n",
    "ols"
   ]
  },
  {
   "cell_type": "code",
   "execution_count": 79,
   "metadata": {},
   "outputs": [
    {
     "data": {
      "image/png": "[encoded data removed]",
      "text/plain": [
       "plot without title"
      ]
     },
     "metadata": {
      "image/png": {
       "height": 420,
       "width": 420
      }
     },
     "output_type": "display_data"
    }
   ],
   "source": [
    "p = qplot(x,y, data=hubble, xlab=\"Distance\", ylab=\"Velocity\")\n",
    "p + geom_abline(intercept=0, slope=ols$coef[1])"
   ]
  },
  {
   "cell_type": "code",
   "execution_count": null,
   "metadata": {},
   "outputs": [],
   "source": []
  },
  {
   "cell_type": "code",
   "execution_count": null,
   "metadata": {},
   "outputs": [],
   "source": []
  },
  {
   "cell_type": "code",
   "execution_count": null,
   "metadata": {},
   "outputs": [],
   "source": []
  },
  {
   "cell_type": "code",
   "execution_count": null,
   "metadata": {},
   "outputs": [],
   "source": []
  },
  {
   "cell_type": "code",
   "execution_count": null,
   "metadata": {},
   "outputs": [],
   "source": []
  },
  {
   "cell_type": "code",
   "execution_count": null,
   "metadata": {},
   "outputs": [],
   "source": []
  },
  {
   "cell_type": "code",
   "execution_count": null,
   "metadata": {},
   "outputs": [],
   "source": []
  },
  {
   "cell_type": "code",
   "execution_count": null,
   "metadata": {},
   "outputs": [],
   "source": []
  },
  {
   "cell_type": "code",
   "execution_count": null,
   "metadata": {},
   "outputs": [],
   "source": []
  }
 ],
 "metadata": {
  "kernelspec": {
   "display_name": "R",
   "language": "R",
   "name": "ir"
  },
  "language_info": {
   "codemirror_mode": "r",
   "file_extension": ".r",
   "mimetype": "text/x-r-source",
   "name": "R",
   "pygments_lexer": "r",
   "version": "3.6.3"
  }
 },
 "nbformat": 4,
 "nbformat_minor": 4
}
