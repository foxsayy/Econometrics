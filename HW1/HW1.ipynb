{
 "cells": [
  {
   "cell_type": "markdown",
   "metadata": {},
   "source": [
    "# 퀀트 입문 과제 1\n",
    "\n",
    "- 제출일: 2020-04-25\n",
    "- 학번: 2020711455 \n",
    "- 이름: 노승환"
   ]
  },
  {
   "cell_type": "markdown",
   "metadata": {},
   "source": [
    "# 1. CEOSAL2\n",
    "\n",
    "CEOSAL2.xls 데이터셋은 미국 기업의 CEO 정보를 담고 있다. \n",
    "- salary 변수는 연 보상이고, 단위는 1000달러이다. \n",
    "- ceoten 변수는 CEO로 일한 시간(연)이다."
   ]
  },
  {
   "cell_type": "markdown",
   "metadata": {},
   "source": [
    "## 1.1 평균 salary와 평균 tenure\n",
    "\n",
    "**Answer**\n",
    "- 평균 salary : 865.9 (약 86만5900달러)\n",
    "- 평균 tenure : 7.955 (7.96년)\n",
    "\n",
    "**Solution**"
   ]
  },
  {
   "cell_type": "code",
   "execution_count": 101,
   "metadata": {},
   "outputs": [
    {
     "name": "stderr",
     "output_type": "stream",
     "text": [
      "New names:\n",
      "* `` -> ...1\n",
      "* `` -> ...2\n",
      "* `` -> ...3\n",
      "* `` -> ...4\n",
      "* `` -> ...5\n",
      "* ...\n",
      "\n"
     ]
    }
   ],
   "source": [
    "datadir = getwd()\n",
    "library(readxl)\n",
    "ceosal2 = read_excel(file.path(datadir, \"ceosal2.xls\"), col_names=FALSE)"
   ]
  },
  {
   "cell_type": "code",
   "execution_count": 102,
   "metadata": {},
   "outputs": [
    {
     "data": {
      "text/html": [
       "177"
      ],
      "text/latex": [
       "177"
      ],
      "text/markdown": [
       "177"
      ],
      "text/plain": [
       "[1] 177"
      ]
     },
     "metadata": {},
     "output_type": "display_data"
    }
   ],
   "source": [
    "nrow(ceosal2)"
   ]
  },
  {
   "cell_type": "code",
   "execution_count": 103,
   "metadata": {
    "scrolled": true
   },
   "outputs": [
    {
     "data": {
      "text/html": [
       "<table>\n",
       "<caption>A tibble: 6 × 15</caption>\n",
       "<thead>\n",
       "\t<tr><th scope=col>...1</th><th scope=col>...2</th><th scope=col>...3</th><th scope=col>...4</th><th scope=col>...5</th><th scope=col>...6</th><th scope=col>...7</th><th scope=col>...8</th><th scope=col>...9</th><th scope=col>...10</th><th scope=col>...11</th><th scope=col>...12</th><th scope=col>...13</th><th scope=col>...14</th><th scope=col>...15</th></tr>\n",
       "\t<tr><th scope=col>&lt;dbl&gt;</th><th scope=col>&lt;dbl&gt;</th><th scope=col>&lt;dbl&gt;</th><th scope=col>&lt;dbl&gt;</th><th scope=col>&lt;dbl&gt;</th><th scope=col>&lt;dbl&gt;</th><th scope=col>&lt;dbl&gt;</th><th scope=col>&lt;dbl&gt;</th><th scope=col>&lt;dbl&gt;</th><th scope=col>&lt;dbl&gt;</th><th scope=col>&lt;dbl&gt;</th><th scope=col>&lt;dbl&gt;</th><th scope=col>&lt;dbl&gt;</th><th scope=col>&lt;dbl&gt;</th><th scope=col>&lt;dbl&gt;</th></tr>\n",
       "</thead>\n",
       "<tbody>\n",
       "\t<tr><td> 218</td><td>57</td><td>1</td><td>1</td><td>33</td><td> 5</td><td>504</td><td> 41</td><td>421</td><td>5.384495</td><td>6.222576</td><td>6.042633</td><td>1089</td><td> 25</td><td>  8.134921</td></tr>\n",
       "\t<tr><td> 264</td><td>63</td><td>1</td><td>0</td><td>42</td><td> 3</td><td>334</td><td> 43</td><td>480</td><td>5.575949</td><td>5.811141</td><td>6.173786</td><td>1764</td><td>  9</td><td> 12.874250</td></tr>\n",
       "\t<tr><td> 185</td><td>58</td><td>1</td><td>0</td><td>39</td><td> 1</td><td>766</td><td> 49</td><td>560</td><td>5.220356</td><td>6.641182</td><td>6.327937</td><td>1521</td><td>  1</td><td>  6.396867</td></tr>\n",
       "\t<tr><td> 387</td><td>71</td><td>1</td><td>1</td><td>32</td><td>13</td><td>432</td><td> 28</td><td>477</td><td>5.958425</td><td>6.068426</td><td>6.167517</td><td>1024</td><td>169</td><td>  6.481482</td></tr>\n",
       "\t<tr><td>2220</td><td>63</td><td>1</td><td>1</td><td>18</td><td>18</td><td>277</td><td>-80</td><td>540</td><td>7.705263</td><td>5.624018</td><td>6.291569</td><td> 324</td><td>324</td><td>-28.880870</td></tr>\n",
       "\t<tr><td> 445</td><td>69</td><td>1</td><td>0</td><td>23</td><td> 0</td><td>249</td><td> 31</td><td>828</td><td>6.098074</td><td>5.517453</td><td>6.719013</td><td> 529</td><td>  0</td><td> 12.449800</td></tr>\n",
       "</tbody>\n",
       "</table>\n"
      ],
      "text/latex": [
       "A tibble: 6 × 15\n",
       "\\begin{tabular}{lllllllllllllll}\n",
       " ...1 & ...2 & ...3 & ...4 & ...5 & ...6 & ...7 & ...8 & ...9 & ...10 & ...11 & ...12 & ...13 & ...14 & ...15\\\\\n",
       " <dbl> & <dbl> & <dbl> & <dbl> & <dbl> & <dbl> & <dbl> & <dbl> & <dbl> & <dbl> & <dbl> & <dbl> & <dbl> & <dbl> & <dbl>\\\\\n",
       "\\hline\n",
       "\t  218 & 57 & 1 & 1 & 33 &  5 & 504 &  41 & 421 & 5.384495 & 6.222576 & 6.042633 & 1089 &  25 &   8.134921\\\\\n",
       "\t  264 & 63 & 1 & 0 & 42 &  3 & 334 &  43 & 480 & 5.575949 & 5.811141 & 6.173786 & 1764 &   9 &  12.874250\\\\\n",
       "\t  185 & 58 & 1 & 0 & 39 &  1 & 766 &  49 & 560 & 5.220356 & 6.641182 & 6.327937 & 1521 &   1 &   6.396867\\\\\n",
       "\t  387 & 71 & 1 & 1 & 32 & 13 & 432 &  28 & 477 & 5.958425 & 6.068426 & 6.167517 & 1024 & 169 &   6.481482\\\\\n",
       "\t 2220 & 63 & 1 & 1 & 18 & 18 & 277 & -80 & 540 & 7.705263 & 5.624018 & 6.291569 &  324 & 324 & -28.880870\\\\\n",
       "\t  445 & 69 & 1 & 0 & 23 &  0 & 249 &  31 & 828 & 6.098074 & 5.517453 & 6.719013 &  529 &   0 &  12.449800\\\\\n",
       "\\end{tabular}\n"
      ],
      "text/markdown": [
       "\n",
       "A tibble: 6 × 15\n",
       "\n",
       "| ...1 &lt;dbl&gt; | ...2 &lt;dbl&gt; | ...3 &lt;dbl&gt; | ...4 &lt;dbl&gt; | ...5 &lt;dbl&gt; | ...6 &lt;dbl&gt; | ...7 &lt;dbl&gt; | ...8 &lt;dbl&gt; | ...9 &lt;dbl&gt; | ...10 &lt;dbl&gt; | ...11 &lt;dbl&gt; | ...12 &lt;dbl&gt; | ...13 &lt;dbl&gt; | ...14 &lt;dbl&gt; | ...15 &lt;dbl&gt; |\n",
       "|---|---|---|---|---|---|---|---|---|---|---|---|---|---|---|\n",
       "|  218 | 57 | 1 | 1 | 33 |  5 | 504 |  41 | 421 | 5.384495 | 6.222576 | 6.042633 | 1089 |  25 |   8.134921 |\n",
       "|  264 | 63 | 1 | 0 | 42 |  3 | 334 |  43 | 480 | 5.575949 | 5.811141 | 6.173786 | 1764 |   9 |  12.874250 |\n",
       "|  185 | 58 | 1 | 0 | 39 |  1 | 766 |  49 | 560 | 5.220356 | 6.641182 | 6.327937 | 1521 |   1 |   6.396867 |\n",
       "|  387 | 71 | 1 | 1 | 32 | 13 | 432 |  28 | 477 | 5.958425 | 6.068426 | 6.167517 | 1024 | 169 |   6.481482 |\n",
       "| 2220 | 63 | 1 | 1 | 18 | 18 | 277 | -80 | 540 | 7.705263 | 5.624018 | 6.291569 |  324 | 324 | -28.880870 |\n",
       "|  445 | 69 | 1 | 0 | 23 |  0 | 249 |  31 | 828 | 6.098074 | 5.517453 | 6.719013 |  529 |   0 |  12.449800 |\n",
       "\n"
      ],
      "text/plain": [
       "  ...1 ...2 ...3 ...4 ...5 ...6 ...7 ...8 ...9 ...10    ...11    ...12    ...13\n",
       "1  218 57   1    1    33    5   504   41  421  5.384495 6.222576 6.042633 1089 \n",
       "2  264 63   1    0    42    3   334   43  480  5.575949 5.811141 6.173786 1764 \n",
       "3  185 58   1    0    39    1   766   49  560  5.220356 6.641182 6.327937 1521 \n",
       "4  387 71   1    1    32   13   432   28  477  5.958425 6.068426 6.167517 1024 \n",
       "5 2220 63   1    1    18   18   277  -80  540  7.705263 5.624018 6.291569  324 \n",
       "6  445 69   1    0    23    0   249   31  828  6.098074 5.517453 6.719013  529 \n",
       "  ...14 ...15     \n",
       "1  25     8.134921\n",
       "2   9    12.874250\n",
       "3   1     6.396867\n",
       "4 169     6.481482\n",
       "5 324   -28.880870\n",
       "6   0    12.449800"
      ]
     },
     "metadata": {},
     "output_type": "display_data"
    }
   ],
   "source": [
    "tail(ceosal2)"
   ]
  },
  {
   "cell_type": "code",
   "execution_count": 104,
   "metadata": {},
   "outputs": [
    {
     "data": {
      "text/html": [
       "177"
      ],
      "text/latex": [
       "177"
      ],
      "text/markdown": [
       "177"
      ],
      "text/plain": [
       "[1] 177"
      ]
     },
     "metadata": {},
     "output_type": "display_data"
    }
   ],
   "source": [
    "ceosal2 = na.omit(ceosal2)\n",
    "nrow(ceosal2)"
   ]
  },
  {
   "cell_type": "code",
   "execution_count": 105,
   "metadata": {},
   "outputs": [],
   "source": [
    "colnames(ceosal2) = c(\"salary\", \"age\", \"college\", \"grad\", \"comten\", \"ceoten\", \"sales\", \"profits\", \"mktval\", \"lsalary\", \"lsales\", \"lmktval\", \"comtensq\", \"ceotensq\", \"profmarg\")"
   ]
  },
  {
   "cell_type": "code",
   "execution_count": 106,
   "metadata": {},
   "outputs": [
    {
     "data": {
      "text/html": [
       "<table>\n",
       "<caption>A tibble: 6 × 15</caption>\n",
       "<thead>\n",
       "\t<tr><th scope=col>salary</th><th scope=col>age</th><th scope=col>college</th><th scope=col>grad</th><th scope=col>comten</th><th scope=col>ceoten</th><th scope=col>sales</th><th scope=col>profits</th><th scope=col>mktval</th><th scope=col>lsalary</th><th scope=col>lsales</th><th scope=col>lmktval</th><th scope=col>comtensq</th><th scope=col>ceotensq</th><th scope=col>profmarg</th></tr>\n",
       "\t<tr><th scope=col>&lt;dbl&gt;</th><th scope=col>&lt;dbl&gt;</th><th scope=col>&lt;dbl&gt;</th><th scope=col>&lt;dbl&gt;</th><th scope=col>&lt;dbl&gt;</th><th scope=col>&lt;dbl&gt;</th><th scope=col>&lt;dbl&gt;</th><th scope=col>&lt;dbl&gt;</th><th scope=col>&lt;dbl&gt;</th><th scope=col>&lt;dbl&gt;</th><th scope=col>&lt;dbl&gt;</th><th scope=col>&lt;dbl&gt;</th><th scope=col>&lt;dbl&gt;</th><th scope=col>&lt;dbl&gt;</th><th scope=col>&lt;dbl&gt;</th></tr>\n",
       "</thead>\n",
       "<tbody>\n",
       "\t<tr><td> 218</td><td>57</td><td>1</td><td>1</td><td>33</td><td> 5</td><td>504</td><td> 41</td><td>421</td><td>5.384495</td><td>6.222576</td><td>6.042633</td><td>1089</td><td> 25</td><td>  8.134921</td></tr>\n",
       "\t<tr><td> 264</td><td>63</td><td>1</td><td>0</td><td>42</td><td> 3</td><td>334</td><td> 43</td><td>480</td><td>5.575949</td><td>5.811141</td><td>6.173786</td><td>1764</td><td>  9</td><td> 12.874250</td></tr>\n",
       "\t<tr><td> 185</td><td>58</td><td>1</td><td>0</td><td>39</td><td> 1</td><td>766</td><td> 49</td><td>560</td><td>5.220356</td><td>6.641182</td><td>6.327937</td><td>1521</td><td>  1</td><td>  6.396867</td></tr>\n",
       "\t<tr><td> 387</td><td>71</td><td>1</td><td>1</td><td>32</td><td>13</td><td>432</td><td> 28</td><td>477</td><td>5.958425</td><td>6.068426</td><td>6.167517</td><td>1024</td><td>169</td><td>  6.481482</td></tr>\n",
       "\t<tr><td>2220</td><td>63</td><td>1</td><td>1</td><td>18</td><td>18</td><td>277</td><td>-80</td><td>540</td><td>7.705263</td><td>5.624018</td><td>6.291569</td><td> 324</td><td>324</td><td>-28.880870</td></tr>\n",
       "\t<tr><td> 445</td><td>69</td><td>1</td><td>0</td><td>23</td><td> 0</td><td>249</td><td> 31</td><td>828</td><td>6.098074</td><td>5.517453</td><td>6.719013</td><td> 529</td><td>  0</td><td> 12.449800</td></tr>\n",
       "</tbody>\n",
       "</table>\n"
      ],
      "text/latex": [
       "A tibble: 6 × 15\n",
       "\\begin{tabular}{lllllllllllllll}\n",
       " salary & age & college & grad & comten & ceoten & sales & profits & mktval & lsalary & lsales & lmktval & comtensq & ceotensq & profmarg\\\\\n",
       " <dbl> & <dbl> & <dbl> & <dbl> & <dbl> & <dbl> & <dbl> & <dbl> & <dbl> & <dbl> & <dbl> & <dbl> & <dbl> & <dbl> & <dbl>\\\\\n",
       "\\hline\n",
       "\t  218 & 57 & 1 & 1 & 33 &  5 & 504 &  41 & 421 & 5.384495 & 6.222576 & 6.042633 & 1089 &  25 &   8.134921\\\\\n",
       "\t  264 & 63 & 1 & 0 & 42 &  3 & 334 &  43 & 480 & 5.575949 & 5.811141 & 6.173786 & 1764 &   9 &  12.874250\\\\\n",
       "\t  185 & 58 & 1 & 0 & 39 &  1 & 766 &  49 & 560 & 5.220356 & 6.641182 & 6.327937 & 1521 &   1 &   6.396867\\\\\n",
       "\t  387 & 71 & 1 & 1 & 32 & 13 & 432 &  28 & 477 & 5.958425 & 6.068426 & 6.167517 & 1024 & 169 &   6.481482\\\\\n",
       "\t 2220 & 63 & 1 & 1 & 18 & 18 & 277 & -80 & 540 & 7.705263 & 5.624018 & 6.291569 &  324 & 324 & -28.880870\\\\\n",
       "\t  445 & 69 & 1 & 0 & 23 &  0 & 249 &  31 & 828 & 6.098074 & 5.517453 & 6.719013 &  529 &   0 &  12.449800\\\\\n",
       "\\end{tabular}\n"
      ],
      "text/markdown": [
       "\n",
       "A tibble: 6 × 15\n",
       "\n",
       "| salary &lt;dbl&gt; | age &lt;dbl&gt; | college &lt;dbl&gt; | grad &lt;dbl&gt; | comten &lt;dbl&gt; | ceoten &lt;dbl&gt; | sales &lt;dbl&gt; | profits &lt;dbl&gt; | mktval &lt;dbl&gt; | lsalary &lt;dbl&gt; | lsales &lt;dbl&gt; | lmktval &lt;dbl&gt; | comtensq &lt;dbl&gt; | ceotensq &lt;dbl&gt; | profmarg &lt;dbl&gt; |\n",
       "|---|---|---|---|---|---|---|---|---|---|---|---|---|---|---|\n",
       "|  218 | 57 | 1 | 1 | 33 |  5 | 504 |  41 | 421 | 5.384495 | 6.222576 | 6.042633 | 1089 |  25 |   8.134921 |\n",
       "|  264 | 63 | 1 | 0 | 42 |  3 | 334 |  43 | 480 | 5.575949 | 5.811141 | 6.173786 | 1764 |   9 |  12.874250 |\n",
       "|  185 | 58 | 1 | 0 | 39 |  1 | 766 |  49 | 560 | 5.220356 | 6.641182 | 6.327937 | 1521 |   1 |   6.396867 |\n",
       "|  387 | 71 | 1 | 1 | 32 | 13 | 432 |  28 | 477 | 5.958425 | 6.068426 | 6.167517 | 1024 | 169 |   6.481482 |\n",
       "| 2220 | 63 | 1 | 1 | 18 | 18 | 277 | -80 | 540 | 7.705263 | 5.624018 | 6.291569 |  324 | 324 | -28.880870 |\n",
       "|  445 | 69 | 1 | 0 | 23 |  0 | 249 |  31 | 828 | 6.098074 | 5.517453 | 6.719013 |  529 |   0 |  12.449800 |\n",
       "\n"
      ],
      "text/plain": [
       "  salary age college grad comten ceoten sales profits mktval lsalary  lsales  \n",
       "1  218   57  1       1    33      5     504    41     421    5.384495 6.222576\n",
       "2  264   63  1       0    42      3     334    43     480    5.575949 5.811141\n",
       "3  185   58  1       0    39      1     766    49     560    5.220356 6.641182\n",
       "4  387   71  1       1    32     13     432    28     477    5.958425 6.068426\n",
       "5 2220   63  1       1    18     18     277   -80     540    7.705263 5.624018\n",
       "6  445   69  1       0    23      0     249    31     828    6.098074 5.517453\n",
       "  lmktval  comtensq ceotensq profmarg  \n",
       "1 6.042633 1089      25        8.134921\n",
       "2 6.173786 1764       9       12.874250\n",
       "3 6.327937 1521       1        6.396867\n",
       "4 6.167517 1024     169        6.481482\n",
       "5 6.291569  324     324      -28.880870\n",
       "6 6.719013  529       0       12.449800"
      ]
     },
     "metadata": {},
     "output_type": "display_data"
    }
   ],
   "source": [
    "tail(ceosal2)"
   ]
  },
  {
   "cell_type": "code",
   "execution_count": 108,
   "metadata": {
    "scrolled": false
   },
   "outputs": [
    {
     "data": {
      "text/plain": [
       "     salary           ceoten      \n",
       " Min.   : 100.0   Min.   : 0.000  \n",
       " 1st Qu.: 471.0   1st Qu.: 3.000  \n",
       " Median : 707.0   Median : 6.000  \n",
       " Mean   : 865.9   Mean   : 7.955  \n",
       " 3rd Qu.:1119.0   3rd Qu.:11.000  \n",
       " Max.   :5299.0   Max.   :37.000  "
      ]
     },
     "metadata": {},
     "output_type": "display_data"
    }
   ],
   "source": [
    "summary(ceosal2[c(\"salary\", \"ceoten\")])"
   ]
  },
  {
   "cell_type": "markdown",
   "metadata": {},
   "source": [
    "## 1.2 CEO 첫 해인(ceoten=0인) CEO는 몇 명인가? CEO로 일한 기간이 가장 긴 경우는 몇 년인가?\n",
    "\n",
    "\n",
    "**Answer**\n",
    "- ceoten=0인 CEO는 5명\n",
    "\n",
    "- CEO로 일한 기간이 가장 긴 경우는 37년\n",
    "\n",
    "**Solution**"
   ]
  },
  {
   "cell_type": "code",
   "execution_count": 91,
   "metadata": {},
   "outputs": [
    {
     "data": {
      "text/html": [
       "5"
      ],
      "text/latex": [
       "5"
      ],
      "text/markdown": [
       "5"
      ],
      "text/plain": [
       "[1] 5"
      ]
     },
     "metadata": {},
     "output_type": "display_data"
    }
   ],
   "source": [
    "nrow(subset(ceosal2, ceoten==0))"
   ]
  },
  {
   "cell_type": "code",
   "execution_count": 109,
   "metadata": {},
   "outputs": [
    {
     "data": {
      "text/plain": [
       "   Min. 1st Qu.  Median    Mean 3rd Qu.    Max. \n",
       "  0.000   3.000   6.000   7.955  11.000  37.000 "
      ]
     },
     "metadata": {},
     "output_type": "display_data"
    }
   ],
   "source": [
    "summary(ceosal2$ceoten)"
   ]
  },
  {
   "cell_type": "markdown",
   "metadata": {},
   "source": [
    "## 1.3  다음 회귀 모형을 추정하시오. coefficient estimates, standard errors and $R^2$를 리포트하시오. CEO로 1년을 더 일하면 급여가 몇 퍼센트 오르는가?\n",
    "\n",
    "<br>\n",
    "<br>\n",
    "\n",
    "<center> $log(salary) = \\beta_0+ \\beta_1ceoten + u$ </center>\n",
    "\n",
    "<br>\n"
   ]
  },
  {
   "cell_type": "markdown",
   "metadata": {},
   "source": [
    "**Answer**\n",
    "\n",
    "- Coefficient Estimate는 _ceoten_ 의 경우 0.009724, Intercept는 6.505498임\n",
    "- Standard errors는 _ceoten_ 은 0.006364, Intercept는 0.067991임\n",
    "- $R^2$는 0.01316\n",
    "- CEO로 1년을 더 일하면 급여는 약 1.32%가 오름\n",
    "\n",
    "**Solution**"
   ]
  },
  {
   "cell_type": "code",
   "execution_count": 112,
   "metadata": {},
   "outputs": [
    {
     "data": {
      "text/plain": [
       "\n",
       "Call:\n",
       "lm(formula = log(salary) ~ ceoten, data = ceosal2)\n",
       "\n",
       "Residuals:\n",
       "     Min       1Q   Median       3Q      Max \n",
       "-2.15314 -0.38319 -0.02251  0.44439  1.94337 \n",
       "\n",
       "Coefficients:\n",
       "            Estimate Std. Error t value Pr(>|t|)    \n",
       "(Intercept) 6.505498   0.067991  95.682   <2e-16 ***\n",
       "ceoten      0.009724   0.006364   1.528    0.128    \n",
       "---\n",
       "Signif. codes:  0 '***' 0.001 '**' 0.01 '*' 0.05 '.' 0.1 ' ' 1\n",
       "\n",
       "Residual standard error: 0.6038 on 175 degrees of freedom\n",
       "Multiple R-squared:  0.01316,\tAdjusted R-squared:  0.007523 \n",
       "F-statistic: 2.334 on 1 and 175 DF,  p-value: 0.1284\n"
      ]
     },
     "metadata": {},
     "output_type": "display_data"
    }
   ],
   "source": [
    "reg1 = lm(log(salary)~ceoten, data=ceosal2)\n",
    "summary(reg1)"
   ]
  },
  {
   "cell_type": "code",
   "execution_count": 99,
   "metadata": {
    "scrolled": false
   },
   "outputs": [
    {
     "data": {
      "image/png": "[encoded data removed]",
      "text/plain": [
       "plot without title"
      ]
     },
     "metadata": {
      "image/png": {
       "height": 420,
       "width": 420
      }
     },
     "output_type": "display_data"
    }
   ],
   "source": [
    "plot(log(salary)~ceoten, data=ceosal2)\n",
    "abline(reg1)"
   ]
  },
  {
   "cell_type": "markdown",
   "metadata": {},
   "source": [
    "# 2. 401k.xls"
   ]
  },
  {
   "cell_type": "markdown",
   "metadata": {},
   "source": [
    "- _prate_ 변수는 활성계좌를 가진 eligible worker의 비율(설명하려는 변수)\n",
    "- _mrate_ 변수는 플랜 매치율의 generosity(관대함). mrate가 0.5이면, 근로자가 1을 기여할 때 회사가 0.5를 기여함\n"
   ]
  },
  {
   "cell_type": "markdown",
   "metadata": {},
   "source": [
    "## 2.1 평균 prate와 평균 match rate를 구하시오\n",
    "\n",
    "**Answer**\n",
    "\n",
    "- prate의 평균: 87.36\n",
    "- mrate의 평균: 0.7315\n",
    "\n",
    "**Solution**"
   ]
  },
  {
   "cell_type": "code",
   "execution_count": 124,
   "metadata": {},
   "outputs": [
    {
     "name": "stderr",
     "output_type": "stream",
     "text": [
      "New names:\n",
      "* `` -> ...1\n",
      "* `` -> ...2\n",
      "* `` -> ...3\n",
      "* `` -> ...4\n",
      "* `` -> ...5\n",
      "* ...\n",
      "\n"
     ]
    }
   ],
   "source": [
    "datadir = getwd()\n",
    "library(readxl)\n",
    "data_401k = read_excel(file.path(datadir, \"401k.xls\"), col_names=FALSE)"
   ]
  },
  {
   "cell_type": "code",
   "execution_count": 125,
   "metadata": {},
   "outputs": [
    {
     "data": {
      "text/html": [
       "<table>\n",
       "<caption>A tibble: 6 × 8</caption>\n",
       "<thead>\n",
       "\t<tr><th scope=col>...1</th><th scope=col>...2</th><th scope=col>...3</th><th scope=col>...4</th><th scope=col>...5</th><th scope=col>...6</th><th scope=col>...7</th><th scope=col>...8</th></tr>\n",
       "\t<tr><th scope=col>&lt;dbl&gt;</th><th scope=col>&lt;dbl&gt;</th><th scope=col>&lt;dbl&gt;</th><th scope=col>&lt;dbl&gt;</th><th scope=col>&lt;dbl&gt;</th><th scope=col>&lt;dbl&gt;</th><th scope=col>&lt;dbl&gt;</th><th scope=col>&lt;dbl&gt;</th></tr>\n",
       "</thead>\n",
       "<tbody>\n",
       "\t<tr><td> 60.6</td><td>0.06</td><td> 829</td><td>1367</td><td> 7</td><td>1828</td><td>0</td><td>7.510978</td></tr>\n",
       "\t<tr><td> 85.1</td><td>0.33</td><td> 553</td><td> 650</td><td>24</td><td> 907</td><td>0</td><td>6.810143</td></tr>\n",
       "\t<tr><td>100.0</td><td>2.52</td><td> 142</td><td> 142</td><td>17</td><td> 197</td><td>1</td><td>5.283204</td></tr>\n",
       "\t<tr><td>100.0</td><td>2.27</td><td>1928</td><td>1928</td><td>35</td><td>2171</td><td>0</td><td>7.682943</td></tr>\n",
       "\t<tr><td>100.0</td><td>0.58</td><td> 166</td><td> 166</td><td> 8</td><td> 931</td><td>1</td><td>6.836259</td></tr>\n",
       "\t<tr><td>100.0</td><td>0.45</td><td>2179</td><td>2179</td><td>24</td><td>3187</td><td>0</td><td>8.066835</td></tr>\n",
       "</tbody>\n",
       "</table>\n"
      ],
      "text/latex": [
       "A tibble: 6 × 8\n",
       "\\begin{tabular}{llllllll}\n",
       " ...1 & ...2 & ...3 & ...4 & ...5 & ...6 & ...7 & ...8\\\\\n",
       " <dbl> & <dbl> & <dbl> & <dbl> & <dbl> & <dbl> & <dbl> & <dbl>\\\\\n",
       "\\hline\n",
       "\t  60.6 & 0.06 &  829 & 1367 &  7 & 1828 & 0 & 7.510978\\\\\n",
       "\t  85.1 & 0.33 &  553 &  650 & 24 &  907 & 0 & 6.810143\\\\\n",
       "\t 100.0 & 2.52 &  142 &  142 & 17 &  197 & 1 & 5.283204\\\\\n",
       "\t 100.0 & 2.27 & 1928 & 1928 & 35 & 2171 & 0 & 7.682943\\\\\n",
       "\t 100.0 & 0.58 &  166 &  166 &  8 &  931 & 1 & 6.836259\\\\\n",
       "\t 100.0 & 0.45 & 2179 & 2179 & 24 & 3187 & 0 & 8.066835\\\\\n",
       "\\end{tabular}\n"
      ],
      "text/markdown": [
       "\n",
       "A tibble: 6 × 8\n",
       "\n",
       "| ...1 &lt;dbl&gt; | ...2 &lt;dbl&gt; | ...3 &lt;dbl&gt; | ...4 &lt;dbl&gt; | ...5 &lt;dbl&gt; | ...6 &lt;dbl&gt; | ...7 &lt;dbl&gt; | ...8 &lt;dbl&gt; |\n",
       "|---|---|---|---|---|---|---|---|\n",
       "|  60.6 | 0.06 |  829 | 1367 |  7 | 1828 | 0 | 7.510978 |\n",
       "|  85.1 | 0.33 |  553 |  650 | 24 |  907 | 0 | 6.810143 |\n",
       "| 100.0 | 2.52 |  142 |  142 | 17 |  197 | 1 | 5.283204 |\n",
       "| 100.0 | 2.27 | 1928 | 1928 | 35 | 2171 | 0 | 7.682943 |\n",
       "| 100.0 | 0.58 |  166 |  166 |  8 |  931 | 1 | 6.836259 |\n",
       "| 100.0 | 0.45 | 2179 | 2179 | 24 | 3187 | 0 | 8.066835 |\n",
       "\n"
      ],
      "text/plain": [
       "  ...1  ...2 ...3 ...4 ...5 ...6 ...7 ...8    \n",
       "1  60.6 0.06  829 1367  7   1828 0    7.510978\n",
       "2  85.1 0.33  553  650 24    907 0    6.810143\n",
       "3 100.0 2.52  142  142 17    197 1    5.283204\n",
       "4 100.0 2.27 1928 1928 35   2171 0    7.682943\n",
       "5 100.0 0.58  166  166  8    931 1    6.836259\n",
       "6 100.0 0.45 2179 2179 24   3187 0    8.066835"
      ]
     },
     "metadata": {},
     "output_type": "display_data"
    }
   ],
   "source": [
    "tail(data_401k)"
   ]
  },
  {
   "cell_type": "code",
   "execution_count": 126,
   "metadata": {},
   "outputs": [],
   "source": [
    "colnames(data_401k) = c(\"prate\", \"mrate\", \"totpart\", \"totelg\", \"age\", \"totemp\", \"sole\", \"ltotemp\")"
   ]
  },
  {
   "cell_type": "code",
   "execution_count": 127,
   "metadata": {},
   "outputs": [
    {
     "data": {
      "text/html": [
       "<table>\n",
       "<caption>A tibble: 6 × 8</caption>\n",
       "<thead>\n",
       "\t<tr><th scope=col>prate</th><th scope=col>mrate</th><th scope=col>totpart</th><th scope=col>totelg</th><th scope=col>age</th><th scope=col>totemp</th><th scope=col>sole</th><th scope=col>ltotemp</th></tr>\n",
       "\t<tr><th scope=col>&lt;dbl&gt;</th><th scope=col>&lt;dbl&gt;</th><th scope=col>&lt;dbl&gt;</th><th scope=col>&lt;dbl&gt;</th><th scope=col>&lt;dbl&gt;</th><th scope=col>&lt;dbl&gt;</th><th scope=col>&lt;dbl&gt;</th><th scope=col>&lt;dbl&gt;</th></tr>\n",
       "</thead>\n",
       "<tbody>\n",
       "\t<tr><td> 60.6</td><td>0.06</td><td> 829</td><td>1367</td><td> 7</td><td>1828</td><td>0</td><td>7.510978</td></tr>\n",
       "\t<tr><td> 85.1</td><td>0.33</td><td> 553</td><td> 650</td><td>24</td><td> 907</td><td>0</td><td>6.810143</td></tr>\n",
       "\t<tr><td>100.0</td><td>2.52</td><td> 142</td><td> 142</td><td>17</td><td> 197</td><td>1</td><td>5.283204</td></tr>\n",
       "\t<tr><td>100.0</td><td>2.27</td><td>1928</td><td>1928</td><td>35</td><td>2171</td><td>0</td><td>7.682943</td></tr>\n",
       "\t<tr><td>100.0</td><td>0.58</td><td> 166</td><td> 166</td><td> 8</td><td> 931</td><td>1</td><td>6.836259</td></tr>\n",
       "\t<tr><td>100.0</td><td>0.45</td><td>2179</td><td>2179</td><td>24</td><td>3187</td><td>0</td><td>8.066835</td></tr>\n",
       "</tbody>\n",
       "</table>\n"
      ],
      "text/latex": [
       "A tibble: 6 × 8\n",
       "\\begin{tabular}{llllllll}\n",
       " prate & mrate & totpart & totelg & age & totemp & sole & ltotemp\\\\\n",
       " <dbl> & <dbl> & <dbl> & <dbl> & <dbl> & <dbl> & <dbl> & <dbl>\\\\\n",
       "\\hline\n",
       "\t  60.6 & 0.06 &  829 & 1367 &  7 & 1828 & 0 & 7.510978\\\\\n",
       "\t  85.1 & 0.33 &  553 &  650 & 24 &  907 & 0 & 6.810143\\\\\n",
       "\t 100.0 & 2.52 &  142 &  142 & 17 &  197 & 1 & 5.283204\\\\\n",
       "\t 100.0 & 2.27 & 1928 & 1928 & 35 & 2171 & 0 & 7.682943\\\\\n",
       "\t 100.0 & 0.58 &  166 &  166 &  8 &  931 & 1 & 6.836259\\\\\n",
       "\t 100.0 & 0.45 & 2179 & 2179 & 24 & 3187 & 0 & 8.066835\\\\\n",
       "\\end{tabular}\n"
      ],
      "text/markdown": [
       "\n",
       "A tibble: 6 × 8\n",
       "\n",
       "| prate &lt;dbl&gt; | mrate &lt;dbl&gt; | totpart &lt;dbl&gt; | totelg &lt;dbl&gt; | age &lt;dbl&gt; | totemp &lt;dbl&gt; | sole &lt;dbl&gt; | ltotemp &lt;dbl&gt; |\n",
       "|---|---|---|---|---|---|---|---|\n",
       "|  60.6 | 0.06 |  829 | 1367 |  7 | 1828 | 0 | 7.510978 |\n",
       "|  85.1 | 0.33 |  553 |  650 | 24 |  907 | 0 | 6.810143 |\n",
       "| 100.0 | 2.52 |  142 |  142 | 17 |  197 | 1 | 5.283204 |\n",
       "| 100.0 | 2.27 | 1928 | 1928 | 35 | 2171 | 0 | 7.682943 |\n",
       "| 100.0 | 0.58 |  166 |  166 |  8 |  931 | 1 | 6.836259 |\n",
       "| 100.0 | 0.45 | 2179 | 2179 | 24 | 3187 | 0 | 8.066835 |\n",
       "\n"
      ],
      "text/plain": [
       "  prate mrate totpart totelg age totemp sole ltotemp \n",
       "1  60.6 0.06   829    1367    7  1828   0    7.510978\n",
       "2  85.1 0.33   553     650   24   907   0    6.810143\n",
       "3 100.0 2.52   142     142   17   197   1    5.283204\n",
       "4 100.0 2.27  1928    1928   35  2171   0    7.682943\n",
       "5 100.0 0.58   166     166    8   931   1    6.836259\n",
       "6 100.0 0.45  2179    2179   24  3187   0    8.066835"
      ]
     },
     "metadata": {},
     "output_type": "display_data"
    }
   ],
   "source": [
    "tail(data_401k)"
   ]
  },
  {
   "cell_type": "code",
   "execution_count": 128,
   "metadata": {},
   "outputs": [
    {
     "data": {
      "text/html": [
       "1534"
      ],
      "text/latex": [
       "1534"
      ],
      "text/markdown": [
       "1534"
      ],
      "text/plain": [
       "[1] 1534"
      ]
     },
     "metadata": {},
     "output_type": "display_data"
    }
   ],
   "source": [
    "nrow(data_401k)"
   ]
  },
  {
   "cell_type": "code",
   "execution_count": 129,
   "metadata": {},
   "outputs": [
    {
     "data": {
      "text/html": [
       "1534"
      ],
      "text/latex": [
       "1534"
      ],
      "text/markdown": [
       "1534"
      ],
      "text/plain": [
       "[1] 1534"
      ]
     },
     "metadata": {},
     "output_type": "display_data"
    }
   ],
   "source": [
    "data_401k = na.omit(data_401k)\n",
    "nrow(data_401k)"
   ]
  },
  {
   "cell_type": "code",
   "execution_count": 130,
   "metadata": {},
   "outputs": [
    {
     "data": {
      "text/plain": [
       "     prate            mrate       \n",
       " Min.   :  3.00   Min.   :0.0100  \n",
       " 1st Qu.: 78.03   1st Qu.:0.3000  \n",
       " Median : 95.70   Median :0.4600  \n",
       " Mean   : 87.36   Mean   :0.7315  \n",
       " 3rd Qu.:100.00   3rd Qu.:0.8300  \n",
       " Max.   :100.00   Max.   :4.9100  "
      ]
     },
     "metadata": {},
     "output_type": "display_data"
    }
   ],
   "source": [
    "summary(data_401k[c(\"prate\", \"mrate\")])"
   ]
  },
  {
   "cell_type": "markdown",
   "metadata": {},
   "source": [
    "## 2.2 다음 회귀 모형을 추정하시오. coefficient estimates, standard errors and $R^2$를 리포트하시오. \n",
    "\n",
    "\n",
    "<br>\n",
    "<br>\n",
    "\n",
    "<center> $prate = \\beta_0+ \\beta_1mrate + u_i$ </center>\n",
    "<br>\n"
   ]
  },
  {
   "cell_type": "markdown",
   "metadata": {},
   "source": [
    "**Answer**\n",
    "\n",
    "- Coefficient Estimate는 _mrate_ 의 경우 5.8611, Intercept는 83.0755임\n",
    "- Standard errors는 _mrate_ 는 0.5270, Intercept는 0.5633임\n",
    "- $R^2$는 0.0747\n",
    "\n",
    "**Solution**"
   ]
  },
  {
   "cell_type": "code",
   "execution_count": 131,
   "metadata": {},
   "outputs": [
    {
     "data": {
      "text/plain": [
       "\n",
       "Call:\n",
       "lm(formula = prate ~ mrate, data = data_401k)\n",
       "\n",
       "Residuals:\n",
       "    Min      1Q  Median      3Q     Max \n",
       "-82.303  -8.184   5.178  12.712  16.807 \n",
       "\n",
       "Coefficients:\n",
       "            Estimate Std. Error t value Pr(>|t|)    \n",
       "(Intercept)  83.0755     0.5633  147.48   <2e-16 ***\n",
       "mrate         5.8611     0.5270   11.12   <2e-16 ***\n",
       "---\n",
       "Signif. codes:  0 '***' 0.001 '**' 0.01 '*' 0.05 '.' 0.1 ' ' 1\n",
       "\n",
       "Residual standard error: 16.09 on 1532 degrees of freedom\n",
       "Multiple R-squared:  0.0747,\tAdjusted R-squared:  0.0741 \n",
       "F-statistic: 123.7 on 1 and 1532 DF,  p-value: < 2.2e-16\n"
      ]
     },
     "metadata": {},
     "output_type": "display_data"
    }
   ],
   "source": [
    "reg2 = lm(prate~mrate, data=data_401k)\n",
    "summary(reg2)"
   ]
  },
  {
   "cell_type": "markdown",
   "metadata": {},
   "source": [
    "## 2.3 Intercetp와 mrate에 대한 coefficeint에 대한 해석"
   ]
  },
  {
   "cell_type": "markdown",
   "metadata": {},
   "source": [
    "**Answer**\n",
    "\n",
    "- $prate = 83.08 + 5.86mrate$ 에서 인터셉트인 83.08은 mrate가 0일 때 83.08가 됨을 의미한다. \n",
    "- mrate가 1 오를 때 prate가 약 5.86만큼 증가한다고 할 수 있다. \n",
    "- 다만 아래 그래프를 보면 mrate가 1 아래일 때 0에서 100사이에 넓게 분포하고 있다.\n",
    "- 또한 mrate가 아무리 높아져도 prate는 100을 넘을 수 없다.\n",
    "\n",
    "**Solution**"
   ]
  },
  {
   "cell_type": "code",
   "execution_count": 123,
   "metadata": {
    "scrolled": false
   },
   "outputs": [
    {
     "data": {
      "image/png": "[encoded data removed]",
      "text/plain": [
       "plot without title"
      ]
     },
     "metadata": {
      "image/png": {
       "height": 420,
       "width": 420
      }
     },
     "output_type": "display_data"
    }
   ],
   "source": [
    "plot(prate~mrate, data=data_401k)\n",
    "abline(reg2)"
   ]
  },
  {
   "cell_type": "markdown",
   "metadata": {},
   "source": [
    "## 2.4 $mrate=3.5$ 일 때 $prate$ 를 예측하라. 합리적인 예측인가? 어떤 일이 일어나고 있는지 설명하시오."
   ]
  },
  {
   "cell_type": "markdown",
   "metadata": {},
   "source": [
    "**Answer**\n",
    "\n",
    "- 위 식에서 mrate에 3.5를 대입하면 prate 값은 103.58935가 나온다.\n",
    "- prate가 최대치인 100을 넘게 추정했으므로 합리적인 예측이 아니다. 불가능한 상황이기 때문이다.\n",
    "- mrate가 3보다 크고 4보다 작은 경우만 두고 다시 선형회귀분석을 하면 회귀식은 $prate = 103.31 - 1.601mrate$이 나온다.\n",
    "- 이 식에서 mrate에 3.5를 대입하면 prate는 97.7이 나온다. \n",
    "- 100 이하로 가능한 숫자이긴 하지만 전체 데이터를 사용했을 경우와 비교해서 반대의 관계가 나오므로 역시 합리적인 예측이라고 할 수는 없어 보인다.\n",
    "\n",
    "**Solution**"
   ]
  },
  {
   "cell_type": "code",
   "execution_count": 132,
   "metadata": {},
   "outputs": [
    {
     "data": {
      "text/html": [
       "103.58935"
      ],
      "text/latex": [
       "103.58935"
      ],
      "text/markdown": [
       "103.58935"
      ],
      "text/plain": [
       "[1] 103.5894"
      ]
     },
     "metadata": {},
     "output_type": "display_data"
    }
   ],
   "source": [
    "prate_3.5 = 83.0755 + 5.8611 * 3.5\n",
    "prate_3.5"
   ]
  },
  {
   "cell_type": "code",
   "execution_count": 136,
   "metadata": {},
   "outputs": [
    {
     "data": {
      "text/plain": [
       "\n",
       "Call:\n",
       "lm(formula = prate ~ mrate, data = data_401k_sub)\n",
       "\n",
       "Residuals:\n",
       "    Min      1Q  Median      3Q     Max \n",
       "-18.726   1.646   2.071   2.579   3.064 \n",
       "\n",
       "Coefficients:\n",
       "            Estimate Std. Error t value Pr(>|t|)    \n",
       "(Intercept)  103.310     12.986   7.955 1.96e-08 ***\n",
       "mrate         -1.601      3.720  -0.431     0.67    \n",
       "---\n",
       "Signif. codes:  0 '***' 0.001 '**' 0.01 '*' 0.05 '.' 0.1 ' ' 1\n",
       "\n",
       "Residual standard error: 5.816 on 26 degrees of freedom\n",
       "Multiple R-squared:  0.007078,\tAdjusted R-squared:  -0.03111 \n",
       "F-statistic: 0.1853 on 1 and 26 DF,  p-value: 0.6704\n"
      ]
     },
     "metadata": {},
     "output_type": "display_data"
    }
   ],
   "source": [
    "data_401k_sub = subset(data_401k, mrate>3 & mrate<4)\n",
    "reg3 = lm(prate~mrate, data=data_401k_sub)\n",
    "summary(reg3)"
   ]
  },
  {
   "cell_type": "code",
   "execution_count": 84,
   "metadata": {},
   "outputs": [
    {
     "data": {
      "image/png": "[encoded data removed]",
      "text/plain": [
       "plot without title"
      ]
     },
     "metadata": {
      "image/png": {
       "height": 420,
       "width": 420
      }
     },
     "output_type": "display_data"
    }
   ],
   "source": [
    "plot(prate~mrate, data=data_401k_sub)\n",
    "abline(reg3)"
   ]
  },
  {
   "cell_type": "code",
   "execution_count": 135,
   "metadata": {},
   "outputs": [
    {
     "data": {
      "text/html": [
       "97.7065"
      ],
      "text/latex": [
       "97.7065"
      ],
      "text/markdown": [
       "97.7065"
      ],
      "text/plain": [
       "[1] 97.7065"
      ]
     },
     "metadata": {},
     "output_type": "display_data"
    }
   ],
   "source": [
    "prate_3.5 = 103.310 -1.601 * 3.5\n",
    "prate_3.5"
   ]
  },
  {
   "cell_type": "markdown",
   "metadata": {},
   "source": [
    "## 2.5 prate는 mrate에 의해 얼마나 설명이 되는가. 이것이 많은건지 의견을 말해보시오."
   ]
  },
  {
   "cell_type": "markdown",
   "metadata": {},
   "source": [
    "**Answer**\n",
    "\n",
    "- R-squred값이 0.0747이므로 mrate는 prate를 7.5% 가량 설명한다고 할 수 있다. 따라서 설명력이 높은 편은 아니다. \n",
    "- 다만 mrate가 아닌 다른 변수들(totpart, totelg, age, totemp, sole, ltotemp)과 prate와의 관계를 각각 살펴봤을 때 mrate는 갖고 있는 변수들 중에서는 그나마 가장 높은 설명력을 보인다.\n",
    "\n",
    "**Solution**"
   ]
  },
  {
   "cell_type": "code",
   "execution_count": 137,
   "metadata": {
    "scrolled": true
   },
   "outputs": [
    {
     "data": {
      "text/plain": [
       "\n",
       "Call:\n",
       "lm(formula = prate ~ mrate, data = data_401k)\n",
       "\n",
       "Residuals:\n",
       "    Min      1Q  Median      3Q     Max \n",
       "-82.303  -8.184   5.178  12.712  16.807 \n",
       "\n",
       "Coefficients:\n",
       "            Estimate Std. Error t value Pr(>|t|)    \n",
       "(Intercept)  83.0755     0.5633  147.48   <2e-16 ***\n",
       "mrate         5.8611     0.5270   11.12   <2e-16 ***\n",
       "---\n",
       "Signif. codes:  0 '***' 0.001 '**' 0.01 '*' 0.05 '.' 0.1 ' ' 1\n",
       "\n",
       "Residual standard error: 16.09 on 1532 degrees of freedom\n",
       "Multiple R-squared:  0.0747,\tAdjusted R-squared:  0.0741 \n",
       "F-statistic: 123.7 on 1 and 1532 DF,  p-value: < 2.2e-16\n"
      ]
     },
     "metadata": {},
     "output_type": "display_data"
    }
   ],
   "source": [
    "summary(reg2)"
   ]
  },
  {
   "cell_type": "code",
   "execution_count": 86,
   "metadata": {
    "scrolled": true
   },
   "outputs": [
    {
     "data": {
      "text/html": [
       "<style>\n",
       ".list-inline {list-style: none; margin:0; padding: 0}\n",
       ".list-inline>li {display: inline-block}\n",
       ".list-inline>li:not(:last-child)::after {content: \"\\00b7\"; padding: 0 .5ex}\n",
       "</style>\n",
       "<ol class=list-inline><li>'prate'</li><li>'mrate'</li><li>'totpart'</li><li>'totelg'</li><li>'age'</li><li>'totemp'</li><li>'sole'</li><li>'ltotemp'</li></ol>\n"
      ],
      "text/latex": [
       "\\begin{enumerate*}\n",
       "\\item 'prate'\n",
       "\\item 'mrate'\n",
       "\\item 'totpart'\n",
       "\\item 'totelg'\n",
       "\\item 'age'\n",
       "\\item 'totemp'\n",
       "\\item 'sole'\n",
       "\\item 'ltotemp'\n",
       "\\end{enumerate*}\n"
      ],
      "text/markdown": [
       "1. 'prate'\n",
       "2. 'mrate'\n",
       "3. 'totpart'\n",
       "4. 'totelg'\n",
       "5. 'age'\n",
       "6. 'totemp'\n",
       "7. 'sole'\n",
       "8. 'ltotemp'\n",
       "\n",
       "\n"
      ],
      "text/plain": [
       "[1] \"prate\"   \"mrate\"   \"totpart\" \"totelg\"  \"age\"     \"totemp\"  \"sole\"   \n",
       "[8] \"ltotemp\""
      ]
     },
     "metadata": {},
     "output_type": "display_data"
    }
   ],
   "source": [
    "names(data_401k)"
   ]
  },
  {
   "cell_type": "markdown",
   "metadata": {},
   "source": [
    "### totpart의 $R^2$ : 1.742e-05"
   ]
  },
  {
   "cell_type": "code",
   "execution_count": 138,
   "metadata": {
    "scrolled": true
   },
   "outputs": [
    {
     "data": {
      "text/plain": [
       "\n",
       "Call:\n",
       "lm(formula = prate ~ totpart, data = data_401k)\n",
       "\n",
       "Residuals:\n",
       "    Min      1Q  Median      3Q     Max \n",
       "-84.358  -9.332   8.280  12.653  12.657 \n",
       "\n",
       "Coefficients:\n",
       "             Estimate Std. Error t value Pr(>|t|)    \n",
       "(Intercept) 8.734e+01  4.448e-01 196.342   <2e-16 ***\n",
       "totpart     1.507e-05  9.226e-05   0.163     0.87    \n",
       "---\n",
       "Signif. codes:  0 '***' 0.001 '**' 0.01 '*' 0.05 '.' 0.1 ' ' 1\n",
       "\n",
       "Residual standard error: 16.72 on 1532 degrees of freedom\n",
       "Multiple R-squared:  1.742e-05,\tAdjusted R-squared:  -0.0006353 \n",
       "F-statistic: 0.02668 on 1 and 1532 DF,  p-value: 0.8703\n"
      ]
     },
     "metadata": {},
     "output_type": "display_data"
    }
   ],
   "source": [
    "reg_totpart = lm(prate~totpart, data=data_401k)\n",
    "summary(reg_totpart)"
   ]
  },
  {
   "cell_type": "markdown",
   "metadata": {},
   "source": [
    "### totelg의 $R^2$ : 0.005832"
   ]
  },
  {
   "cell_type": "code",
   "execution_count": 139,
   "metadata": {
    "scrolled": true
   },
   "outputs": [
    {
     "data": {
      "text/plain": [
       "\n",
       "Call:\n",
       "lm(formula = prate ~ totelg, data = data_401k)\n",
       "\n",
       "Residuals:\n",
       "    Min      1Q  Median      3Q     Max \n",
       "-78.569  -9.026   8.448  12.302  24.507 \n",
       "\n",
       "Coefficients:\n",
       "              Estimate Std. Error t value Pr(>|t|)    \n",
       "(Intercept)  8.775e+01  4.449e-01 197.256  < 2e-16 ***\n",
       "totelg      -2.377e-04  7.929e-05  -2.998  0.00276 ** \n",
       "---\n",
       "Signif. codes:  0 '***' 0.001 '**' 0.01 '*' 0.05 '.' 0.1 ' ' 1\n",
       "\n",
       "Residual standard error: 16.67 on 1532 degrees of freedom\n",
       "Multiple R-squared:  0.005832,\tAdjusted R-squared:  0.005183 \n",
       "F-statistic: 8.987 on 1 and 1532 DF,  p-value: 0.002762\n"
      ]
     },
     "metadata": {},
     "output_type": "display_data"
    }
   ],
   "source": [
    "reg_totelg = lm(prate~totelg, data=data_401k)\n",
    "summary(reg_totelg)"
   ]
  },
  {
   "cell_type": "markdown",
   "metadata": {},
   "source": [
    "### age의 $R^2$ : 0.02689"
   ]
  },
  {
   "cell_type": "code",
   "execution_count": 140,
   "metadata": {
    "scrolled": true
   },
   "outputs": [
    {
     "data": {
      "text/plain": [
       "\n",
       "Call:\n",
       "lm(formula = prate ~ age, data = data_401k)\n",
       "\n",
       "Residuals:\n",
       "    Min      1Q  Median      3Q     Max \n",
       "-82.814  -8.998   6.448  13.289  15.082 \n",
       "\n",
       "Coefficients:\n",
       "            Estimate Std. Error t value Pr(>|t|)    \n",
       "(Intercept) 83.42314    0.73759 113.102  < 2e-16 ***\n",
       "age          0.29889    0.04594   6.506 1.04e-10 ***\n",
       "---\n",
       "Signif. codes:  0 '***' 0.001 '**' 0.01 '*' 0.05 '.' 0.1 ' ' 1\n",
       "\n",
       "Residual standard error: 16.5 on 1532 degrees of freedom\n",
       "Multiple R-squared:  0.02689,\tAdjusted R-squared:  0.02625 \n",
       "F-statistic: 42.33 on 1 and 1532 DF,  p-value: 1.04e-10\n"
      ]
     },
     "metadata": {},
     "output_type": "display_data"
    }
   ],
   "source": [
    "reg_age = lm(prate~age, data=data_401k)\n",
    "summary(reg_age)"
   ]
  },
  {
   "cell_type": "markdown",
   "metadata": {},
   "source": [
    "### totemp의 $R^2$ : 0.004773"
   ]
  },
  {
   "cell_type": "code",
   "execution_count": 141,
   "metadata": {
    "scrolled": true
   },
   "outputs": [
    {
     "data": {
      "text/plain": [
       "\n",
       "Call:\n",
       "lm(formula = prate ~ totemp, data = data_401k)\n",
       "\n",
       "Residuals:\n",
       "    Min      1Q  Median      3Q     Max \n",
       "-78.702  -8.978   8.325  12.304  26.706 \n",
       "\n",
       "Coefficients:\n",
       "              Estimate Std. Error t value Pr(>|t|)    \n",
       "(Intercept)  8.773e+01  4.470e-01 196.255  < 2e-16 ***\n",
       "totemp      -1.031e-04  3.804e-05  -2.711  0.00679 ** \n",
       "---\n",
       "Signif. codes:  0 '***' 0.001 '**' 0.01 '*' 0.05 '.' 0.1 ' ' 1\n",
       "\n",
       "Residual standard error: 16.68 on 1532 degrees of freedom\n",
       "Multiple R-squared:  0.004773,\tAdjusted R-squared:  0.004123 \n",
       "F-statistic: 7.347 on 1 and 1532 DF,  p-value: 0.006791\n"
      ]
     },
     "metadata": {},
     "output_type": "display_data"
    }
   ],
   "source": [
    "reg_totemp = lm(prate~totemp, data=data_401k)\n",
    "summary(reg_totemp)"
   ]
  },
  {
   "cell_type": "markdown",
   "metadata": {},
   "source": [
    "### sole의 $R^2$ : 0.02506"
   ]
  },
  {
   "cell_type": "code",
   "execution_count": 142,
   "metadata": {
    "scrolled": true
   },
   "outputs": [
    {
     "data": {
      "text/plain": [
       "\n",
       "Call:\n",
       "lm(formula = prate ~ sole, data = data_401k)\n",
       "\n",
       "Residuals:\n",
       "    Min      1Q  Median      3Q     Max \n",
       "-81.782  -8.282   8.872   9.925  15.218 \n",
       "\n",
       "Coefficients:\n",
       "            Estimate Std. Error t value Pr(>|t|)    \n",
       "(Intercept)  84.7821     0.5889 143.959  < 2e-16 ***\n",
       "sole          5.2928     0.8434   6.276 4.52e-10 ***\n",
       "---\n",
       "Signif. codes:  0 '***' 0.001 '**' 0.01 '*' 0.05 '.' 0.1 ' ' 1\n",
       "\n",
       "Residual standard error: 16.51 on 1532 degrees of freedom\n",
       "Multiple R-squared:  0.02506,\tAdjusted R-squared:  0.02443 \n",
       "F-statistic: 39.38 on 1 and 1532 DF,  p-value: 4.522e-10\n"
      ]
     },
     "metadata": {},
     "output_type": "display_data"
    }
   ],
   "source": [
    "reg_sole = lm(prate~sole, data=data_401k)\n",
    "summary(reg_sole)"
   ]
  },
  {
   "cell_type": "markdown",
   "metadata": {},
   "source": [
    "### ltotemp의 $R^2$ : 0.04994"
   ]
  },
  {
   "cell_type": "code",
   "execution_count": 143,
   "metadata": {
    "scrolled": true
   },
   "outputs": [
    {
     "data": {
      "text/plain": [
       "\n",
       "Call:\n",
       "lm(formula = prate ~ ltotemp, data = data_401k)\n",
       "\n",
       "Residuals:\n",
       "    Min      1Q  Median      3Q     Max \n",
       "-75.949  -8.743   7.703  10.903  25.988 \n",
       "\n",
       "Coefficients:\n",
       "            Estimate Std. Error t value Pr(>|t|)    \n",
       "(Intercept) 104.5479     1.9598  53.347   <2e-16 ***\n",
       "ltotemp      -2.5703     0.2864  -8.974   <2e-16 ***\n",
       "---\n",
       "Signif. codes:  0 '***' 0.001 '**' 0.01 '*' 0.05 '.' 0.1 ' ' 1\n",
       "\n",
       "Residual standard error: 16.3 on 1532 degrees of freedom\n",
       "Multiple R-squared:  0.04994,\tAdjusted R-squared:  0.04932 \n",
       "F-statistic: 80.53 on 1 and 1532 DF,  p-value: < 2.2e-16\n"
      ]
     },
     "metadata": {},
     "output_type": "display_data"
    }
   ],
   "source": [
    "reg_ltotemp = lm(prate~ltotemp, data=data_401k)\n",
    "summary(reg_ltotemp)"
   ]
  },
  {
   "cell_type": "markdown",
   "metadata": {},
   "source": [
    "# 3. Given "
   ]
  },
  {
   "cell_type": "markdown",
   "metadata": {},
   "source": [
    "    y_i = b + b1x1 + ui\n",
    "    b1의 OLS 에스티메이트가 바이어스되어 있지 않거나 잇츠 variance를 포함하고 있지 않다는걸 증명하라\n",
    "    가정은 스스로 특정하라\n",
    "    각 단계에서 필요한 classical linear model assumption이 무엇인지 명확히 할 것\n"
   ]
  },
  {
   "cell_type": "markdown",
   "metadata": {},
   "source": [
    "![증명](./q3.jpg)"
   ]
  }
 ],
 "metadata": {
  "kernelspec": {
   "display_name": "R",
   "language": "R",
   "name": "ir"
  },
  "language_info": {
   "codemirror_mode": "r",
   "file_extension": ".r",
   "mimetype": "text/x-r-source",
   "name": "R",
   "pygments_lexer": "r",
   "version": "3.6.3"
  }
 },
 "nbformat": 4,
 "nbformat_minor": 2
}
