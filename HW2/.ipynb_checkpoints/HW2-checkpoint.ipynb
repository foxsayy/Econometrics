{
 "cells": [
  {
   "cell_type": "markdown",
   "metadata": {},
   "source": [
    "# 퀀트 입문 과제 2\n",
    "\n",
    "- 제출일: 2020-05-09\n",
    "- 학번: 2020711455 \n",
    "- 이름: 노승환"
   ]
  },
  {
   "cell_type": "markdown",
   "metadata": {},
   "source": [
    "# 1. 401KSUBS\n",
    "\n",
    "-  The data set 401KSUBS.xls contains information on net financial wealth ( nettfa ), age of the survey respondent, annual family income ( inc ), family size ( fsize ), and information on participation in certain pension plans for people in the United States. The wealth and income variables are both recorded in thousands of dollars. For this question, use only the data for married people without children living at home ( marr =1, fsize =2). "
   ]
  },
  {
   "cell_type": "markdown",
   "metadata": {},
   "source": [
    "## (1) How many married couples without children at home are in the data set?\n",
    "\n",
    "**Answer**\n",
    "\n",
    "- 1494\n",
    "\n",
    "**Solution**"
   ]
  },
  {
   "cell_type": "code",
   "execution_count": 2,
   "metadata": {
    "scrolled": true
   },
   "outputs": [
    {
     "name": "stderr",
     "output_type": "stream",
     "text": [
      "New names:\n",
      "* `` -> ...1\n",
      "* `` -> ...2\n",
      "* `` -> ...3\n",
      "* `` -> ...4\n",
      "* `` -> ...5\n",
      "* ...\n",
      "\n"
     ]
    }
   ],
   "source": [
    "datadir = getwd()\n",
    "library(readxl)\n",
    "data = read_excel(file.path(datadir, \"401ksubs.xls\"), col_names=FALSE)"
   ]
  },
  {
   "cell_type": "code",
   "execution_count": 3,
   "metadata": {},
   "outputs": [
    {
     "data": {
      "text/html": [
       "9275"
      ],
      "text/latex": [
       "9275"
      ],
      "text/markdown": [
       "9275"
      ],
      "text/plain": [
       "[1] 9275"
      ]
     },
     "metadata": {},
     "output_type": "display_data"
    }
   ],
   "source": [
    "nrow(data)"
   ]
  },
  {
   "cell_type": "code",
   "execution_count": 4,
   "metadata": {},
   "outputs": [
    {
     "data": {
      "text/html": [
       "<table>\n",
       "<caption>A tibble: 6 × 11</caption>\n",
       "<thead>\n",
       "\t<tr><th scope=col>...1</th><th scope=col>...2</th><th scope=col>...3</th><th scope=col>...4</th><th scope=col>...5</th><th scope=col>...6</th><th scope=col>...7</th><th scope=col>...8</th><th scope=col>...9</th><th scope=col>...10</th><th scope=col>...11</th></tr>\n",
       "\t<tr><th scope=col>&lt;dbl&gt;</th><th scope=col>&lt;dbl&gt;</th><th scope=col>&lt;dbl&gt;</th><th scope=col>&lt;dbl&gt;</th><th scope=col>&lt;dbl&gt;</th><th scope=col>&lt;dbl&gt;</th><th scope=col>&lt;dbl&gt;</th><th scope=col>&lt;dbl&gt;</th><th scope=col>&lt;dbl&gt;</th><th scope=col>&lt;dbl&gt;</th><th scope=col>&lt;dbl&gt;</th></tr>\n",
       "</thead>\n",
       "<tbody>\n",
       "\t<tr><td>0</td><td>23.940</td><td>1</td><td>1</td><td>29</td><td>3</td><td>  0.35</td><td>0</td><td>0</td><td> 573.1236</td><td> 841</td></tr>\n",
       "\t<tr><td>0</td><td>58.428</td><td>1</td><td>0</td><td>33</td><td>4</td><td> -1.20</td><td>0</td><td>0</td><td>3413.8310</td><td>1089</td></tr>\n",
       "\t<tr><td>0</td><td>24.546</td><td>0</td><td>1</td><td>37</td><td>3</td><td>  2.00</td><td>0</td><td>0</td><td> 602.5061</td><td>1369</td></tr>\n",
       "\t<tr><td>0</td><td>38.550</td><td>1</td><td>0</td><td>33</td><td>3</td><td>-13.60</td><td>0</td><td>1</td><td>1486.1020</td><td>1089</td></tr>\n",
       "\t<tr><td>0</td><td>34.410</td><td>1</td><td>0</td><td>57</td><td>3</td><td>  3.55</td><td>0</td><td>0</td><td>1184.0480</td><td>3249</td></tr>\n",
       "\t<tr><td>0</td><td>25.608</td><td>0</td><td>1</td><td>49</td><td>1</td><td>  1.80</td><td>0</td><td>0</td><td> 655.7697</td><td>2401</td></tr>\n",
       "</tbody>\n",
       "</table>\n"
      ],
      "text/latex": [
       "A tibble: 6 × 11\n",
       "\\begin{tabular}{lllllllllll}\n",
       " ...1 & ...2 & ...3 & ...4 & ...5 & ...6 & ...7 & ...8 & ...9 & ...10 & ...11\\\\\n",
       " <dbl> & <dbl> & <dbl> & <dbl> & <dbl> & <dbl> & <dbl> & <dbl> & <dbl> & <dbl> & <dbl>\\\\\n",
       "\\hline\n",
       "\t 0 & 23.940 & 1 & 1 & 29 & 3 &   0.35 & 0 & 0 &  573.1236 &  841\\\\\n",
       "\t 0 & 58.428 & 1 & 0 & 33 & 4 &  -1.20 & 0 & 0 & 3413.8310 & 1089\\\\\n",
       "\t 0 & 24.546 & 0 & 1 & 37 & 3 &   2.00 & 0 & 0 &  602.5061 & 1369\\\\\n",
       "\t 0 & 38.550 & 1 & 0 & 33 & 3 & -13.60 & 0 & 1 & 1486.1020 & 1089\\\\\n",
       "\t 0 & 34.410 & 1 & 0 & 57 & 3 &   3.55 & 0 & 0 & 1184.0480 & 3249\\\\\n",
       "\t 0 & 25.608 & 0 & 1 & 49 & 1 &   1.80 & 0 & 0 &  655.7697 & 2401\\\\\n",
       "\\end{tabular}\n"
      ],
      "text/markdown": [
       "\n",
       "A tibble: 6 × 11\n",
       "\n",
       "| ...1 &lt;dbl&gt; | ...2 &lt;dbl&gt; | ...3 &lt;dbl&gt; | ...4 &lt;dbl&gt; | ...5 &lt;dbl&gt; | ...6 &lt;dbl&gt; | ...7 &lt;dbl&gt; | ...8 &lt;dbl&gt; | ...9 &lt;dbl&gt; | ...10 &lt;dbl&gt; | ...11 &lt;dbl&gt; |\n",
       "|---|---|---|---|---|---|---|---|---|---|---|\n",
       "| 0 | 23.940 | 1 | 1 | 29 | 3 |   0.35 | 0 | 0 |  573.1236 |  841 |\n",
       "| 0 | 58.428 | 1 | 0 | 33 | 4 |  -1.20 | 0 | 0 | 3413.8310 | 1089 |\n",
       "| 0 | 24.546 | 0 | 1 | 37 | 3 |   2.00 | 0 | 0 |  602.5061 | 1369 |\n",
       "| 0 | 38.550 | 1 | 0 | 33 | 3 | -13.60 | 0 | 1 | 1486.1020 | 1089 |\n",
       "| 0 | 34.410 | 1 | 0 | 57 | 3 |   3.55 | 0 | 0 | 1184.0480 | 3249 |\n",
       "| 0 | 25.608 | 0 | 1 | 49 | 1 |   1.80 | 0 | 0 |  655.7697 | 2401 |\n",
       "\n"
      ],
      "text/plain": [
       "  ...1 ...2   ...3 ...4 ...5 ...6 ...7   ...8 ...9 ...10     ...11\n",
       "1 0    23.940 1    1    29   3      0.35 0    0     573.1236  841 \n",
       "2 0    58.428 1    0    33   4     -1.20 0    0    3413.8310 1089 \n",
       "3 0    24.546 0    1    37   3      2.00 0    0     602.5061 1369 \n",
       "4 0    38.550 1    0    33   3    -13.60 0    1    1486.1020 1089 \n",
       "5 0    34.410 1    0    57   3      3.55 0    0    1184.0480 3249 \n",
       "6 0    25.608 0    1    49   1      1.80 0    0     655.7697 2401 "
      ]
     },
     "metadata": {},
     "output_type": "display_data"
    }
   ],
   "source": [
    "tail(data)"
   ]
  },
  {
   "cell_type": "code",
   "execution_count": 5,
   "metadata": {},
   "outputs": [
    {
     "data": {
      "text/html": [
       "9275"
      ],
      "text/latex": [
       "9275"
      ],
      "text/markdown": [
       "9275"
      ],
      "text/plain": [
       "[1] 9275"
      ]
     },
     "metadata": {},
     "output_type": "display_data"
    }
   ],
   "source": [
    "data = na.omit(data)\n",
    "nrow(data)"
   ]
  },
  {
   "cell_type": "code",
   "execution_count": 6,
   "metadata": {},
   "outputs": [],
   "source": [
    "colnames(data) = c(\"e401k\", \"inc\", \"marr\", \"male\", \"age\", \"fsize\", \"nettfa\", \"p401k\", \"pira\", \"incsq\", \"agesq\")"
   ]
  },
  {
   "cell_type": "code",
   "execution_count": 7,
   "metadata": {},
   "outputs": [
    {
     "data": {
      "text/html": [
       "<table>\n",
       "<caption>A tibble: 6 × 11</caption>\n",
       "<thead>\n",
       "\t<tr><th scope=col>e401k</th><th scope=col>inc</th><th scope=col>marr</th><th scope=col>male</th><th scope=col>age</th><th scope=col>fsize</th><th scope=col>nettfa</th><th scope=col>p401k</th><th scope=col>pira</th><th scope=col>incsq</th><th scope=col>agesq</th></tr>\n",
       "\t<tr><th scope=col>&lt;dbl&gt;</th><th scope=col>&lt;dbl&gt;</th><th scope=col>&lt;dbl&gt;</th><th scope=col>&lt;dbl&gt;</th><th scope=col>&lt;dbl&gt;</th><th scope=col>&lt;dbl&gt;</th><th scope=col>&lt;dbl&gt;</th><th scope=col>&lt;dbl&gt;</th><th scope=col>&lt;dbl&gt;</th><th scope=col>&lt;dbl&gt;</th><th scope=col>&lt;dbl&gt;</th></tr>\n",
       "</thead>\n",
       "<tbody>\n",
       "\t<tr><td>0</td><td>23.940</td><td>1</td><td>1</td><td>29</td><td>3</td><td>  0.35</td><td>0</td><td>0</td><td> 573.1236</td><td> 841</td></tr>\n",
       "\t<tr><td>0</td><td>58.428</td><td>1</td><td>0</td><td>33</td><td>4</td><td> -1.20</td><td>0</td><td>0</td><td>3413.8310</td><td>1089</td></tr>\n",
       "\t<tr><td>0</td><td>24.546</td><td>0</td><td>1</td><td>37</td><td>3</td><td>  2.00</td><td>0</td><td>0</td><td> 602.5061</td><td>1369</td></tr>\n",
       "\t<tr><td>0</td><td>38.550</td><td>1</td><td>0</td><td>33</td><td>3</td><td>-13.60</td><td>0</td><td>1</td><td>1486.1020</td><td>1089</td></tr>\n",
       "\t<tr><td>0</td><td>34.410</td><td>1</td><td>0</td><td>57</td><td>3</td><td>  3.55</td><td>0</td><td>0</td><td>1184.0480</td><td>3249</td></tr>\n",
       "\t<tr><td>0</td><td>25.608</td><td>0</td><td>1</td><td>49</td><td>1</td><td>  1.80</td><td>0</td><td>0</td><td> 655.7697</td><td>2401</td></tr>\n",
       "</tbody>\n",
       "</table>\n"
      ],
      "text/latex": [
       "A tibble: 6 × 11\n",
       "\\begin{tabular}{lllllllllll}\n",
       " e401k & inc & marr & male & age & fsize & nettfa & p401k & pira & incsq & agesq\\\\\n",
       " <dbl> & <dbl> & <dbl> & <dbl> & <dbl> & <dbl> & <dbl> & <dbl> & <dbl> & <dbl> & <dbl>\\\\\n",
       "\\hline\n",
       "\t 0 & 23.940 & 1 & 1 & 29 & 3 &   0.35 & 0 & 0 &  573.1236 &  841\\\\\n",
       "\t 0 & 58.428 & 1 & 0 & 33 & 4 &  -1.20 & 0 & 0 & 3413.8310 & 1089\\\\\n",
       "\t 0 & 24.546 & 0 & 1 & 37 & 3 &   2.00 & 0 & 0 &  602.5061 & 1369\\\\\n",
       "\t 0 & 38.550 & 1 & 0 & 33 & 3 & -13.60 & 0 & 1 & 1486.1020 & 1089\\\\\n",
       "\t 0 & 34.410 & 1 & 0 & 57 & 3 &   3.55 & 0 & 0 & 1184.0480 & 3249\\\\\n",
       "\t 0 & 25.608 & 0 & 1 & 49 & 1 &   1.80 & 0 & 0 &  655.7697 & 2401\\\\\n",
       "\\end{tabular}\n"
      ],
      "text/markdown": [
       "\n",
       "A tibble: 6 × 11\n",
       "\n",
       "| e401k &lt;dbl&gt; | inc &lt;dbl&gt; | marr &lt;dbl&gt; | male &lt;dbl&gt; | age &lt;dbl&gt; | fsize &lt;dbl&gt; | nettfa &lt;dbl&gt; | p401k &lt;dbl&gt; | pira &lt;dbl&gt; | incsq &lt;dbl&gt; | agesq &lt;dbl&gt; |\n",
       "|---|---|---|---|---|---|---|---|---|---|---|\n",
       "| 0 | 23.940 | 1 | 1 | 29 | 3 |   0.35 | 0 | 0 |  573.1236 |  841 |\n",
       "| 0 | 58.428 | 1 | 0 | 33 | 4 |  -1.20 | 0 | 0 | 3413.8310 | 1089 |\n",
       "| 0 | 24.546 | 0 | 1 | 37 | 3 |   2.00 | 0 | 0 |  602.5061 | 1369 |\n",
       "| 0 | 38.550 | 1 | 0 | 33 | 3 | -13.60 | 0 | 1 | 1486.1020 | 1089 |\n",
       "| 0 | 34.410 | 1 | 0 | 57 | 3 |   3.55 | 0 | 0 | 1184.0480 | 3249 |\n",
       "| 0 | 25.608 | 0 | 1 | 49 | 1 |   1.80 | 0 | 0 |  655.7697 | 2401 |\n",
       "\n"
      ],
      "text/plain": [
       "  e401k inc    marr male age fsize nettfa p401k pira incsq     agesq\n",
       "1 0     23.940 1    1    29  3       0.35 0     0     573.1236  841 \n",
       "2 0     58.428 1    0    33  4      -1.20 0     0    3413.8310 1089 \n",
       "3 0     24.546 0    1    37  3       2.00 0     0     602.5061 1369 \n",
       "4 0     38.550 1    0    33  3     -13.60 0     1    1486.1020 1089 \n",
       "5 0     34.410 1    0    57  3       3.55 0     0    1184.0480 3249 \n",
       "6 0     25.608 0    1    49  1       1.80 0     0     655.7697 2401 "
      ]
     },
     "metadata": {},
     "output_type": "display_data"
    }
   ],
   "source": [
    "tail(data)"
   ]
  },
  {
   "cell_type": "code",
   "execution_count": 8,
   "metadata": {},
   "outputs": [],
   "source": [
    "data1 = subset(data, marr==1 & fsize==2)"
   ]
  },
  {
   "cell_type": "code",
   "execution_count": 9,
   "metadata": {},
   "outputs": [
    {
     "data": {
      "text/html": [
       "1494"
      ],
      "text/latex": [
       "1494"
      ],
      "text/markdown": [
       "1494"
      ],
      "text/plain": [
       "[1] 1494"
      ]
     },
     "metadata": {},
     "output_type": "display_data"
    }
   ],
   "source": [
    "nrow(data1)"
   ]
  },
  {
   "cell_type": "markdown",
   "metadata": {},
   "source": [
    "## (2) Use OLS to estimate the model and report the coefficient estimates and $R^2$. Interpret the slope coefficients. Are there any surprises in the slope estimates?\n",
    "\n",
    "\n",
    "**Answer**\n",
    "\n",
    "- Estimate\n",
    "    - Intercept : -104.40455\n",
    "    - inc       : 1.30783\n",
    "    - age       : 1.66470\n",
    "    \n",
    "- $R^2$ : 0.2021 (20.2%)\n",
    "- Income이 1000달러 증가시 nettfa는 1300달러 증가하고, Age가 1 증가 시 nettfa는 1660달러 증가할 것으로 추정된다. \n",
    "\n",
    "- 수입이 증가할 수록, 나이가 많아질수록 nettfa가 증가하는 것은 직관과 일치한다. \n",
    "\n",
    "**Solution**"
   ]
  },
  {
   "cell_type": "code",
   "execution_count": 10,
   "metadata": {},
   "outputs": [
    {
     "data": {
      "text/plain": [
       "\n",
       "Call:\n",
       "lm(formula = nettfa ~ inc + age, data = data1)\n",
       "\n",
       "Residuals:\n",
       "    Min      1Q  Median      3Q     Max \n",
       "-522.35  -29.51   -7.92   15.43 1445.80 \n",
       "\n",
       "Coefficients:\n",
       "              Estimate Std. Error t value Pr(>|t|)    \n",
       "(Intercept) -104.40455    8.85054 -11.796   <2e-16 ***\n",
       "inc            1.30783    0.07714  16.954   <2e-16 ***\n",
       "age            1.66470    0.16843   9.884   <2e-16 ***\n",
       "---\n",
       "Signif. codes:  0 '***' 0.001 '**' 0.01 '*' 0.05 '.' 0.1 ' ' 1\n",
       "\n",
       "Residual standard error: 81.73 on 1491 degrees of freedom\n",
       "Multiple R-squared:  0.2021,\tAdjusted R-squared:  0.201 \n",
       "F-statistic: 188.8 on 2 and 1491 DF,  p-value: < 2.2e-16\n"
      ]
     },
     "metadata": {},
     "output_type": "display_data"
    }
   ],
   "source": [
    "reg_data1 = lm(nettfa~inc+age, data=data1)\n",
    "summary(reg_data1)"
   ]
  },
  {
   "cell_type": "code",
   "execution_count": 11,
   "metadata": {},
   "outputs": [
    {
     "data": {
      "image/png": "[encoded data removed]",
      "text/plain": [
       "plot without title"
      ]
     },
     "metadata": {
      "image/png": {
       "height": 420,
       "width": 420
      }
     },
     "output_type": "display_data"
    }
   ],
   "source": [
    "plot(nettfa~inc, data=data1)\n",
    "abline(lm(nettfa~inc, data=data1))"
   ]
  },
  {
   "cell_type": "code",
   "execution_count": 12,
   "metadata": {},
   "outputs": [
    {
     "data": {
      "image/png": "[encoded data removed]",
      "text/plain": [
       "plot without title"
      ]
     },
     "metadata": {
      "image/png": {
       "height": 420,
       "width": 420
      }
     },
     "output_type": "display_data"
    }
   ],
   "source": [
    "plot(nettfa~age, data=data1)\n",
    "abline(lm(nettfa~age, data=data1))"
   ]
  },
  {
   "cell_type": "markdown",
   "metadata": {},
   "source": [
    "## (3) Is _age_ statistically significant? Obtain the 95% confidence interval of $𝛽_2$. \n",
    "\n",
    "**Answer**\n",
    "\n",
    "- Age는 유의 확률이 < 2e-16 으로 매우 작다. 95% confidence interval에서 _age_는 통계적으로 유의하다. \n",
    "\n",
    "**Solution**"
   ]
  },
  {
   "cell_type": "code",
   "execution_count": 13,
   "metadata": {},
   "outputs": [
    {
     "data": {
      "text/plain": [
       "\n",
       "Call:\n",
       "lm(formula = nettfa ~ inc + age, data = data1)\n",
       "\n",
       "Residuals:\n",
       "    Min      1Q  Median      3Q     Max \n",
       "-522.35  -29.51   -7.92   15.43 1445.80 \n",
       "\n",
       "Coefficients:\n",
       "              Estimate Std. Error t value Pr(>|t|)    \n",
       "(Intercept) -104.40455    8.85054 -11.796   <2e-16 ***\n",
       "inc            1.30783    0.07714  16.954   <2e-16 ***\n",
       "age            1.66470    0.16843   9.884   <2e-16 ***\n",
       "---\n",
       "Signif. codes:  0 '***' 0.001 '**' 0.01 '*' 0.05 '.' 0.1 ' ' 1\n",
       "\n",
       "Residual standard error: 81.73 on 1491 degrees of freedom\n",
       "Multiple R-squared:  0.2021,\tAdjusted R-squared:  0.201 \n",
       "F-statistic: 188.8 on 2 and 1491 DF,  p-value: < 2.2e-16\n"
      ]
     },
     "metadata": {},
     "output_type": "display_data"
    }
   ],
   "source": [
    "summary(reg_data1)"
   ]
  },
  {
   "cell_type": "markdown",
   "metadata": {},
   "source": [
    "## (4) Does the intercept from the regression in part (2) have an interesting meaning? Explain "
   ]
  },
  {
   "cell_type": "markdown",
   "metadata": {},
   "source": [
    "- inc와 age가 둘 다 0인 경우 nettfa는 -$1040이다. 0살 신생아에 대한 결과라 nettfa와 inc/age의 관계를 살펴봄에 있어서 큰 의미는 없는 결과이다. 다만 굳이 의미를 부여하자면 사람이 처음 태어났을 때 보호자에게 부여되는 경제적 부담과 연관지어 생각해 볼 수 있다. 이런 부담에도 불구하고 낳아주신 부모님께 감사한 마음을 갖고 예비 부모는 미래 아기를 낳게 될 경우 지게 될 부담을 미리 대비해야 한다고 의미를 찾아볼 수 있다."
   ]
  },
  {
   "cell_type": "markdown",
   "metadata": {},
   "source": [
    "## (5) Find the p-value for the test H0: 𝛽2 = 1 against H1: 𝛽2 ≠ 1. Do you reject the null hypothesis at the 1% significant level? (양측 검정)"
   ]
  },
  {
   "cell_type": "markdown",
   "metadata": {},
   "source": [
    "**Answer**\n",
    "\n",
    "- t값인 3.946은 임계값인 2.579보다 크므로 귀무가설을 기각한다\n",
    "- p값인 8.30100616635576e-05은 0.01보다 작으므로 귀무가설을 기각한다\n",
    "\n",
    "**Solution**"
   ]
  },
  {
   "cell_type": "code",
   "execution_count": 14,
   "metadata": {},
   "outputs": [
    {
     "data": {
      "text/plain": [
       "\n",
       "Call:\n",
       "lm(formula = nettfa ~ inc + age, data = data1)\n",
       "\n",
       "Residuals:\n",
       "    Min      1Q  Median      3Q     Max \n",
       "-522.35  -29.51   -7.92   15.43 1445.80 \n",
       "\n",
       "Coefficients:\n",
       "              Estimate Std. Error t value Pr(>|t|)    \n",
       "(Intercept) -104.40455    8.85054 -11.796   <2e-16 ***\n",
       "inc            1.30783    0.07714  16.954   <2e-16 ***\n",
       "age            1.66470    0.16843   9.884   <2e-16 ***\n",
       "---\n",
       "Signif. codes:  0 '***' 0.001 '**' 0.01 '*' 0.05 '.' 0.1 ' ' 1\n",
       "\n",
       "Residual standard error: 81.73 on 1491 degrees of freedom\n",
       "Multiple R-squared:  0.2021,\tAdjusted R-squared:  0.201 \n",
       "F-statistic: 188.8 on 2 and 1491 DF,  p-value: < 2.2e-16\n"
      ]
     },
     "metadata": {},
     "output_type": "display_data"
    }
   ],
   "source": [
    "summary(reg_data1)"
   ]
  },
  {
   "cell_type": "code",
   "execution_count": 21,
   "metadata": {},
   "outputs": [
    {
     "data": {
      "text/html": [
       "3.94644659502464"
      ],
      "text/latex": [
       "3.94644659502464"
      ],
      "text/markdown": [
       "3.94644659502464"
      ],
      "text/plain": [
       "[1] 3.946447"
      ]
     },
     "metadata": {},
     "output_type": "display_data"
    }
   ],
   "source": [
    "# t값\n",
    "t_stat = (1.66470-1)/0.16843\n",
    "t_stat"
   ]
  },
  {
   "cell_type": "code",
   "execution_count": 22,
   "metadata": {},
   "outputs": [
    {
     "data": {
      "text/html": [
       "2.57913076462122"
      ],
      "text/latex": [
       "2.57913076462122"
      ],
      "text/markdown": [
       "2.57913076462122"
      ],
      "text/plain": [
       "[1] 2.579131"
      ]
     },
     "metadata": {},
     "output_type": "display_data"
    }
   ],
   "source": [
    "# 양쪽 꼬리 임계값\n",
    "qt(.995, reg_data1$df.residual)"
   ]
  },
  {
   "cell_type": "code",
   "execution_count": 23,
   "metadata": {},
   "outputs": [
    {
     "data": {
      "text/html": [
       "8.30100616635576e-05"
      ],
      "text/latex": [
       "8.30100616635576e-05"
      ],
      "text/markdown": [
       "8.30100616635576e-05"
      ],
      "text/plain": [
       "[1] 8.301006e-05"
      ]
     },
     "metadata": {},
     "output_type": "display_data"
    }
   ],
   "source": [
    "# p값\n",
    "2*(1-pt(t_stat, (1494-1-2)))"
   ]
  },
  {
   "cell_type": "markdown",
   "metadata": {},
   "source": [
    "## (6) Find the p-value for the test H0: 𝛽2 = 1 against H1: 𝛽2 > 1. Do you reject the null hypothesis at the 1% significant level? (단측 검정-우측 검정)"
   ]
  },
  {
   "cell_type": "markdown",
   "metadata": {},
   "source": [
    "**Answer**\n",
    "\n",
    "- 1% 단방향 검정용 임계값은 2% 양방향 검정용 임계값과 동일하다 \n",
    "- t값인 3.946은 임계값인 2.329보다 크므로 귀무가설을 기각한다\n",
    "- (5) 경우에서의 p값의 절반인 4.15050308317788e-05 값도 0.01보다 작으므로 귀무가설을 기각한다\n",
    "\n",
    "**Solution**"
   ]
  },
  {
   "cell_type": "code",
   "execution_count": 30,
   "metadata": {},
   "outputs": [
    {
     "data": {
      "text/html": [
       "3.94644659502464"
      ],
      "text/latex": [
       "3.94644659502464"
      ],
      "text/markdown": [
       "3.94644659502464"
      ],
      "text/plain": [
       "[1] 3.946447"
      ]
     },
     "metadata": {},
     "output_type": "display_data"
    }
   ],
   "source": [
    "# t값\n",
    "t_stat = (1.66470-1)/0.16843\n",
    "t_stat"
   ]
  },
  {
   "cell_type": "code",
   "execution_count": 31,
   "metadata": {},
   "outputs": [
    {
     "data": {
      "text/html": [
       "2.32885150479166"
      ],
      "text/latex": [
       "2.32885150479166"
      ],
      "text/markdown": [
       "2.32885150479166"
      ],
      "text/plain": [
       "[1] 2.328852"
      ]
     },
     "metadata": {},
     "output_type": "display_data"
    }
   ],
   "source": [
    "# 임계값\n",
    "qt(.99, reg_data1$df.residual)"
   ]
  },
  {
   "cell_type": "code",
   "execution_count": 33,
   "metadata": {},
   "outputs": [
    {
     "data": {
      "text/html": [
       "4.15050308317788e-05"
      ],
      "text/latex": [
       "4.15050308317788e-05"
      ],
      "text/markdown": [
       "4.15050308317788e-05"
      ],
      "text/plain": [
       "[1] 4.150503e-05"
      ]
     },
     "metadata": {},
     "output_type": "display_data"
    }
   ],
   "source": [
    "# p값의 절반\n",
    "(1-pt(t_stat, (1494-1-2)))"
   ]
  }
 ],
 "metadata": {
  "kernelspec": {
   "display_name": "R",
   "language": "R",
   "name": "ir"
  },
  "language_info": {
   "codemirror_mode": "r",
   "file_extension": ".r",
   "mimetype": "text/x-r-source",
   "name": "R",
   "pygments_lexer": "r",
   "version": "3.6.3"
  }
 },
 "nbformat": 4,
 "nbformat_minor": 2
}
