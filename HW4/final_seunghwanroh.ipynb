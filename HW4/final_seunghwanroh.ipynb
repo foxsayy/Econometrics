{
 "cells": [
  {
   "cell_type": "markdown",
   "metadata": {},
   "source": [
    "**퀀트입문_QAE5001_01(한희준 교수님) 기말고사 답안지** \n",
    "\n",
    "**퀀트응용경제학과 2020711455 노승환**"
   ]
  },
  {
   "cell_type": "markdown",
   "metadata": {},
   "source": [
    "## 1. gpa1"
   ]
  },
  {
   "cell_type": "code",
   "execution_count": 1,
   "metadata": {},
   "outputs": [],
   "source": [
    "setwd(getwd())\n",
    "gpa = read.csv(\"gpa1.csv\")\n",
    "n = nrow(gpa)\n",
    "colGPA = gpa[,1]\n",
    "hsGPA = gpa[,2] \n",
    "ACT = gpa[,3]\n",
    "skipped = gpa[,4]\n",
    "PC = gpa[,5]"
   ]
  },
  {
   "cell_type": "markdown",
   "metadata": {},
   "source": [
    "### 1. (a)"
   ]
  },
  {
   "cell_type": "code",
   "execution_count": 9,
   "metadata": {},
   "outputs": [
    {
     "data": {
      "text/plain": [
       "\n",
       "Call:\n",
       "lm(formula = colGPA ~ hsGPA + ACT + skipped + PC, data = gpa)\n",
       "\n",
       "Residuals:\n",
       "     Min       1Q   Median       3Q      Max \n",
       "-0.84006 -0.20392 -0.03352  0.25346  0.74558 \n",
       "\n",
       "Coefficients:\n",
       "            Estimate Std. Error t value Pr(>|t|)    \n",
       "(Intercept)  1.35651    0.32750   4.142 6.01e-05 ***\n",
       "hsGPA        0.41295    0.09243   4.468 1.65e-05 ***\n",
       "ACT          0.01334    0.01044   1.278  0.20353    \n",
       "skipped     -0.07103    0.02625  -2.706  0.00768 ** \n",
       "PC           0.12444    0.05731   2.171  0.03165 *  \n",
       "---\n",
       "Signif. codes:  0 '***' 0.001 '**' 0.01 '*' 0.05 '.' 0.1 ' ' 1\n",
       "\n",
       "Residual standard error: 0.3251 on 136 degrees of freedom\n",
       "Multiple R-squared:  0.2593,\tAdjusted R-squared:  0.2375 \n",
       "F-statistic:  11.9 on 4 and 136 DF,  p-value: 2.553e-08\n"
      ]
     },
     "metadata": {},
     "output_type": "display_data"
    }
   ],
   "source": [
    "ols_gpa = lm(colGPA~hsGPA+ACT+skipped+PC, data=gpa)\n",
    "summary(ols_gpa)"
   ]
  },
  {
   "cell_type": "code",
   "execution_count": null,
   "metadata": {},
   "outputs": [],
   "source": [
    "install.packages(\"lmtest\")\n",
    "library(lmtest)\n",
    "install.packages(\"sandwich\")\n",
    "library(sandwich)"
   ]
  },
  {
   "cell_type": "markdown",
   "metadata": {},
   "source": [
    "### 1. (b)\n",
    "BP = 11.874, df = 4, p-value = 0.01831\n",
    "\n",
    "5% 유의 수준에서 heteroskedasticity가 없습니다. "
   ]
  },
  {
   "cell_type": "code",
   "execution_count": null,
   "metadata": {},
   "outputs": [],
   "source": [
    "bptest(ols_gpa,~hsGPA+ACT+skipped+PC, data=gpa)\n",
    "\n",
    "# \tstudentized Breusch-Pagan test\n",
    "\n",
    "# data:  ols_gpa\n",
    "# BP = 11.874, df = 4, p-value = 0.01831"
   ]
  },
  {
   "cell_type": "markdown",
   "metadata": {},
   "source": [
    "### 1. (c) \n",
    "skipped에서 다른 결과가 나옵니다. 위 모델에서는 1% 수준에서 유의하나, 아래 모델에서는 유의하지 않습니다. "
   ]
  },
  {
   "cell_type": "code",
   "execution_count": null,
   "metadata": {},
   "outputs": [],
   "source": [
    "coeftest(ols_gpa,vcov=vcovHC)\n",
    "\n",
    "# t test of coefficients:\n",
    "\n",
    "#              Estimate Std. Error t value  Pr(>|t|)    \n",
    "# (Intercept)  1.356509   0.354856  3.8227 0.0002002 ***\n",
    "# hsGPA        0.412952   0.101716  4.0599 8.245e-05 ***\n",
    "# ACT          0.013344   0.011170  1.1947 0.2342927    \n",
    "# skipped     -0.071034   0.027746 -2.5601 0.0115561 *  \n",
    "# PC           0.124439   0.061455  2.0249 0.0448373 *  \n",
    "# ---\n",
    "# Signif. codes:  0 ‘***’ 0.001 ‘**’ 0.01 ‘*’ 0.05 ‘.’ 0.1 ‘ ’ 1"
   ]
  },
  {
   "cell_type": "markdown",
   "metadata": {},
   "source": [
    "### 1. (d)\n",
    "GLS 추정 결과 'skipped' 변수는 앞의 두 모델과 달리 0.1% 수준에서도 유의한 결과를 보입니다. "
   ]
  },
  {
   "cell_type": "code",
   "execution_count": null,
   "metadata": {},
   "outputs": [],
   "source": [
    "#FGLS\n",
    "uhat = resid(ols_gpa)\n",
    "ols_gpa2 = lm(I(log(uhat^2))~hsGPA+ACT+skipped+PC, data=gpa)\n",
    "h = exp(fitted(ols_gpa2))\n",
    "fgls = lm(colGPA~hsGPA+ACT+skipped+PC,weight=1/h,data=gpa)\n",
    "coeftest(fgls)"
   ]
  },
  {
   "cell_type": "code",
   "execution_count": null,
   "metadata": {},
   "outputs": [],
   "source": [
    "# t test of coefficients:\n",
    "\n",
    "#               Estimate Std. Error t value  Pr(>|t|)    \n",
    "# (Intercept)  1.4543628  0.2871743  5.0644 1.308e-06 ***\n",
    "# hsGPA        0.3695039  0.0765414  4.8275 3.665e-06 ***\n",
    "# ACT          0.0160975  0.0093637  1.7191   0.08786 .  \n",
    "# skipped     -0.0858032  0.0213179 -4.0249 9.418e-05 ***\n",
    "# PC           0.1249909  0.0602113  2.0759   0.03979 *  \n",
    "# ---\n",
    "# Signif. codes:  0 ‘***’ 0.001 ‘**’ 0.01 ‘*’ 0.05 ‘.’ 0.1 ‘ ’ 1"
   ]
  },
  {
   "cell_type": "markdown",
   "metadata": {},
   "source": [
    "## 2. fertil3final"
   ]
  },
  {
   "cell_type": "code",
   "execution_count": 22,
   "metadata": {},
   "outputs": [],
   "source": [
    "fertil = read.csv(\"fertil3final.csv\")\n",
    "n = nrow(fertil)\n",
    "cgfr = fertil[,1]\n",
    "cpe = fertil[,2]\n",
    "cpe1 = fertil[,3]\n",
    "cpe22 = fertil[,4]"
   ]
  },
  {
   "cell_type": "markdown",
   "metadata": {},
   "source": [
    "### 2. (a)"
   ]
  },
  {
   "cell_type": "code",
   "execution_count": 24,
   "metadata": {},
   "outputs": [
    {
     "data": {
      "text/plain": [
       "\n",
       "Call:\n",
       "lm(formula = cgfr ~ cpe + cpe1 + cpe2, data = fertil)\n",
       "\n",
       "Residuals:\n",
       "    Min      1Q  Median      3Q     Max \n",
       "-9.8444 -2.2746 -0.1852  1.8364 11.4310 \n",
       "\n",
       "Coefficients:\n",
       "            Estimate Std. Error t value Pr(>|t|)    \n",
       "(Intercept) -0.94610    0.48880  -1.936 0.057488 .  \n",
       "cpe         -0.03555    0.02763  -1.287 0.202982    \n",
       "cpe1        -0.01437    0.02844  -0.505 0.615179    \n",
       "cpe2         0.11002    0.02753   3.996 0.000174 ***\n",
       "---\n",
       "Signif. codes:  0 '***' 0.001 '**' 0.01 '*' 0.05 '.' 0.1 ' ' 1\n",
       "\n",
       "Residual standard error: 3.95 on 62 degrees of freedom\n",
       "Multiple R-squared:  0.2314,\tAdjusted R-squared:  0.1942 \n",
       "F-statistic: 6.222 on 3 and 62 DF,  p-value: 0.0009193\n"
      ]
     },
     "metadata": {},
     "output_type": "display_data"
    }
   ],
   "source": [
    "ols_f = lm(cgfr~cpe+cpe1+cpe2, data=fertil)\n",
    "summary(ols_f)"
   ]
  },
  {
   "cell_type": "markdown",
   "metadata": {},
   "source": [
    "### 2. (b)\n",
    "LM test = 5.7319, df = 1, p-value = 0.01666\n",
    "\n",
    "Serial correlation이 있다고 볼 수 있다."
   ]
  },
  {
   "cell_type": "code",
   "execution_count": null,
   "metadata": {},
   "outputs": [],
   "source": [
    "bgtest(ols_f)"
   ]
  },
  {
   "cell_type": "code",
   "execution_count": null,
   "metadata": {},
   "outputs": [],
   "source": [
    "# Breusch-Godfrey test for serial correlation of order up to\n",
    "# \t1\n",
    "\n",
    "# data:  ols_f\n",
    "# LM test = 5.7319, df = 1, p-value = 0.01666"
   ]
  },
  {
   "cell_type": "markdown",
   "metadata": {},
   "source": [
    "### 2. (c)\n",
    "5% 유의 수준에서 큰 차이는 없다. "
   ]
  },
  {
   "cell_type": "code",
   "execution_count": null,
   "metadata": {},
   "outputs": [],
   "source": [
    "coeftest(ols_f,vcov=vcovHAC)"
   ]
  },
  {
   "cell_type": "code",
   "execution_count": null,
   "metadata": {},
   "outputs": [],
   "source": [
    "# t test of coefficients:\n",
    "\n",
    "#              Estimate Std. Error t value  Pr(>|t|)    \n",
    "# (Intercept) -0.946099   0.601976 -1.5717    0.1211    \n",
    "# cpe         -0.035547   0.039565 -0.8985    0.3724    \n",
    "# cpe1        -0.014370   0.039282 -0.3658    0.7157    \n",
    "# cpe2         0.110017   0.024313  4.5250 2.792e-05 ***\n",
    "# ---\n",
    "# Signif. codes:  0 ‘***’ 0.001 ‘**’ 0.01 ‘*’ 0.05 ‘.’ 0.1 ‘ ’ 1"
   ]
  },
  {
   "cell_type": "markdown",
   "metadata": {},
   "source": [
    "### 2. (d)\n",
    "\n",
    "\n"
   ]
  },
  {
   "cell_type": "code",
   "execution_count": null,
   "metadata": {},
   "outputs": [],
   "source": []
  },
  {
   "cell_type": "code",
   "execution_count": null,
   "metadata": {},
   "outputs": [],
   "source": []
  },
  {
   "cell_type": "code",
   "execution_count": null,
   "metadata": {},
   "outputs": [],
   "source": []
  },
  {
   "cell_type": "code",
   "execution_count": null,
   "metadata": {},
   "outputs": [],
   "source": []
  },
  {
   "cell_type": "code",
   "execution_count": null,
   "metadata": {},
   "outputs": [],
   "source": []
  },
  {
   "cell_type": "markdown",
   "metadata": {},
   "source": [
    "## 3. wagefinal"
   ]
  },
  {
   "cell_type": "code",
   "execution_count": null,
   "metadata": {},
   "outputs": [],
   "source": []
  },
  {
   "cell_type": "code",
   "execution_count": null,
   "metadata": {},
   "outputs": [],
   "source": []
  },
  {
   "cell_type": "code",
   "execution_count": null,
   "metadata": {},
   "outputs": [],
   "source": []
  },
  {
   "cell_type": "code",
   "execution_count": null,
   "metadata": {},
   "outputs": [],
   "source": []
  },
  {
   "cell_type": "markdown",
   "metadata": {},
   "source": [
    "## 4. Linear model. there is no perfect collinearity and the zero conditional mean assumption for the error term hodls.\n",
    "- Breusch_Godfrey test"
   ]
  },
  {
   "cell_type": "code",
   "execution_count": null,
   "metadata": {},
   "outputs": [],
   "source": []
  },
  {
   "cell_type": "code",
   "execution_count": null,
   "metadata": {},
   "outputs": [],
   "source": []
  },
  {
   "cell_type": "code",
   "execution_count": null,
   "metadata": {},
   "outputs": [],
   "source": []
  },
  {
   "cell_type": "code",
   "execution_count": null,
   "metadata": {},
   "outputs": [],
   "source": []
  },
  {
   "cell_type": "markdown",
   "metadata": {},
   "source": [
    "## 5. Linear model\n",
    "- Newe-West HAC estimator"
   ]
  },
  {
   "cell_type": "code",
   "execution_count": null,
   "metadata": {},
   "outputs": [],
   "source": []
  },
  {
   "cell_type": "code",
   "execution_count": null,
   "metadata": {},
   "outputs": [],
   "source": []
  },
  {
   "cell_type": "code",
   "execution_count": null,
   "metadata": {},
   "outputs": [],
   "source": []
  },
  {
   "cell_type": "code",
   "execution_count": null,
   "metadata": {},
   "outputs": [],
   "source": []
  },
  {
   "cell_type": "markdown",
   "metadata": {},
   "source": [
    "## 6. Assumptions\n",
    "\n",
    "five classical linear model assumptions을 쓰시오\n",
    "2번 가정이 안 맞으면 어떤 문제?\n",
    "5번 가정이 안 맞으면 어떤 문제? 해결 방안은?\n",
    "4번 가정이 안맞으면 어떤 문제? 해결 방안은?\n",
    "3번 가정이 안 맞으면 어떤 문제? 해결 방안은?"
   ]
  },
  {
   "cell_type": "code",
   "execution_count": null,
   "metadata": {},
   "outputs": [],
   "source": []
  },
  {
   "cell_type": "code",
   "execution_count": null,
   "metadata": {},
   "outputs": [],
   "source": []
  },
  {
   "cell_type": "code",
   "execution_count": null,
   "metadata": {},
   "outputs": [],
   "source": []
  },
  {
   "cell_type": "code",
   "execution_count": null,
   "metadata": {},
   "outputs": [],
   "source": []
  }
 ],
 "metadata": {
  "kernelspec": {
   "display_name": "R",
   "language": "R",
   "name": "ir"
  },
  "language_info": {
   "codemirror_mode": "r",
   "file_extension": ".r",
   "mimetype": "text/x-r-source",
   "name": "R",
   "pygments_lexer": "r",
   "version": "3.6.3"
  }
 },
 "nbformat": 4,
 "nbformat_minor": 4
}
