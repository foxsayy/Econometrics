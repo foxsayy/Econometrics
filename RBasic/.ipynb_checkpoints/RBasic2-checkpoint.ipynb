{
 "cells": [
  {
   "cell_type": "markdown",
   "metadata": {},
   "source": [
    "# R Basic 2"
   ]
  },
  {
   "cell_type": "markdown",
   "metadata": {},
   "source": [
    "## 2.1 데이터 형태"
   ]
  },
  {
   "cell_type": "code",
   "execution_count": 2,
   "metadata": {},
   "outputs": [
    {
     "data": {
      "text/html": [
       "'numeric'"
      ],
      "text/latex": [
       "'numeric'"
      ],
      "text/markdown": [
       "'numeric'"
      ],
      "text/plain": [
       "[1] \"numeric\""
      ]
     },
     "metadata": {},
     "output_type": "display_data"
    },
    {
     "data": {
      "text/html": [
       "'logical'"
      ],
      "text/latex": [
       "'logical'"
      ],
      "text/markdown": [
       "'logical'"
      ],
      "text/plain": [
       "[1] \"logical\""
      ]
     },
     "metadata": {},
     "output_type": "display_data"
    },
    {
     "data": {
      "text/html": [
       "'logical'"
      ],
      "text/latex": [
       "'logical'"
      ],
      "text/markdown": [
       "'logical'"
      ],
      "text/plain": [
       "[1] \"logical\""
      ]
     },
     "metadata": {},
     "output_type": "display_data"
    },
    {
     "data": {
      "text/html": [
       "'character'"
      ],
      "text/latex": [
       "'character'"
      ],
      "text/markdown": [
       "'character'"
      ],
      "text/plain": [
       "[1] \"character\""
      ]
     },
     "metadata": {},
     "output_type": "display_data"
    },
    {
     "data": {
      "text/html": [
       "'complex'"
      ],
      "text/latex": [
       "'complex'"
      ],
      "text/markdown": [
       "'complex'"
      ],
      "text/plain": [
       "[1] \"complex\""
      ]
     },
     "metadata": {},
     "output_type": "display_data"
    }
   ],
   "source": [
    "mode(3)\n",
    "mode(3>4)\n",
    "mode(TRUE)\n",
    "mode(\"데이터\")\n",
    "mode(3+2i)"
   ]
  },
  {
   "cell_type": "markdown",
   "metadata": {},
   "source": [
    "## 2.2 데이터 유형 검증"
   ]
  },
  {
   "cell_type": "code",
   "execution_count": 6,
   "metadata": {},
   "outputs": [
    {
     "data": {
      "text/html": [
       "TRUE"
      ],
      "text/latex": [
       "TRUE"
      ],
      "text/markdown": [
       "TRUE"
      ],
      "text/plain": [
       "[1] TRUE"
      ]
     },
     "metadata": {},
     "output_type": "display_data"
    }
   ],
   "source": [
    "is.numeric(3.3)"
   ]
  },
  {
   "cell_type": "code",
   "execution_count": 7,
   "metadata": {},
   "outputs": [
    {
     "data": {
      "text/html": [
       "TRUE"
      ],
      "text/latex": [
       "TRUE"
      ],
      "text/markdown": [
       "TRUE"
      ],
      "text/plain": [
       "[1] TRUE"
      ]
     },
     "metadata": {},
     "output_type": "display_data"
    }
   ],
   "source": [
    "is.double(3.2) # 실수형 여부"
   ]
  },
  {
   "cell_type": "code",
   "execution_count": 8,
   "metadata": {},
   "outputs": [
    {
     "data": {
      "text/html": [
       "FALSE"
      ],
      "text/latex": [
       "FALSE"
      ],
      "text/markdown": [
       "FALSE"
      ],
      "text/plain": [
       "[1] FALSE"
      ]
     },
     "metadata": {},
     "output_type": "display_data"
    }
   ],
   "source": [
    "is.integer(2.2) # 정수형 여부"
   ]
  },
  {
   "cell_type": "code",
   "execution_count": 9,
   "metadata": {},
   "outputs": [
    {
     "data": {
      "text/html": [
       "FALSE"
      ],
      "text/latex": [
       "FALSE"
      ],
      "text/markdown": [
       "FALSE"
      ],
      "text/plain": [
       "[1] FALSE"
      ]
     },
     "metadata": {},
     "output_type": "display_data"
    }
   ],
   "source": [
    "is.integer(1)"
   ]
  },
  {
   "cell_type": "code",
   "execution_count": 10,
   "metadata": {},
   "outputs": [
    {
     "data": {
      "text/html": [
       "TRUE"
      ],
      "text/latex": [
       "TRUE"
      ],
      "text/markdown": [
       "TRUE"
      ],
      "text/plain": [
       "[1] TRUE"
      ]
     },
     "metadata": {},
     "output_type": "display_data"
    }
   ],
   "source": [
    "is.integer(1L)"
   ]
  },
  {
   "cell_type": "code",
   "execution_count": 11,
   "metadata": {},
   "outputs": [
    {
     "data": {
      "text/html": [
       "TRUE"
      ],
      "text/latex": [
       "TRUE"
      ],
      "text/markdown": [
       "TRUE"
      ],
      "text/plain": [
       "[1] TRUE"
      ]
     },
     "metadata": {},
     "output_type": "display_data"
    }
   ],
   "source": [
    "is.integer(as.integer(1))"
   ]
  },
  {
   "cell_type": "code",
   "execution_count": 13,
   "metadata": {},
   "outputs": [
    {
     "data": {
      "text/html": [
       "TRUE"
      ],
      "text/latex": [
       "TRUE"
      ],
      "text/markdown": [
       "TRUE"
      ],
      "text/plain": [
       "[1] TRUE"
      ]
     },
     "metadata": {},
     "output_type": "display_data"
    }
   ],
   "source": [
    "is.logical(TRUE)"
   ]
  },
  {
   "cell_type": "code",
   "execution_count": 15,
   "metadata": {},
   "outputs": [
    {
     "data": {
      "text/html": [
       "TRUE"
      ],
      "text/latex": [
       "TRUE"
      ],
      "text/markdown": [
       "TRUE"
      ],
      "text/plain": [
       "[1] TRUE"
      ]
     },
     "metadata": {},
     "output_type": "display_data"
    }
   ],
   "source": [
    "is.character('x')"
   ]
  },
  {
   "cell_type": "code",
   "execution_count": 17,
   "metadata": {},
   "outputs": [
    {
     "data": {
      "text/html": [
       "TRUE"
      ],
      "text/latex": [
       "TRUE"
      ],
      "text/markdown": [
       "TRUE"
      ],
      "text/plain": [
       "[1] TRUE"
      ]
     },
     "metadata": {},
     "output_type": "display_data"
    }
   ],
   "source": [
    "is.complex(3i+2)"
   ]
  },
  {
   "cell_type": "code",
   "execution_count": 21,
   "metadata": {},
   "outputs": [
    {
     "data": {
      "text/html": [
       "TRUE"
      ],
      "text/latex": [
       "TRUE"
      ],
      "text/markdown": [
       "TRUE"
      ],
      "text/plain": [
       "[1] TRUE"
      ]
     },
     "metadata": {},
     "output_type": "display_data"
    }
   ],
   "source": [
    "is.na(NA)"
   ]
  },
  {
   "cell_type": "code",
   "execution_count": 24,
   "metadata": {},
   "outputs": [
    {
     "data": {
      "text/html": [
       "TRUE"
      ],
      "text/latex": [
       "TRUE"
      ],
      "text/markdown": [
       "TRUE"
      ],
      "text/plain": [
       "[1] TRUE"
      ]
     },
     "metadata": {},
     "output_type": "display_data"
    }
   ],
   "source": [
    "is.null(NULL)"
   ]
  },
  {
   "cell_type": "code",
   "execution_count": 25,
   "metadata": {},
   "outputs": [
    {
     "data": {
      "text/html": [
       "TRUE"
      ],
      "text/latex": [
       "TRUE"
      ],
      "text/markdown": [
       "TRUE"
      ],
      "text/plain": [
       "[1] TRUE"
      ]
     },
     "metadata": {},
     "output_type": "display_data"
    }
   ],
   "source": [
    "is.nan(NaN)"
   ]
  },
  {
   "cell_type": "code",
   "execution_count": 31,
   "metadata": {},
   "outputs": [
    {
     "data": {
      "text/html": [
       "TRUE"
      ],
      "text/latex": [
       "TRUE"
      ],
      "text/markdown": [
       "TRUE"
      ],
      "text/plain": [
       "[1] TRUE"
      ]
     },
     "metadata": {},
     "output_type": "display_data"
    }
   ],
   "source": [
    "is.finite(3)"
   ]
  },
  {
   "cell_type": "code",
   "execution_count": 32,
   "metadata": {},
   "outputs": [
    {
     "data": {
      "text/html": [
       "TRUE"
      ],
      "text/latex": [
       "TRUE"
      ],
      "text/markdown": [
       "TRUE"
      ],
      "text/plain": [
       "[1] TRUE"
      ]
     },
     "metadata": {},
     "output_type": "display_data"
    }
   ],
   "source": [
    "is.infinite(3/0)"
   ]
  },
  {
   "cell_type": "markdown",
   "metadata": {},
   "source": [
    "## 2.3 데이터 유형 변경"
   ]
  },
  {
   "cell_type": "code",
   "execution_count": 40,
   "metadata": {},
   "outputs": [
    {
     "data": {
      "text/html": [
       "TRUE"
      ],
      "text/latex": [
       "TRUE"
      ],
      "text/markdown": [
       "TRUE"
      ],
      "text/plain": [
       "[1] TRUE"
      ]
     },
     "metadata": {},
     "output_type": "display_data"
    },
    {
     "data": {
      "text/html": [
       "'0.333333333333333'"
      ],
      "text/latex": [
       "'0.333333333333333'"
      ],
      "text/markdown": [
       "'0.333333333333333'"
      ],
      "text/plain": [
       "[1] \"0.333333333333333\""
      ]
     },
     "metadata": {},
     "output_type": "display_data"
    }
   ],
   "source": [
    "is.numeric(1/3)\n",
    "as.character(1/3)"
   ]
  },
  {
   "cell_type": "code",
   "execution_count": 41,
   "metadata": {},
   "outputs": [
    {
     "name": "stderr",
     "output_type": "stream",
     "text": [
      "Warning message in eval(expr, envir, enclos):\n",
      "\"강제형변환에 의해 생성된 NA 입니다\"\n"
     ]
    },
    {
     "data": {
      "text/html": [
       "&lt;NA&gt;"
      ],
      "text/latex": [
       "<NA>"
      ],
      "text/markdown": [
       "&lt;NA&gt;"
      ],
      "text/plain": [
       "[1] NA"
      ]
     },
     "metadata": {},
     "output_type": "display_data"
    }
   ],
   "source": [
    "as.numeric(\"A\")"
   ]
  },
  {
   "cell_type": "code",
   "execution_count": 42,
   "metadata": {},
   "outputs": [
    {
     "data": {
      "text/html": [
       "'2'"
      ],
      "text/latex": [
       "'2'"
      ],
      "text/markdown": [
       "'2'"
      ],
      "text/plain": [
       "[1] \"2\""
      ]
     },
     "metadata": {},
     "output_type": "display_data"
    },
    {
     "ename": "ERROR",
     "evalue": "Error in b - 5: 이항연산자에 수치가 아닌 인수입니다\n",
     "output_type": "error",
     "traceback": [
      "Error in b - 5: 이항연산자에 수치가 아닌 인수입니다\nTraceback:\n"
     ]
    }
   ],
   "source": [
    "b = as.character(2)\n",
    "b\n",
    "b-5"
   ]
  },
  {
   "cell_type": "code",
   "execution_count": 44,
   "metadata": {},
   "outputs": [
    {
     "ename": "ERROR",
     "evalue": "Error in c - 5: 이항연산자에 수치가 아닌 인수입니다\n",
     "output_type": "error",
     "traceback": [
      "Error in c - 5: 이항연산자에 수치가 아닌 인수입니다\nTraceback:\n"
     ]
    }
   ],
   "source": [
    "c = \"11\"\n",
    "c - 5"
   ]
  },
  {
   "cell_type": "code",
   "execution_count": 45,
   "metadata": {},
   "outputs": [
    {
     "data": {
      "text/html": [
       "6"
      ],
      "text/latex": [
       "6"
      ],
      "text/markdown": [
       "6"
      ],
      "text/plain": [
       "[1] 6"
      ]
     },
     "metadata": {},
     "output_type": "display_data"
    }
   ],
   "source": [
    "as.numeric(c)-5"
   ]
  },
  {
   "cell_type": "markdown",
   "metadata": {},
   "source": [
    "## 2.4 테이블"
   ]
  },
  {
   "cell_type": "code",
   "execution_count": 47,
   "metadata": {},
   "outputs": [
    {
     "data": {
      "text/html": [
       "'D:/Repositories/Econometrics/RBasic'"
      ],
      "text/latex": [
       "'D:/Repositories/Econometrics/RBasic'"
      ],
      "text/markdown": [
       "'D:/Repositories/Econometrics/RBasic'"
      ],
      "text/plain": [
       "[1] \"D:/Repositories/Econometrics/RBasic\""
      ]
     },
     "metadata": {},
     "output_type": "display_data"
    }
   ],
   "source": [
    "getwd()"
   ]
  },
  {
   "cell_type": "code",
   "execution_count": 52,
   "metadata": {},
   "outputs": [
    {
     "data": {
      "text/html": [
       "<style>\n",
       ".list-inline {list-style: none; margin:0; padding: 0}\n",
       ".list-inline>li {display: inline-block}\n",
       ".list-inline>li:not(:last-child)::after {content: \"\\00b7\"; padding: 0 .5ex}\n",
       "</style>\n",
       "<ol class=list-inline><li>'401k.xls'</li><li>'401K_description.txt'</li><li>'data1.csv'</li><li>'data1.txt'</li><li>'DataHousingPrice.csv'</li><li>'DataHousingPrice.txt'</li><li>'DataHousingPrice.xls'</li><li>'DataHousingPrice.xlsx'</li><li>'DataHousingPriceMISSING.csv'</li><li>'ImportingDataAndOLS.R'</li><li>'old_survey.csv'</li><li>'RBasic1.ipynb'</li><li>'RBasic1_data1.csv'</li><li>'RBasic1_data1.txt'</li><li>'RBasic2.ipynb'</li><li>'Rbasic2.R'</li><li>'Rbasic2_ver2.R'</li><li>'Rbasic3.R'</li><li>'Rbasic3_ver2.R'</li><li>'Rbasic4.R'</li><li>'Rbasic5.R'</li></ol>\n"
      ],
      "text/latex": [
       "\\begin{enumerate*}\n",
       "\\item '401k.xls'\n",
       "\\item '401K\\_description.txt'\n",
       "\\item 'data1.csv'\n",
       "\\item 'data1.txt'\n",
       "\\item 'DataHousingPrice.csv'\n",
       "\\item 'DataHousingPrice.txt'\n",
       "\\item 'DataHousingPrice.xls'\n",
       "\\item 'DataHousingPrice.xlsx'\n",
       "\\item 'DataHousingPriceMISSING.csv'\n",
       "\\item 'ImportingDataAndOLS.R'\n",
       "\\item 'old\\_survey.csv'\n",
       "\\item 'RBasic1.ipynb'\n",
       "\\item 'RBasic1\\_data1.csv'\n",
       "\\item 'RBasic1\\_data1.txt'\n",
       "\\item 'RBasic2.ipynb'\n",
       "\\item 'Rbasic2.R'\n",
       "\\item 'Rbasic2\\_ver2.R'\n",
       "\\item 'Rbasic3.R'\n",
       "\\item 'Rbasic3\\_ver2.R'\n",
       "\\item 'Rbasic4.R'\n",
       "\\item 'Rbasic5.R'\n",
       "\\end{enumerate*}\n"
      ],
      "text/markdown": [
       "1. '401k.xls'\n",
       "2. '401K_description.txt'\n",
       "3. 'data1.csv'\n",
       "4. 'data1.txt'\n",
       "5. 'DataHousingPrice.csv'\n",
       "6. 'DataHousingPrice.txt'\n",
       "7. 'DataHousingPrice.xls'\n",
       "8. 'DataHousingPrice.xlsx'\n",
       "9. 'DataHousingPriceMISSING.csv'\n",
       "10. 'ImportingDataAndOLS.R'\n",
       "11. 'old_survey.csv'\n",
       "12. 'RBasic1.ipynb'\n",
       "13. 'RBasic1_data1.csv'\n",
       "14. 'RBasic1_data1.txt'\n",
       "15. 'RBasic2.ipynb'\n",
       "16. 'Rbasic2.R'\n",
       "17. 'Rbasic2_ver2.R'\n",
       "18. 'Rbasic3.R'\n",
       "19. 'Rbasic3_ver2.R'\n",
       "20. 'Rbasic4.R'\n",
       "21. 'Rbasic5.R'\n",
       "\n",
       "\n"
      ],
      "text/plain": [
       " [1] \"401k.xls\"                    \"401K_description.txt\"       \n",
       " [3] \"data1.csv\"                   \"data1.txt\"                  \n",
       " [5] \"DataHousingPrice.csv\"        \"DataHousingPrice.txt\"       \n",
       " [7] \"DataHousingPrice.xls\"        \"DataHousingPrice.xlsx\"      \n",
       " [9] \"DataHousingPriceMISSING.csv\" \"ImportingDataAndOLS.R\"      \n",
       "[11] \"old_survey.csv\"              \"RBasic1.ipynb\"              \n",
       "[13] \"RBasic1_data1.csv\"           \"RBasic1_data1.txt\"          \n",
       "[15] \"RBasic2.ipynb\"               \"Rbasic2.R\"                  \n",
       "[17] \"Rbasic2_ver2.R\"              \"Rbasic3.R\"                  \n",
       "[19] \"Rbasic3_ver2.R\"              \"Rbasic4.R\"                  \n",
       "[21] \"Rbasic5.R\"                  "
      ]
     },
     "metadata": {},
     "output_type": "display_data"
    }
   ],
   "source": [
    "setwd(getwd())\n",
    "dir()"
   ]
  },
  {
   "cell_type": "code",
   "execution_count": 46,
   "metadata": {},
   "outputs": [],
   "source": [
    "library(data.table)"
   ]
  },
  {
   "cell_type": "code",
   "execution_count": 50,
   "metadata": {},
   "outputs": [
    {
     "data": {
      "text/html": [
       "'D:/Repositories/Econometrics/RBasic'"
      ],
      "text/latex": [
       "'D:/Repositories/Econometrics/RBasic'"
      ],
      "text/markdown": [
       "'D:/Repositories/Econometrics/RBasic'"
      ],
      "text/plain": [
       "[1] \"D:/Repositories/Econometrics/RBasic\""
      ]
     },
     "metadata": {},
     "output_type": "display_data"
    }
   ],
   "source": [
    "getwd()"
   ]
  },
  {
   "cell_type": "code",
   "execution_count": 51,
   "metadata": {
    "scrolled": true
   },
   "outputs": [],
   "source": [
    "survey = fread(\"old_survey.csv\")"
   ]
  },
  {
   "cell_type": "code",
   "execution_count": 55,
   "metadata": {},
   "outputs": [
    {
     "data": {
      "text/html": [
       "<table>\n",
       "<caption>A data.table: 6 × 10</caption>\n",
       "<thead>\n",
       "\t<tr><th scope=col>sex</th><th scope=col>credits</th><th scope=col>eye.color</th><th scope=col>handedness</th><th scope=col>height</th><th scope=col>handspan</th><th scope=col>bias</th><th scope=col>rand.num</th><th scope=col>africa.higher</th><th scope=col>africa.percent</th></tr>\n",
       "\t<tr><th scope=col>&lt;chr&gt;</th><th scope=col>&lt;dbl&gt;</th><th scope=col>&lt;chr&gt;</th><th scope=col>&lt;dbl&gt;</th><th scope=col>&lt;int&gt;</th><th scope=col>&lt;dbl&gt;</th><th scope=col>&lt;chr&gt;</th><th scope=col>&lt;int&gt;</th><th scope=col>&lt;chr&gt;</th><th scope=col>&lt;int&gt;</th></tr>\n",
       "</thead>\n",
       "<tbody>\n",
       "\t<tr><td>Male  </td><td> 5</td><td>Brown</td><td>1.0</td><td>67</td><td>20.0</td><td>No </td><td>10</td><td>Higher</td><td>20</td></tr>\n",
       "\t<tr><td>Female</td><td> 5</td><td>Brown</td><td>0.4</td><td>63</td><td>19.5</td><td>Yes</td><td>65</td><td>Lower </td><td>25</td></tr>\n",
       "\t<tr><td>Female</td><td>NA</td><td>Brown</td><td>0.6</td><td>62</td><td>19.0</td><td>No </td><td>65</td><td>Lower </td><td>43</td></tr>\n",
       "\t<tr><td>Female</td><td> 5</td><td>Brown</td><td>0.6</td><td>65</td><td>19.5</td><td>No </td><td>65</td><td>Lower </td><td>20</td></tr>\n",
       "\t<tr><td>Female</td><td> 4</td><td>Brown</td><td>1.0</td><td>62</td><td>18.5</td><td>Yes</td><td>65</td><td>Lower </td><td>26</td></tr>\n",
       "\t<tr><td>Female</td><td>NA</td><td>Brown</td><td>1.0</td><td>68</td><td>18.5</td><td>Yes</td><td>65</td><td>Lower </td><td>60</td></tr>\n",
       "</tbody>\n",
       "</table>\n"
      ],
      "text/latex": [
       "A data.table: 6 × 10\n",
       "\\begin{tabular}{llllllllll}\n",
       " sex & credits & eye.color & handedness & height & handspan & bias & rand.num & africa.higher & africa.percent\\\\\n",
       " <chr> & <dbl> & <chr> & <dbl> & <int> & <dbl> & <chr> & <int> & <chr> & <int>\\\\\n",
       "\\hline\n",
       "\t Male   &  5 & Brown & 1.0 & 67 & 20.0 & No  & 10 & Higher & 20\\\\\n",
       "\t Female &  5 & Brown & 0.4 & 63 & 19.5 & Yes & 65 & Lower  & 25\\\\\n",
       "\t Female & NA & Brown & 0.6 & 62 & 19.0 & No  & 65 & Lower  & 43\\\\\n",
       "\t Female &  5 & Brown & 0.6 & 65 & 19.5 & No  & 65 & Lower  & 20\\\\\n",
       "\t Female &  4 & Brown & 1.0 & 62 & 18.5 & Yes & 65 & Lower  & 26\\\\\n",
       "\t Female & NA & Brown & 1.0 & 68 & 18.5 & Yes & 65 & Lower  & 60\\\\\n",
       "\\end{tabular}\n"
      ],
      "text/markdown": [
       "\n",
       "A data.table: 6 × 10\n",
       "\n",
       "| sex &lt;chr&gt; | credits &lt;dbl&gt; | eye.color &lt;chr&gt; | handedness &lt;dbl&gt; | height &lt;int&gt; | handspan &lt;dbl&gt; | bias &lt;chr&gt; | rand.num &lt;int&gt; | africa.higher &lt;chr&gt; | africa.percent &lt;int&gt; |\n",
       "|---|---|---|---|---|---|---|---|---|---|\n",
       "| Male   |  5 | Brown | 1.0 | 67 | 20.0 | No  | 10 | Higher | 20 |\n",
       "| Female |  5 | Brown | 0.4 | 63 | 19.5 | Yes | 65 | Lower  | 25 |\n",
       "| Female | NA | Brown | 0.6 | 62 | 19.0 | No  | 65 | Lower  | 43 |\n",
       "| Female |  5 | Brown | 0.6 | 65 | 19.5 | No  | 65 | Lower  | 20 |\n",
       "| Female |  4 | Brown | 1.0 | 62 | 18.5 | Yes | 65 | Lower  | 26 |\n",
       "| Female | NA | Brown | 1.0 | 68 | 18.5 | Yes | 65 | Lower  | 60 |\n",
       "\n"
      ],
      "text/plain": [
       "  sex    credits eye.color handedness height handspan bias rand.num\n",
       "1 Male    5      Brown     1.0        67     20.0     No   10      \n",
       "2 Female  5      Brown     0.4        63     19.5     Yes  65      \n",
       "3 Female NA      Brown     0.6        62     19.0     No   65      \n",
       "4 Female  5      Brown     0.6        65     19.5     No   65      \n",
       "5 Female  4      Brown     1.0        62     18.5     Yes  65      \n",
       "6 Female NA      Brown     1.0        68     18.5     Yes  65      \n",
       "  africa.higher africa.percent\n",
       "1 Higher        20            \n",
       "2 Lower         25            \n",
       "3 Lower         43            \n",
       "4 Lower         20            \n",
       "5 Lower         26            \n",
       "6 Lower         60            "
      ]
     },
     "metadata": {},
     "output_type": "display_data"
    }
   ],
   "source": [
    "head(survey)"
   ]
  },
  {
   "cell_type": "code",
   "execution_count": 56,
   "metadata": {},
   "outputs": [
    {
     "data": {
      "text/html": [
       "<table>\n",
       "<caption>A data.table: 6 × 10</caption>\n",
       "<thead>\n",
       "\t<tr><th scope=col>sex</th><th scope=col>credits</th><th scope=col>eye.color</th><th scope=col>handedness</th><th scope=col>height</th><th scope=col>handspan</th><th scope=col>bias</th><th scope=col>rand.num</th><th scope=col>africa.higher</th><th scope=col>africa.percent</th></tr>\n",
       "\t<tr><th scope=col>&lt;chr&gt;</th><th scope=col>&lt;dbl&gt;</th><th scope=col>&lt;chr&gt;</th><th scope=col>&lt;dbl&gt;</th><th scope=col>&lt;int&gt;</th><th scope=col>&lt;dbl&gt;</th><th scope=col>&lt;chr&gt;</th><th scope=col>&lt;int&gt;</th><th scope=col>&lt;chr&gt;</th><th scope=col>&lt;int&gt;</th></tr>\n",
       "</thead>\n",
       "<tbody>\n",
       "\t<tr><td>Male  </td><td>4</td><td>Hazel</td><td>1.00</td><td>73</td><td>21.0</td><td>Yes</td><td>10</td><td>Higher</td><td>21</td></tr>\n",
       "\t<tr><td>Male  </td><td>5</td><td>Brown</td><td>0.56</td><td>66</td><td>20.0</td><td>Yes</td><td>10</td><td>Lower </td><td>12</td></tr>\n",
       "\t<tr><td>Female</td><td>5</td><td>Brown</td><td>0.80</td><td>63</td><td>18.0</td><td>Yes</td><td>65</td><td>Lower </td><td> 2</td></tr>\n",
       "\t<tr><td>Female</td><td>6</td><td>Brown</td><td>0.80</td><td>64</td><td>21.0</td><td>Yes</td><td>65</td><td>Lower </td><td>55</td></tr>\n",
       "\t<tr><td>Female</td><td>6</td><td>Brown</td><td>1.00</td><td>61</td><td>17.5</td><td>Yes</td><td>10</td><td>Higher</td><td>18</td></tr>\n",
       "\t<tr><td>Male  </td><td>5</td><td>Brown</td><td>0.70</td><td>71</td><td>24.5</td><td>Yes</td><td>10</td><td>Lower </td><td> 8</td></tr>\n",
       "</tbody>\n",
       "</table>\n"
      ],
      "text/latex": [
       "A data.table: 6 × 10\n",
       "\\begin{tabular}{llllllllll}\n",
       " sex & credits & eye.color & handedness & height & handspan & bias & rand.num & africa.higher & africa.percent\\\\\n",
       " <chr> & <dbl> & <chr> & <dbl> & <int> & <dbl> & <chr> & <int> & <chr> & <int>\\\\\n",
       "\\hline\n",
       "\t Male   & 4 & Hazel & 1.00 & 73 & 21.0 & Yes & 10 & Higher & 21\\\\\n",
       "\t Male   & 5 & Brown & 0.56 & 66 & 20.0 & Yes & 10 & Lower  & 12\\\\\n",
       "\t Female & 5 & Brown & 0.80 & 63 & 18.0 & Yes & 65 & Lower  &  2\\\\\n",
       "\t Female & 6 & Brown & 0.80 & 64 & 21.0 & Yes & 65 & Lower  & 55\\\\\n",
       "\t Female & 6 & Brown & 1.00 & 61 & 17.5 & Yes & 10 & Higher & 18\\\\\n",
       "\t Male   & 5 & Brown & 0.70 & 71 & 24.5 & Yes & 10 & Lower  &  8\\\\\n",
       "\\end{tabular}\n"
      ],
      "text/markdown": [
       "\n",
       "A data.table: 6 × 10\n",
       "\n",
       "| sex &lt;chr&gt; | credits &lt;dbl&gt; | eye.color &lt;chr&gt; | handedness &lt;dbl&gt; | height &lt;int&gt; | handspan &lt;dbl&gt; | bias &lt;chr&gt; | rand.num &lt;int&gt; | africa.higher &lt;chr&gt; | africa.percent &lt;int&gt; |\n",
       "|---|---|---|---|---|---|---|---|---|---|\n",
       "| Male   | 4 | Hazel | 1.00 | 73 | 21.0 | Yes | 10 | Higher | 21 |\n",
       "| Male   | 5 | Brown | 0.56 | 66 | 20.0 | Yes | 10 | Lower  | 12 |\n",
       "| Female | 5 | Brown | 0.80 | 63 | 18.0 | Yes | 65 | Lower  |  2 |\n",
       "| Female | 6 | Brown | 0.80 | 64 | 21.0 | Yes | 65 | Lower  | 55 |\n",
       "| Female | 6 | Brown | 1.00 | 61 | 17.5 | Yes | 10 | Higher | 18 |\n",
       "| Male   | 5 | Brown | 0.70 | 71 | 24.5 | Yes | 10 | Lower  |  8 |\n",
       "\n"
      ],
      "text/plain": [
       "  sex    credits eye.color handedness height handspan bias rand.num\n",
       "1 Male   4       Hazel     1.00       73     21.0     Yes  10      \n",
       "2 Male   5       Brown     0.56       66     20.0     Yes  10      \n",
       "3 Female 5       Brown     0.80       63     18.0     Yes  65      \n",
       "4 Female 6       Brown     0.80       64     21.0     Yes  65      \n",
       "5 Female 6       Brown     1.00       61     17.5     Yes  10      \n",
       "6 Male   5       Brown     0.70       71     24.5     Yes  10      \n",
       "  africa.higher africa.percent\n",
       "1 Higher        21            \n",
       "2 Lower         12            \n",
       "3 Lower          2            \n",
       "4 Lower         55            \n",
       "5 Higher        18            \n",
       "6 Lower          8            "
      ]
     },
     "metadata": {},
     "output_type": "display_data"
    }
   ],
   "source": [
    "tail(survey)"
   ]
  },
  {
   "cell_type": "code",
   "execution_count": 57,
   "metadata": {},
   "outputs": [],
   "source": [
    "# add column\n",
    "survey[ , height_handspan_ratio := height/handspan]"
   ]
  },
  {
   "cell_type": "code",
   "execution_count": 58,
   "metadata": {},
   "outputs": [
    {
     "data": {
      "text/html": [
       "<table>\n",
       "<caption>A data.table: 6 × 11</caption>\n",
       "<thead>\n",
       "\t<tr><th scope=col>sex</th><th scope=col>credits</th><th scope=col>eye.color</th><th scope=col>handedness</th><th scope=col>height</th><th scope=col>handspan</th><th scope=col>bias</th><th scope=col>rand.num</th><th scope=col>africa.higher</th><th scope=col>africa.percent</th><th scope=col>height_handspan_ratio</th></tr>\n",
       "\t<tr><th scope=col>&lt;chr&gt;</th><th scope=col>&lt;dbl&gt;</th><th scope=col>&lt;chr&gt;</th><th scope=col>&lt;dbl&gt;</th><th scope=col>&lt;int&gt;</th><th scope=col>&lt;dbl&gt;</th><th scope=col>&lt;chr&gt;</th><th scope=col>&lt;int&gt;</th><th scope=col>&lt;chr&gt;</th><th scope=col>&lt;int&gt;</th><th scope=col>&lt;dbl&gt;</th></tr>\n",
       "</thead>\n",
       "<tbody>\n",
       "\t<tr><td>Male  </td><td>4</td><td>Hazel</td><td>1.00</td><td>73</td><td>21.0</td><td>Yes</td><td>10</td><td>Higher</td><td>21</td><td>3.476190</td></tr>\n",
       "\t<tr><td>Male  </td><td>5</td><td>Brown</td><td>0.56</td><td>66</td><td>20.0</td><td>Yes</td><td>10</td><td>Lower </td><td>12</td><td>3.300000</td></tr>\n",
       "\t<tr><td>Female</td><td>5</td><td>Brown</td><td>0.80</td><td>63</td><td>18.0</td><td>Yes</td><td>65</td><td>Lower </td><td> 2</td><td>3.500000</td></tr>\n",
       "\t<tr><td>Female</td><td>6</td><td>Brown</td><td>0.80</td><td>64</td><td>21.0</td><td>Yes</td><td>65</td><td>Lower </td><td>55</td><td>3.047619</td></tr>\n",
       "\t<tr><td>Female</td><td>6</td><td>Brown</td><td>1.00</td><td>61</td><td>17.5</td><td>Yes</td><td>10</td><td>Higher</td><td>18</td><td>3.485714</td></tr>\n",
       "\t<tr><td>Male  </td><td>5</td><td>Brown</td><td>0.70</td><td>71</td><td>24.5</td><td>Yes</td><td>10</td><td>Lower </td><td> 8</td><td>2.897959</td></tr>\n",
       "</tbody>\n",
       "</table>\n"
      ],
      "text/latex": [
       "A data.table: 6 × 11\n",
       "\\begin{tabular}{lllllllllll}\n",
       " sex & credits & eye.color & handedness & height & handspan & bias & rand.num & africa.higher & africa.percent & height\\_handspan\\_ratio\\\\\n",
       " <chr> & <dbl> & <chr> & <dbl> & <int> & <dbl> & <chr> & <int> & <chr> & <int> & <dbl>\\\\\n",
       "\\hline\n",
       "\t Male   & 4 & Hazel & 1.00 & 73 & 21.0 & Yes & 10 & Higher & 21 & 3.476190\\\\\n",
       "\t Male   & 5 & Brown & 0.56 & 66 & 20.0 & Yes & 10 & Lower  & 12 & 3.300000\\\\\n",
       "\t Female & 5 & Brown & 0.80 & 63 & 18.0 & Yes & 65 & Lower  &  2 & 3.500000\\\\\n",
       "\t Female & 6 & Brown & 0.80 & 64 & 21.0 & Yes & 65 & Lower  & 55 & 3.047619\\\\\n",
       "\t Female & 6 & Brown & 1.00 & 61 & 17.5 & Yes & 10 & Higher & 18 & 3.485714\\\\\n",
       "\t Male   & 5 & Brown & 0.70 & 71 & 24.5 & Yes & 10 & Lower  &  8 & 2.897959\\\\\n",
       "\\end{tabular}\n"
      ],
      "text/markdown": [
       "\n",
       "A data.table: 6 × 11\n",
       "\n",
       "| sex &lt;chr&gt; | credits &lt;dbl&gt; | eye.color &lt;chr&gt; | handedness &lt;dbl&gt; | height &lt;int&gt; | handspan &lt;dbl&gt; | bias &lt;chr&gt; | rand.num &lt;int&gt; | africa.higher &lt;chr&gt; | africa.percent &lt;int&gt; | height_handspan_ratio &lt;dbl&gt; |\n",
       "|---|---|---|---|---|---|---|---|---|---|---|\n",
       "| Male   | 4 | Hazel | 1.00 | 73 | 21.0 | Yes | 10 | Higher | 21 | 3.476190 |\n",
       "| Male   | 5 | Brown | 0.56 | 66 | 20.0 | Yes | 10 | Lower  | 12 | 3.300000 |\n",
       "| Female | 5 | Brown | 0.80 | 63 | 18.0 | Yes | 65 | Lower  |  2 | 3.500000 |\n",
       "| Female | 6 | Brown | 0.80 | 64 | 21.0 | Yes | 65 | Lower  | 55 | 3.047619 |\n",
       "| Female | 6 | Brown | 1.00 | 61 | 17.5 | Yes | 10 | Higher | 18 | 3.485714 |\n",
       "| Male   | 5 | Brown | 0.70 | 71 | 24.5 | Yes | 10 | Lower  |  8 | 2.897959 |\n",
       "\n"
      ],
      "text/plain": [
       "  sex    credits eye.color handedness height handspan bias rand.num\n",
       "1 Male   4       Hazel     1.00       73     21.0     Yes  10      \n",
       "2 Male   5       Brown     0.56       66     20.0     Yes  10      \n",
       "3 Female 5       Brown     0.80       63     18.0     Yes  65      \n",
       "4 Female 6       Brown     0.80       64     21.0     Yes  65      \n",
       "5 Female 6       Brown     1.00       61     17.5     Yes  10      \n",
       "6 Male   5       Brown     0.70       71     24.5     Yes  10      \n",
       "  africa.higher africa.percent height_handspan_ratio\n",
       "1 Higher        21             3.476190             \n",
       "2 Lower         12             3.300000             \n",
       "3 Lower          2             3.500000             \n",
       "4 Lower         55             3.047619             \n",
       "5 Higher        18             3.485714             \n",
       "6 Lower          8             2.897959             "
      ]
     },
     "metadata": {},
     "output_type": "display_data"
    }
   ],
   "source": [
    "tail(survey)"
   ]
  },
  {
   "cell_type": "code",
   "execution_count": 60,
   "metadata": {},
   "outputs": [],
   "source": [
    "survey[ , 7:10 := NULL]"
   ]
  },
  {
   "cell_type": "code",
   "execution_count": 63,
   "metadata": {},
   "outputs": [
    {
     "data": {
      "text/html": [
       "<table>\n",
       "<caption>A data.table: 6 × 7</caption>\n",
       "<thead>\n",
       "\t<tr><th scope=col>sex</th><th scope=col>credits</th><th scope=col>eye.color</th><th scope=col>handedness</th><th scope=col>height</th><th scope=col>handspan</th><th scope=col>height_handspan_ratio</th></tr>\n",
       "\t<tr><th scope=col>&lt;chr&gt;</th><th scope=col>&lt;dbl&gt;</th><th scope=col>&lt;chr&gt;</th><th scope=col>&lt;dbl&gt;</th><th scope=col>&lt;int&gt;</th><th scope=col>&lt;dbl&gt;</th><th scope=col>&lt;dbl&gt;</th></tr>\n",
       "</thead>\n",
       "<tbody>\n",
       "\t<tr><td>Male  </td><td>4</td><td>Hazel</td><td>1.00</td><td>73</td><td>21.0</td><td>3.476190</td></tr>\n",
       "\t<tr><td>Male  </td><td>5</td><td>Brown</td><td>0.56</td><td>66</td><td>20.0</td><td>3.300000</td></tr>\n",
       "\t<tr><td>Female</td><td>5</td><td>Brown</td><td>0.80</td><td>63</td><td>18.0</td><td>3.500000</td></tr>\n",
       "\t<tr><td>Female</td><td>6</td><td>Brown</td><td>0.80</td><td>64</td><td>21.0</td><td>3.047619</td></tr>\n",
       "\t<tr><td>Female</td><td>6</td><td>Brown</td><td>1.00</td><td>61</td><td>17.5</td><td>3.485714</td></tr>\n",
       "\t<tr><td>Male  </td><td>5</td><td>Brown</td><td>0.70</td><td>71</td><td>24.5</td><td>2.897959</td></tr>\n",
       "</tbody>\n",
       "</table>\n"
      ],
      "text/latex": [
       "A data.table: 6 × 7\n",
       "\\begin{tabular}{lllllll}\n",
       " sex & credits & eye.color & handedness & height & handspan & height\\_handspan\\_ratio\\\\\n",
       " <chr> & <dbl> & <chr> & <dbl> & <int> & <dbl> & <dbl>\\\\\n",
       "\\hline\n",
       "\t Male   & 4 & Hazel & 1.00 & 73 & 21.0 & 3.476190\\\\\n",
       "\t Male   & 5 & Brown & 0.56 & 66 & 20.0 & 3.300000\\\\\n",
       "\t Female & 5 & Brown & 0.80 & 63 & 18.0 & 3.500000\\\\\n",
       "\t Female & 6 & Brown & 0.80 & 64 & 21.0 & 3.047619\\\\\n",
       "\t Female & 6 & Brown & 1.00 & 61 & 17.5 & 3.485714\\\\\n",
       "\t Male   & 5 & Brown & 0.70 & 71 & 24.5 & 2.897959\\\\\n",
       "\\end{tabular}\n"
      ],
      "text/markdown": [
       "\n",
       "A data.table: 6 × 7\n",
       "\n",
       "| sex &lt;chr&gt; | credits &lt;dbl&gt; | eye.color &lt;chr&gt; | handedness &lt;dbl&gt; | height &lt;int&gt; | handspan &lt;dbl&gt; | height_handspan_ratio &lt;dbl&gt; |\n",
       "|---|---|---|---|---|---|---|\n",
       "| Male   | 4 | Hazel | 1.00 | 73 | 21.0 | 3.476190 |\n",
       "| Male   | 5 | Brown | 0.56 | 66 | 20.0 | 3.300000 |\n",
       "| Female | 5 | Brown | 0.80 | 63 | 18.0 | 3.500000 |\n",
       "| Female | 6 | Brown | 0.80 | 64 | 21.0 | 3.047619 |\n",
       "| Female | 6 | Brown | 1.00 | 61 | 17.5 | 3.485714 |\n",
       "| Male   | 5 | Brown | 0.70 | 71 | 24.5 | 2.897959 |\n",
       "\n"
      ],
      "text/plain": [
       "  sex    credits eye.color handedness height handspan height_handspan_ratio\n",
       "1 Male   4       Hazel     1.00       73     21.0     3.476190             \n",
       "2 Male   5       Brown     0.56       66     20.0     3.300000             \n",
       "3 Female 5       Brown     0.80       63     18.0     3.500000             \n",
       "4 Female 6       Brown     0.80       64     21.0     3.047619             \n",
       "5 Female 6       Brown     1.00       61     17.5     3.485714             \n",
       "6 Male   5       Brown     0.70       71     24.5     2.897959             "
      ]
     },
     "metadata": {},
     "output_type": "display_data"
    }
   ],
   "source": [
    "tail(survey)"
   ]
  },
  {
   "cell_type": "markdown",
   "metadata": {},
   "source": [
    "## 2.5 플롯"
   ]
  },
  {
   "cell_type": "code",
   "execution_count": 64,
   "metadata": {},
   "outputs": [
    {
     "data": {
      "text/plain": [
       "$breaks\n",
       " [1] -1.0 -0.8 -0.6 -0.4 -0.2  0.0  0.2  0.4  0.6  0.8  1.0\n",
       "\n",
       "$counts\n",
       " [1]  2  2  1  0  1  4  3 12 32 31\n",
       "\n",
       "$density\n",
       " [1] 0.11363636 0.11363636 0.05681818 0.00000000 0.05681818 0.22727273\n",
       " [7] 0.17045455 0.68181818 1.81818182 1.76136364\n",
       "\n",
       "$mids\n",
       " [1] -0.9 -0.7 -0.5 -0.3 -0.1  0.1  0.3  0.5  0.7  0.9\n",
       "\n",
       "$xname\n",
       "[1] \"handedness\"\n",
       "\n",
       "$equidist\n",
       "[1] TRUE\n",
       "\n",
       "attr(,\"class\")\n",
       "[1] \"histogram\""
      ]
     },
     "metadata": {},
     "output_type": "display_data"
    },
    {
     "data": {
      "image/png": "[encoded data removed]",
      "text/plain": [
       "Plot with title \"Histogram of handedness\""
      ]
     },
     "metadata": {
      "image/png": {
       "height": 420,
       "width": 420
      }
     },
     "output_type": "display_data"
    }
   ],
   "source": [
    "survey[ , hist(handedness)]"
   ]
  },
  {
   "cell_type": "code",
   "execution_count": 65,
   "metadata": {},
   "outputs": [
    {
     "data": {
      "text/plain": [
       "$breaks\n",
       " [1] -1.0 -0.8 -0.6 -0.4 -0.2  0.0  0.2  0.4  0.6  0.8  1.0\n",
       "\n",
       "$counts\n",
       " [1]  2  2  1  0  1  4  3 12 32 31\n",
       "\n",
       "$density\n",
       " [1] 0.11363636 0.11363636 0.05681818 0.00000000 0.05681818 0.22727273\n",
       " [7] 0.17045455 0.68181818 1.81818182 1.76136364\n",
       "\n",
       "$mids\n",
       " [1] -0.9 -0.7 -0.5 -0.3 -0.1  0.1  0.3  0.5  0.7  0.9\n",
       "\n",
       "$xname\n",
       "[1] \"handedness\"\n",
       "\n",
       "$equidist\n",
       "[1] TRUE\n",
       "\n",
       "attr(,\"class\")\n",
       "[1] \"histogram\""
      ]
     },
     "metadata": {},
     "output_type": "display_data"
    },
    {
     "data": {
      "image/png": "[encoded data removed]",
      "text/plain": [
       "Plot with title \"Histogram of Handedness Scores\""
      ]
     },
     "metadata": {
      "image/png": {
       "height": 420,
       "width": 420
      }
     },
     "output_type": "display_data"
    }
   ],
   "source": [
    "survey[ , hist(handedness, xlab = 'Handedness Score',\n",
    "               main = 'Histogram of Handedness Scores',\n",
    "               ylab = '# of Students')]"
   ]
  },
  {
   "cell_type": "code",
   "execution_count": 66,
   "metadata": {},
   "outputs": [
    {
     "data": {
      "text/plain": [
       "$breaks\n",
       " [1] -0.9 -0.8 -0.7 -0.6 -0.5 -0.4 -0.3 -0.2 -0.1  0.0  0.1  0.2  0.3  0.4  0.5\n",
       "[16]  0.6  0.7  0.8  0.9  1.0\n",
       "\n",
       "$counts\n",
       " [1]  2  1  1  1  0  0  0  0  1  0  4  0  3  5  7 11 21 10 21\n",
       "\n",
       "$density\n",
       " [1] 0.2272727 0.1136364 0.1136364 0.1136364 0.0000000 0.0000000 0.0000000\n",
       " [8] 0.0000000 0.1136364 0.0000000 0.4545455 0.0000000 0.3409091 0.5681818\n",
       "[15] 0.7954545 1.2500000 2.3863636 1.1363636 2.3863636\n",
       "\n",
       "$mids\n",
       " [1] -0.85 -0.75 -0.65 -0.55 -0.45 -0.35 -0.25 -0.15 -0.05  0.05  0.15  0.25\n",
       "[13]  0.35  0.45  0.55  0.65  0.75  0.85  0.95\n",
       "\n",
       "$xname\n",
       "[1] \"handedness\"\n",
       "\n",
       "$equidist\n",
       "[1] TRUE\n",
       "\n",
       "attr(,\"class\")\n",
       "[1] \"histogram\""
      ]
     },
     "metadata": {},
     "output_type": "display_data"
    },
    {
     "data": {
      "image/png": "[encoded data removed]",
      "text/plain": [
       "Plot with title \"Histogram of Handedness Scores\""
      ]
     },
     "metadata": {
      "image/png": {
       "height": 420,
       "width": 420
      }
     },
     "output_type": "display_data"
    }
   ],
   "source": [
    "survey[ , hist(handedness, breaks = 20, xlab = 'Handedness Score',\n",
    "               main = 'Histogram of Handedness Scores')]"
   ]
  },
  {
   "cell_type": "code",
   "execution_count": 67,
   "metadata": {},
   "outputs": [
    {
     "data": {
      "text/plain": [
       "$breaks\n",
       " [1] -0.9 -0.8 -0.7 -0.6 -0.5 -0.4 -0.3 -0.2 -0.1  0.0  0.1  0.2  0.3  0.4  0.5\n",
       "[16]  0.6  0.7  0.8  0.9  1.0\n",
       "\n",
       "$counts\n",
       " [1]  2  1  1  1  0  0  0  0  1  0  4  0  3  5  7 11 21 10 21\n",
       "\n",
       "$density\n",
       " [1] 0.2272727 0.1136364 0.1136364 0.1136364 0.0000000 0.0000000 0.0000000\n",
       " [8] 0.0000000 0.1136364 0.0000000 0.4545455 0.0000000 0.3409091 0.5681818\n",
       "[15] 0.7954545 1.2500000 2.3863636 1.1363636 2.3863636\n",
       "\n",
       "$mids\n",
       " [1] -0.85 -0.75 -0.65 -0.55 -0.45 -0.35 -0.25 -0.15 -0.05  0.05  0.15  0.25\n",
       "[13]  0.35  0.45  0.55  0.65  0.75  0.85  0.95\n",
       "\n",
       "$xname\n",
       "[1] \"handedness\"\n",
       "\n",
       "$equidist\n",
       "[1] TRUE\n",
       "\n",
       "attr(,\"class\")\n",
       "[1] \"histogram\""
      ]
     },
     "metadata": {},
     "output_type": "display_data"
    },
    {
     "data": {
      "image/png": "[encoded data removed]",
      "text/plain": [
       "Plot with title \"Histogram of Handedness\""
      ]
     },
     "metadata": {
      "image/png": {
       "height": 420,
       "width": 420
      }
     },
     "output_type": "display_data"
    }
   ],
   "source": [
    "survey[ , hist(handedness, breaks = 20, freq = FALSE,\n",
    "               xlab = 'Handedness Score', main = 'Histogram of Handedness')]"
   ]
  },
  {
   "cell_type": "code",
   "execution_count": 69,
   "metadata": {},
   "outputs": [
    {
     "data": {
      "text/plain": [
       "NULL"
      ]
     },
     "metadata": {},
     "output_type": "display_data"
    },
    {
     "data": {
      "image/png": "[encoded data removed]",
      "text/plain": [
       "plot without title"
      ]
     },
     "metadata": {
      "image/png": {
       "height": 420,
       "width": 420
      }
     },
     "output_type": "display_data"
    }
   ],
   "source": [
    "survey[ , plot(height, handspan)]"
   ]
  },
  {
   "cell_type": "code",
   "execution_count": 70,
   "metadata": {},
   "outputs": [
    {
     "data": {
      "text/plain": [
       "NULL"
      ]
     },
     "metadata": {},
     "output_type": "display_data"
    },
    {
     "data": {
      "image/png": "[encoded data removed]",
      "text/plain": [
       "plot without title"
      ]
     },
     "metadata": {
      "image/png": {
       "height": 420,
       "width": 420
      }
     },
     "output_type": "display_data"
    }
   ],
   "source": [
    "survey[ , plot(handspan, height)]"
   ]
  },
  {
   "cell_type": "code",
   "execution_count": 71,
   "metadata": {},
   "outputs": [
    {
     "data": {
      "text/plain": [
       "NULL"
      ]
     },
     "metadata": {},
     "output_type": "display_data"
    },
    {
     "data": {
      "image/png": "[encoded data removed]",
      "text/plain": [
       "plot without title"
      ]
     },
     "metadata": {
      "image/png": {
       "height": 420,
       "width": 420
      }
     },
     "output_type": "display_data"
    }
   ],
   "source": [
    "survey[ , plot(height, handspan, xlab = \"height (in)\", ylab = \"handspan (cm)\")]"
   ]
  },
  {
   "cell_type": "code",
   "execution_count": 74,
   "metadata": {},
   "outputs": [
    {
     "data": {
      "text/plain": [
       "NULL"
      ]
     },
     "metadata": {},
     "output_type": "display_data"
    },
    {
     "data": {
      "image/png": "[encoded data removed]",
      "text/plain": [
       "plot without title"
      ]
     },
     "metadata": {
      "image/png": {
       "height": 420,
       "width": 420
      }
     },
     "output_type": "display_data"
    }
   ],
   "source": [
    "survey[ , plot(height, handspan, xlab = \"height (in)\",\n",
    "               ylab = \"handspan (cm)\", col = \"red\")]"
   ]
  },
  {
   "cell_type": "code",
   "execution_count": 84,
   "metadata": {},
   "outputs": [
    {
     "data": {
      "text/plain": [
       "NULL"
      ]
     },
     "metadata": {},
     "output_type": "display_data"
    },
    {
     "data": {
      "image/png": "[encoded data removed]",
      "text/plain": [
       "plot without title"
      ]
     },
     "metadata": {
      "image/png": {
       "height": 420,
       "width": 420
      }
     },
     "output_type": "display_data"
    }
   ],
   "source": [
    "survey[ , plot(height, handspan, xlab = \"height (in)\",\n",
    "               ylab = \"handspan (cm)\", col = \"red\", pch = 3)]"
   ]
  },
  {
   "cell_type": "code",
   "execution_count": 88,
   "metadata": {},
   "outputs": [
    {
     "data": {
      "text/plain": [
       "NULL"
      ]
     },
     "metadata": {},
     "output_type": "display_data"
    },
    {
     "data": {
      "image/png": "[encoded data removed]",
      "text/plain": [
       "plot without title"
      ]
     },
     "metadata": {
      "image/png": {
       "height": 420,
       "width": 420
      }
     },
     "output_type": "display_data"
    }
   ],
   "source": [
    "survey[ , plot(height, handspan, xlab = \"height (in)\",\n",
    "               ylab = \"handspan (cm)\", col = \"red\", pch = 3, type = 'l')]"
   ]
  },
  {
   "cell_type": "code",
   "execution_count": 89,
   "metadata": {},
   "outputs": [
    {
     "data": {
      "image/png": "[encoded data removed]",
      "text/plain": [
       "plot without title"
      ]
     },
     "metadata": {
      "image/png": {
       "height": 420,
       "width": 420
      }
     },
     "output_type": "display_data"
    }
   ],
   "source": [
    "pairs(survey[ , c(\"handedness\", \"handspan\", \"height\")])"
   ]
  },
  {
   "cell_type": "code",
   "execution_count": 95,
   "metadata": {},
   "outputs": [
    {
     "data": {
      "image/png": "[encoded data removed]",
      "text/plain": [
       "plot without title"
      ]
     },
     "metadata": {
      "image/png": {
       "height": 420,
       "width": 420
      }
     },
     "output_type": "display_data"
    }
   ],
   "source": [
    "boxplot(survey$handspan, ylab = \"Handspan(cm)\")"
   ]
  },
  {
   "cell_type": "code",
   "execution_count": 96,
   "metadata": {},
   "outputs": [
    {
     "data": {
      "image/png": "[encoded data removed]",
      "text/plain": [
       "Plot with title \"Handspan by Sex\""
      ]
     },
     "metadata": {
      "image/png": {
       "height": 420,
       "width": 420
      }
     },
     "output_type": "display_data"
    }
   ],
   "source": [
    "boxplot(handspan ~ sex, data = survey, \n",
    "        ylab= \"Handspan (cm)\", main = \"Handspan by Sex\")"
   ]
  },
  {
   "cell_type": "markdown",
   "metadata": {},
   "source": [
    "## 2.6 테이블 정리"
   ]
  },
  {
   "cell_type": "code",
   "execution_count": 98,
   "metadata": {},
   "outputs": [
    {
     "data": {
      "text/plain": [
       "         sex\n",
       "eye.color Female Male\n",
       "   Black       2    5\n",
       "   Blue        4    6\n",
       "   Brown      32   26\n",
       "   Copper      0    1\n",
       "   Green       1    4\n",
       "   Hazel       2    2\n",
       "   Maroon      0    1"
      ]
     },
     "metadata": {},
     "output_type": "display_data"
    }
   ],
   "source": [
    "survey[ , table(eye.color, sex)]"
   ]
  },
  {
   "cell_type": "code",
   "execution_count": 99,
   "metadata": {},
   "outputs": [
    {
     "data": {
      "text/html": [
       "<table>\n",
       "<caption>A data.table: 6 × 7</caption>\n",
       "<thead>\n",
       "\t<tr><th scope=col>sex</th><th scope=col>credits</th><th scope=col>eye.color</th><th scope=col>handedness</th><th scope=col>height</th><th scope=col>handspan</th><th scope=col>height_handspan_ratio</th></tr>\n",
       "\t<tr><th scope=col>&lt;chr&gt;</th><th scope=col>&lt;dbl&gt;</th><th scope=col>&lt;chr&gt;</th><th scope=col>&lt;dbl&gt;</th><th scope=col>&lt;int&gt;</th><th scope=col>&lt;dbl&gt;</th><th scope=col>&lt;dbl&gt;</th></tr>\n",
       "</thead>\n",
       "<tbody>\n",
       "\t<tr><td>Male  </td><td>4</td><td>Hazel</td><td>1.00</td><td>73</td><td>21.0</td><td>3.476190</td></tr>\n",
       "\t<tr><td>Male  </td><td>5</td><td>Brown</td><td>0.56</td><td>66</td><td>20.0</td><td>3.300000</td></tr>\n",
       "\t<tr><td>Female</td><td>5</td><td>Brown</td><td>0.80</td><td>63</td><td>18.0</td><td>3.500000</td></tr>\n",
       "\t<tr><td>Female</td><td>6</td><td>Brown</td><td>0.80</td><td>64</td><td>21.0</td><td>3.047619</td></tr>\n",
       "\t<tr><td>Female</td><td>6</td><td>Brown</td><td>1.00</td><td>61</td><td>17.5</td><td>3.485714</td></tr>\n",
       "\t<tr><td>Male  </td><td>5</td><td>Brown</td><td>0.70</td><td>71</td><td>24.5</td><td>2.897959</td></tr>\n",
       "</tbody>\n",
       "</table>\n"
      ],
      "text/latex": [
       "A data.table: 6 × 7\n",
       "\\begin{tabular}{lllllll}\n",
       " sex & credits & eye.color & handedness & height & handspan & height\\_handspan\\_ratio\\\\\n",
       " <chr> & <dbl> & <chr> & <dbl> & <int> & <dbl> & <dbl>\\\\\n",
       "\\hline\n",
       "\t Male   & 4 & Hazel & 1.00 & 73 & 21.0 & 3.476190\\\\\n",
       "\t Male   & 5 & Brown & 0.56 & 66 & 20.0 & 3.300000\\\\\n",
       "\t Female & 5 & Brown & 0.80 & 63 & 18.0 & 3.500000\\\\\n",
       "\t Female & 6 & Brown & 0.80 & 64 & 21.0 & 3.047619\\\\\n",
       "\t Female & 6 & Brown & 1.00 & 61 & 17.5 & 3.485714\\\\\n",
       "\t Male   & 5 & Brown & 0.70 & 71 & 24.5 & 2.897959\\\\\n",
       "\\end{tabular}\n"
      ],
      "text/markdown": [
       "\n",
       "A data.table: 6 × 7\n",
       "\n",
       "| sex &lt;chr&gt; | credits &lt;dbl&gt; | eye.color &lt;chr&gt; | handedness &lt;dbl&gt; | height &lt;int&gt; | handspan &lt;dbl&gt; | height_handspan_ratio &lt;dbl&gt; |\n",
       "|---|---|---|---|---|---|---|\n",
       "| Male   | 4 | Hazel | 1.00 | 73 | 21.0 | 3.476190 |\n",
       "| Male   | 5 | Brown | 0.56 | 66 | 20.0 | 3.300000 |\n",
       "| Female | 5 | Brown | 0.80 | 63 | 18.0 | 3.500000 |\n",
       "| Female | 6 | Brown | 0.80 | 64 | 21.0 | 3.047619 |\n",
       "| Female | 6 | Brown | 1.00 | 61 | 17.5 | 3.485714 |\n",
       "| Male   | 5 | Brown | 0.70 | 71 | 24.5 | 2.897959 |\n",
       "\n"
      ],
      "text/plain": [
       "  sex    credits eye.color handedness height handspan height_handspan_ratio\n",
       "1 Male   4       Hazel     1.00       73     21.0     3.476190             \n",
       "2 Male   5       Brown     0.56       66     20.0     3.300000             \n",
       "3 Female 5       Brown     0.80       63     18.0     3.500000             \n",
       "4 Female 6       Brown     0.80       64     21.0     3.047619             \n",
       "5 Female 6       Brown     1.00       61     17.5     3.485714             \n",
       "6 Male   5       Brown     0.70       71     24.5     2.897959             "
      ]
     },
     "metadata": {},
     "output_type": "display_data"
    }
   ],
   "source": [
    "tail(survey)"
   ]
  },
  {
   "cell_type": "code",
   "execution_count": 100,
   "metadata": {},
   "outputs": [
    {
     "data": {
      "text/plain": [
       "eye.color\n",
       " Black   Blue  Brown Copper  Green  Hazel Maroon \n",
       "     7     10     59      1      5      4      1 "
      ]
     },
     "metadata": {},
     "output_type": "display_data"
    }
   ],
   "source": [
    "survey[ , table(eye.color)]"
   ]
  },
  {
   "cell_type": "code",
   "execution_count": 101,
   "metadata": {},
   "outputs": [
    {
     "data": {
      "text/plain": [
       "         sex\n",
       "eye.color Female Male\n",
       "   Black       2    5\n",
       "   Blue        4    6\n",
       "   Brown      32   26\n",
       "   Copper      0    1\n",
       "   Green       1    4\n",
       "   Hazel       2    2\n",
       "   Maroon      0    1"
      ]
     },
     "metadata": {},
     "output_type": "display_data"
    },
    {
     "data": {
      "text/html": [
       "<table>\n",
       "<caption>A table: 8 × 3 of type dbl</caption>\n",
       "<thead>\n",
       "\t<tr><th></th><th scope=col>Female</th><th scope=col>Male</th><th scope=col>Sum</th></tr>\n",
       "</thead>\n",
       "<tbody>\n",
       "\t<tr><th scope=row>Black</th><td> 2</td><td> 5</td><td> 7</td></tr>\n",
       "\t<tr><th scope=row>Blue</th><td> 4</td><td> 6</td><td>10</td></tr>\n",
       "\t<tr><th scope=row>Brown</th><td>32</td><td>26</td><td>58</td></tr>\n",
       "\t<tr><th scope=row>Copper</th><td> 0</td><td> 1</td><td> 1</td></tr>\n",
       "\t<tr><th scope=row>Green</th><td> 1</td><td> 4</td><td> 5</td></tr>\n",
       "\t<tr><th scope=row>Hazel</th><td> 2</td><td> 2</td><td> 4</td></tr>\n",
       "\t<tr><th scope=row>Maroon</th><td> 0</td><td> 1</td><td> 1</td></tr>\n",
       "\t<tr><th scope=row>Sum</th><td>41</td><td>45</td><td>86</td></tr>\n",
       "</tbody>\n",
       "</table>\n"
      ],
      "text/latex": [
       "A table: 8 × 3 of type dbl\n",
       "\\begin{tabular}{r|lll}\n",
       "  & Female & Male & Sum\\\\\n",
       "\\hline\n",
       "\tBlack &  2 &  5 &  7\\\\\n",
       "\tBlue &  4 &  6 & 10\\\\\n",
       "\tBrown & 32 & 26 & 58\\\\\n",
       "\tCopper &  0 &  1 &  1\\\\\n",
       "\tGreen &  1 &  4 &  5\\\\\n",
       "\tHazel &  2 &  2 &  4\\\\\n",
       "\tMaroon &  0 &  1 &  1\\\\\n",
       "\tSum & 41 & 45 & 86\\\\\n",
       "\\end{tabular}\n"
      ],
      "text/markdown": [
       "\n",
       "A table: 8 × 3 of type dbl\n",
       "\n",
       "| <!--/--> | Female | Male | Sum |\n",
       "|---|---|---|---|\n",
       "| Black |  2 |  5 |  7 |\n",
       "| Blue |  4 |  6 | 10 |\n",
       "| Brown | 32 | 26 | 58 |\n",
       "| Copper |  0 |  1 |  1 |\n",
       "| Green |  1 |  4 |  5 |\n",
       "| Hazel |  2 |  2 |  4 |\n",
       "| Maroon |  0 |  1 |  1 |\n",
       "| Sum | 41 | 45 | 86 |\n",
       "\n"
      ],
      "text/plain": [
       "         sex\n",
       "eye.color Female Male Sum\n",
       "   Black   2      5    7 \n",
       "   Blue    4      6   10 \n",
       "   Brown  32     26   58 \n",
       "   Copper  0      1    1 \n",
       "   Green   1      4    5 \n",
       "   Hazel   2      2    4 \n",
       "   Maroon  0      1    1 \n",
       "   Sum    41     45   86 "
      ]
     },
     "metadata": {},
     "output_type": "display_data"
    }
   ],
   "source": [
    "my.table = survey[ , table(eye.color, sex)]\n",
    "my.table\n",
    "addmargins(my.table)  "
   ]
  },
  {
   "cell_type": "code",
   "execution_count": 102,
   "metadata": {},
   "outputs": [
    {
     "data": {
      "text/plain": [
       "         sex\n",
       "eye.color     Female       Male\n",
       "   Black  0.02325581 0.05813953\n",
       "   Blue   0.04651163 0.06976744\n",
       "   Brown  0.37209302 0.30232558\n",
       "   Copper 0.00000000 0.01162791\n",
       "   Green  0.01162791 0.04651163\n",
       "   Hazel  0.02325581 0.02325581\n",
       "   Maroon 0.00000000 0.01162791"
      ]
     },
     "metadata": {},
     "output_type": "display_data"
    }
   ],
   "source": [
    "my.table = survey[ , table(eye.color, sex)]\n",
    "prop.table(my.table)"
   ]
  },
  {
   "cell_type": "code",
   "execution_count": 103,
   "metadata": {},
   "outputs": [
    {
     "data": {
      "text/plain": [
       "         sex\n",
       "eye.color    Female      Male\n",
       "   Black   2.325581  5.813953\n",
       "   Blue    4.651163  6.976744\n",
       "   Brown  37.209302 30.232558\n",
       "   Copper  0.000000  1.162791\n",
       "   Green   1.162791  4.651163\n",
       "   Hazel   2.325581  2.325581\n",
       "   Maroon  0.000000  1.162791"
      ]
     },
     "metadata": {},
     "output_type": "display_data"
    }
   ],
   "source": [
    "100 * prop.table(my.table)"
   ]
  },
  {
   "cell_type": "code",
   "execution_count": 104,
   "metadata": {},
   "outputs": [
    {
     "data": {
      "text/plain": [
       "         sex\n",
       "eye.color Female Male\n",
       "   Black     2.3  5.8\n",
       "   Blue      4.7  7.0\n",
       "   Brown    37.2 30.2\n",
       "   Copper    0.0  1.2\n",
       "   Green     1.2  4.7\n",
       "   Hazel     2.3  2.3\n",
       "   Maroon    0.0  1.2"
      ]
     },
     "metadata": {},
     "output_type": "display_data"
    },
    {
     "data": {
      "text/plain": [
       "         sex\n",
       "eye.color Female Male\n",
       "   Black       2    6\n",
       "   Blue        5    7\n",
       "   Brown      37   30\n",
       "   Copper      0    1\n",
       "   Green       1    5\n",
       "   Hazel       2    2\n",
       "   Maroon      0    1"
      ]
     },
     "metadata": {},
     "output_type": "display_data"
    }
   ],
   "source": [
    "round(100 * prop.table(my.table), digits = 1)\n",
    "round(100 * prop.table(my.table), digits = 0)"
   ]
  },
  {
   "cell_type": "markdown",
   "metadata": {},
   "source": [
    "## 2.7 테이블 분석"
   ]
  },
  {
   "cell_type": "code",
   "execution_count": 105,
   "metadata": {},
   "outputs": [
    {
     "data": {
      "text/plain": [
       "     sex               credits       eye.color           handedness     \n",
       " Length:89          Min.   :4.000   Length:89          Min.   :-0.8800  \n",
       " Class :character   1st Qu.:5.000   Class :character   1st Qu.: 0.6000  \n",
       " Mode  :character   Median :5.000   Mode  :character   Median : 0.7317  \n",
       "                    Mean   :5.012                      Mean   : 0.6579  \n",
       "                    3rd Qu.:5.000                      3rd Qu.: 0.8955  \n",
       "                    Max.   :6.500                      Max.   : 1.0000  \n",
       "                    NA's   :3                          NA's   :1        \n",
       "     height         handspan    height_handspan_ratio\n",
       " Min.   :58.00   Min.   :14.0   Min.   :2.739        \n",
       " 1st Qu.:64.00   1st Qu.:19.0   1st Qu.:3.091        \n",
       " Median :67.00   Median :20.5   Median :3.289        \n",
       " Mean   :67.55   Mean   :20.6   Mean   :3.304        \n",
       " 3rd Qu.:71.00   3rd Qu.:22.0   3rd Qu.:3.455        \n",
       " Max.   :78.00   Max.   :27.0   Max.   :4.643        \n",
       " NA's   :1       NA's   :1      NA's   :2            "
      ]
     },
     "metadata": {},
     "output_type": "display_data"
    }
   ],
   "source": [
    "summary(survey)"
   ]
  },
  {
   "cell_type": "code",
   "execution_count": 106,
   "metadata": {},
   "outputs": [
    {
     "data": {
      "text/html": [
       "&lt;NA&gt;"
      ],
      "text/latex": [
       "<NA>"
      ],
      "text/markdown": [
       "&lt;NA&gt;"
      ],
      "text/plain": [
       "[1] NA"
      ]
     },
     "metadata": {},
     "output_type": "display_data"
    }
   ],
   "source": [
    "## ----sum_ missing observation이 있을 때------------------------------------\n",
    "sum(survey$height)"
   ]
  },
  {
   "cell_type": "code",
   "execution_count": 107,
   "metadata": {},
   "outputs": [
    {
     "data": {
      "text/html": [
       "5944"
      ],
      "text/latex": [
       "5944"
      ],
      "text/markdown": [
       "5944"
      ],
      "text/plain": [
       "[1] 5944"
      ]
     },
     "metadata": {},
     "output_type": "display_data"
    }
   ],
   "source": [
    "## ----na.rm: ignore missing observations; NA를 제거하고 sum ----------------\n",
    "sum(survey$height, na.rm = TRUE)"
   ]
  },
  {
   "cell_type": "code",
   "execution_count": 108,
   "metadata": {},
   "outputs": [
    {
     "data": {
      "text/html": [
       "67.5454545454545"
      ],
      "text/latex": [
       "67.5454545454545"
      ],
      "text/markdown": [
       "67.5454545454545"
      ],
      "text/plain": [
       "[1] 67.54545"
      ]
     },
     "metadata": {},
     "output_type": "display_data"
    }
   ],
   "source": [
    "## ----mean_na.rm_1, mean 평균-----------------------------\n",
    "mean(survey$height, na.rm = TRUE)"
   ]
  },
  {
   "cell_type": "code",
   "execution_count": 109,
   "metadata": {},
   "outputs": [
    {
     "data": {
      "text/html": [
       "2"
      ],
      "text/latex": [
       "2"
      ],
      "text/markdown": [
       "2"
      ],
      "text/plain": [
       "[1] 2"
      ]
     },
     "metadata": {},
     "output_type": "display_data"
    },
    {
     "data": {
      "text/html": [
       "1.5"
      ],
      "text/latex": [
       "1.5"
      ],
      "text/markdown": [
       "1.5"
      ],
      "text/plain": [
       "[1] 1.5"
      ]
     },
     "metadata": {},
     "output_type": "display_data"
    }
   ],
   "source": [
    "## ----mean_na.rm_2--------------------------------------------------------\n",
    "#3 observations, \n",
    "mean(1:3)\n",
    "#3 observations, but one missing observation --\n",
    "#  missing observation을 무시하기 때문에, 평균은 (1+2)/2\n",
    "mean(c(1, 2, NA), na.rm = TRUE)"
   ]
  },
  {
   "cell_type": "code",
   "execution_count": 110,
   "metadata": {},
   "outputs": [
    {
     "data": {
      "text/html": [
       "19.7450365726228"
      ],
      "text/latex": [
       "19.7450365726228"
      ],
      "text/markdown": [
       "19.7450365726228"
      ],
      "text/plain": [
       "[1] 19.74504"
      ]
     },
     "metadata": {},
     "output_type": "display_data"
    },
    {
     "data": {
      "text/html": [
       "4.44353874435936"
      ],
      "text/latex": [
       "4.44353874435936"
      ],
      "text/markdown": [
       "4.44353874435936"
      ],
      "text/plain": [
       "[1] 4.443539"
      ]
     },
     "metadata": {},
     "output_type": "display_data"
    },
    {
     "data": {
      "text/html": [
       "4.44353874435936"
      ],
      "text/latex": [
       "4.44353874435936"
      ],
      "text/markdown": [
       "4.44353874435936"
      ],
      "text/plain": [
       "[1] 4.443539"
      ]
     },
     "metadata": {},
     "output_type": "display_data"
    }
   ],
   "source": [
    "## ----var_na.rm, variance 분산---------------------------------------------\n",
    "var(survey$height, na.rm = TRUE)\n",
    "\n",
    "## ----sd_na.rm, standard deviation 표준편차 -------------------------------\n",
    "sd(survey$height, na.rm = TRUE)\n",
    "\n",
    "## ----표준편차는 분산의 제곱근----------------------------------------------\n",
    "sqrt(var(survey$height, na.rm = TRUE))"
   ]
  },
  {
   "cell_type": "code",
   "execution_count": 111,
   "metadata": {},
   "outputs": [
    {
     "data": {
      "text/html": [
       "67"
      ],
      "text/latex": [
       "67"
      ],
      "text/markdown": [
       "67"
      ],
      "text/plain": [
       "[1] 67"
      ]
     },
     "metadata": {},
     "output_type": "display_data"
    },
    {
     "data": {
      "text/html": [
       "<style>\n",
       ".dl-inline {width: auto; margin:0; padding: 0}\n",
       ".dl-inline>dt, .dl-inline>dd {float: none; width: auto; display: inline-block}\n",
       ".dl-inline>dt::after {content: \":\\0020\"; padding-right: .5ex}\n",
       ".dl-inline>dt:not(:first-of-type) {padding-left: .5ex}\n",
       "</style><dl class=dl-inline><dt>0%</dt><dd>58</dd><dt>25%</dt><dd>64</dd><dt>50%</dt><dd>67</dd><dt>75%</dt><dd>71</dd><dt>100%</dt><dd>78</dd></dl>\n"
      ],
      "text/latex": [
       "\\begin{description*}\n",
       "\\item[0\\textbackslash{}\\%] 58\n",
       "\\item[25\\textbackslash{}\\%] 64\n",
       "\\item[50\\textbackslash{}\\%] 67\n",
       "\\item[75\\textbackslash{}\\%] 71\n",
       "\\item[100\\textbackslash{}\\%] 78\n",
       "\\end{description*}\n"
      ],
      "text/markdown": [
       "0%\n",
       ":   5825%\n",
       ":   6450%\n",
       ":   6775%\n",
       ":   71100%\n",
       ":   78\n",
       "\n"
      ],
      "text/plain": [
       "  0%  25%  50%  75% 100% \n",
       "  58   64   67   71   78 "
      ]
     },
     "metadata": {},
     "output_type": "display_data"
    },
    {
     "data": {
      "text/html": [
       "<strong>30%:</strong> 65"
      ],
      "text/latex": [
       "\\textbf{30\\textbackslash{}\\%:} 65"
      ],
      "text/markdown": [
       "**30%:** 65"
      ],
      "text/plain": [
       "30% \n",
       " 65 "
      ]
     },
     "metadata": {},
     "output_type": "display_data"
    },
    {
     "data": {
      "text/html": [
       "<style>\n",
       ".dl-inline {width: auto; margin:0; padding: 0}\n",
       ".dl-inline>dt, .dl-inline>dd {float: none; width: auto; display: inline-block}\n",
       ".dl-inline>dt::after {content: \":\\0020\"; padding-right: .5ex}\n",
       ".dl-inline>dt:not(:first-of-type) {padding-left: .5ex}\n",
       "</style><dl class=dl-inline><dt>10%</dt><dd>62</dd><dt>30%</dt><dd>65</dd><dt>70%</dt><dd>70</dd><dt>90%</dt><dd>73.3</dd></dl>\n"
      ],
      "text/latex": [
       "\\begin{description*}\n",
       "\\item[10\\textbackslash{}\\%] 62\n",
       "\\item[30\\textbackslash{}\\%] 65\n",
       "\\item[70\\textbackslash{}\\%] 70\n",
       "\\item[90\\textbackslash{}\\%] 73.3\n",
       "\\end{description*}\n"
      ],
      "text/markdown": [
       "10%\n",
       ":   6230%\n",
       ":   6570%\n",
       ":   7090%\n",
       ":   73.3\n",
       "\n"
      ],
      "text/plain": [
       " 10%  30%  70%  90% \n",
       "62.0 65.0 70.0 73.3 "
      ]
     },
     "metadata": {},
     "output_type": "display_data"
    }
   ],
   "source": [
    "## ----median_na.rm, median 중위값 또는 중앙값-------------------------------\n",
    "median(survey$height, na.rm = TRUE)\n",
    "\n",
    "## ----quantile_5no, quantile 분위수 --------------------------------------\n",
    "quantile(survey$height, na.rm = TRUE)\n",
    "\n",
    "## ----quantile_probs, 분위수------------------------------------------------\n",
    "quantile(survey$height, na.rm = TRUE, probs = 0.3)\n",
    "\n",
    "## ----quantile_many_probs-------------------------------------------------\n",
    "quantile(survey$height, na.rm = TRUE, probs = c(0.1, 0.3, 0.7, 0.9))"
   ]
  },
  {
   "cell_type": "code",
   "execution_count": 112,
   "metadata": {},
   "outputs": [
    {
     "data": {
      "text/html": [
       "7"
      ],
      "text/latex": [
       "7"
      ],
      "text/markdown": [
       "7"
      ],
      "text/plain": [
       "[1] 7"
      ]
     },
     "metadata": {},
     "output_type": "display_data"
    },
    {
     "data": {
      "text/html": [
       "<strong>75%:</strong> 7"
      ],
      "text/latex": [
       "\\textbf{75\\textbackslash{}\\%:} 7"
      ],
      "text/markdown": [
       "**75%:** 7"
      ],
      "text/plain": [
       "75% \n",
       "  7 "
      ]
     },
     "metadata": {},
     "output_type": "display_data"
    },
    {
     "data": {
      "text/html": [
       "78"
      ],
      "text/latex": [
       "78"
      ],
      "text/markdown": [
       "78"
      ],
      "text/plain": [
       "[1] 78"
      ]
     },
     "metadata": {},
     "output_type": "display_data"
    },
    {
     "data": {
      "text/html": [
       "58"
      ],
      "text/latex": [
       "58"
      ],
      "text/markdown": [
       "58"
      ],
      "text/plain": [
       "[1] 58"
      ]
     },
     "metadata": {},
     "output_type": "display_data"
    }
   ],
   "source": [
    "## ----iqr, Inter-Quartile Range---------------------------------------------\n",
    "IQR(survey$height, na.rm = TRUE)\n",
    "\n",
    "## ----iqr_w_quantile, ------------------------------------------------------\n",
    "x = quantile(survey$height, na.rm = TRUE, probs = c(.25, .75))\n",
    "x[2] - x[1]\n",
    "\n",
    "## ----max_min, 최대 최소----------------------------------------------------\n",
    "max(survey$height, na.rm = TRUE)\n",
    "min(survey$height, na.rm = TRUE)"
   ]
  },
  {
   "cell_type": "code",
   "execution_count": 113,
   "metadata": {},
   "outputs": [
    {
     "data": {
      "text/html": [
       "20"
      ],
      "text/latex": [
       "20"
      ],
      "text/markdown": [
       "20"
      ],
      "text/plain": [
       "[1] 20"
      ]
     },
     "metadata": {},
     "output_type": "display_data"
    },
    {
     "data": {
      "text/html": [
       "<style>\n",
       ".list-inline {list-style: none; margin:0; padding: 0}\n",
       ".list-inline>li {display: inline-block}\n",
       ".list-inline>li:not(:last-child)::after {content: \"\\00b7\"; padding: 0 .5ex}\n",
       "</style>\n",
       "<ol class=list-inline><li>58</li><li>78</li></ol>\n"
      ],
      "text/latex": [
       "\\begin{enumerate*}\n",
       "\\item 58\n",
       "\\item 78\n",
       "\\end{enumerate*}\n"
      ],
      "text/markdown": [
       "1. 58\n",
       "2. 78\n",
       "\n",
       "\n"
      ],
      "text/plain": [
       "[1] 58 78"
      ]
     },
     "metadata": {},
     "output_type": "display_data"
    },
    {
     "data": {
      "text/html": [
       "67"
      ],
      "text/latex": [
       "67"
      ],
      "text/markdown": [
       "67"
      ],
      "text/plain": [
       "[1] 67"
      ]
     },
     "metadata": {},
     "output_type": "display_data"
    },
    {
     "data": {
      "text/html": [
       "<table>\n",
       "<caption>A data.table: 1 × 7</caption>\n",
       "<thead>\n",
       "\t<tr><th scope=col>sex</th><th scope=col>credits</th><th scope=col>eye.color</th><th scope=col>handedness</th><th scope=col>height</th><th scope=col>handspan</th><th scope=col>height_handspan_ratio</th></tr>\n",
       "\t<tr><th scope=col>&lt;chr&gt;</th><th scope=col>&lt;dbl&gt;</th><th scope=col>&lt;chr&gt;</th><th scope=col>&lt;dbl&gt;</th><th scope=col>&lt;int&gt;</th><th scope=col>&lt;dbl&gt;</th><th scope=col>&lt;dbl&gt;</th></tr>\n",
       "</thead>\n",
       "<tbody>\n",
       "\t<tr><td>Male</td><td>5</td><td>Green</td><td>0.894</td><td>78</td><td>24</td><td>3.25</td></tr>\n",
       "</tbody>\n",
       "</table>\n"
      ],
      "text/latex": [
       "A data.table: 1 × 7\n",
       "\\begin{tabular}{lllllll}\n",
       " sex & credits & eye.color & handedness & height & handspan & height\\_handspan\\_ratio\\\\\n",
       " <chr> & <dbl> & <chr> & <dbl> & <int> & <dbl> & <dbl>\\\\\n",
       "\\hline\n",
       "\t Male & 5 & Green & 0.894 & 78 & 24 & 3.25\\\\\n",
       "\\end{tabular}\n"
      ],
      "text/markdown": [
       "\n",
       "A data.table: 1 × 7\n",
       "\n",
       "| sex &lt;chr&gt; | credits &lt;dbl&gt; | eye.color &lt;chr&gt; | handedness &lt;dbl&gt; | height &lt;int&gt; | handspan &lt;dbl&gt; | height_handspan_ratio &lt;dbl&gt; |\n",
       "|---|---|---|---|---|---|---|\n",
       "| Male | 5 | Green | 0.894 | 78 | 24 | 3.25 |\n",
       "\n"
      ],
      "text/plain": [
       "  sex  credits eye.color handedness height handspan height_handspan_ratio\n",
       "1 Male 5       Green     0.894      78     24       3.25                 "
      ]
     },
     "metadata": {},
     "output_type": "display_data"
    },
    {
     "data": {
      "text/html": [
       "<table>\n",
       "<caption>A data.table: 1 × 7</caption>\n",
       "<thead>\n",
       "\t<tr><th scope=col>sex</th><th scope=col>credits</th><th scope=col>eye.color</th><th scope=col>handedness</th><th scope=col>height</th><th scope=col>handspan</th><th scope=col>height_handspan_ratio</th></tr>\n",
       "\t<tr><th scope=col>&lt;chr&gt;</th><th scope=col>&lt;dbl&gt;</th><th scope=col>&lt;chr&gt;</th><th scope=col>&lt;dbl&gt;</th><th scope=col>&lt;int&gt;</th><th scope=col>&lt;dbl&gt;</th><th scope=col>&lt;dbl&gt;</th></tr>\n",
       "</thead>\n",
       "<tbody>\n",
       "\t<tr><td>Male</td><td>5</td><td>Brown</td><td>0.6</td><td>58</td><td>21</td><td>2.761905</td></tr>\n",
       "</tbody>\n",
       "</table>\n"
      ],
      "text/latex": [
       "A data.table: 1 × 7\n",
       "\\begin{tabular}{lllllll}\n",
       " sex & credits & eye.color & handedness & height & handspan & height\\_handspan\\_ratio\\\\\n",
       " <chr> & <dbl> & <chr> & <dbl> & <int> & <dbl> & <dbl>\\\\\n",
       "\\hline\n",
       "\t Male & 5 & Brown & 0.6 & 58 & 21 & 2.761905\\\\\n",
       "\\end{tabular}\n"
      ],
      "text/markdown": [
       "\n",
       "A data.table: 1 × 7\n",
       "\n",
       "| sex &lt;chr&gt; | credits &lt;dbl&gt; | eye.color &lt;chr&gt; | handedness &lt;dbl&gt; | height &lt;int&gt; | handspan &lt;dbl&gt; | height_handspan_ratio &lt;dbl&gt; |\n",
       "|---|---|---|---|---|---|---|\n",
       "| Male | 5 | Brown | 0.6 | 58 | 21 | 2.761905 |\n",
       "\n"
      ],
      "text/plain": [
       "  sex  credits eye.color handedness height handspan height_handspan_ratio\n",
       "1 Male 5       Brown     0.6        58     21       2.761905             "
      ]
     },
     "metadata": {},
     "output_type": "display_data"
    }
   ],
   "source": [
    "## ----range_by_hand-------------------------------------------------------\n",
    "max(survey$height, na.rm = TRUE) - min(survey$height, na.rm = TRUE)\n",
    "\n",
    "## ----range---------------------------------------------------------------\n",
    "range(survey$height, na.rm = TRUE)\n",
    "\n",
    "## ----which.max_min-------------------------------------------------------\n",
    "which.max(survey$height)     # 몇번째 observation? \n",
    "survey[which.max(height)]\n",
    "survey[which.min(height)]"
   ]
  },
  {
   "cell_type": "code",
   "execution_count": 114,
   "metadata": {},
   "outputs": [
    {
     "data": {
      "text/html": [
       "<table>\n",
       "<caption>A data.table: 3 × 2</caption>\n",
       "<thead>\n",
       "\t<tr><th scope=col>sex</th><th scope=col>V1</th></tr>\n",
       "\t<tr><th scope=col>&lt;chr&gt;</th><th scope=col>&lt;dbl&gt;</th></tr>\n",
       "</thead>\n",
       "<tbody>\n",
       "\t<tr><td>Male  </td><td>70.37778</td></tr>\n",
       "\t<tr><td>Female</td><td>64.50000</td></tr>\n",
       "\t<tr><td>NA    </td><td>68.00000</td></tr>\n",
       "</tbody>\n",
       "</table>\n"
      ],
      "text/latex": [
       "A data.table: 3 × 2\n",
       "\\begin{tabular}{ll}\n",
       " sex & V1\\\\\n",
       " <chr> & <dbl>\\\\\n",
       "\\hline\n",
       "\t Male   & 70.37778\\\\\n",
       "\t Female & 64.50000\\\\\n",
       "\t NA     & 68.00000\\\\\n",
       "\\end{tabular}\n"
      ],
      "text/markdown": [
       "\n",
       "A data.table: 3 × 2\n",
       "\n",
       "| sex &lt;chr&gt; | V1 &lt;dbl&gt; |\n",
       "|---|---|\n",
       "| Male   | 70.37778 |\n",
       "| Female | 64.50000 |\n",
       "| NA     | 68.00000 |\n",
       "\n"
      ],
      "text/plain": [
       "  sex    V1      \n",
       "1 Male   70.37778\n",
       "2 Female 64.50000\n",
       "3 NA     68.00000"
      ]
     },
     "metadata": {},
     "output_type": "display_data"
    },
    {
     "data": {
      "text/html": [
       "<table>\n",
       "<caption>A data.table: 3 × 2</caption>\n",
       "<thead>\n",
       "\t<tr><th scope=col>sex</th><th scope=col>V1</th></tr>\n",
       "\t<tr><th scope=col>&lt;chr&gt;</th><th scope=col>&lt;dbl&gt;</th></tr>\n",
       "</thead>\n",
       "<tbody>\n",
       "\t<tr><td>Male  </td><td>14.240404</td></tr>\n",
       "\t<tr><td>Female</td><td> 8.304878</td></tr>\n",
       "\t<tr><td>NA    </td><td>       NA</td></tr>\n",
       "</tbody>\n",
       "</table>\n"
      ],
      "text/latex": [
       "A data.table: 3 × 2\n",
       "\\begin{tabular}{ll}\n",
       " sex & V1\\\\\n",
       " <chr> & <dbl>\\\\\n",
       "\\hline\n",
       "\t Male   & 14.240404\\\\\n",
       "\t Female &  8.304878\\\\\n",
       "\t NA     &        NA\\\\\n",
       "\\end{tabular}\n"
      ],
      "text/markdown": [
       "\n",
       "A data.table: 3 × 2\n",
       "\n",
       "| sex &lt;chr&gt; | V1 &lt;dbl&gt; |\n",
       "|---|---|\n",
       "| Male   | 14.240404 |\n",
       "| Female |  8.304878 |\n",
       "| NA     |        NA |\n",
       "\n"
      ],
      "text/plain": [
       "  sex    V1       \n",
       "1 Male   14.240404\n",
       "2 Female  8.304878\n",
       "3 NA            NA"
      ]
     },
     "metadata": {},
     "output_type": "display_data"
    },
    {
     "data": {
      "text/html": [
       "<table>\n",
       "<caption>A data.table: 3 × 2</caption>\n",
       "<thead>\n",
       "\t<tr><th scope=col>sex</th><th scope=col>variance</th></tr>\n",
       "\t<tr><th scope=col>&lt;chr&gt;</th><th scope=col>&lt;dbl&gt;</th></tr>\n",
       "</thead>\n",
       "<tbody>\n",
       "\t<tr><td>Male  </td><td>14.240404</td></tr>\n",
       "\t<tr><td>Female</td><td> 8.304878</td></tr>\n",
       "\t<tr><td>NA    </td><td>       NA</td></tr>\n",
       "</tbody>\n",
       "</table>\n"
      ],
      "text/latex": [
       "A data.table: 3 × 2\n",
       "\\begin{tabular}{ll}\n",
       " sex & variance\\\\\n",
       " <chr> & <dbl>\\\\\n",
       "\\hline\n",
       "\t Male   & 14.240404\\\\\n",
       "\t Female &  8.304878\\\\\n",
       "\t NA     &        NA\\\\\n",
       "\\end{tabular}\n"
      ],
      "text/markdown": [
       "\n",
       "A data.table: 3 × 2\n",
       "\n",
       "| sex &lt;chr&gt; | variance &lt;dbl&gt; |\n",
       "|---|---|\n",
       "| Male   | 14.240404 |\n",
       "| Female |  8.304878 |\n",
       "| NA     |        NA |\n",
       "\n"
      ],
      "text/plain": [
       "  sex    variance \n",
       "1 Male   14.240404\n",
       "2 Female  8.304878\n",
       "3 NA            NA"
      ]
     },
     "metadata": {},
     "output_type": "display_data"
    }
   ],
   "source": [
    "## ----by_mean-------------------------------------------------------------\n",
    "survey[ , mean(height, na.rm = TRUE), by = sex]\n",
    "\n",
    "## ----by_var--------------------------------------------------------------\n",
    "survey[ , var(height, na.rm = TRUE), by = sex]\n",
    "\n",
    "## ----by_var_named--------------------------------------------------------\n",
    "survey[ , .(variance = var(height, na.rm = TRUE)), by = sex]"
   ]
  },
  {
   "cell_type": "code",
   "execution_count": 115,
   "metadata": {},
   "outputs": [
    {
     "data": {
      "text/html": [
       "<table>\n",
       "<caption>A data.table: 8 × 2</caption>\n",
       "<thead>\n",
       "\t<tr><th scope=col>eye.color</th><th scope=col>V1</th></tr>\n",
       "\t<tr><th scope=col>&lt;chr&gt;</th><th scope=col>&lt;dbl&gt;</th></tr>\n",
       "</thead>\n",
       "<tbody>\n",
       "\t<tr><td>Brown </td><td>66.77966</td></tr>\n",
       "\t<tr><td>Blue  </td><td>69.00000</td></tr>\n",
       "\t<tr><td>Black </td><td>68.71429</td></tr>\n",
       "\t<tr><td>Hazel </td><td>67.75000</td></tr>\n",
       "\t<tr><td>Green </td><td>71.50000</td></tr>\n",
       "\t<tr><td>NA    </td><td>64.00000</td></tr>\n",
       "\t<tr><td>Maroon</td><td>74.00000</td></tr>\n",
       "\t<tr><td>Copper</td><td>74.00000</td></tr>\n",
       "</tbody>\n",
       "</table>\n"
      ],
      "text/latex": [
       "A data.table: 8 × 2\n",
       "\\begin{tabular}{ll}\n",
       " eye.color & V1\\\\\n",
       " <chr> & <dbl>\\\\\n",
       "\\hline\n",
       "\t Brown  & 66.77966\\\\\n",
       "\t Blue   & 69.00000\\\\\n",
       "\t Black  & 68.71429\\\\\n",
       "\t Hazel  & 67.75000\\\\\n",
       "\t Green  & 71.50000\\\\\n",
       "\t NA     & 64.00000\\\\\n",
       "\t Maroon & 74.00000\\\\\n",
       "\t Copper & 74.00000\\\\\n",
       "\\end{tabular}\n"
      ],
      "text/markdown": [
       "\n",
       "A data.table: 8 × 2\n",
       "\n",
       "| eye.color &lt;chr&gt; | V1 &lt;dbl&gt; |\n",
       "|---|---|\n",
       "| Brown  | 66.77966 |\n",
       "| Blue   | 69.00000 |\n",
       "| Black  | 68.71429 |\n",
       "| Hazel  | 67.75000 |\n",
       "| Green  | 71.50000 |\n",
       "| NA     | 64.00000 |\n",
       "| Maroon | 74.00000 |\n",
       "| Copper | 74.00000 |\n",
       "\n"
      ],
      "text/plain": [
       "  eye.color V1      \n",
       "1 Brown     66.77966\n",
       "2 Blue      69.00000\n",
       "3 Black     68.71429\n",
       "4 Hazel     67.75000\n",
       "5 Green     71.50000\n",
       "6 NA        64.00000\n",
       "7 Maroon    74.00000\n",
       "8 Copper    74.00000"
      ]
     },
     "metadata": {},
     "output_type": "display_data"
    },
    {
     "data": {
      "text/html": [
       "<table>\n",
       "<caption>A data.table: 11 × 3</caption>\n",
       "<thead>\n",
       "\t<tr><th scope=col>sex</th><th scope=col>credits</th><th scope=col>avg_height</th></tr>\n",
       "\t<tr><th scope=col>&lt;chr&gt;</th><th scope=col>&lt;dbl&gt;</th><th scope=col>&lt;dbl&gt;</th></tr>\n",
       "</thead>\n",
       "<tbody>\n",
       "\t<tr><td>Male  </td><td>5.0</td><td>70.00000</td></tr>\n",
       "\t<tr><td>Female</td><td>5.0</td><td>64.79167</td></tr>\n",
       "\t<tr><td>Female</td><td> NA</td><td>64.66667</td></tr>\n",
       "\t<tr><td>Female</td><td>4.0</td><td>65.00000</td></tr>\n",
       "\t<tr><td>Female</td><td>6.0</td><td>63.33333</td></tr>\n",
       "\t<tr><td>Male  </td><td>4.0</td><td>71.11111</td></tr>\n",
       "\t<tr><td>Male  </td><td>5.5</td><td>69.60000</td></tr>\n",
       "\t<tr><td>Female</td><td>6.5</td><td>65.00000</td></tr>\n",
       "\t<tr><td>Male  </td><td>6.0</td><td>71.00000</td></tr>\n",
       "\t<tr><td>Male  </td><td>4.5</td><td>72.00000</td></tr>\n",
       "\t<tr><td>NA    </td><td>5.5</td><td>68.00000</td></tr>\n",
       "</tbody>\n",
       "</table>\n"
      ],
      "text/latex": [
       "A data.table: 11 × 3\n",
       "\\begin{tabular}{lll}\n",
       " sex & credits & avg\\_height\\\\\n",
       " <chr> & <dbl> & <dbl>\\\\\n",
       "\\hline\n",
       "\t Male   & 5.0 & 70.00000\\\\\n",
       "\t Female & 5.0 & 64.79167\\\\\n",
       "\t Female &  NA & 64.66667\\\\\n",
       "\t Female & 4.0 & 65.00000\\\\\n",
       "\t Female & 6.0 & 63.33333\\\\\n",
       "\t Male   & 4.0 & 71.11111\\\\\n",
       "\t Male   & 5.5 & 69.60000\\\\\n",
       "\t Female & 6.5 & 65.00000\\\\\n",
       "\t Male   & 6.0 & 71.00000\\\\\n",
       "\t Male   & 4.5 & 72.00000\\\\\n",
       "\t NA     & 5.5 & 68.00000\\\\\n",
       "\\end{tabular}\n"
      ],
      "text/markdown": [
       "\n",
       "A data.table: 11 × 3\n",
       "\n",
       "| sex &lt;chr&gt; | credits &lt;dbl&gt; | avg_height &lt;dbl&gt; |\n",
       "|---|---|---|\n",
       "| Male   | 5.0 | 70.00000 |\n",
       "| Female | 5.0 | 64.79167 |\n",
       "| Female |  NA | 64.66667 |\n",
       "| Female | 4.0 | 65.00000 |\n",
       "| Female | 6.0 | 63.33333 |\n",
       "| Male   | 4.0 | 71.11111 |\n",
       "| Male   | 5.5 | 69.60000 |\n",
       "| Female | 6.5 | 65.00000 |\n",
       "| Male   | 6.0 | 71.00000 |\n",
       "| Male   | 4.5 | 72.00000 |\n",
       "| NA     | 5.5 | 68.00000 |\n",
       "\n"
      ],
      "text/plain": [
       "   sex    credits avg_height\n",
       "1  Male   5.0     70.00000  \n",
       "2  Female 5.0     64.79167  \n",
       "3  Female  NA     64.66667  \n",
       "4  Female 4.0     65.00000  \n",
       "5  Female 6.0     63.33333  \n",
       "6  Male   4.0     71.11111  \n",
       "7  Male   5.5     69.60000  \n",
       "8  Female 6.5     65.00000  \n",
       "9  Male   6.0     71.00000  \n",
       "10 Male   4.5     72.00000  \n",
       "11 NA     5.5     68.00000  "
      ]
     },
     "metadata": {},
     "output_type": "display_data"
    },
    {
     "data": {
      "text/html": [
       "<style>\n",
       ".list-inline {list-style: none; margin:0; padding: 0}\n",
       ".list-inline>li {display: inline-block}\n",
       ".list-inline>li:not(:last-child)::after {content: \"\\00b7\"; padding: 0 .5ex}\n",
       "</style>\n",
       "<ol class=list-inline><li>FALSE</li><li>FALSE</li><li>TRUE</li><li>FALSE</li><li>TRUE</li><li>FALSE</li></ol>\n"
      ],
      "text/latex": [
       "\\begin{enumerate*}\n",
       "\\item FALSE\n",
       "\\item FALSE\n",
       "\\item TRUE\n",
       "\\item FALSE\n",
       "\\item TRUE\n",
       "\\item FALSE\n",
       "\\end{enumerate*}\n"
      ],
      "text/markdown": [
       "1. FALSE\n",
       "2. FALSE\n",
       "3. TRUE\n",
       "4. FALSE\n",
       "5. TRUE\n",
       "6. FALSE\n",
       "\n",
       "\n"
      ],
      "text/plain": [
       "[1] FALSE FALSE  TRUE FALSE  TRUE FALSE"
      ]
     },
     "metadata": {},
     "output_type": "display_data"
    }
   ],
   "source": [
    "## ----by_eye.color--------------------------------------------------------\n",
    "survey[ , mean(height, na.rm = TRUE), by = eye.color]\n",
    "\n",
    "## ----by_multiple---------------------------------------------------------\n",
    "survey[ , .(avg_height = mean(height, na.rm = TRUE)), by = .(sex, credits)]\n",
    "\n",
    "## ----is_na  NA인지 여부 ---------------------------------------------------\n",
    "x = c(1, 2, NA, 3, NA, 4)\n",
    "is.na(x) "
   ]
  },
  {
   "cell_type": "code",
   "execution_count": 116,
   "metadata": {},
   "outputs": [
    {
     "data": {
      "text/html": [
       "<style>\n",
       ".list-inline {list-style: none; margin:0; padding: 0}\n",
       ".list-inline>li {display: inline-block}\n",
       ".list-inline>li:not(:last-child)::after {content: \"\\00b7\"; padding: 0 .5ex}\n",
       "</style>\n",
       "<ol class=list-inline><li>TRUE</li><li>TRUE</li><li>FALSE</li><li>TRUE</li><li>FALSE</li><li>TRUE</li></ol>\n"
      ],
      "text/latex": [
       "\\begin{enumerate*}\n",
       "\\item TRUE\n",
       "\\item TRUE\n",
       "\\item FALSE\n",
       "\\item TRUE\n",
       "\\item FALSE\n",
       "\\item TRUE\n",
       "\\end{enumerate*}\n"
      ],
      "text/markdown": [
       "1. TRUE\n",
       "2. TRUE\n",
       "3. FALSE\n",
       "4. TRUE\n",
       "5. FALSE\n",
       "6. TRUE\n",
       "\n",
       "\n"
      ],
      "text/plain": [
       "[1]  TRUE  TRUE FALSE  TRUE FALSE  TRUE"
      ]
     },
     "metadata": {},
     "output_type": "display_data"
    },
    {
     "data": {
      "text/html": [
       "<style>\n",
       ".list-inline {list-style: none; margin:0; padding: 0}\n",
       ".list-inline>li {display: inline-block}\n",
       ".list-inline>li:not(:last-child)::after {content: \"\\00b7\"; padding: 0 .5ex}\n",
       "</style>\n",
       "<ol class=list-inline><li>TRUE</li><li>FALSE</li><li>TRUE</li><li>FALSE</li><li>FALSE</li><li>TRUE</li></ol>\n"
      ],
      "text/latex": [
       "\\begin{enumerate*}\n",
       "\\item TRUE\n",
       "\\item FALSE\n",
       "\\item TRUE\n",
       "\\item FALSE\n",
       "\\item FALSE\n",
       "\\item TRUE\n",
       "\\end{enumerate*}\n"
      ],
      "text/markdown": [
       "1. TRUE\n",
       "2. FALSE\n",
       "3. TRUE\n",
       "4. FALSE\n",
       "5. FALSE\n",
       "6. TRUE\n",
       "\n",
       "\n"
      ],
      "text/plain": [
       "[1]  TRUE FALSE  TRUE FALSE FALSE  TRUE"
      ]
     },
     "metadata": {},
     "output_type": "display_data"
    },
    {
     "data": {
      "text/html": [
       "<style>\n",
       ".list-inline {list-style: none; margin:0; padding: 0}\n",
       ".list-inline>li {display: inline-block}\n",
       ".list-inline>li:not(:last-child)::after {content: \"\\00b7\"; padding: 0 .5ex}\n",
       "</style>\n",
       "<ol class=list-inline><li>FALSE</li><li>TRUE</li><li>FALSE</li><li>TRUE</li><li>TRUE</li><li>FALSE</li></ol>\n"
      ],
      "text/latex": [
       "\\begin{enumerate*}\n",
       "\\item FALSE\n",
       "\\item TRUE\n",
       "\\item FALSE\n",
       "\\item TRUE\n",
       "\\item TRUE\n",
       "\\item FALSE\n",
       "\\end{enumerate*}\n"
      ],
      "text/markdown": [
       "1. FALSE\n",
       "2. TRUE\n",
       "3. FALSE\n",
       "4. TRUE\n",
       "5. TRUE\n",
       "6. FALSE\n",
       "\n",
       "\n"
      ],
      "text/plain": [
       "[1] FALSE  TRUE FALSE  TRUE  TRUE FALSE"
      ]
     },
     "metadata": {},
     "output_type": "display_data"
    },
    {
     "data": {
      "text/html": [
       "<style>\n",
       ".list-inline {list-style: none; margin:0; padding: 0}\n",
       ".list-inline>li {display: inline-block}\n",
       ".list-inline>li:not(:last-child)::after {content: \"\\00b7\"; padding: 0 .5ex}\n",
       "</style>\n",
       "<ol class=list-inline><li>FALSE</li><li>TRUE</li><li>FALSE</li><li>TRUE</li><li>FALSE</li><li>FALSE</li></ol>\n"
      ],
      "text/latex": [
       "\\begin{enumerate*}\n",
       "\\item FALSE\n",
       "\\item TRUE\n",
       "\\item FALSE\n",
       "\\item TRUE\n",
       "\\item FALSE\n",
       "\\item FALSE\n",
       "\\end{enumerate*}\n"
      ],
      "text/markdown": [
       "1. FALSE\n",
       "2. TRUE\n",
       "3. FALSE\n",
       "4. TRUE\n",
       "5. FALSE\n",
       "6. FALSE\n",
       "\n",
       "\n"
      ],
      "text/plain": [
       "[1] FALSE  TRUE FALSE  TRUE FALSE FALSE"
      ]
     },
     "metadata": {},
     "output_type": "display_data"
    }
   ],
   "source": [
    "## ----not-----------------------------------------------------------------\n",
    "!is.na(x)\n",
    "\n",
    "## ----and-----------------------------------------------------------------\n",
    "y = c(NA, 1, NA, 2, 3, NA)\n",
    "is.na(y)\n",
    "!is.na(y)\n",
    "!is.na(x) & !is.na(y)   #둘다 NA가 아님 "
   ]
  },
  {
   "cell_type": "code",
   "execution_count": 117,
   "metadata": {},
   "outputs": [
    {
     "data": {
      "text/html": [
       "<table>\n",
       "<caption>A data.table: 9 × 3</caption>\n",
       "<thead>\n",
       "\t<tr><th scope=col>sex</th><th scope=col>credits</th><th scope=col>avg_height</th></tr>\n",
       "\t<tr><th scope=col>&lt;chr&gt;</th><th scope=col>&lt;dbl&gt;</th><th scope=col>&lt;dbl&gt;</th></tr>\n",
       "</thead>\n",
       "<tbody>\n",
       "\t<tr><td>Male  </td><td>5.0</td><td>70.00000</td></tr>\n",
       "\t<tr><td>Female</td><td>5.0</td><td>64.79167</td></tr>\n",
       "\t<tr><td>Female</td><td>4.0</td><td>65.00000</td></tr>\n",
       "\t<tr><td>Female</td><td>6.0</td><td>63.33333</td></tr>\n",
       "\t<tr><td>Male  </td><td>4.0</td><td>71.11111</td></tr>\n",
       "\t<tr><td>Male  </td><td>5.5</td><td>69.60000</td></tr>\n",
       "\t<tr><td>Female</td><td>6.5</td><td>65.00000</td></tr>\n",
       "\t<tr><td>Male  </td><td>6.0</td><td>71.00000</td></tr>\n",
       "\t<tr><td>Male  </td><td>4.5</td><td>72.00000</td></tr>\n",
       "</tbody>\n",
       "</table>\n"
      ],
      "text/latex": [
       "A data.table: 9 × 3\n",
       "\\begin{tabular}{lll}\n",
       " sex & credits & avg\\_height\\\\\n",
       " <chr> & <dbl> & <dbl>\\\\\n",
       "\\hline\n",
       "\t Male   & 5.0 & 70.00000\\\\\n",
       "\t Female & 5.0 & 64.79167\\\\\n",
       "\t Female & 4.0 & 65.00000\\\\\n",
       "\t Female & 6.0 & 63.33333\\\\\n",
       "\t Male   & 4.0 & 71.11111\\\\\n",
       "\t Male   & 5.5 & 69.60000\\\\\n",
       "\t Female & 6.5 & 65.00000\\\\\n",
       "\t Male   & 6.0 & 71.00000\\\\\n",
       "\t Male   & 4.5 & 72.00000\\\\\n",
       "\\end{tabular}\n"
      ],
      "text/markdown": [
       "\n",
       "A data.table: 9 × 3\n",
       "\n",
       "| sex &lt;chr&gt; | credits &lt;dbl&gt; | avg_height &lt;dbl&gt; |\n",
       "|---|---|---|\n",
       "| Male   | 5.0 | 70.00000 |\n",
       "| Female | 5.0 | 64.79167 |\n",
       "| Female | 4.0 | 65.00000 |\n",
       "| Female | 6.0 | 63.33333 |\n",
       "| Male   | 4.0 | 71.11111 |\n",
       "| Male   | 5.5 | 69.60000 |\n",
       "| Female | 6.5 | 65.00000 |\n",
       "| Male   | 6.0 | 71.00000 |\n",
       "| Male   | 4.5 | 72.00000 |\n",
       "\n"
      ],
      "text/plain": [
       "  sex    credits avg_height\n",
       "1 Male   5.0     70.00000  \n",
       "2 Female 5.0     64.79167  \n",
       "3 Female 4.0     65.00000  \n",
       "4 Female 6.0     63.33333  \n",
       "5 Male   4.0     71.11111  \n",
       "6 Male   5.5     69.60000  \n",
       "7 Female 6.5     65.00000  \n",
       "8 Male   6.0     71.00000  \n",
       "9 Male   4.5     72.00000  "
      ]
     },
     "metadata": {},
     "output_type": "display_data"
    },
    {
     "data": {
      "text/html": [
       "<table>\n",
       "<caption>A data.table: 9 × 3</caption>\n",
       "<thead>\n",
       "\t<tr><th scope=col>sex</th><th scope=col>credits</th><th scope=col>avg_height</th></tr>\n",
       "\t<tr><th scope=col>&lt;chr&gt;</th><th scope=col>&lt;dbl&gt;</th><th scope=col>&lt;dbl&gt;</th></tr>\n",
       "</thead>\n",
       "<tbody>\n",
       "\t<tr><td>Female</td><td>4.0</td><td>65.00000</td></tr>\n",
       "\t<tr><td>Female</td><td>5.0</td><td>64.79167</td></tr>\n",
       "\t<tr><td>Female</td><td>6.0</td><td>63.33333</td></tr>\n",
       "\t<tr><td>Female</td><td>6.5</td><td>65.00000</td></tr>\n",
       "\t<tr><td>Male  </td><td>4.0</td><td>71.11111</td></tr>\n",
       "\t<tr><td>Male  </td><td>4.5</td><td>72.00000</td></tr>\n",
       "\t<tr><td>Male  </td><td>5.0</td><td>70.00000</td></tr>\n",
       "\t<tr><td>Male  </td><td>5.5</td><td>69.60000</td></tr>\n",
       "\t<tr><td>Male  </td><td>6.0</td><td>71.00000</td></tr>\n",
       "</tbody>\n",
       "</table>\n"
      ],
      "text/latex": [
       "A data.table: 9 × 3\n",
       "\\begin{tabular}{lll}\n",
       " sex & credits & avg\\_height\\\\\n",
       " <chr> & <dbl> & <dbl>\\\\\n",
       "\\hline\n",
       "\t Female & 4.0 & 65.00000\\\\\n",
       "\t Female & 5.0 & 64.79167\\\\\n",
       "\t Female & 6.0 & 63.33333\\\\\n",
       "\t Female & 6.5 & 65.00000\\\\\n",
       "\t Male   & 4.0 & 71.11111\\\\\n",
       "\t Male   & 4.5 & 72.00000\\\\\n",
       "\t Male   & 5.0 & 70.00000\\\\\n",
       "\t Male   & 5.5 & 69.60000\\\\\n",
       "\t Male   & 6.0 & 71.00000\\\\\n",
       "\\end{tabular}\n"
      ],
      "text/markdown": [
       "\n",
       "A data.table: 9 × 3\n",
       "\n",
       "| sex &lt;chr&gt; | credits &lt;dbl&gt; | avg_height &lt;dbl&gt; |\n",
       "|---|---|---|\n",
       "| Female | 4.0 | 65.00000 |\n",
       "| Female | 5.0 | 64.79167 |\n",
       "| Female | 6.0 | 63.33333 |\n",
       "| Female | 6.5 | 65.00000 |\n",
       "| Male   | 4.0 | 71.11111 |\n",
       "| Male   | 4.5 | 72.00000 |\n",
       "| Male   | 5.0 | 70.00000 |\n",
       "| Male   | 5.5 | 69.60000 |\n",
       "| Male   | 6.0 | 71.00000 |\n",
       "\n"
      ],
      "text/plain": [
       "  sex    credits avg_height\n",
       "1 Female 4.0     65.00000  \n",
       "2 Female 5.0     64.79167  \n",
       "3 Female 6.0     63.33333  \n",
       "4 Female 6.5     65.00000  \n",
       "5 Male   4.0     71.11111  \n",
       "6 Male   4.5     72.00000  \n",
       "7 Male   5.0     70.00000  \n",
       "8 Male   5.5     69.60000  \n",
       "9 Male   6.0     71.00000  "
      ]
     },
     "metadata": {},
     "output_type": "display_data"
    }
   ],
   "source": [
    "## ----not_is_na-----------------------------------------------------------\n",
    "survey[!is.na(sex) & !is.na(credits),\n",
    "       .(avg_height = mean(height, na.rm = TRUE)),\n",
    "       by = .(sex, credits)]\n",
    "\n",
    "## ----keyby 정렬 -----------------------------------------------------------\n",
    "survey[!is.na(sex) & !is.na(credits),\n",
    "       .(avg_height = mean(height, na.rm = TRUE)),\n",
    "       keyby = .(sex, credits)]"
   ]
  }
 ],
 "metadata": {
  "kernelspec": {
   "display_name": "R",
   "language": "R",
   "name": "ir"
  },
  "language_info": {
   "codemirror_mode": "r",
   "file_extension": ".r",
   "mimetype": "text/x-r-source",
   "name": "R",
   "pygments_lexer": "r",
   "version": "3.6.3"
  }
 },
 "nbformat": 4,
 "nbformat_minor": 4
}
