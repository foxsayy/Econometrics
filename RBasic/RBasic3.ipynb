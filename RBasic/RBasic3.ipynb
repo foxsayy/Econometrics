{
 "cells": [
  {
   "cell_type": "markdown",
   "metadata": {},
   "source": [
    "# R Basic 3"
   ]
  },
  {
   "cell_type": "markdown",
   "metadata": {},
   "source": [
    "## 3.1 테이블 불러오기"
   ]
  },
  {
   "cell_type": "code",
   "execution_count": 1,
   "metadata": {},
   "outputs": [
    {
     "data": {
      "text/html": [
       "'/Users/rohsnghwan/Documents/Repositories/Econometrics/RBasic'"
      ],
      "text/latex": [
       "'/Users/rohsnghwan/Documents/Repositories/Econometrics/RBasic'"
      ],
      "text/markdown": [
       "'/Users/rohsnghwan/Documents/Repositories/Econometrics/RBasic'"
      ],
      "text/plain": [
       "[1] \"/Users/rohsnghwan/Documents/Repositories/Econometrics/RBasic\""
      ]
     },
     "metadata": {},
     "output_type": "display_data"
    }
   ],
   "source": [
    "getwd()"
   ]
  },
  {
   "cell_type": "code",
   "execution_count": 2,
   "metadata": {},
   "outputs": [
    {
     "data": {
      "text/html": [
       "<ol class=list-inline>\n",
       "\t<li>'401K_description.txt'</li>\n",
       "\t<li>'401k.xls'</li>\n",
       "\t<li>'data1.csv'</li>\n",
       "\t<li>'data1.txt'</li>\n",
       "\t<li>'DataHousingPrice.csv'</li>\n",
       "\t<li>'DataHousingPrice.txt'</li>\n",
       "\t<li>'DataHousingPrice.xls'</li>\n",
       "\t<li>'DataHousingPrice.xlsx'</li>\n",
       "\t<li>'DataHousingPriceMISSING.csv'</li>\n",
       "\t<li>'ImportingDataAndOLS.R'</li>\n",
       "\t<li>'old_survey.csv'</li>\n",
       "\t<li>'RBasic1_data1.csv'</li>\n",
       "\t<li>'RBasic1_data1.txt'</li>\n",
       "\t<li>'RBasic1.ipynb'</li>\n",
       "\t<li>'RBasic2.ipynb'</li>\n",
       "\t<li>'RBasic3.ipynb'</li>\n",
       "\t<li>'RBasic4.ipynb'</li>\n",
       "\t<li>'RBasic5.ipynb'</li>\n",
       "</ol>\n"
      ],
      "text/latex": [
       "\\begin{enumerate*}\n",
       "\\item '401K\\_description.txt'\n",
       "\\item '401k.xls'\n",
       "\\item 'data1.csv'\n",
       "\\item 'data1.txt'\n",
       "\\item 'DataHousingPrice.csv'\n",
       "\\item 'DataHousingPrice.txt'\n",
       "\\item 'DataHousingPrice.xls'\n",
       "\\item 'DataHousingPrice.xlsx'\n",
       "\\item 'DataHousingPriceMISSING.csv'\n",
       "\\item 'ImportingDataAndOLS.R'\n",
       "\\item 'old\\_survey.csv'\n",
       "\\item 'RBasic1\\_data1.csv'\n",
       "\\item 'RBasic1\\_data1.txt'\n",
       "\\item 'RBasic1.ipynb'\n",
       "\\item 'RBasic2.ipynb'\n",
       "\\item 'RBasic3.ipynb'\n",
       "\\item 'RBasic4.ipynb'\n",
       "\\item 'RBasic5.ipynb'\n",
       "\\end{enumerate*}\n"
      ],
      "text/markdown": [
       "1. '401K_description.txt'\n",
       "2. '401k.xls'\n",
       "3. 'data1.csv'\n",
       "4. 'data1.txt'\n",
       "5. 'DataHousingPrice.csv'\n",
       "6. 'DataHousingPrice.txt'\n",
       "7. 'DataHousingPrice.xls'\n",
       "8. 'DataHousingPrice.xlsx'\n",
       "9. 'DataHousingPriceMISSING.csv'\n",
       "10. 'ImportingDataAndOLS.R'\n",
       "11. 'old_survey.csv'\n",
       "12. 'RBasic1_data1.csv'\n",
       "13. 'RBasic1_data1.txt'\n",
       "14. 'RBasic1.ipynb'\n",
       "15. 'RBasic2.ipynb'\n",
       "16. 'RBasic3.ipynb'\n",
       "17. 'RBasic4.ipynb'\n",
       "18. 'RBasic5.ipynb'\n",
       "\n",
       "\n"
      ],
      "text/plain": [
       " [1] \"401K_description.txt\"        \"401k.xls\"                   \n",
       " [3] \"data1.csv\"                   \"data1.txt\"                  \n",
       " [5] \"DataHousingPrice.csv\"        \"DataHousingPrice.txt\"       \n",
       " [7] \"DataHousingPrice.xls\"        \"DataHousingPrice.xlsx\"      \n",
       " [9] \"DataHousingPriceMISSING.csv\" \"ImportingDataAndOLS.R\"      \n",
       "[11] \"old_survey.csv\"              \"RBasic1_data1.csv\"          \n",
       "[13] \"RBasic1_data1.txt\"           \"RBasic1.ipynb\"              \n",
       "[15] \"RBasic2.ipynb\"               \"RBasic3.ipynb\"              \n",
       "[17] \"RBasic4.ipynb\"               \"RBasic5.ipynb\"              "
      ]
     },
     "metadata": {},
     "output_type": "display_data"
    }
   ],
   "source": [
    "setwd(getwd())\n",
    "dir()"
   ]
  },
  {
   "cell_type": "code",
   "execution_count": 3,
   "metadata": {},
   "outputs": [
    {
     "name": "stderr",
     "output_type": "stream",
     "text": [
      "Warning message:\n",
      "“package ‘data.table’ was built under R version 3.5.2”"
     ]
    }
   ],
   "source": [
    "library(data.table)\n",
    "survey = fread(\"old_survey.csv\", select = c(\"handedness\", \"height\", \"handspan\"))"
   ]
  },
  {
   "cell_type": "code",
   "execution_count": 4,
   "metadata": {},
   "outputs": [
    {
     "data": {
      "text/html": [
       "<table>\n",
       "<thead><tr><th scope=col>handedness</th><th scope=col>height</th><th scope=col>handspan</th></tr></thead>\n",
       "<tbody>\n",
       "\t<tr><td>1.00</td><td>73  </td><td>21.0</td></tr>\n",
       "\t<tr><td>0.56</td><td>66  </td><td>20.0</td></tr>\n",
       "\t<tr><td>0.80</td><td>63  </td><td>18.0</td></tr>\n",
       "\t<tr><td>0.80</td><td>64  </td><td>21.0</td></tr>\n",
       "\t<tr><td>1.00</td><td>61  </td><td>17.5</td></tr>\n",
       "\t<tr><td>0.70</td><td>71  </td><td>24.5</td></tr>\n",
       "</tbody>\n",
       "</table>\n"
      ],
      "text/latex": [
       "\\begin{tabular}{r|lll}\n",
       " handedness & height & handspan\\\\\n",
       "\\hline\n",
       "\t 1.00 & 73   & 21.0\\\\\n",
       "\t 0.56 & 66   & 20.0\\\\\n",
       "\t 0.80 & 63   & 18.0\\\\\n",
       "\t 0.80 & 64   & 21.0\\\\\n",
       "\t 1.00 & 61   & 17.5\\\\\n",
       "\t 0.70 & 71   & 24.5\\\\\n",
       "\\end{tabular}\n"
      ],
      "text/markdown": [
       "\n",
       "| handedness | height | handspan |\n",
       "|---|---|---|\n",
       "| 1.00 | 73   | 21.0 |\n",
       "| 0.56 | 66   | 20.0 |\n",
       "| 0.80 | 63   | 18.0 |\n",
       "| 0.80 | 64   | 21.0 |\n",
       "| 1.00 | 61   | 17.5 |\n",
       "| 0.70 | 71   | 24.5 |\n",
       "\n"
      ],
      "text/plain": [
       "  handedness height handspan\n",
       "1 1.00       73     21.0    \n",
       "2 0.56       66     20.0    \n",
       "3 0.80       63     18.0    \n",
       "4 0.80       64     21.0    \n",
       "5 1.00       61     17.5    \n",
       "6 0.70       71     24.5    "
      ]
     },
     "metadata": {},
     "output_type": "display_data"
    }
   ],
   "source": [
    "tail(survey)"
   ]
  },
  {
   "cell_type": "markdown",
   "metadata": {},
   "source": [
    "## 3.2 Correlation & Covariance\n",
    "correlation, use = \"complete.obs\"은 모든 missing observations 제거"
   ]
  },
  {
   "cell_type": "code",
   "execution_count": 5,
   "metadata": {},
   "outputs": [
    {
     "data": {
      "text/html": [
       "0.604242341103326"
      ],
      "text/latex": [
       "0.604242341103326"
      ],
      "text/markdown": [
       "0.604242341103326"
      ],
      "text/plain": [
       "[1] 0.6042423"
      ]
     },
     "metadata": {},
     "output_type": "display_data"
    },
    {
     "data": {
      "text/html": [
       "0.106316468337969"
      ],
      "text/latex": [
       "0.106316468337969"
      ],
      "text/markdown": [
       "0.106316468337969"
      ],
      "text/plain": [
       "[1] 0.1063165"
      ]
     },
     "metadata": {},
     "output_type": "display_data"
    }
   ],
   "source": [
    "survey[ , cor(handspan, height, use = \"complete.obs\")]\n",
    "survey[ , cor(handedness, height, use = \"complete.obs\")]"
   ]
  },
  {
   "cell_type": "code",
   "execution_count": 6,
   "metadata": {},
   "outputs": [
    {
     "data": {
      "text/html": [
       "0.604242341103326"
      ],
      "text/latex": [
       "0.604242341103326"
      ],
      "text/markdown": [
       "0.604242341103326"
      ],
      "text/plain": [
       "[1] 0.6042423"
      ]
     },
     "metadata": {},
     "output_type": "display_data"
    }
   ],
   "source": [
    "survey[!is.na(handspan) & !is.na(height), cor(handspan, height)]"
   ]
  },
  {
   "cell_type": "markdown",
   "metadata": {},
   "source": [
    "alternatively, there's the na.omit function. na.omit은 NA를 제거 "
   ]
  },
  {
   "cell_type": "code",
   "execution_count": 13,
   "metadata": {},
   "outputs": [
    {
     "data": {
      "text/html": [
       "<table>\n",
       "<caption>A matrix: 3 × 3 of type dbl</caption>\n",
       "<thead>\n",
       "\t<tr><th></th><th scope=col>handedness</th><th scope=col>height</th><th scope=col>handspan</th></tr>\n",
       "</thead>\n",
       "<tbody>\n",
       "\t<tr><th scope=row>handedness</th><td> 1.00000000</td><td>0.1125605</td><td>-0.01719909</td></tr>\n",
       "\t<tr><th scope=row>height</th><td> 0.11256055</td><td>1.0000000</td><td> 0.60942759</td></tr>\n",
       "\t<tr><th scope=row>handspan</th><td>-0.01719909</td><td>0.6094276</td><td> 1.00000000</td></tr>\n",
       "</tbody>\n",
       "</table>\n"
      ],
      "text/latex": [
       "A matrix: 3 × 3 of type dbl\n",
       "\\begin{tabular}{r|lll}\n",
       "  & handedness & height & handspan\\\\\n",
       "\\hline\n",
       "\thandedness &  1.00000000 & 0.1125605 & -0.01719909\\\\\n",
       "\theight &  0.11256055 & 1.0000000 &  0.60942759\\\\\n",
       "\thandspan & -0.01719909 & 0.6094276 &  1.00000000\\\\\n",
       "\\end{tabular}\n"
      ],
      "text/markdown": [
       "\n",
       "A matrix: 3 × 3 of type dbl\n",
       "\n",
       "| <!--/--> | handedness | height | handspan |\n",
       "|---|---|---|---|\n",
       "| handedness |  1.00000000 | 0.1125605 | -0.01719909 |\n",
       "| height |  0.11256055 | 1.0000000 |  0.60942759 |\n",
       "| handspan | -0.01719909 | 0.6094276 |  1.00000000 |\n",
       "\n"
      ],
      "text/plain": [
       "           handedness  height    handspan   \n",
       "handedness  1.00000000 0.1125605 -0.01719909\n",
       "height      0.11256055 1.0000000  0.60942759\n",
       "handspan   -0.01719909 0.6094276  1.00000000"
      ]
     },
     "metadata": {},
     "output_type": "display_data"
    }
   ],
   "source": [
    "cor(survey, use = \"complete.obs\")"
   ]
  },
  {
   "cell_type": "code",
   "execution_count": 14,
   "metadata": {},
   "outputs": [
    {
     "data": {
      "text/html": [
       "<table>\n",
       "<caption>A matrix: 3 × 3 of type dbl</caption>\n",
       "<thead>\n",
       "\t<tr><th></th><th scope=col>handedness</th><th scope=col>height</th><th scope=col>handspan</th></tr>\n",
       "</thead>\n",
       "<tbody>\n",
       "\t<tr><th scope=row>handedness</th><td> 1.00000000</td><td>0.1125605</td><td>-0.01719909</td></tr>\n",
       "\t<tr><th scope=row>height</th><td> 0.11256055</td><td>1.0000000</td><td> 0.60942759</td></tr>\n",
       "\t<tr><th scope=row>handspan</th><td>-0.01719909</td><td>0.6094276</td><td> 1.00000000</td></tr>\n",
       "</tbody>\n",
       "</table>\n"
      ],
      "text/latex": [
       "A matrix: 3 × 3 of type dbl\n",
       "\\begin{tabular}{r|lll}\n",
       "  & handedness & height & handspan\\\\\n",
       "\\hline\n",
       "\thandedness &  1.00000000 & 0.1125605 & -0.01719909\\\\\n",
       "\theight &  0.11256055 & 1.0000000 &  0.60942759\\\\\n",
       "\thandspan & -0.01719909 & 0.6094276 &  1.00000000\\\\\n",
       "\\end{tabular}\n"
      ],
      "text/markdown": [
       "\n",
       "A matrix: 3 × 3 of type dbl\n",
       "\n",
       "| <!--/--> | handedness | height | handspan |\n",
       "|---|---|---|---|\n",
       "| handedness |  1.00000000 | 0.1125605 | -0.01719909 |\n",
       "| height |  0.11256055 | 1.0000000 |  0.60942759 |\n",
       "| handspan | -0.01719909 | 0.6094276 |  1.00000000 |\n",
       "\n"
      ],
      "text/plain": [
       "           handedness  height    handspan   \n",
       "handedness  1.00000000 0.1125605 -0.01719909\n",
       "height      0.11256055 1.0000000  0.60942759\n",
       "handspan   -0.01719909 0.6094276  1.00000000"
      ]
     },
     "metadata": {},
     "output_type": "display_data"
    }
   ],
   "source": [
    "cor(na.omit(survey))"
   ]
  },
  {
   "cell_type": "code",
   "execution_count": 15,
   "metadata": {},
   "outputs": [
    {
     "data": {
      "text/html": [
       "<table>\n",
       "<caption>A data.table: 1 × 3</caption>\n",
       "<thead>\n",
       "\t<tr><th scope=col>handedness</th><th scope=col>height</th><th scope=col>handspan</th></tr>\n",
       "\t<tr><th scope=col>&lt;dbl&gt;</th><th scope=col>&lt;int&gt;</th><th scope=col>&lt;dbl&gt;</th></tr>\n",
       "</thead>\n",
       "<tbody>\n",
       "\t<tr><td>NA</td><td>70</td><td>19.5</td></tr>\n",
       "</tbody>\n",
       "</table>\n"
      ],
      "text/latex": [
       "A data.table: 1 × 3\n",
       "\\begin{tabular}{lll}\n",
       " handedness & height & handspan\\\\\n",
       " <dbl> & <int> & <dbl>\\\\\n",
       "\\hline\n",
       "\t NA & 70 & 19.5\\\\\n",
       "\\end{tabular}\n"
      ],
      "text/markdown": [
       "\n",
       "A data.table: 1 × 3\n",
       "\n",
       "| handedness &lt;dbl&gt; | height &lt;int&gt; | handspan &lt;dbl&gt; |\n",
       "|---|---|---|\n",
       "| NA | 70 | 19.5 |\n",
       "\n"
      ],
      "text/plain": [
       "  handedness height handspan\n",
       "1 NA         70     19.5    "
      ]
     },
     "metadata": {},
     "output_type": "display_data"
    }
   ],
   "source": [
    "survey[is.na(handedness) & !is.na(height) & !is.na(handspan)]"
   ]
  },
  {
   "cell_type": "code",
   "execution_count": 16,
   "metadata": {},
   "outputs": [
    {
     "data": {
      "text/html": [
       "5.9107858861267"
      ],
      "text/latex": [
       "5.9107858861267"
      ],
      "text/markdown": [
       "5.9107858861267"
      ],
      "text/plain": [
       "[1] 5.910786"
      ]
     },
     "metadata": {},
     "output_type": "display_data"
    },
    {
     "data": {
      "text/html": [
       "<table>\n",
       "<caption>A matrix: 3 × 3 of type dbl</caption>\n",
       "<thead>\n",
       "\t<tr><th></th><th scope=col>handedness</th><th scope=col>height</th><th scope=col>handspan</th></tr>\n",
       "</thead>\n",
       "<tbody>\n",
       "\t<tr><th scope=row>handedness</th><td> 0.1685042</td><td> 0.206959</td><td>-0.0155499</td></tr>\n",
       "\t<tr><th scope=row>height</th><td> 0.2069590</td><td>20.062517</td><td> 6.0121751</td></tr>\n",
       "\t<tr><th scope=row>handspan</th><td>-0.0155499</td><td> 6.012175</td><td> 4.8510260</td></tr>\n",
       "</tbody>\n",
       "</table>\n"
      ],
      "text/latex": [
       "A matrix: 3 × 3 of type dbl\n",
       "\\begin{tabular}{r|lll}\n",
       "  & handedness & height & handspan\\\\\n",
       "\\hline\n",
       "\thandedness &  0.1685042 &  0.206959 & -0.0155499\\\\\n",
       "\theight &  0.2069590 & 20.062517 &  6.0121751\\\\\n",
       "\thandspan & -0.0155499 &  6.012175 &  4.8510260\\\\\n",
       "\\end{tabular}\n"
      ],
      "text/markdown": [
       "\n",
       "A matrix: 3 × 3 of type dbl\n",
       "\n",
       "| <!--/--> | handedness | height | handspan |\n",
       "|---|---|---|---|\n",
       "| handedness |  0.1685042 |  0.206959 | -0.0155499 |\n",
       "| height |  0.2069590 | 20.062517 |  6.0121751 |\n",
       "| handspan | -0.0155499 |  6.012175 |  4.8510260 |\n",
       "\n"
      ],
      "text/plain": [
       "           handedness height    handspan  \n",
       "handedness  0.1685042  0.206959 -0.0155499\n",
       "height      0.2069590 20.062517  6.0121751\n",
       "handspan   -0.0155499  6.012175  4.8510260"
      ]
     },
     "metadata": {},
     "output_type": "display_data"
    },
    {
     "data": {
      "text/html": [
       "<table>\n",
       "<caption>A matrix: 3 × 3 of type dbl</caption>\n",
       "<thead>\n",
       "\t<tr><th></th><th scope=col>handedness</th><th scope=col>height</th><th scope=col>handspan</th></tr>\n",
       "</thead>\n",
       "<tbody>\n",
       "\t<tr><th scope=row>handedness</th><td> 0.1685042</td><td> 0.206959</td><td>-0.0155499</td></tr>\n",
       "\t<tr><th scope=row>height</th><td> 0.2069590</td><td>20.062517</td><td> 6.0121751</td></tr>\n",
       "\t<tr><th scope=row>handspan</th><td>-0.0155499</td><td> 6.012175</td><td> 4.8510260</td></tr>\n",
       "</tbody>\n",
       "</table>\n"
      ],
      "text/latex": [
       "A matrix: 3 × 3 of type dbl\n",
       "\\begin{tabular}{r|lll}\n",
       "  & handedness & height & handspan\\\\\n",
       "\\hline\n",
       "\thandedness &  0.1685042 &  0.206959 & -0.0155499\\\\\n",
       "\theight &  0.2069590 & 20.062517 &  6.0121751\\\\\n",
       "\thandspan & -0.0155499 &  6.012175 &  4.8510260\\\\\n",
       "\\end{tabular}\n"
      ],
      "text/markdown": [
       "\n",
       "A matrix: 3 × 3 of type dbl\n",
       "\n",
       "| <!--/--> | handedness | height | handspan |\n",
       "|---|---|---|---|\n",
       "| handedness |  0.1685042 |  0.206959 | -0.0155499 |\n",
       "| height |  0.2069590 | 20.062517 |  6.0121751 |\n",
       "| handspan | -0.0155499 |  6.012175 |  4.8510260 |\n",
       "\n"
      ],
      "text/plain": [
       "           handedness height    handspan  \n",
       "handedness  0.1685042  0.206959 -0.0155499\n",
       "height      0.2069590 20.062517  6.0121751\n",
       "handspan   -0.0155499  6.012175  4.8510260"
      ]
     },
     "metadata": {},
     "output_type": "display_data"
    }
   ],
   "source": [
    "survey[ , cov(handspan, height, use = \"complete.obs\")]\n",
    "cov(survey, use = \"complete.obs\")\n",
    "cov(na.omit(survey))"
   ]
  },
  {
   "cell_type": "markdown",
   "metadata": {},
   "source": [
    "## 3.3 Linear Model 추정"
   ]
  },
  {
   "cell_type": "code",
   "execution_count": 7,
   "metadata": {},
   "outputs": [
    {
     "data": {
      "text/plain": [
       "\n",
       "Call:\n",
       "lm(formula = height ~ handspan)\n",
       "\n",
       "Coefficients:\n",
       "(Intercept)     handspan  \n",
       "     42.251        1.229  \n"
      ]
     },
     "metadata": {},
     "output_type": "display_data"
    }
   ],
   "source": [
    "## ----lm: linear model 추정, OLS 추정---------------------------------------\n",
    "survey[ , lm(height ~ handspan)]"
   ]
  },
  {
   "cell_type": "code",
   "execution_count": 8,
   "metadata": {},
   "outputs": [
    {
     "data": {
      "text/plain": [
       "\n",
       "Call:\n",
       "lm(formula = handspan ~ height)\n",
       "\n",
       "Coefficients:\n",
       "(Intercept)       height  \n",
       "     0.5305       0.2970  \n"
      ]
     },
     "metadata": {},
     "output_type": "display_data"
    }
   ],
   "source": [
    "## ----lm_rev--------------------------------------------------------------\n",
    "survey[ , lm(handspan ~ height)]"
   ]
  },
  {
   "cell_type": "markdown",
   "metadata": {},
   "source": [
    "## 3.4 Plot"
   ]
  },
  {
   "cell_type": "code",
   "execution_count": 9,
   "metadata": {},
   "outputs": [
    {
     "data": {
      "text/plain": [
       "NULL"
      ]
     },
     "metadata": {},
     "output_type": "display_data"
    },
    {
     "data": {
      "image/png": "[encoded data removed]",
      "text/plain": [
       "plot without title"
      ]
     },
     "metadata": {},
     "output_type": "display_data"
    }
   ],
   "source": [
    "## ----plot_formula, results = 'hide'--------------------------------------\n",
    "survey[ , plot(handspan ~ height)]"
   ]
  },
  {
   "cell_type": "code",
   "execution_count": 10,
   "metadata": {},
   "outputs": [
    {
     "data": {
      "text/plain": [
       "NULL"
      ]
     },
     "metadata": {},
     "output_type": "display_data"
    },
    {
     "data": {
      "text/plain": [
       "NULL"
      ]
     },
     "metadata": {},
     "output_type": "display_data"
    },
    {
     "data": {
      "image/png": "[encoded data removed]",
      "text/plain": [
       "plot without title"
      ]
     },
     "metadata": {},
     "output_type": "display_data"
    }
   ],
   "source": [
    "## ----abline_lm, regression line: intercept and slope of the linear model -\n",
    "survey[ , plot(handspan ~ height)]\n",
    "survey[ , abline(lm(handspan ~ height))]"
   ]
  },
  {
   "cell_type": "code",
   "execution_count": 34,
   "metadata": {},
   "outputs": [
    {
     "data": {
      "text/plain": [
       "NULL"
      ]
     },
     "metadata": {},
     "output_type": "display_data"
    },
    {
     "data": {
      "image/png": "[encoded data removed]",
      "text/plain": [
       "plot without title"
      ]
     },
     "metadata": {
      "image/png": {
       "height": 420,
       "width": 420
      }
     },
     "output_type": "display_data"
    }
   ],
   "source": [
    "survey[ , {\n",
    "    plot(handspan ~ height)\n",
    "    abline(lm(handspan ~ height))\n",
    "    abline(v = mean(height, na.rm = TRUE),\n",
    "          h = mean(handspan, na.rm = TRUE),\n",
    "          col = 'red', lty = 2)    \n",
    "}]"
   ]
  },
  {
   "cell_type": "code",
   "execution_count": null,
   "metadata": {},
   "outputs": [],
   "source": [
    "## ----abline과 sample mean 추가 ---------------------------------\n",
    "survey[ , {\n",
    "  plot(handspan ~ height)\n",
    "  abline(lm(handspan ~ height))\n",
    "  abline(v = mean(height, na.rm = TRUE),\n",
    "         h = mean(handspan, na.rm = TRUE),\n",
    "         col = 'red', lty = 2)\n",
    "}]"
   ]
  },
  {
   "cell_type": "code",
   "execution_count": 35,
   "metadata": {},
   "outputs": [
    {
     "data": {
      "image/png": "[encoded data removed]",
      "text/plain": [
       "plot without title"
      ]
     },
     "metadata": {
      "image/png": {
       "height": 420,
       "width": 420
      }
     },
     "output_type": "display_data"
    }
   ],
   "source": [
    "## ----abline_ab, -----------------------------------------\n",
    "x = seq(from = 0, to = 1, by = 0.1)\n",
    "y = x^2\n",
    "plot(y ~ x)\n",
    "abline(a = 0, b = 1)   #intercept를 0으로, slope을 1로 설정"
   ]
  },
  {
   "cell_type": "code",
   "execution_count": 36,
   "metadata": {},
   "outputs": [
    {
     "data": {
      "text/plain": [
       "NULL"
      ]
     },
     "metadata": {},
     "output_type": "display_data"
    },
    {
     "data": {
      "image/png": "[encoded data removed]",
      "text/plain": [
       "plot without title"
      ]
     },
     "metadata": {
      "image/png": {
       "height": 420,
       "width": 420
      }
     },
     "output_type": "display_data"
    }
   ],
   "source": [
    "## ----exercise_1, ----------------------------------------\n",
    "survey[ , {\n",
    "  reg = lm(height ~ handedness)\n",
    "  plot(height ~ handedness)\n",
    "  abline(reg = reg)\n",
    "  abline(v = mean(handedness, na.rm = TRUE),\n",
    "         h = mean(height, na.rm = TRUE),\n",
    "         col = 'red', lty = 2)\n",
    "}]"
   ]
  },
  {
   "cell_type": "markdown",
   "metadata": {},
   "source": [
    "## 3.5 Function"
   ]
  },
  {
   "cell_type": "code",
   "execution_count": 37,
   "metadata": {},
   "outputs": [],
   "source": [
    "z.score = function(x){\n",
    "    z = (x - mean(x, na.rm = TRUE))/sd(x, na.rm = TRUE)\n",
    "    return(z)\n",
    "}"
   ]
  },
  {
   "cell_type": "code",
   "execution_count": 38,
   "metadata": {},
   "outputs": [],
   "source": [
    "mymean = function(x){\n",
    "    x = x[!is.na(x)]\n",
    "    x.bar = sum(x)/length(x)\n",
    "    return(x.bar)\n",
    "}"
   ]
  },
  {
   "cell_type": "code",
   "execution_count": 39,
   "metadata": {},
   "outputs": [
    {
     "data": {
      "text/html": [
       "67.5454545454545"
      ],
      "text/latex": [
       "67.5454545454545"
      ],
      "text/markdown": [
       "67.5454545454545"
      ],
      "text/plain": [
       "[1] 67.54545"
      ]
     },
     "metadata": {},
     "output_type": "display_data"
    }
   ],
   "source": [
    "## ----mean: R에 내장된 함수----------------------------------\n",
    "mean(survey$height, na.rm = TRUE)"
   ]
  },
  {
   "cell_type": "code",
   "execution_count": 40,
   "metadata": {},
   "outputs": [
    {
     "data": {
      "text/html": [
       "67.5454545454545"
      ],
      "text/latex": [
       "67.5454545454545"
      ],
      "text/markdown": [
       "67.5454545454545"
      ],
      "text/plain": [
       "[1] 67.54545"
      ]
     },
     "metadata": {},
     "output_type": "display_data"
    }
   ],
   "source": [
    "## ----mymean: 위에서 만든 함수-----------------------------------------\n",
    "mymean(survey$height)"
   ]
  },
  {
   "cell_type": "code",
   "execution_count": 42,
   "metadata": {},
   "outputs": [
    {
     "data": {
      "text/html": [
       "66.7865168539326"
      ],
      "text/latex": [
       "66.7865168539326"
      ],
      "text/markdown": [
       "66.7865168539326"
      ],
      "text/plain": [
       "[1] 66.78652"
      ]
     },
     "metadata": {},
     "output_type": "display_data"
    }
   ],
   "source": [
    "mymean2 = function(x){\n",
    "  x.bar = sum(x, na.rm = TRUE)/length(x)\n",
    "  return(x.bar)\n",
    "}\n",
    "mymean2(survey$height)\n",
    "\n",
    "# mymean과 mymean2의 비교 \n",
    "# mymean2 함수 안에서 sum ignores missing observations but length does not."
   ]
  },
  {
   "cell_type": "code",
   "execution_count": 43,
   "metadata": {},
   "outputs": [],
   "source": [
    "myvar = function(x){\n",
    "  x = x[!is.na(x)]\n",
    "  s.squared = sum((x-mymean(x))^2)/(length(x) - 1)\n",
    "  return(s.squared)\n",
    "}"
   ]
  },
  {
   "cell_type": "code",
   "execution_count": 44,
   "metadata": {},
   "outputs": [
    {
     "data": {
      "text/html": [
       "4.75378787878788"
      ],
      "text/latex": [
       "4.75378787878788"
      ],
      "text/markdown": [
       "4.75378787878788"
      ],
      "text/plain": [
       "[1] 4.753788"
      ]
     },
     "metadata": {},
     "output_type": "display_data"
    }
   ],
   "source": [
    "var(survey$handspan, na.rm = TRUE)"
   ]
  },
  {
   "cell_type": "code",
   "execution_count": 45,
   "metadata": {},
   "outputs": [
    {
     "data": {
      "text/html": [
       "4.75378787878788"
      ],
      "text/latex": [
       "4.75378787878788"
      ],
      "text/markdown": [
       "4.75378787878788"
      ],
      "text/plain": [
       "[1] 4.753788"
      ]
     },
     "metadata": {},
     "output_type": "display_data"
    }
   ],
   "source": [
    "myvar(survey$handspan)"
   ]
  },
  {
   "cell_type": "code",
   "execution_count": 48,
   "metadata": {},
   "outputs": [
    {
     "data": {
      "text/html": [
       "-2.21905550218071"
      ],
      "text/latex": [
       "-2.21905550218071"
      ],
      "text/markdown": [
       "-2.21905550218071"
      ],
      "text/plain": [
       "[1] -2.219056"
      ]
     },
     "metadata": {},
     "output_type": "display_data"
    }
   ],
   "source": [
    "# Skewness\n",
    "skew = function(x){\n",
    "  x = x[!is.na(x)]\n",
    "  numerator = sum((x - mean(x))^3)/length(x)\n",
    "  denominator = sd(x)^3\n",
    "  return(numerator/denominator)  \n",
    "}\n",
    "skew(survey$handedness)"
   ]
  },
  {
   "cell_type": "code",
   "execution_count": 51,
   "metadata": {},
   "outputs": [
    {
     "data": {
      "text/html": [
       "<table>\n",
       "<caption>A data.table: 1 × 2</caption>\n",
       "<thead>\n",
       "\t<tr><th scope=col>sample.mean</th><th scope=col>std.dev</th></tr>\n",
       "\t<tr><th scope=col>&lt;dbl&gt;</th><th scope=col>&lt;dbl&gt;</th></tr>\n",
       "</thead>\n",
       "<tbody>\n",
       "\t<tr><td>0.6578936</td><td>0.4077245</td></tr>\n",
       "</tbody>\n",
       "</table>\n"
      ],
      "text/latex": [
       "A data.table: 1 × 2\n",
       "\\begin{tabular}{ll}\n",
       " sample.mean & std.dev\\\\\n",
       " <dbl> & <dbl>\\\\\n",
       "\\hline\n",
       "\t 0.6578936 & 0.4077245\\\\\n",
       "\\end{tabular}\n"
      ],
      "text/markdown": [
       "\n",
       "A data.table: 1 × 2\n",
       "\n",
       "| sample.mean &lt;dbl&gt; | std.dev &lt;dbl&gt; |\n",
       "|---|---|\n",
       "| 0.6578936 | 0.4077245 |\n",
       "\n"
      ],
      "text/plain": [
       "  sample.mean std.dev  \n",
       "1 0.6578936   0.4077245"
      ]
     },
     "metadata": {},
     "output_type": "display_data"
    },
    {
     "data": {
      "text/html": [
       "0.657893560227273"
      ],
      "text/latex": [
       "0.657893560227273"
      ],
      "text/markdown": [
       "0.657893560227273"
      ],
      "text/plain": [
       "[1] 0.6578936"
      ]
     },
     "metadata": {},
     "output_type": "display_data"
    },
    {
     "data": {
      "text/html": [
       "0.407724484494512"
      ],
      "text/latex": [
       "0.407724484494512"
      ],
      "text/markdown": [
       "0.407724484494512"
      ],
      "text/plain": [
       "[1] 0.4077245"
      ]
     },
     "metadata": {},
     "output_type": "display_data"
    }
   ],
   "source": [
    "# function_return_data.table\n",
    "summary.stats = function(x){\n",
    "  x = x[!is.na(x)]\n",
    "  sample.mean = mean(x)\n",
    "  std.dev  = sd(x)\n",
    "  out = data.table(sample.mean, std.dev)\n",
    "  return(out)\n",
    "}\n",
    "results = summary.stats(survey$handedness)\n",
    "results\n",
    "results$sample.mean\n",
    "results$std.dev"
   ]
  },
  {
   "cell_type": "code",
   "execution_count": 52,
   "metadata": {},
   "outputs": [],
   "source": [
    "# mycov\n",
    "mycov = function(x, y){\n",
    "  \n",
    "  keep = !is.na(x) & !is.na(y)\n",
    "  x = x[keep]\n",
    "  y = y[keep]\n",
    "  \n",
    "  n = length(x)\n",
    "  \n",
    "  s.xy = sum( (x - mean(x)) * (y - mean(y)) ) / (n-1)\n",
    "  return(s.xy)\n",
    "}"
   ]
  },
  {
   "cell_type": "code",
   "execution_count": 53,
   "metadata": {},
   "outputs": [
    {
     "data": {
      "text/html": [
       "-0.0155665473603315"
      ],
      "text/latex": [
       "-0.0155665473603315"
      ],
      "text/markdown": [
       "-0.0155665473603315"
      ],
      "text/plain": [
       "[1] -0.01556655"
      ]
     },
     "metadata": {},
     "output_type": "display_data"
    },
    {
     "data": {
      "text/html": [
       "-0.0155665473603315"
      ],
      "text/latex": [
       "-0.0155665473603315"
      ],
      "text/markdown": [
       "-0.0155665473603315"
      ],
      "text/plain": [
       "[1] -0.01556655"
      ]
     },
     "metadata": {},
     "output_type": "display_data"
    }
   ],
   "source": [
    "survey[ , cov(handspan, handedness, use = \"complete.obs\")]\n",
    "survey[ , mycov(handspan, handedness)]"
   ]
  }
 ],
 "metadata": {
  "kernelspec": {
   "display_name": "R",
   "language": "R",
   "name": "ir"
  },
  "language_info": {
   "codemirror_mode": "r",
   "file_extension": ".r",
   "mimetype": "text/x-r-source",
   "name": "R",
   "pygments_lexer": "r",
   "version": "3.5.1"
  }
 },
 "nbformat": 4,
 "nbformat_minor": 4
}
