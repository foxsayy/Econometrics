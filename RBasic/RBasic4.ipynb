{
 "cells": [
  {
   "cell_type": "markdown",
   "metadata": {},
   "source": [
    "# R Basic 4"
   ]
  },
  {
   "cell_type": "code",
   "execution_count": 1,
   "metadata": {},
   "outputs": [],
   "source": [
    "setwd(getwd())"
   ]
  },
  {
   "cell_type": "code",
   "execution_count": 2,
   "metadata": {},
   "outputs": [
    {
     "data": {
      "text/html": [
       "<ol class=list-inline>\n",
       "\t<li>'401K_description.txt'</li>\n",
       "\t<li>'401k.xls'</li>\n",
       "\t<li>'data1.csv'</li>\n",
       "\t<li>'data1.txt'</li>\n",
       "\t<li>'DataHousingPrice.csv'</li>\n",
       "\t<li>'DataHousingPrice.txt'</li>\n",
       "\t<li>'DataHousingPrice.xls'</li>\n",
       "\t<li>'DataHousingPrice.xlsx'</li>\n",
       "\t<li>'DataHousingPriceMISSING.csv'</li>\n",
       "\t<li>'ImportingDataAndOLS.R'</li>\n",
       "\t<li>'old_survey.csv'</li>\n",
       "\t<li>'RBasic1_data1.csv'</li>\n",
       "\t<li>'RBasic1_data1.txt'</li>\n",
       "\t<li>'RBasic1.ipynb'</li>\n",
       "\t<li>'RBasic2.ipynb'</li>\n",
       "\t<li>'RBasic3.ipynb'</li>\n",
       "\t<li>'RBasic4.ipynb'</li>\n",
       "\t<li>'RBasic5.ipynb'</li>\n",
       "</ol>\n"
      ],
      "text/latex": [
       "\\begin{enumerate*}\n",
       "\\item '401K\\_description.txt'\n",
       "\\item '401k.xls'\n",
       "\\item 'data1.csv'\n",
       "\\item 'data1.txt'\n",
       "\\item 'DataHousingPrice.csv'\n",
       "\\item 'DataHousingPrice.txt'\n",
       "\\item 'DataHousingPrice.xls'\n",
       "\\item 'DataHousingPrice.xlsx'\n",
       "\\item 'DataHousingPriceMISSING.csv'\n",
       "\\item 'ImportingDataAndOLS.R'\n",
       "\\item 'old\\_survey.csv'\n",
       "\\item 'RBasic1\\_data1.csv'\n",
       "\\item 'RBasic1\\_data1.txt'\n",
       "\\item 'RBasic1.ipynb'\n",
       "\\item 'RBasic2.ipynb'\n",
       "\\item 'RBasic3.ipynb'\n",
       "\\item 'RBasic4.ipynb'\n",
       "\\item 'RBasic5.ipynb'\n",
       "\\end{enumerate*}\n"
      ],
      "text/markdown": [
       "1. '401K_description.txt'\n",
       "2. '401k.xls'\n",
       "3. 'data1.csv'\n",
       "4. 'data1.txt'\n",
       "5. 'DataHousingPrice.csv'\n",
       "6. 'DataHousingPrice.txt'\n",
       "7. 'DataHousingPrice.xls'\n",
       "8. 'DataHousingPrice.xlsx'\n",
       "9. 'DataHousingPriceMISSING.csv'\n",
       "10. 'ImportingDataAndOLS.R'\n",
       "11. 'old_survey.csv'\n",
       "12. 'RBasic1_data1.csv'\n",
       "13. 'RBasic1_data1.txt'\n",
       "14. 'RBasic1.ipynb'\n",
       "15. 'RBasic2.ipynb'\n",
       "16. 'RBasic3.ipynb'\n",
       "17. 'RBasic4.ipynb'\n",
       "18. 'RBasic5.ipynb'\n",
       "\n",
       "\n"
      ],
      "text/plain": [
       " [1] \"401K_description.txt\"        \"401k.xls\"                   \n",
       " [3] \"data1.csv\"                   \"data1.txt\"                  \n",
       " [5] \"DataHousingPrice.csv\"        \"DataHousingPrice.txt\"       \n",
       " [7] \"DataHousingPrice.xls\"        \"DataHousingPrice.xlsx\"      \n",
       " [9] \"DataHousingPriceMISSING.csv\" \"ImportingDataAndOLS.R\"      \n",
       "[11] \"old_survey.csv\"              \"RBasic1_data1.csv\"          \n",
       "[13] \"RBasic1_data1.txt\"           \"RBasic1.ipynb\"              \n",
       "[15] \"RBasic2.ipynb\"               \"RBasic3.ipynb\"              \n",
       "[17] \"RBasic4.ipynb\"               \"RBasic5.ipynb\"              "
      ]
     },
     "metadata": {},
     "output_type": "display_data"
    }
   ],
   "source": [
    "dir()"
   ]
  },
  {
   "cell_type": "markdown",
   "metadata": {},
   "source": [
    "## 4.1 Matrix"
   ]
  },
  {
   "cell_type": "code",
   "execution_count": 7,
   "metadata": {},
   "outputs": [],
   "source": [
    "??matrix"
   ]
  },
  {
   "cell_type": "code",
   "execution_count": 6,
   "metadata": {},
   "outputs": [],
   "source": [
    "?matrix"
   ]
  },
  {
   "cell_type": "code",
   "execution_count": 8,
   "metadata": {},
   "outputs": [
    {
     "data": {
      "text/html": [
       "<style>\n",
       ".list-inline {list-style: none; margin:0; padding: 0}\n",
       ".list-inline>li {display: inline-block}\n",
       ".list-inline>li:not(:last-child)::after {content: \"\\00b7\"; padding: 0 .5ex}\n",
       "</style>\n",
       "<ol class=list-inline><li>1</li><li>2</li><li>3</li><li>4</li><li>5</li><li>6</li><li>7</li><li>8</li><li>9</li></ol>\n"
      ],
      "text/latex": [
       "\\begin{enumerate*}\n",
       "\\item 1\n",
       "\\item 2\n",
       "\\item 3\n",
       "\\item 4\n",
       "\\item 5\n",
       "\\item 6\n",
       "\\item 7\n",
       "\\item 8\n",
       "\\item 9\n",
       "\\end{enumerate*}\n"
      ],
      "text/markdown": [
       "1. 1\n",
       "2. 2\n",
       "3. 3\n",
       "4. 4\n",
       "5. 5\n",
       "6. 6\n",
       "7. 7\n",
       "8. 8\n",
       "9. 9\n",
       "\n",
       "\n"
      ],
      "text/plain": [
       "[1] 1 2 3 4 5 6 7 8 9"
      ]
     },
     "metadata": {},
     "output_type": "display_data"
    }
   ],
   "source": [
    "y0=seq(1,9)\n",
    "y0"
   ]
  },
  {
   "cell_type": "code",
   "execution_count": 9,
   "metadata": {},
   "outputs": [
    {
     "data": {
      "text/html": [
       "<table>\n",
       "<caption>A matrix: 3 × 3 of type int</caption>\n",
       "<tbody>\n",
       "\t<tr><td>1</td><td>4</td><td>7</td></tr>\n",
       "\t<tr><td>2</td><td>5</td><td>8</td></tr>\n",
       "\t<tr><td>3</td><td>6</td><td>9</td></tr>\n",
       "</tbody>\n",
       "</table>\n"
      ],
      "text/latex": [
       "A matrix: 3 × 3 of type int\n",
       "\\begin{tabular}{lll}\n",
       "\t 1 & 4 & 7\\\\\n",
       "\t 2 & 5 & 8\\\\\n",
       "\t 3 & 6 & 9\\\\\n",
       "\\end{tabular}\n"
      ],
      "text/markdown": [
       "\n",
       "A matrix: 3 × 3 of type int\n",
       "\n",
       "| 1 | 4 | 7 |\n",
       "| 2 | 5 | 8 |\n",
       "| 3 | 6 | 9 |\n",
       "\n"
      ],
      "text/plain": [
       "     [,1] [,2] [,3]\n",
       "[1,] 1    4    7   \n",
       "[2,] 2    5    8   \n",
       "[3,] 3    6    9   "
      ]
     },
     "metadata": {},
     "output_type": "display_data"
    }
   ],
   "source": [
    "y = matrix(y0, nrow=3, ncol=3, byrow=FALSE)\n",
    "y"
   ]
  },
  {
   "cell_type": "code",
   "execution_count": 12,
   "metadata": {},
   "outputs": [
    {
     "data": {
      "text/html": [
       "<table>\n",
       "<caption>A matrix: 3 × 3 of type int</caption>\n",
       "<tbody>\n",
       "\t<tr><td>1</td><td>2</td><td>3</td></tr>\n",
       "\t<tr><td>4</td><td>5</td><td>6</td></tr>\n",
       "\t<tr><td>7</td><td>8</td><td>9</td></tr>\n",
       "</tbody>\n",
       "</table>\n"
      ],
      "text/latex": [
       "A matrix: 3 × 3 of type int\n",
       "\\begin{tabular}{lll}\n",
       "\t 1 & 2 & 3\\\\\n",
       "\t 4 & 5 & 6\\\\\n",
       "\t 7 & 8 & 9\\\\\n",
       "\\end{tabular}\n"
      ],
      "text/markdown": [
       "\n",
       "A matrix: 3 × 3 of type int\n",
       "\n",
       "| 1 | 2 | 3 |\n",
       "| 4 | 5 | 6 |\n",
       "| 7 | 8 | 9 |\n",
       "\n"
      ],
      "text/plain": [
       "     [,1] [,2] [,3]\n",
       "[1,] 1    2    3   \n",
       "[2,] 4    5    6   \n",
       "[3,] 7    8    9   "
      ]
     },
     "metadata": {},
     "output_type": "display_data"
    }
   ],
   "source": [
    "y = matrix(y0, nrow=3, ncol=3, byrow=TRUE)\n",
    "y"
   ]
  },
  {
   "cell_type": "code",
   "execution_count": 14,
   "metadata": {},
   "outputs": [
    {
     "data": {
      "text/html": [
       "4"
      ],
      "text/latex": [
       "4"
      ],
      "text/markdown": [
       "4"
      ],
      "text/plain": [
       "[1] 4"
      ]
     },
     "metadata": {},
     "output_type": "display_data"
    }
   ],
   "source": [
    "y[2,1]"
   ]
  },
  {
   "cell_type": "code",
   "execution_count": 15,
   "metadata": {},
   "outputs": [
    {
     "data": {
      "text/html": [
       "<style>\n",
       ".list-inline {list-style: none; margin:0; padding: 0}\n",
       ".list-inline>li {display: inline-block}\n",
       ".list-inline>li:not(:last-child)::after {content: \"\\00b7\"; padding: 0 .5ex}\n",
       "</style>\n",
       "<ol class=list-inline><li>1</li><li>4</li><li>7</li></ol>\n"
      ],
      "text/latex": [
       "\\begin{enumerate*}\n",
       "\\item 1\n",
       "\\item 4\n",
       "\\item 7\n",
       "\\end{enumerate*}\n"
      ],
      "text/markdown": [
       "1. 1\n",
       "2. 4\n",
       "3. 7\n",
       "\n",
       "\n"
      ],
      "text/plain": [
       "[1] 1 4 7"
      ]
     },
     "metadata": {},
     "output_type": "display_data"
    }
   ],
   "source": [
    "y[,1]"
   ]
  },
  {
   "cell_type": "code",
   "execution_count": 16,
   "metadata": {},
   "outputs": [
    {
     "data": {
      "text/html": [
       "<table>\n",
       "<caption>A matrix: 3 × 2 of type int</caption>\n",
       "<tbody>\n",
       "\t<tr><td>2</td><td>3</td></tr>\n",
       "\t<tr><td>5</td><td>6</td></tr>\n",
       "\t<tr><td>8</td><td>9</td></tr>\n",
       "</tbody>\n",
       "</table>\n"
      ],
      "text/latex": [
       "A matrix: 3 × 2 of type int\n",
       "\\begin{tabular}{ll}\n",
       "\t 2 & 3\\\\\n",
       "\t 5 & 6\\\\\n",
       "\t 8 & 9\\\\\n",
       "\\end{tabular}\n"
      ],
      "text/markdown": [
       "\n",
       "A matrix: 3 × 2 of type int\n",
       "\n",
       "| 2 | 3 |\n",
       "| 5 | 6 |\n",
       "| 8 | 9 |\n",
       "\n"
      ],
      "text/plain": [
       "     [,1] [,2]\n",
       "[1,] 2    3   \n",
       "[2,] 5    6   \n",
       "[3,] 8    9   "
      ]
     },
     "metadata": {},
     "output_type": "display_data"
    }
   ],
   "source": [
    "y[,c(2,3)]"
   ]
  },
  {
   "cell_type": "code",
   "execution_count": 17,
   "metadata": {},
   "outputs": [
    {
     "data": {
      "text/html": [
       "<table>\n",
       "<caption>A matrix: 2 × 3 of type int</caption>\n",
       "<tbody>\n",
       "\t<tr><td>1</td><td>2</td><td>3</td></tr>\n",
       "\t<tr><td>4</td><td>5</td><td>6</td></tr>\n",
       "</tbody>\n",
       "</table>\n"
      ],
      "text/latex": [
       "A matrix: 2 × 3 of type int\n",
       "\\begin{tabular}{lll}\n",
       "\t 1 & 2 & 3\\\\\n",
       "\t 4 & 5 & 6\\\\\n",
       "\\end{tabular}\n"
      ],
      "text/markdown": [
       "\n",
       "A matrix: 2 × 3 of type int\n",
       "\n",
       "| 1 | 2 | 3 |\n",
       "| 4 | 5 | 6 |\n",
       "\n"
      ],
      "text/plain": [
       "     [,1] [,2] [,3]\n",
       "[1,] 1    2    3   \n",
       "[2,] 4    5    6   "
      ]
     },
     "metadata": {},
     "output_type": "display_data"
    }
   ],
   "source": [
    "y[c(1,2),]"
   ]
  },
  {
   "cell_type": "code",
   "execution_count": 18,
   "metadata": {},
   "outputs": [
    {
     "data": {
      "text/html": [
       "<table>\n",
       "<caption>A matrix: 2 × 3 of type int</caption>\n",
       "<tbody>\n",
       "\t<tr><td>1</td><td>2</td><td>3</td></tr>\n",
       "\t<tr><td>7</td><td>8</td><td>9</td></tr>\n",
       "</tbody>\n",
       "</table>\n"
      ],
      "text/latex": [
       "A matrix: 2 × 3 of type int\n",
       "\\begin{tabular}{lll}\n",
       "\t 1 & 2 & 3\\\\\n",
       "\t 7 & 8 & 9\\\\\n",
       "\\end{tabular}\n"
      ],
      "text/markdown": [
       "\n",
       "A matrix: 2 × 3 of type int\n",
       "\n",
       "| 1 | 2 | 3 |\n",
       "| 7 | 8 | 9 |\n",
       "\n"
      ],
      "text/plain": [
       "     [,1] [,2] [,3]\n",
       "[1,] 1    2    3   \n",
       "[2,] 7    8    9   "
      ]
     },
     "metadata": {},
     "output_type": "display_data"
    }
   ],
   "source": [
    "y[c(1,3),]"
   ]
  },
  {
   "cell_type": "code",
   "execution_count": 19,
   "metadata": {},
   "outputs": [
    {
     "data": {
      "text/html": [
       "<table>\n",
       "<caption>A matrix: 3 × 2 of type int</caption>\n",
       "<tbody>\n",
       "\t<tr><td>1</td><td>3</td></tr>\n",
       "\t<tr><td>4</td><td>6</td></tr>\n",
       "\t<tr><td>7</td><td>9</td></tr>\n",
       "</tbody>\n",
       "</table>\n"
      ],
      "text/latex": [
       "A matrix: 3 × 2 of type int\n",
       "\\begin{tabular}{ll}\n",
       "\t 1 & 3\\\\\n",
       "\t 4 & 6\\\\\n",
       "\t 7 & 9\\\\\n",
       "\\end{tabular}\n"
      ],
      "text/markdown": [
       "\n",
       "A matrix: 3 × 2 of type int\n",
       "\n",
       "| 1 | 3 |\n",
       "| 4 | 6 |\n",
       "| 7 | 9 |\n",
       "\n"
      ],
      "text/plain": [
       "     [,1] [,2]\n",
       "[1,] 1    3   \n",
       "[2,] 4    6   \n",
       "[3,] 7    9   "
      ]
     },
     "metadata": {},
     "output_type": "display_data"
    }
   ],
   "source": [
    "y[,c(1,3)]"
   ]
  },
  {
   "cell_type": "code",
   "execution_count": 27,
   "metadata": {},
   "outputs": [
    {
     "data": {
      "text/html": [
       "<table>\n",
       "<caption>A matrix: 5 × 2 of type int</caption>\n",
       "<tbody>\n",
       "\t<tr><td>1</td><td> 6</td></tr>\n",
       "\t<tr><td>2</td><td> 7</td></tr>\n",
       "\t<tr><td>3</td><td> 8</td></tr>\n",
       "\t<tr><td>4</td><td> 9</td></tr>\n",
       "\t<tr><td>5</td><td>10</td></tr>\n",
       "</tbody>\n",
       "</table>\n"
      ],
      "text/latex": [
       "A matrix: 5 × 2 of type int\n",
       "\\begin{tabular}{ll}\n",
       "\t 1 &  6\\\\\n",
       "\t 2 &  7\\\\\n",
       "\t 3 &  8\\\\\n",
       "\t 4 &  9\\\\\n",
       "\t 5 & 10\\\\\n",
       "\\end{tabular}\n"
      ],
      "text/markdown": [
       "\n",
       "A matrix: 5 × 2 of type int\n",
       "\n",
       "| 1 |  6 |\n",
       "| 2 |  7 |\n",
       "| 3 |  8 |\n",
       "| 4 |  9 |\n",
       "| 5 | 10 |\n",
       "\n"
      ],
      "text/plain": [
       "     [,1] [,2]\n",
       "[1,] 1     6  \n",
       "[2,] 2     7  \n",
       "[3,] 3     8  \n",
       "[4,] 4     9  \n",
       "[5,] 5    10  "
      ]
     },
     "metadata": {},
     "output_type": "display_data"
    }
   ],
   "source": [
    "mat1 = matrix(seq(1:10),nrow=5, ncol=2,byrow=FALSE)\n",
    "mat1"
   ]
  },
  {
   "cell_type": "code",
   "execution_count": 28,
   "metadata": {},
   "outputs": [
    {
     "data": {
      "text/html": [
       "<table>\n",
       "<caption>A matrix: 2 × 5 of type int</caption>\n",
       "<tbody>\n",
       "\t<tr><td>1</td><td>3</td><td>5</td><td>7</td><td> 9</td></tr>\n",
       "\t<tr><td>2</td><td>4</td><td>6</td><td>8</td><td>10</td></tr>\n",
       "</tbody>\n",
       "</table>\n"
      ],
      "text/latex": [
       "A matrix: 2 × 5 of type int\n",
       "\\begin{tabular}{lllll}\n",
       "\t 1 & 3 & 5 & 7 &  9\\\\\n",
       "\t 2 & 4 & 6 & 8 & 10\\\\\n",
       "\\end{tabular}\n"
      ],
      "text/markdown": [
       "\n",
       "A matrix: 2 × 5 of type int\n",
       "\n",
       "| 1 | 3 | 5 | 7 |  9 |\n",
       "| 2 | 4 | 6 | 8 | 10 |\n",
       "\n"
      ],
      "text/plain": [
       "     [,1] [,2] [,3] [,4] [,5]\n",
       "[1,] 1    3    5    7     9  \n",
       "[2,] 2    4    6    8    10  "
      ]
     },
     "metadata": {},
     "output_type": "display_data"
    }
   ],
   "source": [
    "mat2= matrix(seq(1:10),nrow=2, ncol=5,byrow=FALSE)\n",
    "mat2"
   ]
  },
  {
   "cell_type": "code",
   "execution_count": 29,
   "metadata": {},
   "outputs": [
    {
     "data": {
      "text/html": [
       "<table>\n",
       "<caption>A matrix: 2 × 5 of type int</caption>\n",
       "<tbody>\n",
       "\t<tr><td>1</td><td>2</td><td>3</td><td>4</td><td> 5</td></tr>\n",
       "\t<tr><td>6</td><td>7</td><td>8</td><td>9</td><td>10</td></tr>\n",
       "</tbody>\n",
       "</table>\n"
      ],
      "text/latex": [
       "A matrix: 2 × 5 of type int\n",
       "\\begin{tabular}{lllll}\n",
       "\t 1 & 2 & 3 & 4 &  5\\\\\n",
       "\t 6 & 7 & 8 & 9 & 10\\\\\n",
       "\\end{tabular}\n"
      ],
      "text/markdown": [
       "\n",
       "A matrix: 2 × 5 of type int\n",
       "\n",
       "| 1 | 2 | 3 | 4 |  5 |\n",
       "| 6 | 7 | 8 | 9 | 10 |\n",
       "\n"
      ],
      "text/plain": [
       "     [,1] [,2] [,3] [,4] [,5]\n",
       "[1,] 1    2    3    4     5  \n",
       "[2,] 6    7    8    9    10  "
      ]
     },
     "metadata": {},
     "output_type": "display_data"
    }
   ],
   "source": [
    "mat3= matrix(seq(1:10),nrow=2, ncol=5,byrow=TRUE)\n",
    "mat3 "
   ]
  },
  {
   "cell_type": "code",
   "execution_count": 30,
   "metadata": {},
   "outputs": [
    {
     "data": {
      "text/html": [
       "<table>\n",
       "<caption>A matrix: 5 × 5 of type dbl</caption>\n",
       "<tbody>\n",
       "\t<tr><td>13</td><td>27</td><td>41</td><td> 55</td><td> 69</td></tr>\n",
       "\t<tr><td>16</td><td>34</td><td>52</td><td> 70</td><td> 88</td></tr>\n",
       "\t<tr><td>19</td><td>41</td><td>63</td><td> 85</td><td>107</td></tr>\n",
       "\t<tr><td>22</td><td>48</td><td>74</td><td>100</td><td>126</td></tr>\n",
       "\t<tr><td>25</td><td>55</td><td>85</td><td>115</td><td>145</td></tr>\n",
       "</tbody>\n",
       "</table>\n"
      ],
      "text/latex": [
       "A matrix: 5 × 5 of type dbl\n",
       "\\begin{tabular}{lllll}\n",
       "\t 13 & 27 & 41 &  55 &  69\\\\\n",
       "\t 16 & 34 & 52 &  70 &  88\\\\\n",
       "\t 19 & 41 & 63 &  85 & 107\\\\\n",
       "\t 22 & 48 & 74 & 100 & 126\\\\\n",
       "\t 25 & 55 & 85 & 115 & 145\\\\\n",
       "\\end{tabular}\n"
      ],
      "text/markdown": [
       "\n",
       "A matrix: 5 × 5 of type dbl\n",
       "\n",
       "| 13 | 27 | 41 |  55 |  69 |\n",
       "| 16 | 34 | 52 |  70 |  88 |\n",
       "| 19 | 41 | 63 |  85 | 107 |\n",
       "| 22 | 48 | 74 | 100 | 126 |\n",
       "| 25 | 55 | 85 | 115 | 145 |\n",
       "\n"
      ],
      "text/plain": [
       "     [,1] [,2] [,3] [,4] [,5]\n",
       "[1,] 13   27   41    55   69 \n",
       "[2,] 16   34   52    70   88 \n",
       "[3,] 19   41   63    85  107 \n",
       "[4,] 22   48   74   100  126 \n",
       "[5,] 25   55   85   115  145 "
      ]
     },
     "metadata": {},
     "output_type": "display_data"
    }
   ],
   "source": [
    "# matrix multiplication : %*%, 행렬의 차원 주의 \n",
    "mat1%*%mat2"
   ]
  },
  {
   "cell_type": "code",
   "execution_count": 34,
   "metadata": {},
   "outputs": [
    {
     "data": {
      "text/html": [
       "<table>\n",
       "<caption>A matrix: 2 × 5 of type int</caption>\n",
       "<tbody>\n",
       "\t<tr><td> 1</td><td> 6</td><td>15</td><td>28</td><td> 45</td></tr>\n",
       "\t<tr><td>12</td><td>28</td><td>48</td><td>72</td><td>100</td></tr>\n",
       "</tbody>\n",
       "</table>\n"
      ],
      "text/latex": [
       "A matrix: 2 × 5 of type int\n",
       "\\begin{tabular}{lllll}\n",
       "\t  1 &  6 & 15 & 28 &  45\\\\\n",
       "\t 12 & 28 & 48 & 72 & 100\\\\\n",
       "\\end{tabular}\n"
      ],
      "text/markdown": [
       "\n",
       "A matrix: 2 × 5 of type int\n",
       "\n",
       "|  1 |  6 | 15 | 28 |  45 |\n",
       "| 12 | 28 | 48 | 72 | 100 |\n",
       "\n"
      ],
      "text/plain": [
       "     [,1] [,2] [,3] [,4] [,5]\n",
       "[1,]  1    6   15   28    45 \n",
       "[2,] 12   28   48   72   100 "
      ]
     },
     "metadata": {},
     "output_type": "display_data"
    }
   ],
   "source": [
    "# entry-wise multiplication : *\n",
    "mat2*mat3"
   ]
  },
  {
   "cell_type": "code",
   "execution_count": 33,
   "metadata": {},
   "outputs": [
    {
     "data": {
      "text/html": [
       "<table>\n",
       "<caption>A matrix: 2 × 5 of type dbl</caption>\n",
       "<tbody>\n",
       "\t<tr><td>1.0000000</td><td>1.5000000</td><td>1.666667</td><td>1.7500000</td><td>1.8</td></tr>\n",
       "\t<tr><td>0.3333333</td><td>0.5714286</td><td>0.750000</td><td>0.8888889</td><td>1.0</td></tr>\n",
       "</tbody>\n",
       "</table>\n"
      ],
      "text/latex": [
       "A matrix: 2 × 5 of type dbl\n",
       "\\begin{tabular}{lllll}\n",
       "\t 1.0000000 & 1.5000000 & 1.666667 & 1.7500000 & 1.8\\\\\n",
       "\t 0.3333333 & 0.5714286 & 0.750000 & 0.8888889 & 1.0\\\\\n",
       "\\end{tabular}\n"
      ],
      "text/markdown": [
       "\n",
       "A matrix: 2 × 5 of type dbl\n",
       "\n",
       "| 1.0000000 | 1.5000000 | 1.666667 | 1.7500000 | 1.8 |\n",
       "| 0.3333333 | 0.5714286 | 0.750000 | 0.8888889 | 1.0 |\n",
       "\n"
      ],
      "text/plain": [
       "     [,1]      [,2]      [,3]     [,4]      [,5]\n",
       "[1,] 1.0000000 1.5000000 1.666667 1.7500000 1.8 \n",
       "[2,] 0.3333333 0.5714286 0.750000 0.8888889 1.0 "
      ]
     },
     "metadata": {},
     "output_type": "display_data"
    }
   ],
   "source": [
    "# entry-wise division : /\n",
    "mat2/mat3"
   ]
  },
  {
   "cell_type": "code",
   "execution_count": 35,
   "metadata": {},
   "outputs": [
    {
     "data": {
      "text/html": [
       "<table>\n",
       "<caption>A matrix: 2 × 5 of type int</caption>\n",
       "<tbody>\n",
       "\t<tr><td>1</td><td>2</td><td>3</td><td>4</td><td> 5</td></tr>\n",
       "\t<tr><td>6</td><td>7</td><td>8</td><td>9</td><td>10</td></tr>\n",
       "</tbody>\n",
       "</table>\n"
      ],
      "text/latex": [
       "A matrix: 2 × 5 of type int\n",
       "\\begin{tabular}{lllll}\n",
       "\t 1 & 2 & 3 & 4 &  5\\\\\n",
       "\t 6 & 7 & 8 & 9 & 10\\\\\n",
       "\\end{tabular}\n"
      ],
      "text/markdown": [
       "\n",
       "A matrix: 2 × 5 of type int\n",
       "\n",
       "| 1 | 2 | 3 | 4 |  5 |\n",
       "| 6 | 7 | 8 | 9 | 10 |\n",
       "\n"
      ],
      "text/plain": [
       "     [,1] [,2] [,3] [,4] [,5]\n",
       "[1,] 1    2    3    4     5  \n",
       "[2,] 6    7    8    9    10  "
      ]
     },
     "metadata": {},
     "output_type": "display_data"
    }
   ],
   "source": [
    "# transpose : t(A) 전치행렬 \n",
    "t(mat1)"
   ]
  },
  {
   "cell_type": "code",
   "execution_count": 36,
   "metadata": {},
   "outputs": [
    {
     "data": {
      "text/html": [
       "<table>\n",
       "<caption>A matrix: 3 × 3 of type dbl</caption>\n",
       "<tbody>\n",
       "\t<tr><td>1</td><td>0</td><td>0</td></tr>\n",
       "\t<tr><td>0</td><td>1</td><td>0</td></tr>\n",
       "\t<tr><td>0</td><td>0</td><td>1</td></tr>\n",
       "</tbody>\n",
       "</table>\n"
      ],
      "text/latex": [
       "A matrix: 3 × 3 of type dbl\n",
       "\\begin{tabular}{lll}\n",
       "\t 1 & 0 & 0\\\\\n",
       "\t 0 & 1 & 0\\\\\n",
       "\t 0 & 0 & 1\\\\\n",
       "\\end{tabular}\n"
      ],
      "text/markdown": [
       "\n",
       "A matrix: 3 × 3 of type dbl\n",
       "\n",
       "| 1 | 0 | 0 |\n",
       "| 0 | 1 | 0 |\n",
       "| 0 | 0 | 1 |\n",
       "\n"
      ],
      "text/plain": [
       "     [,1] [,2] [,3]\n",
       "[1,] 1    0    0   \n",
       "[2,] 0    1    0   \n",
       "[3,] 0    0    1   "
      ]
     },
     "metadata": {},
     "output_type": "display_data"
    }
   ],
   "source": [
    "# diag(k) : k x k identity matrix\n",
    "diag(3)"
   ]
  },
  {
   "cell_type": "code",
   "execution_count": 37,
   "metadata": {},
   "outputs": [
    {
     "data": {
      "text/html": [
       "<table>\n",
       "<caption>A matrix: 6 × 6 of type int</caption>\n",
       "<tbody>\n",
       "\t<tr><td>1</td><td>0</td><td>0</td><td>0</td><td>0</td><td>0</td></tr>\n",
       "\t<tr><td>0</td><td>2</td><td>0</td><td>0</td><td>0</td><td>0</td></tr>\n",
       "\t<tr><td>0</td><td>0</td><td>3</td><td>0</td><td>0</td><td>0</td></tr>\n",
       "\t<tr><td>0</td><td>0</td><td>0</td><td>1</td><td>0</td><td>0</td></tr>\n",
       "\t<tr><td>0</td><td>0</td><td>0</td><td>0</td><td>2</td><td>0</td></tr>\n",
       "\t<tr><td>0</td><td>0</td><td>0</td><td>0</td><td>0</td><td>3</td></tr>\n",
       "</tbody>\n",
       "</table>\n"
      ],
      "text/latex": [
       "A matrix: 6 × 6 of type int\n",
       "\\begin{tabular}{llllll}\n",
       "\t 1 & 0 & 0 & 0 & 0 & 0\\\\\n",
       "\t 0 & 2 & 0 & 0 & 0 & 0\\\\\n",
       "\t 0 & 0 & 3 & 0 & 0 & 0\\\\\n",
       "\t 0 & 0 & 0 & 1 & 0 & 0\\\\\n",
       "\t 0 & 0 & 0 & 0 & 2 & 0\\\\\n",
       "\t 0 & 0 & 0 & 0 & 0 & 3\\\\\n",
       "\\end{tabular}\n"
      ],
      "text/markdown": [
       "\n",
       "A matrix: 6 × 6 of type int\n",
       "\n",
       "| 1 | 0 | 0 | 0 | 0 | 0 |\n",
       "| 0 | 2 | 0 | 0 | 0 | 0 |\n",
       "| 0 | 0 | 3 | 0 | 0 | 0 |\n",
       "| 0 | 0 | 0 | 1 | 0 | 0 |\n",
       "| 0 | 0 | 0 | 0 | 2 | 0 |\n",
       "| 0 | 0 | 0 | 0 | 0 | 3 |\n",
       "\n"
      ],
      "text/plain": [
       "     [,1] [,2] [,3] [,4] [,5] [,6]\n",
       "[1,] 1    0    0    0    0    0   \n",
       "[2,] 0    2    0    0    0    0   \n",
       "[3,] 0    0    3    0    0    0   \n",
       "[4,] 0    0    0    1    0    0   \n",
       "[5,] 0    0    0    0    2    0   \n",
       "[6,] 0    0    0    0    0    3   "
      ]
     },
     "metadata": {},
     "output_type": "display_data"
    }
   ],
   "source": [
    "# diag(m) : 대각원소 값이 m인 대각행렬(diagonal matrix)\n",
    "m=rep(1:3, times=2)\n",
    "diag(m)"
   ]
  },
  {
   "cell_type": "code",
   "execution_count": 40,
   "metadata": {},
   "outputs": [
    {
     "data": {
      "text/html": [
       "36"
      ],
      "text/latex": [
       "36"
      ],
      "text/markdown": [
       "36"
      ],
      "text/plain": [
       "[1] 36"
      ]
     },
     "metadata": {},
     "output_type": "display_data"
    }
   ],
   "source": [
    "# det(x) : determinant(행렬식) 계산\n",
    "det(diag(m))"
   ]
  },
  {
   "cell_type": "code",
   "execution_count": 41,
   "metadata": {},
   "outputs": [
    {
     "data": {
      "text/html": [
       "<table>\n",
       "<caption>A matrix: 5 × 5 of type dbl</caption>\n",
       "<tbody>\n",
       "\t<tr><td>13</td><td>16</td><td> 19</td><td> 22</td><td> 25</td></tr>\n",
       "\t<tr><td>27</td><td>34</td><td> 41</td><td> 48</td><td> 55</td></tr>\n",
       "\t<tr><td>41</td><td>52</td><td> 63</td><td> 74</td><td> 85</td></tr>\n",
       "\t<tr><td>55</td><td>70</td><td> 85</td><td>100</td><td>115</td></tr>\n",
       "\t<tr><td>69</td><td>88</td><td>107</td><td>126</td><td>145</td></tr>\n",
       "</tbody>\n",
       "</table>\n"
      ],
      "text/latex": [
       "A matrix: 5 × 5 of type dbl\n",
       "\\begin{tabular}{lllll}\n",
       "\t 13 & 16 &  19 &  22 &  25\\\\\n",
       "\t 27 & 34 &  41 &  48 &  55\\\\\n",
       "\t 41 & 52 &  63 &  74 &  85\\\\\n",
       "\t 55 & 70 &  85 & 100 & 115\\\\\n",
       "\t 69 & 88 & 107 & 126 & 145\\\\\n",
       "\\end{tabular}\n"
      ],
      "text/markdown": [
       "\n",
       "A matrix: 5 × 5 of type dbl\n",
       "\n",
       "| 13 | 16 |  19 |  22 |  25 |\n",
       "| 27 | 34 |  41 |  48 |  55 |\n",
       "| 41 | 52 |  63 |  74 |  85 |\n",
       "| 55 | 70 |  85 | 100 | 115 |\n",
       "| 69 | 88 | 107 | 126 | 145 |\n",
       "\n"
      ],
      "text/plain": [
       "     [,1] [,2] [,3] [,4] [,5]\n",
       "[1,] 13   16    19   22   25 \n",
       "[2,] 27   34    41   48   55 \n",
       "[3,] 41   52    63   74   85 \n",
       "[4,] 55   70    85  100  115 \n",
       "[5,] 69   88   107  126  145 "
      ]
     },
     "metadata": {},
     "output_type": "display_data"
    },
    {
     "data": {
      "text/html": [
       "<table>\n",
       "<caption>A matrix: 5 × 5 of type dbl</caption>\n",
       "<tbody>\n",
       "\t<tr><td>13</td><td>16</td><td> 19</td><td> 22</td><td> 25</td></tr>\n",
       "\t<tr><td>27</td><td>34</td><td> 41</td><td> 48</td><td> 55</td></tr>\n",
       "\t<tr><td>41</td><td>52</td><td> 63</td><td> 74</td><td> 85</td></tr>\n",
       "\t<tr><td>55</td><td>70</td><td> 85</td><td>100</td><td>115</td></tr>\n",
       "\t<tr><td>69</td><td>88</td><td>107</td><td>126</td><td>145</td></tr>\n",
       "</tbody>\n",
       "</table>\n"
      ],
      "text/latex": [
       "A matrix: 5 × 5 of type dbl\n",
       "\\begin{tabular}{lllll}\n",
       "\t 13 & 16 &  19 &  22 &  25\\\\\n",
       "\t 27 & 34 &  41 &  48 &  55\\\\\n",
       "\t 41 & 52 &  63 &  74 &  85\\\\\n",
       "\t 55 & 70 &  85 & 100 & 115\\\\\n",
       "\t 69 & 88 & 107 & 126 & 145\\\\\n",
       "\\end{tabular}\n"
      ],
      "text/markdown": [
       "\n",
       "A matrix: 5 × 5 of type dbl\n",
       "\n",
       "| 13 | 16 |  19 |  22 |  25 |\n",
       "| 27 | 34 |  41 |  48 |  55 |\n",
       "| 41 | 52 |  63 |  74 |  85 |\n",
       "| 55 | 70 |  85 | 100 | 115 |\n",
       "| 69 | 88 | 107 | 126 | 145 |\n",
       "\n"
      ],
      "text/plain": [
       "     [,1] [,2] [,3] [,4] [,5]\n",
       "[1,] 13   16    19   22   25 \n",
       "[2,] 27   34    41   48   55 \n",
       "[3,] 41   52    63   74   85 \n",
       "[4,] 55   70    85  100  115 \n",
       "[5,] 69   88   107  126  145 "
      ]
     },
     "metadata": {},
     "output_type": "display_data"
    }
   ],
   "source": [
    "# A'B : crossprod(A,B)\n",
    "crossprod(mat2,mat3)\n",
    "t(mat2)%*%mat3"
   ]
  },
  {
   "cell_type": "code",
   "execution_count": 42,
   "metadata": {},
   "outputs": [
    {
     "data": {
      "text/html": [
       "<table>\n",
       "<caption>A matrix: 5 × 5 of type dbl</caption>\n",
       "<tbody>\n",
       "\t<tr><td> 5</td><td>11</td><td> 17</td><td> 23</td><td> 29</td></tr>\n",
       "\t<tr><td>11</td><td>25</td><td> 39</td><td> 53</td><td> 67</td></tr>\n",
       "\t<tr><td>17</td><td>39</td><td> 61</td><td> 83</td><td>105</td></tr>\n",
       "\t<tr><td>23</td><td>53</td><td> 83</td><td>113</td><td>143</td></tr>\n",
       "\t<tr><td>29</td><td>67</td><td>105</td><td>143</td><td>181</td></tr>\n",
       "</tbody>\n",
       "</table>\n"
      ],
      "text/latex": [
       "A matrix: 5 × 5 of type dbl\n",
       "\\begin{tabular}{lllll}\n",
       "\t  5 & 11 &  17 &  23 &  29\\\\\n",
       "\t 11 & 25 &  39 &  53 &  67\\\\\n",
       "\t 17 & 39 &  61 &  83 & 105\\\\\n",
       "\t 23 & 53 &  83 & 113 & 143\\\\\n",
       "\t 29 & 67 & 105 & 143 & 181\\\\\n",
       "\\end{tabular}\n"
      ],
      "text/markdown": [
       "\n",
       "A matrix: 5 × 5 of type dbl\n",
       "\n",
       "|  5 | 11 |  17 |  23 |  29 |\n",
       "| 11 | 25 |  39 |  53 |  67 |\n",
       "| 17 | 39 |  61 |  83 | 105 |\n",
       "| 23 | 53 |  83 | 113 | 143 |\n",
       "| 29 | 67 | 105 | 143 | 181 |\n",
       "\n"
      ],
      "text/plain": [
       "     [,1] [,2] [,3] [,4] [,5]\n",
       "[1,]  5   11    17   23   29 \n",
       "[2,] 11   25    39   53   67 \n",
       "[3,] 17   39    61   83  105 \n",
       "[4,] 23   53    83  113  143 \n",
       "[5,] 29   67   105  143  181 "
      ]
     },
     "metadata": {},
     "output_type": "display_data"
    },
    {
     "data": {
      "text/html": [
       "<table>\n",
       "<caption>A matrix: 5 × 5 of type dbl</caption>\n",
       "<tbody>\n",
       "\t<tr><td> 5</td><td>11</td><td> 17</td><td> 23</td><td> 29</td></tr>\n",
       "\t<tr><td>11</td><td>25</td><td> 39</td><td> 53</td><td> 67</td></tr>\n",
       "\t<tr><td>17</td><td>39</td><td> 61</td><td> 83</td><td>105</td></tr>\n",
       "\t<tr><td>23</td><td>53</td><td> 83</td><td>113</td><td>143</td></tr>\n",
       "\t<tr><td>29</td><td>67</td><td>105</td><td>143</td><td>181</td></tr>\n",
       "</tbody>\n",
       "</table>\n"
      ],
      "text/latex": [
       "A matrix: 5 × 5 of type dbl\n",
       "\\begin{tabular}{lllll}\n",
       "\t  5 & 11 &  17 &  23 &  29\\\\\n",
       "\t 11 & 25 &  39 &  53 &  67\\\\\n",
       "\t 17 & 39 &  61 &  83 & 105\\\\\n",
       "\t 23 & 53 &  83 & 113 & 143\\\\\n",
       "\t 29 & 67 & 105 & 143 & 181\\\\\n",
       "\\end{tabular}\n"
      ],
      "text/markdown": [
       "\n",
       "A matrix: 5 × 5 of type dbl\n",
       "\n",
       "|  5 | 11 |  17 |  23 |  29 |\n",
       "| 11 | 25 |  39 |  53 |  67 |\n",
       "| 17 | 39 |  61 |  83 | 105 |\n",
       "| 23 | 53 |  83 | 113 | 143 |\n",
       "| 29 | 67 | 105 | 143 | 181 |\n",
       "\n"
      ],
      "text/plain": [
       "     [,1] [,2] [,3] [,4] [,5]\n",
       "[1,]  5   11    17   23   29 \n",
       "[2,] 11   25    39   53   67 \n",
       "[3,] 17   39    61   83  105 \n",
       "[4,] 23   53    83  113  143 \n",
       "[5,] 29   67   105  143  181 "
      ]
     },
     "metadata": {},
     "output_type": "display_data"
    }
   ],
   "source": [
    "crossprod(mat2) # 벡터곱\n",
    "t(mat2)%*%mat2"
   ]
  },
  {
   "cell_type": "code",
   "execution_count": 43,
   "metadata": {},
   "outputs": [
    {
     "data": {
      "text/html": [
       "<table>\n",
       "<caption>A matrix: 2 × 2 of type dbl</caption>\n",
       "<tbody>\n",
       "\t<tr><td> 95</td><td>220</td></tr>\n",
       "\t<tr><td>110</td><td>260</td></tr>\n",
       "</tbody>\n",
       "</table>\n"
      ],
      "text/latex": [
       "A matrix: 2 × 2 of type dbl\n",
       "\\begin{tabular}{ll}\n",
       "\t  95 & 220\\\\\n",
       "\t 110 & 260\\\\\n",
       "\\end{tabular}\n"
      ],
      "text/markdown": [
       "\n",
       "A matrix: 2 × 2 of type dbl\n",
       "\n",
       "|  95 | 220 |\n",
       "| 110 | 260 |\n",
       "\n"
      ],
      "text/plain": [
       "     [,1] [,2]\n",
       "[1,]  95  220 \n",
       "[2,] 110  260 "
      ]
     },
     "metadata": {},
     "output_type": "display_data"
    }
   ],
   "source": [
    "# AB'\n",
    "mat2%*%t(mat3)"
   ]
  },
  {
   "cell_type": "markdown",
   "metadata": {},
   "source": [
    "## 4.2 Random Number Generation"
   ]
  },
  {
   "cell_type": "code",
   "execution_count": 47,
   "metadata": {},
   "outputs": [
    {
     "data": {
      "text/html": [
       "0.151570247695372"
      ],
      "text/latex": [
       "0.151570247695372"
      ],
      "text/markdown": [
       "0.151570247695372"
      ],
      "text/plain": [
       "[1] 0.1515702"
      ]
     },
     "metadata": {},
     "output_type": "display_data"
    }
   ],
   "source": [
    "#rnorm(n) generates n normal random numbers from the standard normal distribution.\n",
    "d=rnorm(1) \n",
    "d"
   ]
  },
  {
   "cell_type": "code",
   "execution_count": 59,
   "metadata": {},
   "outputs": [
    {
     "data": {
      "text/html": [
       "10.6912632771468"
      ],
      "text/latex": [
       "10.6912632771468"
      ],
      "text/markdown": [
       "10.6912632771468"
      ],
      "text/plain": [
       "[1] 10.69126"
      ]
     },
     "metadata": {},
     "output_type": "display_data"
    }
   ],
   "source": [
    "#rnorm(n, a, b)=rnorm(n, mean=a, sd=b) : normal distribution with mean a and standard deviation b.\n",
    "d1=rnorm(1, mean=10, sd=1)\n",
    "d1"
   ]
  },
  {
   "cell_type": "code",
   "execution_count": 78,
   "metadata": {},
   "outputs": [
    {
     "data": {
      "text/html": [
       "0.513251410331577"
      ],
      "text/latex": [
       "0.513251410331577"
      ],
      "text/markdown": [
       "0.513251410331577"
      ],
      "text/plain": [
       "[1] 0.5132514"
      ]
     },
     "metadata": {},
     "output_type": "display_data"
    }
   ],
   "source": [
    "#runif(n) generates n uniform random numbers between 0 and 1. Uniform distribution [0,1]\n",
    "d2=runif(1)\n",
    "d2"
   ]
  },
  {
   "cell_type": "code",
   "execution_count": 89,
   "metadata": {},
   "outputs": [
    {
     "data": {
      "text/html": [
       "6.40674782800488"
      ],
      "text/latex": [
       "6.40674782800488"
      ],
      "text/markdown": [
       "6.40674782800488"
      ],
      "text/plain": [
       "[1] 6.406748"
      ]
     },
     "metadata": {},
     "output_type": "display_data"
    }
   ],
   "source": [
    "#runif(n, a, b) generates n uniform random numbers between a and b. Uniform distribution [a,b]\n",
    "d3 = runif(1, 5, 10)\n",
    "d3"
   ]
  },
  {
   "cell_type": "markdown",
   "metadata": {},
   "source": [
    "## 4.2 조건문"
   ]
  },
  {
   "cell_type": "code",
   "execution_count": 90,
   "metadata": {},
   "outputs": [
    {
     "name": "stdout",
     "output_type": "stream",
     "text": [
      "[1] \"Less than 0.5\"\n",
      "[1] \"true d\"\n",
      "[1] 0.1515702\n"
     ]
    }
   ],
   "source": [
    "if (d<0.5){\n",
    "    print(\"Less than 0.5\")\n",
    "} else if (d<0.75){\n",
    "    print(\"Less than 0.75\")\n",
    "} else{\n",
    "    print(\"greater than 0.75\")\n",
    "}\n",
    "print (\"true d\"); print(d);"
   ]
  },
  {
   "cell_type": "code",
   "execution_count": 112,
   "metadata": {},
   "outputs": [
    {
     "name": "stdout",
     "output_type": "stream",
     "text": [
      "[1] \"Less than 0.5\"\n",
      "[1] \"true d\"\n",
      "[1] 0.148575\n"
     ]
    }
   ],
   "source": [
    "d=rnorm(1) \n",
    "if (d<0.5){\n",
    "  print(\"Less than 0.5\")\n",
    "} else if (d<0.75){\n",
    "  print(\"Less than 0.75\") \n",
    "} else{\n",
    "  print(\"greater than 0.75\")\n",
    "}\n",
    "print (\"true d\"); print(d);"
   ]
  },
  {
   "cell_type": "code",
   "execution_count": 156,
   "metadata": {},
   "outputs": [
    {
     "data": {
      "text/html": [
       "0.556519237020984"
      ],
      "text/latex": [
       "0.556519237020984"
      ],
      "text/markdown": [
       "0.556519237020984"
      ],
      "text/plain": [
       "[1] 0.5565192"
      ]
     },
     "metadata": {},
     "output_type": "display_data"
    },
    {
     "name": "stdout",
     "output_type": "stream",
     "text": [
      "[1] \"x is wrong number\"\n"
     ]
    }
   ],
   "source": [
    "x = runif(1) + 0.1; x\n",
    "\n",
    "if (x >= -0.5 & x <= 0.5){\n",
    "  if (x<0) {print(x); print(\"x is negative\"); print(abs(x))\n",
    "  }  else {print(x); print(\"x is positive\")}\n",
    "}else {print(\"x is wrong number\")\n",
    "}"
   ]
  },
  {
   "cell_type": "markdown",
   "metadata": {},
   "source": [
    "## 4.3 반복문"
   ]
  },
  {
   "cell_type": "code",
   "execution_count": 157,
   "metadata": {},
   "outputs": [
    {
     "name": "stdout",
     "output_type": "stream",
     "text": [
      "[1] 1\n",
      "[1] 2\n",
      "[1] 3\n",
      "[1] 4\n"
     ]
    }
   ],
   "source": [
    "for (i in 1:4) print(i)"
   ]
  },
  {
   "cell_type": "code",
   "execution_count": 158,
   "metadata": {},
   "outputs": [
    {
     "name": "stdout",
     "output_type": "stream",
     "text": [
      "[1] 1\n",
      "[1] 2\n",
      "[1] 3\n",
      "[1] 4\n"
     ]
    }
   ],
   "source": [
    "for (i in 1:4) {\n",
    "    print(i)\n",
    "}"
   ]
  },
  {
   "cell_type": "code",
   "execution_count": 159,
   "metadata": {},
   "outputs": [
    {
     "name": "stdout",
     "output_type": "stream",
     "text": [
      "[1] 15150\n"
     ]
    }
   ],
   "source": [
    "isum = 0\n",
    "for (i in 100:200) {\n",
    "  isum = isum + i\n",
    "}\n",
    "print(isum)"
   ]
  },
  {
   "cell_type": "code",
   "execution_count": 160,
   "metadata": {},
   "outputs": [
    {
     "name": "stdout",
     "output_type": "stream",
     "text": [
      "[1] \"bus\"\n",
      "[1] \"subway\"\n",
      "[1] \"car\"\n",
      "[1] \"bike\"\n"
     ]
    }
   ],
   "source": [
    "# 문자 변수의 looping\n",
    "transport = c(\"bus\", \"subway\", \"car\", \"bike\")\n",
    "for (vehicle in transport) {\n",
    "  print(vehicle)\n",
    "}"
   ]
  },
  {
   "cell_type": "code",
   "execution_count": 161,
   "metadata": {},
   "outputs": [
    {
     "name": "stdout",
     "output_type": "stream",
     "text": [
      "[1] 14\n",
      "[1] 105\n"
     ]
    }
   ],
   "source": [
    "#100을 넘으면서 100과 가장 가까운 t 구하기\n",
    "# while 이용 \n",
    "t = 0\n",
    "tsum = 0\n",
    "while (tsum <= 100) {\n",
    "  t = t + 1\n",
    "  tsum = tsum + t\n",
    "}\n",
    "print(t) ; print(tsum)  "
   ]
  },
  {
   "cell_type": "code",
   "execution_count": 162,
   "metadata": {},
   "outputs": [
    {
     "name": "stdout",
     "output_type": "stream",
     "text": [
      "[1] 14\n",
      "[1] 105\n"
     ]
    }
   ],
   "source": [
    "# repeat 이용 \n",
    "t = 0\n",
    "tsum = 0\n",
    "repeat{\n",
    "  t = t + 1\n",
    "  tsum = tsum + t\n",
    "  if(tsum > 100) break\n",
    "}\n",
    "print(t) ; print(tsum)  "
   ]
  },
  {
   "cell_type": "code",
   "execution_count": 164,
   "metadata": {},
   "outputs": [
    {
     "data": {
      "text/html": [
       "<table>\n",
       "<caption>A matrix: 6 × 1 of type dbl</caption>\n",
       "<tbody>\n",
       "\t<tr><td>0</td></tr>\n",
       "\t<tr><td>0</td></tr>\n",
       "\t<tr><td>0</td></tr>\n",
       "\t<tr><td>0</td></tr>\n",
       "\t<tr><td>0</td></tr>\n",
       "\t<tr><td>0</td></tr>\n",
       "</tbody>\n",
       "</table>\n"
      ],
      "text/latex": [
       "A matrix: 6 × 1 of type dbl\n",
       "\\begin{tabular}{l}\n",
       "\t 0\\\\\n",
       "\t 0\\\\\n",
       "\t 0\\\\\n",
       "\t 0\\\\\n",
       "\t 0\\\\\n",
       "\t 0\\\\\n",
       "\\end{tabular}\n"
      ],
      "text/markdown": [
       "\n",
       "A matrix: 6 × 1 of type dbl\n",
       "\n",
       "| 0 |\n",
       "| 0 |\n",
       "| 0 |\n",
       "| 0 |\n",
       "| 0 |\n",
       "| 0 |\n",
       "\n"
      ],
      "text/plain": [
       "     [,1]\n",
       "[1,] 0   \n",
       "[2,] 0   \n",
       "[3,] 0   \n",
       "[4,] 0   \n",
       "[5,] 0   \n",
       "[6,] 0   "
      ]
     },
     "metadata": {},
     "output_type": "display_data"
    },
    {
     "data": {
      "text/html": [
       "<table>\n",
       "<caption>A matrix: 6 × 1 of type dbl</caption>\n",
       "<tbody>\n",
       "\t<tr><th scope=row>[495,]</th><td>0</td></tr>\n",
       "\t<tr><th scope=row>[496,]</th><td>0</td></tr>\n",
       "\t<tr><th scope=row>[497,]</th><td>0</td></tr>\n",
       "\t<tr><th scope=row>[498,]</th><td>0</td></tr>\n",
       "\t<tr><th scope=row>[499,]</th><td>0</td></tr>\n",
       "\t<tr><th scope=row>[500,]</th><td>0</td></tr>\n",
       "</tbody>\n",
       "</table>\n"
      ],
      "text/latex": [
       "A matrix: 6 × 1 of type dbl\n",
       "\\begin{tabular}{r|l}\n",
       "\t{[}495,{]} & 0\\\\\n",
       "\t{[}496,{]} & 0\\\\\n",
       "\t{[}497,{]} & 0\\\\\n",
       "\t{[}498,{]} & 0\\\\\n",
       "\t{[}499,{]} & 0\\\\\n",
       "\t{[}500,{]} & 0\\\\\n",
       "\\end{tabular}\n"
      ],
      "text/markdown": [
       "\n",
       "A matrix: 6 × 1 of type dbl\n",
       "\n",
       "| [495,] | 0 |\n",
       "| [496,] | 0 |\n",
       "| [497,] | 0 |\n",
       "| [498,] | 0 |\n",
       "| [499,] | 0 |\n",
       "| [500,] | 0 |\n",
       "\n"
      ],
      "text/plain": [
       "       [,1]\n",
       "[495,] 0   \n",
       "[496,] 0   \n",
       "[497,] 0   \n",
       "[498,] 0   \n",
       "[499,] 0   \n",
       "[500,] 0   "
      ]
     },
     "metadata": {},
     "output_type": "display_data"
    }
   ],
   "source": [
    "n=500; #sample size\n",
    "rho=0.4 #AR coefficient\n",
    "x=matrix(0,n,1) #zero vector, dimension n*1 \n",
    "head(x); tail(x)"
   ]
  },
  {
   "cell_type": "code",
   "execution_count": 165,
   "metadata": {},
   "outputs": [
    {
     "data": {
      "text/html": [
       "<table>\n",
       "<caption>A matrix: 6 × 1 of type dbl</caption>\n",
       "<tbody>\n",
       "\t<tr><td> 0.3925815</td></tr>\n",
       "\t<tr><td> 0.9322829</td></tr>\n",
       "\t<tr><td>-0.2283658</td></tr>\n",
       "\t<tr><td> 1.3699820</td></tr>\n",
       "\t<tr><td> 0.2182428</td></tr>\n",
       "\t<tr><td> 0.2326784</td></tr>\n",
       "</tbody>\n",
       "</table>\n"
      ],
      "text/latex": [
       "A matrix: 6 × 1 of type dbl\n",
       "\\begin{tabular}{l}\n",
       "\t  0.3925815\\\\\n",
       "\t  0.9322829\\\\\n",
       "\t -0.2283658\\\\\n",
       "\t  1.3699820\\\\\n",
       "\t  0.2182428\\\\\n",
       "\t  0.2326784\\\\\n",
       "\\end{tabular}\n"
      ],
      "text/markdown": [
       "\n",
       "A matrix: 6 × 1 of type dbl\n",
       "\n",
       "|  0.3925815 |\n",
       "|  0.9322829 |\n",
       "| -0.2283658 |\n",
       "|  1.3699820 |\n",
       "|  0.2182428 |\n",
       "|  0.2326784 |\n",
       "\n"
      ],
      "text/plain": [
       "     [,1]      \n",
       "[1,]  0.3925815\n",
       "[2,]  0.9322829\n",
       "[3,] -0.2283658\n",
       "[4,]  1.3699820\n",
       "[5,]  0.2182428\n",
       "[6,]  0.2326784"
      ]
     },
     "metadata": {},
     "output_type": "display_data"
    },
    {
     "data": {
      "text/html": [
       "500"
      ],
      "text/latex": [
       "500"
      ],
      "text/markdown": [
       "500"
      ],
      "text/plain": [
       "[1] 500"
      ]
     },
     "metadata": {},
     "output_type": "display_data"
    }
   ],
   "source": [
    "eps = matrix(rnorm(n),n,1) # generate random vector from standard normal dist, eps is the error term\n",
    "head(eps)\n",
    "length(eps)"
   ]
  },
  {
   "cell_type": "code",
   "execution_count": 167,
   "metadata": {},
   "outputs": [
    {
     "data": {
      "text/html": [
       "<table>\n",
       "<caption>A matrix: 6 × 1 of type dbl</caption>\n",
       "<tbody>\n",
       "\t<tr><td>0.0000000</td></tr>\n",
       "\t<tr><td>0.9322829</td></tr>\n",
       "\t<tr><td>0.1445474</td></tr>\n",
       "\t<tr><td>1.4278009</td></tr>\n",
       "\t<tr><td>0.7893631</td></tr>\n",
       "\t<tr><td>0.5484237</td></tr>\n",
       "</tbody>\n",
       "</table>\n"
      ],
      "text/latex": [
       "A matrix: 6 × 1 of type dbl\n",
       "\\begin{tabular}{l}\n",
       "\t 0.0000000\\\\\n",
       "\t 0.9322829\\\\\n",
       "\t 0.1445474\\\\\n",
       "\t 1.4278009\\\\\n",
       "\t 0.7893631\\\\\n",
       "\t 0.5484237\\\\\n",
       "\\end{tabular}\n"
      ],
      "text/markdown": [
       "\n",
       "A matrix: 6 × 1 of type dbl\n",
       "\n",
       "| 0.0000000 |\n",
       "| 0.9322829 |\n",
       "| 0.1445474 |\n",
       "| 1.4278009 |\n",
       "| 0.7893631 |\n",
       "| 0.5484237 |\n",
       "\n"
      ],
      "text/plain": [
       "     [,1]     \n",
       "[1,] 0.0000000\n",
       "[2,] 0.9322829\n",
       "[3,] 0.1445474\n",
       "[4,] 1.4278009\n",
       "[5,] 0.7893631\n",
       "[6,] 0.5484237"
      ]
     },
     "metadata": {},
     "output_type": "display_data"
    },
    {
     "data": {
      "text/html": [
       "<table>\n",
       "<caption>A matrix: 6 × 1 of type dbl</caption>\n",
       "<tbody>\n",
       "\t<tr><th scope=row>[495,]</th><td> 0.5690430</td></tr>\n",
       "\t<tr><th scope=row>[496,]</th><td> 1.2236663</td></tr>\n",
       "\t<tr><th scope=row>[497,]</th><td>-0.4150623</td></tr>\n",
       "\t<tr><th scope=row>[498,]</th><td> 1.0619784</td></tr>\n",
       "\t<tr><th scope=row>[499,]</th><td> 1.0382278</td></tr>\n",
       "\t<tr><th scope=row>[500,]</th><td>-0.3505990</td></tr>\n",
       "</tbody>\n",
       "</table>\n"
      ],
      "text/latex": [
       "A matrix: 6 × 1 of type dbl\n",
       "\\begin{tabular}{r|l}\n",
       "\t{[}495,{]} &  0.5690430\\\\\n",
       "\t{[}496,{]} &  1.2236663\\\\\n",
       "\t{[}497,{]} & -0.4150623\\\\\n",
       "\t{[}498,{]} &  1.0619784\\\\\n",
       "\t{[}499,{]} &  1.0382278\\\\\n",
       "\t{[}500,{]} & -0.3505990\\\\\n",
       "\\end{tabular}\n"
      ],
      "text/markdown": [
       "\n",
       "A matrix: 6 × 1 of type dbl\n",
       "\n",
       "| [495,] |  0.5690430 |\n",
       "| [496,] |  1.2236663 |\n",
       "| [497,] | -0.4150623 |\n",
       "| [498,] |  1.0619784 |\n",
       "| [499,] |  1.0382278 |\n",
       "| [500,] | -0.3505990 |\n",
       "\n"
      ],
      "text/plain": [
       "       [,1]      \n",
       "[495,]  0.5690430\n",
       "[496,]  1.2236663\n",
       "[497,] -0.4150623\n",
       "[498,]  1.0619784\n",
       "[499,]  1.0382278\n",
       "[500,] -0.3505990"
      ]
     },
     "metadata": {},
     "output_type": "display_data"
    }
   ],
   "source": [
    "# x is an AR(1) process.\n",
    "for (i in 2:n) {\n",
    "  x[i,1] = rho*x[i-1,1]+eps[i,1]\n",
    "}\n",
    "head(x)\n",
    "tail(x) #cat(x)"
   ]
  },
  {
   "cell_type": "code",
   "execution_count": 168,
   "metadata": {},
   "outputs": [
    {
     "data": {
      "text/html": [
       "<table>\n",
       "<caption>A matrix: 6 × 1 of type dbl</caption>\n",
       "<tbody>\n",
       "\t<tr><td> 0.93228292</td></tr>\n",
       "\t<tr><td>-0.78773556</td></tr>\n",
       "\t<tr><td> 1.28325358</td></tr>\n",
       "\t<tr><td>-0.63843781</td></tr>\n",
       "\t<tr><td>-0.24093947</td></tr>\n",
       "\t<tr><td> 0.02260614</td></tr>\n",
       "</tbody>\n",
       "</table>\n"
      ],
      "text/latex": [
       "A matrix: 6 × 1 of type dbl\n",
       "\\begin{tabular}{l}\n",
       "\t  0.93228292\\\\\n",
       "\t -0.78773556\\\\\n",
       "\t  1.28325358\\\\\n",
       "\t -0.63843781\\\\\n",
       "\t -0.24093947\\\\\n",
       "\t  0.02260614\\\\\n",
       "\\end{tabular}\n"
      ],
      "text/markdown": [
       "\n",
       "A matrix: 6 × 1 of type dbl\n",
       "\n",
       "|  0.93228292 |\n",
       "| -0.78773556 |\n",
       "|  1.28325358 |\n",
       "| -0.63843781 |\n",
       "| -0.24093947 |\n",
       "|  0.02260614 |\n",
       "\n"
      ],
      "text/plain": [
       "     [,1]       \n",
       "[1,]  0.93228292\n",
       "[2,] -0.78773556\n",
       "[3,]  1.28325358\n",
       "[4,] -0.63843781\n",
       "[5,] -0.24093947\n",
       "[6,]  0.02260614"
      ]
     },
     "metadata": {},
     "output_type": "display_data"
    },
    {
     "data": {
      "text/html": [
       "<table>\n",
       "<caption>A matrix: 6 × 1 of type dbl</caption>\n",
       "<tbody>\n",
       "\t<tr><th scope=row>[494,]</th><td> 2.38698751</td></tr>\n",
       "\t<tr><th scope=row>[495,]</th><td> 0.65462331</td></tr>\n",
       "\t<tr><th scope=row>[496,]</th><td>-1.63872866</td></tr>\n",
       "\t<tr><th scope=row>[497,]</th><td> 1.47704073</td></tr>\n",
       "\t<tr><th scope=row>[498,]</th><td>-0.02375065</td></tr>\n",
       "\t<tr><th scope=row>[499,]</th><td>-1.38882672</td></tr>\n",
       "</tbody>\n",
       "</table>\n"
      ],
      "text/latex": [
       "A matrix: 6 × 1 of type dbl\n",
       "\\begin{tabular}{r|l}\n",
       "\t{[}494,{]} &  2.38698751\\\\\n",
       "\t{[}495,{]} &  0.65462331\\\\\n",
       "\t{[}496,{]} & -1.63872866\\\\\n",
       "\t{[}497,{]} &  1.47704073\\\\\n",
       "\t{[}498,{]} & -0.02375065\\\\\n",
       "\t{[}499,{]} & -1.38882672\\\\\n",
       "\\end{tabular}\n"
      ],
      "text/markdown": [
       "\n",
       "A matrix: 6 × 1 of type dbl\n",
       "\n",
       "| [494,] |  2.38698751 |\n",
       "| [495,] |  0.65462331 |\n",
       "| [496,] | -1.63872866 |\n",
       "| [497,] |  1.47704073 |\n",
       "| [498,] | -0.02375065 |\n",
       "| [499,] | -1.38882672 |\n",
       "\n"
      ],
      "text/plain": [
       "       [,1]       \n",
       "[494,]  2.38698751\n",
       "[495,]  0.65462331\n",
       "[496,] -1.63872866\n",
       "[497,]  1.47704073\n",
       "[498,] -0.02375065\n",
       "[499,] -1.38882672"
      ]
     },
     "metadata": {},
     "output_type": "display_data"
    }
   ],
   "source": [
    "# first differencing dx_t=x_(t) - x_(t-1)\n",
    "dx1=matrix(0,n-1,1)\n",
    "for (i in 2:n){\n",
    "  dx1[i-1,1]=x[i]-x[i-1]\n",
    "}\n",
    "head(dx1)\n",
    "tail(dx1)"
   ]
  },
  {
   "cell_type": "code",
   "execution_count": 169,
   "metadata": {},
   "outputs": [
    {
     "data": {
      "text/html": [
       "<table>\n",
       "<caption>A matrix: 499 × 2 of type dbl</caption>\n",
       "<tbody>\n",
       "\t<tr><td> 0.93228292</td><td> 0.93228292</td></tr>\n",
       "\t<tr><td>-0.78773556</td><td>-0.78773556</td></tr>\n",
       "\t<tr><td> 1.28325358</td><td> 1.28325358</td></tr>\n",
       "\t<tr><td>-0.63843781</td><td>-0.63843781</td></tr>\n",
       "\t<tr><td>-0.24093947</td><td>-0.24093947</td></tr>\n",
       "\t<tr><td> 0.02260614</td><td> 0.02260614</td></tr>\n",
       "\t<tr><td> 0.79016299</td><td> 0.79016299</td></tr>\n",
       "\t<tr><td>-1.69864467</td><td>-1.69864467</td></tr>\n",
       "\t<tr><td> 0.76436023</td><td> 0.76436023</td></tr>\n",
       "\t<tr><td> 1.50856418</td><td> 1.50856418</td></tr>\n",
       "\t<tr><td>-0.68153219</td><td>-0.68153219</td></tr>\n",
       "\t<tr><td>-0.99218690</td><td>-0.99218690</td></tr>\n",
       "\t<tr><td> 1.78870480</td><td> 1.78870480</td></tr>\n",
       "\t<tr><td>-0.95862888</td><td>-0.95862888</td></tr>\n",
       "\t<tr><td>-0.83735229</td><td>-0.83735229</td></tr>\n",
       "\t<tr><td>-0.57454922</td><td>-0.57454922</td></tr>\n",
       "\t<tr><td>-0.55720649</td><td>-0.55720649</td></tr>\n",
       "\t<tr><td>-0.73876433</td><td>-0.73876433</td></tr>\n",
       "\t<tr><td> 1.64375165</td><td> 1.64375165</td></tr>\n",
       "\t<tr><td>-0.14211231</td><td>-0.14211231</td></tr>\n",
       "\t<tr><td>-0.17845983</td><td>-0.17845983</td></tr>\n",
       "\t<tr><td>-0.40245638</td><td>-0.40245638</td></tr>\n",
       "\t<tr><td> 1.14989770</td><td> 1.14989770</td></tr>\n",
       "\t<tr><td> 1.08492230</td><td> 1.08492230</td></tr>\n",
       "\t<tr><td>-1.47270881</td><td>-1.47270881</td></tr>\n",
       "\t<tr><td> 0.45706950</td><td> 0.45706950</td></tr>\n",
       "\t<tr><td>-1.26983183</td><td>-1.26983183</td></tr>\n",
       "\t<tr><td>-0.85702162</td><td>-0.85702162</td></tr>\n",
       "\t<tr><td>-0.10247454</td><td>-0.10247454</td></tr>\n",
       "\t<tr><td> 1.22400017</td><td> 1.22400017</td></tr>\n",
       "\t<tr><td>...</td><td>...</td></tr>\n",
       "\t<tr><td> 0.91211546</td><td> 0.91211546</td></tr>\n",
       "\t<tr><td>-0.77367439</td><td>-0.77367439</td></tr>\n",
       "\t<tr><td> 0.25329657</td><td> 0.25329657</td></tr>\n",
       "\t<tr><td> 0.83500089</td><td> 0.83500089</td></tr>\n",
       "\t<tr><td> 1.03398652</td><td> 1.03398652</td></tr>\n",
       "\t<tr><td>-1.26285170</td><td>-1.26285170</td></tr>\n",
       "\t<tr><td>-0.26989023</td><td>-0.26989023</td></tr>\n",
       "\t<tr><td>-0.20334669</td><td>-0.20334669</td></tr>\n",
       "\t<tr><td>-1.89173500</td><td>-1.89173500</td></tr>\n",
       "\t<tr><td> 1.38448778</td><td> 1.38448778</td></tr>\n",
       "\t<tr><td> 0.15416913</td><td> 0.15416913</td></tr>\n",
       "\t<tr><td> 0.90096120</td><td> 0.90096120</td></tr>\n",
       "\t<tr><td> 0.57410233</td><td> 0.57410233</td></tr>\n",
       "\t<tr><td>-2.34010067</td><td>-2.34010067</td></tr>\n",
       "\t<tr><td> 0.56813935</td><td> 0.56813935</td></tr>\n",
       "\t<tr><td> 1.74670971</td><td> 1.74670971</td></tr>\n",
       "\t<tr><td>-0.90089022</td><td>-0.90089022</td></tr>\n",
       "\t<tr><td>-0.10626421</td><td>-0.10626421</td></tr>\n",
       "\t<tr><td> 0.57750807</td><td> 0.57750807</td></tr>\n",
       "\t<tr><td> 1.36269336</td><td> 1.36269336</td></tr>\n",
       "\t<tr><td>-1.94705652</td><td>-1.94705652</td></tr>\n",
       "\t<tr><td> 0.65387108</td><td> 0.65387108</td></tr>\n",
       "\t<tr><td>-0.63388019</td><td>-0.63388019</td></tr>\n",
       "\t<tr><td>-2.20767627</td><td>-2.20767627</td></tr>\n",
       "\t<tr><td> 2.38698751</td><td> 2.38698751</td></tr>\n",
       "\t<tr><td> 0.65462331</td><td> 0.65462331</td></tr>\n",
       "\t<tr><td>-1.63872866</td><td>-1.63872866</td></tr>\n",
       "\t<tr><td> 1.47704073</td><td> 1.47704073</td></tr>\n",
       "\t<tr><td>-0.02375065</td><td>-0.02375065</td></tr>\n",
       "\t<tr><td>-1.38882672</td><td>-1.38882672</td></tr>\n",
       "</tbody>\n",
       "</table>\n"
      ],
      "text/latex": [
       "A matrix: 499 × 2 of type dbl\n",
       "\\begin{tabular}{ll}\n",
       "\t  0.93228292 &  0.93228292\\\\\n",
       "\t -0.78773556 & -0.78773556\\\\\n",
       "\t  1.28325358 &  1.28325358\\\\\n",
       "\t -0.63843781 & -0.63843781\\\\\n",
       "\t -0.24093947 & -0.24093947\\\\\n",
       "\t  0.02260614 &  0.02260614\\\\\n",
       "\t  0.79016299 &  0.79016299\\\\\n",
       "\t -1.69864467 & -1.69864467\\\\\n",
       "\t  0.76436023 &  0.76436023\\\\\n",
       "\t  1.50856418 &  1.50856418\\\\\n",
       "\t -0.68153219 & -0.68153219\\\\\n",
       "\t -0.99218690 & -0.99218690\\\\\n",
       "\t  1.78870480 &  1.78870480\\\\\n",
       "\t -0.95862888 & -0.95862888\\\\\n",
       "\t -0.83735229 & -0.83735229\\\\\n",
       "\t -0.57454922 & -0.57454922\\\\\n",
       "\t -0.55720649 & -0.55720649\\\\\n",
       "\t -0.73876433 & -0.73876433\\\\\n",
       "\t  1.64375165 &  1.64375165\\\\\n",
       "\t -0.14211231 & -0.14211231\\\\\n",
       "\t -0.17845983 & -0.17845983\\\\\n",
       "\t -0.40245638 & -0.40245638\\\\\n",
       "\t  1.14989770 &  1.14989770\\\\\n",
       "\t  1.08492230 &  1.08492230\\\\\n",
       "\t -1.47270881 & -1.47270881\\\\\n",
       "\t  0.45706950 &  0.45706950\\\\\n",
       "\t -1.26983183 & -1.26983183\\\\\n",
       "\t -0.85702162 & -0.85702162\\\\\n",
       "\t -0.10247454 & -0.10247454\\\\\n",
       "\t  1.22400017 &  1.22400017\\\\\n",
       "\t ... & ...\\\\\n",
       "\t  0.91211546 &  0.91211546\\\\\n",
       "\t -0.77367439 & -0.77367439\\\\\n",
       "\t  0.25329657 &  0.25329657\\\\\n",
       "\t  0.83500089 &  0.83500089\\\\\n",
       "\t  1.03398652 &  1.03398652\\\\\n",
       "\t -1.26285170 & -1.26285170\\\\\n",
       "\t -0.26989023 & -0.26989023\\\\\n",
       "\t -0.20334669 & -0.20334669\\\\\n",
       "\t -1.89173500 & -1.89173500\\\\\n",
       "\t  1.38448778 &  1.38448778\\\\\n",
       "\t  0.15416913 &  0.15416913\\\\\n",
       "\t  0.90096120 &  0.90096120\\\\\n",
       "\t  0.57410233 &  0.57410233\\\\\n",
       "\t -2.34010067 & -2.34010067\\\\\n",
       "\t  0.56813935 &  0.56813935\\\\\n",
       "\t  1.74670971 &  1.74670971\\\\\n",
       "\t -0.90089022 & -0.90089022\\\\\n",
       "\t -0.10626421 & -0.10626421\\\\\n",
       "\t  0.57750807 &  0.57750807\\\\\n",
       "\t  1.36269336 &  1.36269336\\\\\n",
       "\t -1.94705652 & -1.94705652\\\\\n",
       "\t  0.65387108 &  0.65387108\\\\\n",
       "\t -0.63388019 & -0.63388019\\\\\n",
       "\t -2.20767627 & -2.20767627\\\\\n",
       "\t  2.38698751 &  2.38698751\\\\\n",
       "\t  0.65462331 &  0.65462331\\\\\n",
       "\t -1.63872866 & -1.63872866\\\\\n",
       "\t  1.47704073 &  1.47704073\\\\\n",
       "\t -0.02375065 & -0.02375065\\\\\n",
       "\t -1.38882672 & -1.38882672\\\\\n",
       "\\end{tabular}\n"
      ],
      "text/markdown": [
       "\n",
       "A matrix: 499 × 2 of type dbl\n",
       "\n",
       "|  0.93228292 |  0.93228292 |\n",
       "| -0.78773556 | -0.78773556 |\n",
       "|  1.28325358 |  1.28325358 |\n",
       "| -0.63843781 | -0.63843781 |\n",
       "| -0.24093947 | -0.24093947 |\n",
       "|  0.02260614 |  0.02260614 |\n",
       "|  0.79016299 |  0.79016299 |\n",
       "| -1.69864467 | -1.69864467 |\n",
       "|  0.76436023 |  0.76436023 |\n",
       "|  1.50856418 |  1.50856418 |\n",
       "| -0.68153219 | -0.68153219 |\n",
       "| -0.99218690 | -0.99218690 |\n",
       "|  1.78870480 |  1.78870480 |\n",
       "| -0.95862888 | -0.95862888 |\n",
       "| -0.83735229 | -0.83735229 |\n",
       "| -0.57454922 | -0.57454922 |\n",
       "| -0.55720649 | -0.55720649 |\n",
       "| -0.73876433 | -0.73876433 |\n",
       "|  1.64375165 |  1.64375165 |\n",
       "| -0.14211231 | -0.14211231 |\n",
       "| -0.17845983 | -0.17845983 |\n",
       "| -0.40245638 | -0.40245638 |\n",
       "|  1.14989770 |  1.14989770 |\n",
       "|  1.08492230 |  1.08492230 |\n",
       "| -1.47270881 | -1.47270881 |\n",
       "|  0.45706950 |  0.45706950 |\n",
       "| -1.26983183 | -1.26983183 |\n",
       "| -0.85702162 | -0.85702162 |\n",
       "| -0.10247454 | -0.10247454 |\n",
       "|  1.22400017 |  1.22400017 |\n",
       "| ... | ... |\n",
       "|  0.91211546 |  0.91211546 |\n",
       "| -0.77367439 | -0.77367439 |\n",
       "|  0.25329657 |  0.25329657 |\n",
       "|  0.83500089 |  0.83500089 |\n",
       "|  1.03398652 |  1.03398652 |\n",
       "| -1.26285170 | -1.26285170 |\n",
       "| -0.26989023 | -0.26989023 |\n",
       "| -0.20334669 | -0.20334669 |\n",
       "| -1.89173500 | -1.89173500 |\n",
       "|  1.38448778 |  1.38448778 |\n",
       "|  0.15416913 |  0.15416913 |\n",
       "|  0.90096120 |  0.90096120 |\n",
       "|  0.57410233 |  0.57410233 |\n",
       "| -2.34010067 | -2.34010067 |\n",
       "|  0.56813935 |  0.56813935 |\n",
       "|  1.74670971 |  1.74670971 |\n",
       "| -0.90089022 | -0.90089022 |\n",
       "| -0.10626421 | -0.10626421 |\n",
       "|  0.57750807 |  0.57750807 |\n",
       "|  1.36269336 |  1.36269336 |\n",
       "| -1.94705652 | -1.94705652 |\n",
       "|  0.65387108 |  0.65387108 |\n",
       "| -0.63388019 | -0.63388019 |\n",
       "| -2.20767627 | -2.20767627 |\n",
       "|  2.38698751 |  2.38698751 |\n",
       "|  0.65462331 |  0.65462331 |\n",
       "| -1.63872866 | -1.63872866 |\n",
       "|  1.47704073 |  1.47704073 |\n",
       "| -0.02375065 | -0.02375065 |\n",
       "| -1.38882672 | -1.38882672 |\n",
       "\n"
      ],
      "text/plain": [
       "      [,1]        [,2]       \n",
       " [1,]  0.93228292  0.93228292\n",
       " [2,] -0.78773556 -0.78773556\n",
       " [3,]  1.28325358  1.28325358\n",
       " [4,] -0.63843781 -0.63843781\n",
       " [5,] -0.24093947 -0.24093947\n",
       " [6,]  0.02260614  0.02260614\n",
       " [7,]  0.79016299  0.79016299\n",
       " [8,] -1.69864467 -1.69864467\n",
       " [9,]  0.76436023  0.76436023\n",
       "[10,]  1.50856418  1.50856418\n",
       "[11,] -0.68153219 -0.68153219\n",
       "[12,] -0.99218690 -0.99218690\n",
       "[13,]  1.78870480  1.78870480\n",
       "[14,] -0.95862888 -0.95862888\n",
       "[15,] -0.83735229 -0.83735229\n",
       "[16,] -0.57454922 -0.57454922\n",
       "[17,] -0.55720649 -0.55720649\n",
       "[18,] -0.73876433 -0.73876433\n",
       "[19,]  1.64375165  1.64375165\n",
       "[20,] -0.14211231 -0.14211231\n",
       "[21,] -0.17845983 -0.17845983\n",
       "[22,] -0.40245638 -0.40245638\n",
       "[23,]  1.14989770  1.14989770\n",
       "[24,]  1.08492230  1.08492230\n",
       "[25,] -1.47270881 -1.47270881\n",
       "[26,]  0.45706950  0.45706950\n",
       "[27,] -1.26983183 -1.26983183\n",
       "[28,] -0.85702162 -0.85702162\n",
       "[29,] -0.10247454 -0.10247454\n",
       "[30,]  1.22400017  1.22400017\n",
       "[31,] ...         ...        \n",
       "[32,]  0.91211546  0.91211546\n",
       "[33,] -0.77367439 -0.77367439\n",
       "[34,]  0.25329657  0.25329657\n",
       "[35,]  0.83500089  0.83500089\n",
       "[36,]  1.03398652  1.03398652\n",
       "[37,] -1.26285170 -1.26285170\n",
       "[38,] -0.26989023 -0.26989023\n",
       "[39,] -0.20334669 -0.20334669\n",
       "[40,] -1.89173500 -1.89173500\n",
       "[41,]  1.38448778  1.38448778\n",
       "[42,]  0.15416913  0.15416913\n",
       "[43,]  0.90096120  0.90096120\n",
       "[44,]  0.57410233  0.57410233\n",
       "[45,] -2.34010067 -2.34010067\n",
       "[46,]  0.56813935  0.56813935\n",
       "[47,]  1.74670971  1.74670971\n",
       "[48,] -0.90089022 -0.90089022\n",
       "[49,] -0.10626421 -0.10626421\n",
       "[50,]  0.57750807  0.57750807\n",
       "[51,]  1.36269336  1.36269336\n",
       "[52,] -1.94705652 -1.94705652\n",
       "[53,]  0.65387108  0.65387108\n",
       "[54,] -0.63388019 -0.63388019\n",
       "[55,] -2.20767627 -2.20767627\n",
       "[56,]  2.38698751  2.38698751\n",
       "[57,]  0.65462331  0.65462331\n",
       "[58,] -1.63872866 -1.63872866\n",
       "[59,]  1.47704073  1.47704073\n",
       "[60,] -0.02375065 -0.02375065\n",
       "[61,] -1.38882672 -1.38882672"
      ]
     },
     "metadata": {},
     "output_type": "display_data"
    }
   ],
   "source": [
    "dx2=diff(x) # first difference\n",
    "cbind(dx1,dx2)  # they are same"
   ]
  },
  {
   "cell_type": "markdown",
   "metadata": {},
   "source": [
    "## 4.4 OLS estimation"
   ]
  },
  {
   "cell_type": "code",
   "execution_count": 170,
   "metadata": {},
   "outputs": [],
   "source": [
    "#first, we generate x and y\n",
    "n=1000; \n",
    "b0=0.1; b1=1 #true parameter\n",
    "\n",
    "y=matrix(0,n,1)\n",
    "x=matrix(rnorm(n),n,1)\n",
    "eps = matrix(rnorm(n),n,1)"
   ]
  },
  {
   "cell_type": "code",
   "execution_count": 171,
   "metadata": {},
   "outputs": [
    {
     "data": {
      "image/png": "[encoded data removed]",
      "text/plain": [
       "plot without title"
      ]
     },
     "metadata": {
      "image/png": {
       "height": 420,
       "width": 420
      }
     },
     "output_type": "display_data"
    },
    {
     "data": {
      "image/png": "[encoded data removed]",
      "text/plain": [
       "plot without title"
      ]
     },
     "metadata": {
      "image/png": {
       "height": 420,
       "width": 420
      }
     },
     "output_type": "display_data"
    }
   ],
   "source": [
    "for (i in 1:n){\n",
    "  y[i]=b0+b1*x[i]+eps[i]\n",
    "}\n",
    "\n",
    "plot(x,y)\n",
    "plot(y~x)"
   ]
  },
  {
   "cell_type": "code",
   "execution_count": 172,
   "metadata": {},
   "outputs": [
    {
     "data": {
      "text/plain": [
       "\n",
       "Call:\n",
       "lm(formula = y ~ x)\n",
       "\n",
       "Residuals:\n",
       "     Min       1Q   Median       3Q      Max \n",
       "-3.07276 -0.67885  0.00421  0.68014  3.10605 \n",
       "\n",
       "Coefficients:\n",
       "            Estimate Std. Error t value Pr(>|t|)    \n",
       "(Intercept)  0.11129    0.03244   3.431 0.000626 ***\n",
       "x            0.99303    0.03172  31.310  < 2e-16 ***\n",
       "---\n",
       "Signif. codes:  0 '***' 0.001 '**' 0.01 '*' 0.05 '.' 0.1 ' ' 1\n",
       "\n",
       "Residual standard error: 1.026 on 998 degrees of freedom\n",
       "Multiple R-squared:  0.4955,\tAdjusted R-squared:  0.495 \n",
       "F-statistic: 980.3 on 1 and 998 DF,  p-value: < 2.2e-16\n"
      ]
     },
     "metadata": {},
     "output_type": "display_data"
    }
   ],
   "source": [
    "# Estimate linear model with R default function\n",
    "fit1 = lm(y~x)\n",
    "summary(fit1)"
   ]
  },
  {
   "cell_type": "code",
   "execution_count": 173,
   "metadata": {},
   "outputs": [
    {
     "data": {
      "text/html": [
       "<table>\n",
       "<caption>A matrix: 2 × 2 of type dbl</caption>\n",
       "<thead>\n",
       "\t<tr><th></th><th scope=col>2.5 %</th><th scope=col>97.5 %</th></tr>\n",
       "</thead>\n",
       "<tbody>\n",
       "\t<tr><th scope=row>(Intercept)</th><td>0.04763559</td><td>0.1749372</td></tr>\n",
       "\t<tr><th scope=row>x</th><td>0.93079451</td><td>1.0552686</td></tr>\n",
       "</tbody>\n",
       "</table>\n"
      ],
      "text/latex": [
       "A matrix: 2 × 2 of type dbl\n",
       "\\begin{tabular}{r|ll}\n",
       "  & 2.5 \\% & 97.5 \\%\\\\\n",
       "\\hline\n",
       "\t(Intercept) & 0.04763559 & 0.1749372\\\\\n",
       "\tx & 0.93079451 & 1.0552686\\\\\n",
       "\\end{tabular}\n"
      ],
      "text/markdown": [
       "\n",
       "A matrix: 2 × 2 of type dbl\n",
       "\n",
       "| <!--/--> | 2.5 % | 97.5 % |\n",
       "|---|---|---|\n",
       "| (Intercept) | 0.04763559 | 0.1749372 |\n",
       "| x | 0.93079451 | 1.0552686 |\n",
       "\n"
      ],
      "text/plain": [
       "            2.5 %      97.5 %   \n",
       "(Intercept) 0.04763559 0.1749372\n",
       "x           0.93079451 1.0552686"
      ]
     },
     "metadata": {},
     "output_type": "display_data"
    }
   ],
   "source": [
    "# 95% confidence interval\n",
    "confint(fit1, level=0.95)"
   ]
  },
  {
   "cell_type": "code",
   "execution_count": 174,
   "metadata": {},
   "outputs": [
    {
     "ename": "ERROR",
     "evalue": "Error in int_abline(a = a, b = b, h = h, v = v, untf = untf, ...): plot.new has not been called yet\n",
     "output_type": "error",
     "traceback": [
      "Error in int_abline(a = a, b = b, h = h, v = v, untf = untf, ...): plot.new has not been called yet\nTraceback:\n",
      "1. abline(fit1)",
      "2. int_abline(a = a, b = b, h = h, v = v, untf = untf, ...)"
     ]
    }
   ],
   "source": [
    "# Plotting regression line\n",
    "abline(fit1)"
   ]
  },
  {
   "cell_type": "code",
   "execution_count": 175,
   "metadata": {},
   "outputs": [
    {
     "data": {
      "text/plain": [
       "    Min.  1st Qu.   Median     Mean  3rd Qu.     Max. \n",
       "-3.45582 -0.58510  0.10449  0.09372  0.77446  3.73868 "
      ]
     },
     "metadata": {},
     "output_type": "display_data"
    },
    {
     "data": {
      "image/png": "[encoded data removed]",
      "text/plain": [
       "plot without title"
      ]
     },
     "metadata": {
      "image/png": {
       "height": 420,
       "width": 420
      }
     },
     "output_type": "display_data"
    }
   ],
   "source": [
    "yhat = fitted(fit1) # fitted value of y \n",
    "summary(yhat)\n",
    "plot(yhat~x)"
   ]
  },
  {
   "cell_type": "code",
   "execution_count": 176,
   "metadata": {},
   "outputs": [
    {
     "data": {
      "text/plain": [
       "     Min.   1st Qu.    Median      Mean   3rd Qu.      Max. \n",
       "-3.072756 -0.678851  0.004214  0.000000  0.680142  3.106052 "
      ]
     },
     "metadata": {},
     "output_type": "display_data"
    },
    {
     "data": {
      "image/png": "[encoded data removed]",
      "text/plain": [
       "plot without title"
      ]
     },
     "metadata": {
      "image/png": {
       "height": 420,
       "width": 420
      }
     },
     "output_type": "display_data"
    }
   ],
   "source": [
    "uhat = resid(fit1)  # residuals\n",
    "summary(uhat)\n",
    "plot(uhat~x)"
   ]
  },
  {
   "cell_type": "markdown",
   "metadata": {},
   "source": [
    "## 4.5 행렬을 이용한 OLS Estimation"
   ]
  },
  {
   "cell_type": "code",
   "execution_count": 179,
   "metadata": {},
   "outputs": [],
   "source": [
    "x=cbind(1,x) #the first column in x corresponds to intercept"
   ]
  },
  {
   "cell_type": "code",
   "execution_count": 180,
   "metadata": {},
   "outputs": [
    {
     "data": {
      "text/html": [
       "<table>\n",
       "<caption>A matrix: 6 × 2 of type dbl</caption>\n",
       "<tbody>\n",
       "\t<tr><td>1</td><td>-0.52831235</td></tr>\n",
       "\t<tr><td>1</td><td> 0.17257477</td></tr>\n",
       "\t<tr><td>1</td><td> 0.05923615</td></tr>\n",
       "\t<tr><td>1</td><td>-0.64677155</td></tr>\n",
       "\t<tr><td>1</td><td>-1.37675495</td></tr>\n",
       "\t<tr><td>1</td><td>-0.91162558</td></tr>\n",
       "</tbody>\n",
       "</table>\n"
      ],
      "text/latex": [
       "A matrix: 6 × 2 of type dbl\n",
       "\\begin{tabular}{ll}\n",
       "\t 1 & -0.52831235\\\\\n",
       "\t 1 &  0.17257477\\\\\n",
       "\t 1 &  0.05923615\\\\\n",
       "\t 1 & -0.64677155\\\\\n",
       "\t 1 & -1.37675495\\\\\n",
       "\t 1 & -0.91162558\\\\\n",
       "\\end{tabular}\n"
      ],
      "text/markdown": [
       "\n",
       "A matrix: 6 × 2 of type dbl\n",
       "\n",
       "| 1 | -0.52831235 |\n",
       "| 1 |  0.17257477 |\n",
       "| 1 |  0.05923615 |\n",
       "| 1 | -0.64677155 |\n",
       "| 1 | -1.37675495 |\n",
       "| 1 | -0.91162558 |\n",
       "\n"
      ],
      "text/plain": [
       "     [,1] [,2]       \n",
       "[1,] 1    -0.52831235\n",
       "[2,] 1     0.17257477\n",
       "[3,] 1     0.05923615\n",
       "[4,] 1    -0.64677155\n",
       "[5,] 1    -1.37675495\n",
       "[6,] 1    -0.91162558"
      ]
     },
     "metadata": {},
     "output_type": "display_data"
    }
   ],
   "source": [
    "head(x)"
   ]
  },
  {
   "cell_type": "code",
   "execution_count": 181,
   "metadata": {},
   "outputs": [
    {
     "data": {
      "text/html": [
       "<table>\n",
       "<caption>A matrix: 2 × 1 of type dbl</caption>\n",
       "<tbody>\n",
       "\t<tr><td>0.1112864</td></tr>\n",
       "\t<tr><td>0.9930316</td></tr>\n",
       "</tbody>\n",
       "</table>\n"
      ],
      "text/latex": [
       "A matrix: 2 × 1 of type dbl\n",
       "\\begin{tabular}{l}\n",
       "\t 0.1112864\\\\\n",
       "\t 0.9930316\\\\\n",
       "\\end{tabular}\n"
      ],
      "text/markdown": [
       "\n",
       "A matrix: 2 × 1 of type dbl\n",
       "\n",
       "| 0.1112864 |\n",
       "| 0.9930316 |\n",
       "\n"
      ],
      "text/plain": [
       "     [,1]     \n",
       "[1,] 0.1112864\n",
       "[2,] 0.9930316"
      ]
     },
     "metadata": {},
     "output_type": "display_data"
    }
   ],
   "source": [
    "invx = solve(crossprod(x))    # (x'x)^(-1)\n",
    "olsb = invx%*%crossprod(x,y)  # (x'x)^(-1)x'y\n",
    "invx = solve(t(x)%*%x)\n",
    "olsb  #OLS estimate, compare this with fit1"
   ]
  },
  {
   "cell_type": "code",
   "execution_count": 183,
   "metadata": {},
   "outputs": [
    {
     "data": {
      "text/plain": [
       "\n",
       "Call:\n",
       "lm(formula = y ~ x - 1)\n",
       "\n",
       "Residuals:\n",
       "     Min       1Q   Median       3Q      Max \n",
       "-3.07276 -0.67885  0.00421  0.68014  3.10605 \n",
       "\n",
       "Coefficients:\n",
       "   Estimate Std. Error t value Pr(>|t|)    \n",
       "x1  0.11129    0.03244   3.431 0.000626 ***\n",
       "x2  0.99303    0.03172  31.310  < 2e-16 ***\n",
       "---\n",
       "Signif. codes:  0 '***' 0.001 '**' 0.01 '*' 0.05 '.' 0.1 ' ' 1\n",
       "\n",
       "Residual standard error: 1.026 on 998 degrees of freedom\n",
       "Multiple R-squared:  0.4977,\tAdjusted R-squared:  0.4967 \n",
       "F-statistic: 494.3 on 2 and 998 DF,  p-value: < 2.2e-16\n"
      ]
     },
     "metadata": {},
     "output_type": "display_data"
    }
   ],
   "source": [
    "fit2 = lm(y~x-1) # regression without intercept\n",
    "summary(fit2)"
   ]
  },
  {
   "cell_type": "code",
   "execution_count": 184,
   "metadata": {},
   "outputs": [
    {
     "data": {
      "text/html": [
       "<table>\n",
       "<caption>A matrix: 2 × 2 of type dbl</caption>\n",
       "<tbody>\n",
       "\t<tr><td>1.052101e-03</td><td>1.779545e-05</td></tr>\n",
       "\t<tr><td>1.779545e-05</td><td>1.005884e-03</td></tr>\n",
       "</tbody>\n",
       "</table>\n"
      ],
      "text/latex": [
       "A matrix: 2 × 2 of type dbl\n",
       "\\begin{tabular}{ll}\n",
       "\t 1.052101e-03 & 1.779545e-05\\\\\n",
       "\t 1.779545e-05 & 1.005884e-03\\\\\n",
       "\\end{tabular}\n"
      ],
      "text/markdown": [
       "\n",
       "A matrix: 2 × 2 of type dbl\n",
       "\n",
       "| 1.052101e-03 | 1.779545e-05 |\n",
       "| 1.779545e-05 | 1.005884e-03 |\n",
       "\n"
      ],
      "text/plain": [
       "     [,1]         [,2]        \n",
       "[1,] 1.052101e-03 1.779545e-05\n",
       "[2,] 1.779545e-05 1.005884e-03"
      ]
     },
     "metadata": {},
     "output_type": "display_data"
    },
    {
     "data": {
      "text/html": [
       "<table>\n",
       "<caption>A matrix: 2 × 3 of type dbl</caption>\n",
       "<tbody>\n",
       "\t<tr><td>0.1112864</td><td>0.03243610</td><td> 3.430942</td></tr>\n",
       "\t<tr><td>0.9930316</td><td>0.03171567</td><td>31.310442</td></tr>\n",
       "</tbody>\n",
       "</table>\n"
      ],
      "text/latex": [
       "A matrix: 2 × 3 of type dbl\n",
       "\\begin{tabular}{lll}\n",
       "\t 0.1112864 & 0.03243610 &  3.430942\\\\\n",
       "\t 0.9930316 & 0.03171567 & 31.310442\\\\\n",
       "\\end{tabular}\n"
      ],
      "text/markdown": [
       "\n",
       "A matrix: 2 × 3 of type dbl\n",
       "\n",
       "| 0.1112864 | 0.03243610 |  3.430942 |\n",
       "| 0.9930316 | 0.03171567 | 31.310442 |\n",
       "\n"
      ],
      "text/plain": [
       "     [,1]      [,2]       [,3]     \n",
       "[1,] 0.1112864 0.03243610  3.430942\n",
       "[2,] 0.9930316 0.03171567 31.310442"
      ]
     },
     "metadata": {},
     "output_type": "display_data"
    }
   ],
   "source": [
    "u    = y-x%*%olsb   #residual\n",
    "sig2 = crossprod(u)/(n-2)\n",
    "varcov = matrix(sig2,2,2) * invx\n",
    "varcov\n",
    "se = rbind(sqrt(varcov[1,1]), sqrt(varcov[2,2]))  #standard error\n",
    "tvalue = olsb/se # t-statistic\n",
    "cbind(olsb, se, tvalue)"
   ]
  }
 ],
 "metadata": {
  "kernelspec": {
   "display_name": "R",
   "language": "R",
   "name": "ir"
  },
  "language_info": {
   "codemirror_mode": "r",
   "file_extension": ".r",
   "mimetype": "text/x-r-source",
   "name": "R",
   "pygments_lexer": "r",
   "version": "3.5.1"
  }
 },
 "nbformat": 4,
 "nbformat_minor": 4
}
