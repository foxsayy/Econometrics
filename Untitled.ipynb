{
 "cells": [
  {
   "cell_type": "code",
   "execution_count": 4,
   "metadata": {},
   "outputs": [
    {
     "data": {
      "text/html": [
       "6763"
      ],
      "text/latex": [
       "6763"
      ],
      "text/markdown": [
       "6763"
      ],
      "text/plain": [
       "[1] 6763"
      ]
     },
     "metadata": {},
     "output_type": "display_data"
    },
    {
     "data": {
      "text/html": [
       "<style>\n",
       ".list-inline {list-style: none; margin:0; padding: 0}\n",
       ".list-inline>li {display: inline-block}\n",
       ".list-inline>li:not(:last-child)::after {content: \"\\00b7\"; padding: 0 .5ex}\n",
       "</style>\n",
       "<ol class=list-inline><li>'female'</li><li>'phsrank'</li><li>'BA'</li><li>'AA'</li><li>'black'</li><li>'hispanic'</li><li>'id'</li><li>'exper'</li><li>'jc'</li><li>'univ'</li><li>'lwage'</li><li>'stotal'</li><li>'smcity'</li><li>'medcity'</li><li>'submed'</li><li>'lgcity'</li><li>'sublg'</li><li>'vlgcity'</li><li>'subvlg'</li><li>'ne'</li><li>'nc'</li><li>'south'</li><li>'totcoll'</li></ol>\n"
      ],
      "text/latex": [
       "\\begin{enumerate*}\n",
       "\\item 'female'\n",
       "\\item 'phsrank'\n",
       "\\item 'BA'\n",
       "\\item 'AA'\n",
       "\\item 'black'\n",
       "\\item 'hispanic'\n",
       "\\item 'id'\n",
       "\\item 'exper'\n",
       "\\item 'jc'\n",
       "\\item 'univ'\n",
       "\\item 'lwage'\n",
       "\\item 'stotal'\n",
       "\\item 'smcity'\n",
       "\\item 'medcity'\n",
       "\\item 'submed'\n",
       "\\item 'lgcity'\n",
       "\\item 'sublg'\n",
       "\\item 'vlgcity'\n",
       "\\item 'subvlg'\n",
       "\\item 'ne'\n",
       "\\item 'nc'\n",
       "\\item 'south'\n",
       "\\item 'totcoll'\n",
       "\\end{enumerate*}\n"
      ],
      "text/markdown": [
       "1. 'female'\n",
       "2. 'phsrank'\n",
       "3. 'BA'\n",
       "4. 'AA'\n",
       "5. 'black'\n",
       "6. 'hispanic'\n",
       "7. 'id'\n",
       "8. 'exper'\n",
       "9. 'jc'\n",
       "10. 'univ'\n",
       "11. 'lwage'\n",
       "12. 'stotal'\n",
       "13. 'smcity'\n",
       "14. 'medcity'\n",
       "15. 'submed'\n",
       "16. 'lgcity'\n",
       "17. 'sublg'\n",
       "18. 'vlgcity'\n",
       "19. 'subvlg'\n",
       "20. 'ne'\n",
       "21. 'nc'\n",
       "22. 'south'\n",
       "23. 'totcoll'\n",
       "\n",
       "\n"
      ],
      "text/plain": [
       " [1] \"female\"   \"phsrank\"  \"BA\"       \"AA\"       \"black\"    \"hispanic\"\n",
       " [7] \"id\"       \"exper\"    \"jc\"       \"univ\"     \"lwage\"    \"stotal\"  \n",
       "[13] \"smcity\"   \"medcity\"  \"submed\"   \"lgcity\"   \"sublg\"    \"vlgcity\" \n",
       "[19] \"subvlg\"   \"ne\"       \"nc\"       \"south\"    \"totcoll\" "
      ]
     },
     "metadata": {},
     "output_type": "display_data"
    }
   ],
   "source": [
    "datadir = \"http://econ.korea.ac.kr/~chirokhan/book/data\"\n",
    "\n",
    "Twoyear = read.csv(file.path(datadir, \"twoyear.csv\"))\n",
    "nrow(Twoyear)\n",
    "names(Twoyear)\n"
   ]
  },
  {
   "cell_type": "code",
   "execution_count": 6,
   "metadata": {},
   "outputs": [
    {
     "data": {
      "text/plain": [
       "\n",
       "Call:\n",
       "lm(formula = lwage ~ jc + univ + exper, data = Twoyear)\n",
       "\n",
       "Residuals:\n",
       "     Min       1Q   Median       3Q      Max \n",
       "-2.10362 -0.28132  0.00551  0.28518  1.78167 \n",
       "\n",
       "Coefficients:\n",
       "             Estimate Std. Error t value Pr(>|t|)    \n",
       "(Intercept) 1.4723256  0.0210602  69.910   <2e-16 ***\n",
       "jc          0.0666967  0.0068288   9.767   <2e-16 ***\n",
       "univ        0.0768763  0.0023087  33.298   <2e-16 ***\n",
       "exper       0.0049442  0.0001575  31.397   <2e-16 ***\n",
       "---\n",
       "Signif. codes:  0 '***' 0.001 '**' 0.01 '*' 0.05 '.' 0.1 ' ' 1\n",
       "\n",
       "Residual standard error: 0.4301 on 6759 degrees of freedom\n",
       "Multiple R-squared:  0.2224,\tAdjusted R-squared:  0.2221 \n",
       "F-statistic: 644.5 on 3 and 6759 DF,  p-value: < 2.2e-16\n"
      ]
     },
     "metadata": {},
     "output_type": "display_data"
    },
    {
     "data": {
      "text/plain": [
       "\n",
       "Call:\n",
       "lm(formula = lwage ~ I(jc + univ) + exper, data = Twoyear)\n",
       "\n",
       "Residuals:\n",
       "     Min       1Q   Median       3Q      Max \n",
       "-2.09708 -0.28069  0.00532  0.28324  1.78332 \n",
       "\n",
       "Coefficients:\n",
       "              Estimate Std. Error t value Pr(>|t|)    \n",
       "(Intercept)  1.4719701  0.0210606   69.89   <2e-16 ***\n",
       "I(jc + univ) 0.0761563  0.0022562   33.75   <2e-16 ***\n",
       "exper        0.0049323  0.0001573   31.36   <2e-16 ***\n",
       "---\n",
       "Signif. codes:  0 '***' 0.001 '**' 0.01 '*' 0.05 '.' 0.1 ' ' 1\n",
       "\n",
       "Residual standard error: 0.4302 on 6760 degrees of freedom\n",
       "Multiple R-squared:  0.2222,\tAdjusted R-squared:  0.222 \n",
       "F-statistic: 965.6 on 2 and 6760 DF,  p-value: < 2.2e-16\n"
      ]
     },
     "metadata": {},
     "output_type": "display_data"
    }
   ],
   "source": [
    "ols2 = lm(lwage~jc+univ+exper,data = Twoyear)\n",
    "summary(ols2)\n",
    "\n",
    "#대학을합친게 된다 (I(jc+univ))\n",
    "ols3 = lm(lwage~I(jc+univ)+univ+exper,data=Twoyear)\n",
    "summary(ols3)\n"
   ]
  },
  {
   "cell_type": "code",
   "execution_count": 9,
   "metadata": {},
   "outputs": [
    {
     "data": {
      "text/plain": [
       "\n",
       "Call:\n",
       "lm(formula = lwage ~ jc + univ + exper, data = Twoyear)\n",
       "\n",
       "Residuals:\n",
       "     Min       1Q   Median       3Q      Max \n",
       "-2.10362 -0.28132  0.00551  0.28518  1.78167 \n",
       "\n",
       "Coefficients:\n",
       "             Estimate Std. Error t value Pr(>|t|)    \n",
       "(Intercept) 1.4723256  0.0210602  69.910   <2e-16 ***\n",
       "jc          0.0666967  0.0068288   9.767   <2e-16 ***\n",
       "univ        0.0768763  0.0023087  33.298   <2e-16 ***\n",
       "exper       0.0049442  0.0001575  31.397   <2e-16 ***\n",
       "---\n",
       "Signif. codes:  0 '***' 0.001 '**' 0.01 '*' 0.05 '.' 0.1 ' ' 1\n",
       "\n",
       "Residual standard error: 0.4301 on 6759 degrees of freedom\n",
       "Multiple R-squared:  0.2224,\tAdjusted R-squared:  0.2221 \n",
       "F-statistic: 644.5 on 3 and 6759 DF,  p-value: < 2.2e-16\n"
      ]
     },
     "metadata": {},
     "output_type": "display_data"
    },
    {
     "data": {
      "text/plain": [
       "\n",
       "Call:\n",
       "lm(formula = lwage ~ I(jc + univ) + exper, data = Twoyear)\n",
       "\n",
       "Residuals:\n",
       "     Min       1Q   Median       3Q      Max \n",
       "-2.09708 -0.28069  0.00532  0.28324  1.78332 \n",
       "\n",
       "Coefficients:\n",
       "              Estimate Std. Error t value Pr(>|t|)    \n",
       "(Intercept)  1.4719701  0.0210606   69.89   <2e-16 ***\n",
       "I(jc + univ) 0.0761563  0.0022562   33.75   <2e-16 ***\n",
       "exper        0.0049323  0.0001573   31.36   <2e-16 ***\n",
       "---\n",
       "Signif. codes:  0 '***' 0.001 '**' 0.01 '*' 0.05 '.' 0.1 ' ' 1\n",
       "\n",
       "Residual standard error: 0.4302 on 6760 degrees of freedom\n",
       "Multiple R-squared:  0.2222,\tAdjusted R-squared:  0.222 \n",
       "F-statistic: 965.6 on 2 and 6760 DF,  p-value: < 2.2e-16\n"
      ]
     },
     "metadata": {},
     "output_type": "display_data"
    }
   ],
   "source": [
    "# unrestricted model\n",
    "model1 = lm(lwage~jc+univ+exper,data=Twoyear)\n",
    "uhat1 = resid(model1)\n",
    "\n",
    "#restricted model\n",
    "model2 = lm(lwage~I(jc+univ) +exper, data=Twoyear)\n",
    "uhat2 = resid(model2)\n",
    "\n",
    "summary(model1)\n",
    "summary(model2)"
   ]
  },
  {
   "cell_type": "code",
   "execution_count": 10,
   "metadata": {},
   "outputs": [
    {
     "data": {
      "text/html": [
       "1250.54349969273"
      ],
      "text/latex": [
       "1250.54349969273"
      ],
      "text/markdown": [
       "1250.54349969273"
      ],
      "text/plain": [
       "[1] 1250.543"
      ]
     },
     "metadata": {},
     "output_type": "display_data"
    },
    {
     "data": {
      "text/html": [
       "1250.94203348729"
      ],
      "text/latex": [
       "1250.94203348729"
      ],
      "text/markdown": [
       "1250.94203348729"
      ],
      "text/plain": [
       "[1] 1250.942"
      ]
     },
     "metadata": {},
     "output_type": "display_data"
    }
   ],
   "source": [
    "ssr1 = sum(uhat1^2)\n",
    "ssr2 = sum(uhat2^2)\n",
    "ssr1\n",
    "ssr2"
   ]
  },
  {
   "cell_type": "code",
   "execution_count": 12,
   "metadata": {},
   "outputs": [
    {
     "data": {
      "text/html": [
       "2.15401536862691"
      ],
      "text/latex": [
       "2.15401536862691"
      ],
      "text/markdown": [
       "2.15401536862691"
      ],
      "text/plain": [
       "[1] 2.154015"
      ]
     },
     "metadata": {},
     "output_type": "display_data"
    }
   ],
   "source": [
    "n = nrow(Twoyear)\n",
    "Fstat = ((ssr2-ssr1)/1)/(ssr1/(n-4))\n",
    "Fstat"
   ]
  },
  {
   "cell_type": "code",
   "execution_count": 13,
   "metadata": {},
   "outputs": [
    {
     "data": {
      "text/html": [
       "0.142244104029982"
      ],
      "text/latex": [
       "0.142244104029982"
      ],
      "text/markdown": [
       "0.142244104029982"
      ],
      "text/plain": [
       "[1] 0.1422441"
      ]
     },
     "metadata": {},
     "output_type": "display_data"
    }
   ],
   "source": [
    "pval = 1 - pf(Fstat, 1, n-4)\n",
    "pval"
   ]
  },
  {
   "cell_type": "code",
   "execution_count": 14,
   "metadata": {},
   "outputs": [
    {
     "ename": "ERROR",
     "evalue": "Error in df(x, df1 = , df2 = n - 4): 기본값이 없는 인수 \"df1\"가 누락되어 있습니다\n",
     "output_type": "error",
     "traceback": [
      "Error in df(x, df1 = , df2 = n - 4): 기본값이 없는 인수 \"df1\"가 누락되어 있습니다\nTraceback:\n",
      "1. curve(df(x, df1 = , df2 = n - 4), 0, 12)",
      "2. eval(expr, envir = ll, enclos = parent.frame())",
      "3. eval(expr, envir = ll, enclos = parent.frame())",
      "4. df(x, df1 = , df2 = n - 4)"
     ]
    }
   ],
   "source": [
    "curve(df(x,df1=,df2=n-4),0,12)"
   ]
  },
  {
   "cell_type": "code",
   "execution_count": 17,
   "metadata": {},
   "outputs": [
    {
     "data": {
      "text/html": [
       "<table>\n",
       "<caption>A anova: 2 × 6</caption>\n",
       "<thead>\n",
       "\t<tr><th></th><th scope=col>Res.Df</th><th scope=col>RSS</th><th scope=col>Df</th><th scope=col>Sum of Sq</th><th scope=col>F</th><th scope=col>Pr(&gt;F)</th></tr>\n",
       "\t<tr><th></th><th scope=col>&lt;dbl&gt;</th><th scope=col>&lt;dbl&gt;</th><th scope=col>&lt;dbl&gt;</th><th scope=col>&lt;dbl&gt;</th><th scope=col>&lt;dbl&gt;</th><th scope=col>&lt;dbl&gt;</th></tr>\n",
       "</thead>\n",
       "<tbody>\n",
       "\t<tr><th scope=row>1</th><td>6760</td><td>1250.942</td><td>NA</td><td>       NA</td><td>      NA</td><td>       NA</td></tr>\n",
       "\t<tr><th scope=row>2</th><td>6759</td><td>1250.543</td><td> 1</td><td>0.3985338</td><td>2.154015</td><td>0.1422441</td></tr>\n",
       "</tbody>\n",
       "</table>\n"
      ],
      "text/latex": [
       "A anova: 2 × 6\n",
       "\\begin{tabular}{r|llllll}\n",
       "  & Res.Df & RSS & Df & Sum of Sq & F & Pr(>F)\\\\\n",
       "  & <dbl> & <dbl> & <dbl> & <dbl> & <dbl> & <dbl>\\\\\n",
       "\\hline\n",
       "\t1 & 6760 & 1250.942 & NA &        NA &       NA &        NA\\\\\n",
       "\t2 & 6759 & 1250.543 &  1 & 0.3985338 & 2.154015 & 0.1422441\\\\\n",
       "\\end{tabular}\n"
      ],
      "text/markdown": [
       "\n",
       "A anova: 2 × 6\n",
       "\n",
       "| <!--/--> | Res.Df &lt;dbl&gt; | RSS &lt;dbl&gt; | Df &lt;dbl&gt; | Sum of Sq &lt;dbl&gt; | F &lt;dbl&gt; | Pr(&gt;F) &lt;dbl&gt; |\n",
       "|---|---|---|---|---|---|---|\n",
       "| 1 | 6760 | 1250.942 | NA |        NA |       NA |        NA |\n",
       "| 2 | 6759 | 1250.543 |  1 | 0.3985338 | 2.154015 | 0.1422441 |\n",
       "\n"
      ],
      "text/plain": [
       "  Res.Df RSS      Df Sum of Sq F        Pr(>F)   \n",
       "1 6760   1250.942 NA        NA       NA        NA\n",
       "2 6759   1250.543  1 0.3985338 2.154015 0.1422441"
      ]
     },
     "metadata": {},
     "output_type": "display_data"
    }
   ],
   "source": [
    "anova(model2, model1)"
   ]
  },
  {
   "cell_type": "code",
   "execution_count": 19,
   "metadata": {},
   "outputs": [
    {
     "name": "stderr",
     "output_type": "stream",
     "text": [
      "also installing the dependency 'lme4'\n",
      "\n",
      "\n"
     ]
    },
    {
     "name": "stdout",
     "output_type": "stream",
     "text": [
      "package 'lme4' successfully unpacked and MD5 sums checked\n",
      "package 'car' successfully unpacked and MD5 sums checked\n",
      "\n",
      "The downloaded binary packages are in\n",
      "\tC:\\Users\\roh_kondae\\AppData\\Local\\Temp\\RtmpI58rN4\\downloaded_packages\n"
     ]
    },
    {
     "name": "stderr",
     "output_type": "stream",
     "text": [
      "Loading required package: carData\n",
      "\n"
     ]
    }
   ],
   "source": [
    "install.packages(\"car\")\n",
    "library(\"car\")"
   ]
  },
  {
   "cell_type": "code",
   "execution_count": 20,
   "metadata": {},
   "outputs": [
    {
     "data": {
      "text/html": [
       "<table>\n",
       "<caption>A anova: 2 × 6</caption>\n",
       "<thead>\n",
       "\t<tr><th></th><th scope=col>Res.Df</th><th scope=col>RSS</th><th scope=col>Df</th><th scope=col>Sum of Sq</th><th scope=col>F</th><th scope=col>Pr(&gt;F)</th></tr>\n",
       "\t<tr><th></th><th scope=col>&lt;dbl&gt;</th><th scope=col>&lt;dbl&gt;</th><th scope=col>&lt;dbl&gt;</th><th scope=col>&lt;dbl&gt;</th><th scope=col>&lt;dbl&gt;</th><th scope=col>&lt;dbl&gt;</th></tr>\n",
       "</thead>\n",
       "<tbody>\n",
       "\t<tr><th scope=row>1</th><td>6760</td><td>1250.942</td><td>NA</td><td>       NA</td><td>      NA</td><td>       NA</td></tr>\n",
       "\t<tr><th scope=row>2</th><td>6759</td><td>1250.543</td><td> 1</td><td>0.3985338</td><td>2.154015</td><td>0.1422441</td></tr>\n",
       "</tbody>\n",
       "</table>\n"
      ],
      "text/latex": [
       "A anova: 2 × 6\n",
       "\\begin{tabular}{r|llllll}\n",
       "  & Res.Df & RSS & Df & Sum of Sq & F & Pr(>F)\\\\\n",
       "  & <dbl> & <dbl> & <dbl> & <dbl> & <dbl> & <dbl>\\\\\n",
       "\\hline\n",
       "\t1 & 6760 & 1250.942 & NA &        NA &       NA &        NA\\\\\n",
       "\t2 & 6759 & 1250.543 &  1 & 0.3985338 & 2.154015 & 0.1422441\\\\\n",
       "\\end{tabular}\n"
      ],
      "text/markdown": [
       "\n",
       "A anova: 2 × 6\n",
       "\n",
       "| <!--/--> | Res.Df &lt;dbl&gt; | RSS &lt;dbl&gt; | Df &lt;dbl&gt; | Sum of Sq &lt;dbl&gt; | F &lt;dbl&gt; | Pr(&gt;F) &lt;dbl&gt; |\n",
       "|---|---|---|---|---|---|---|\n",
       "| 1 | 6760 | 1250.942 | NA |        NA |       NA |        NA |\n",
       "| 2 | 6759 | 1250.543 |  1 | 0.3985338 | 2.154015 | 0.1422441 |\n",
       "\n"
      ],
      "text/plain": [
       "  Res.Df RSS      Df Sum of Sq F        Pr(>F)   \n",
       "1 6760   1250.942 NA        NA       NA        NA\n",
       "2 6759   1250.543  1 0.3985338 2.154015 0.1422441"
      ]
     },
     "metadata": {},
     "output_type": "display_data"
    }
   ],
   "source": [
    "lht(model1, \"jc=univ\")"
   ]
  },
  {
   "cell_type": "markdown",
   "metadata": {},
   "source": [
    "ntalll.pachefss; ### "
   ]
  },
  {
   "cell_type": "code",
   "execution_count": 27,
   "metadata": {},
   "outputs": [
    {
     "data": {
      "text/plain": [
       "     salary            years             bavg        gamesyr      \n",
       " Min.   : 109000   Min.   : 1.000   Min.   :111   Min.   :  5.50  \n",
       " 1st Qu.: 253600   1st Qu.: 3.000   1st Qu.:245   1st Qu.: 65.00  \n",
       " Median : 675000   Median : 6.000   Median :259   Median : 94.67  \n",
       " Mean   :1345672   Mean   : 6.326   Mean   :259   Mean   : 90.08  \n",
       " 3rd Qu.:2250000   3rd Qu.: 9.000   3rd Qu.:275   3rd Qu.:117.00  \n",
       " Max.   :6329213   Max.   :20.000   Max.   :625   Max.   :159.00  \n",
       "    hrunsyr           rbisyr     \n",
       " Min.   : 0.000   Min.   : 0.50  \n",
       " 1st Qu.: 1.700   1st Qu.:17.67  \n",
       " Median : 5.167   Median :31.40  \n",
       " Mean   : 7.119   Mean   :35.05  \n",
       " 3rd Qu.:10.333   3rd Qu.:48.22  \n",
       " Max.   :31.429   Max.   :97.62  "
      ]
     },
     "metadata": {},
     "output_type": "display_data"
    }
   ],
   "source": [
    "MLB = read.csv(\"mlbdata.csv\")\n",
    "summary(MLB)"
   ]
  },
  {
   "cell_type": "code",
   "execution_count": 25,
   "metadata": {},
   "outputs": [],
   "source": [
    "setwd(getwd())"
   ]
  },
  {
   "cell_type": "code",
   "execution_count": 32,
   "metadata": {
    "scrolled": true
   },
   "outputs": [
    {
     "data": {
      "text/plain": [
       "\n",
       "Call:\n",
       "lm(formula = log(salary) ~ years + gamesyr + bavg + hrunsyr + \n",
       "    rbisyr, data = MLB)\n",
       "\n",
       "Residuals:\n",
       "     Min       1Q   Median       3Q      Max \n",
       "-3.02508 -0.45034 -0.04013  0.47014  2.68924 \n",
       "\n",
       "Coefficients:\n",
       "             Estimate Std. Error t value Pr(>|t|)    \n",
       "(Intercept) 1.119e+01  2.888e-01  38.752  < 2e-16 ***\n",
       "years       6.886e-02  1.211e-02   5.684 2.79e-08 ***\n",
       "gamesyr     1.255e-02  2.647e-03   4.742 3.09e-06 ***\n",
       "bavg        9.786e-04  1.104e-03   0.887    0.376    \n",
       "hrunsyr     1.443e-02  1.606e-02   0.899    0.369    \n",
       "rbisyr      1.077e-02  7.175e-03   1.500    0.134    \n",
       "---\n",
       "Signif. codes:  0 '***' 0.001 '**' 0.01 '*' 0.05 '.' 0.1 ' ' 1\n",
       "\n",
       "Residual standard error: 0.7266 on 347 degrees of freedom\n",
       "Multiple R-squared:  0.6278,\tAdjusted R-squared:  0.6224 \n",
       "F-statistic: 117.1 on 5 and 347 DF,  p-value: < 2.2e-16\n"
      ]
     },
     "metadata": {},
     "output_type": "display_data"
    }
   ],
   "source": [
    "model1 = lm(log(salary)~years+gamesyr+bavg+hrunsyr+rbisyr, data=MLB)\n",
    "summary(model1)"
   ]
  },
  {
   "cell_type": "code",
   "execution_count": 37,
   "metadata": {},
   "outputs": [
    {
     "data": {
      "text/plain": [
       "\n",
       "Call:\n",
       "lm(formula = log(salary) ~ years + gamesyr, data = MLB)\n",
       "\n",
       "Residuals:\n",
       "     Min       1Q   Median       3Q      Max \n",
       "-2.66858 -0.46412 -0.01177  0.49219  2.68829 \n",
       "\n",
       "Coefficients:\n",
       "             Estimate Std. Error t value Pr(>|t|)    \n",
       "(Intercept) 11.223804   0.108312 103.625  < 2e-16 ***\n",
       "years        0.071318   0.012505   5.703  2.5e-08 ***\n",
       "gamesyr      0.020174   0.001343  15.023  < 2e-16 ***\n",
       "---\n",
       "Signif. codes:  0 '***' 0.001 '**' 0.01 '*' 0.05 '.' 0.1 ' ' 1\n",
       "\n",
       "Residual standard error: 0.7527 on 350 degrees of freedom\n",
       "Multiple R-squared:  0.5971,\tAdjusted R-squared:  0.5948 \n",
       "F-statistic: 259.3 on 2 and 350 DF,  p-value: < 2.2e-16\n"
      ]
     },
     "metadata": {},
     "output_type": "display_data"
    }
   ],
   "source": [
    "model2 = lm(log(salary)~years+gamesyr,data=MLB)\n",
    "summary(model2)"
   ]
  },
  {
   "cell_type": "code",
   "execution_count": 39,
   "metadata": {},
   "outputs": [
    {
     "data": {
      "text/html": [
       "9.55025668519381"
      ],
      "text/latex": [
       "9.55025668519381"
      ],
      "text/markdown": [
       "9.55025668519381"
      ],
      "text/plain": [
       "[1] 9.550257"
      ]
     },
     "metadata": {},
     "output_type": "display_data"
    },
    {
     "data": {
      "text/html": [
       "4.47368916933755e-06"
      ],
      "text/latex": [
       "4.47368916933755e-06"
      ],
      "text/markdown": [
       "4.47368916933755e-06"
      ],
      "text/plain": [
       "[1] 4.473689e-06"
      ]
     },
     "metadata": {},
     "output_type": "display_data"
    }
   ],
   "source": [
    "uhat1 = resid(model1)\n",
    "uhat2 = resid(model2)\n",
    "n = nrow(MLB)\n",
    "ssr1 = sum(uhat1^2)\n",
    "ssr2 = sum(uhat2^2)\n",
    "Fstat = ((ssr2-ssr1)/3)/(ssr1/(n-6))\n",
    "Fstat\n",
    "pval = 1 - pf(Fstat,3,n-6)\n",
    "pval"
   ]
  },
  {
   "cell_type": "code",
   "execution_count": 35,
   "metadata": {},
   "outputs": [
    {
     "data": {
      "text/html": [
       "353"
      ],
      "text/latex": [
       "353"
      ],
      "text/markdown": [
       "353"
      ],
      "text/plain": [
       "[1] 353"
      ]
     },
     "metadata": {},
     "output_type": "display_data"
    }
   ],
   "source": [
    "n"
   ]
  },
  {
   "cell_type": "code",
   "execution_count": null,
   "metadata": {},
   "outputs": [],
   "source": []
  }
 ],
 "metadata": {
  "kernelspec": {
   "display_name": "R",
   "language": "R",
   "name": "ir"
  },
  "language_info": {
   "codemirror_mode": "r",
   "file_extension": ".r",
   "mimetype": "text/x-r-source",
   "name": "R",
   "pygments_lexer": "r",
   "version": "3.6.3"
  }
 },
 "nbformat": 4,
 "nbformat_minor": 4
}
